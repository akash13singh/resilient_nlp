{
 "cells": [
  {
   "cell_type": "markdown",
   "id": "027f446b",
   "metadata": {},
   "source": [
    "# Multi Model Evaluation"
   ]
  },
  {
   "cell_type": "code",
   "execution_count": 1,
   "id": "67daa863",
   "metadata": {
    "execution": {
     "iopub.execute_input": "2022-03-31T17:37:11.549957Z",
     "iopub.status.busy": "2022-03-31T17:37:11.549161Z",
     "iopub.status.idle": "2022-03-31T17:38:55.687241Z",
     "shell.execute_reply": "2022-03-31T17:38:55.687845Z"
    }
   },
   "outputs": [],
   "source": [
    "import sys\n",
    "sys.path.append(\"..\")\n",
    "\n",
    "import copy\n",
    "import cProfile\n",
    "from datasets import load_dataset\n",
    "import itertools\n",
    "import json\n",
    "import math\n",
    "import nltk\n",
    "from nltk.tokenize.treebank import TreebankWordDetokenizer\n",
    "import pandas as pd\n",
    "import random\n",
    "from sklearn.metrics import classification_report, accuracy_score, f1_score\n",
    "import time\n",
    "import torch\n",
    "from tqdm import tqdm\n",
    "from transformers import AutoTokenizer, DataCollatorWithPadding, \\\n",
    "                         AutoModelForSequenceClassification, BertForSequenceClassification, \\\n",
    "                         BertModel, RobertaForSequenceClassification, RobertaModel\n",
    "\n",
    "from resilient_nlp.mini_roben import Clustering, ClusterRepRecoverer, ClusterRecovererWithPassthrough\n",
    "from resilient_nlp.models import BertClassifier\n",
    "from resilient_nlp.perturbers import ToyPerturber, WordScramblerPerturber\n",
    "from runner import ExperimentRunner\n",
    "from word_score_attack import BertWordScoreAttack\n",
    "\n",
    "device = torch.device(\"cuda\") if torch.cuda.is_available() else torch.device(\"cpu\")"
   ]
  },
  {
   "cell_type": "code",
   "execution_count": 2,
   "id": "f5745bde",
   "metadata": {},
   "outputs": [],
   "source": [
    "#tasks = ('imdb', 'sst', 'sst_bin', 'yelp_bin', 'yelp_full')\n",
    "#tasks = ('sst_bin', 'yelp_bin', 'yelp_full')\n",
    "tasks = ('yelp_bin',)"
   ]
  },
  {
   "cell_type": "code",
   "execution_count": 3,
   "id": "08b0399e",
   "metadata": {},
   "outputs": [],
   "source": [
    "model_types = ('bert', 'roberta')"
   ]
  },
  {
   "cell_type": "markdown",
   "id": "920f47fc",
   "metadata": {},
   "source": [
    "Config for final evaluation on test set"
   ]
  },
  {
   "cell_type": "code",
   "execution_count": 4,
   "id": "e4efd0aa",
   "metadata": {},
   "outputs": [],
   "source": [
    "eval_set_size = 500\n",
    "use_dev_set = False"
   ]
  },
  {
   "cell_type": "markdown",
   "id": "e67326e3",
   "metadata": {},
   "source": [
    "Config for evaluation on dev set"
   ]
  },
  {
   "cell_type": "code",
   "execution_count": 5,
   "id": "f5e1860e",
   "metadata": {},
   "outputs": [],
   "source": [
    "#eval_set_size = 113\n",
    "#use_dev_set = True"
   ]
  },
  {
   "cell_type": "code",
   "execution_count": 6,
   "id": "08d28b95",
   "metadata": {},
   "outputs": [],
   "source": [
    "max_raw_length = 826\n",
    "preprocess = lambda row: { 'text': row['text'].lower()[:max_raw_length]}"
   ]
  },
  {
   "cell_type": "markdown",
   "id": "1c824af5",
   "metadata": {},
   "source": [
    "## IMDb Dataset"
   ]
  },
  {
   "cell_type": "code",
   "execution_count": 7,
   "id": "0903049b",
   "metadata": {},
   "outputs": [],
   "source": [
    "sampled_test_set = {}\n",
    "sampled_test_set_dict = {}\n",
    "sampled_test_set_adv_no_ws = {}\n",
    "sampled_test_set_adv_incl_ws = {}"
   ]
  },
  {
   "cell_type": "code",
   "execution_count": 8,
   "id": "7ae7a7c7",
   "metadata": {
    "execution": {
     "iopub.execute_input": "2022-03-31T17:38:55.696962Z",
     "iopub.status.busy": "2022-03-31T17:38:55.696275Z",
     "iopub.status.idle": "2022-03-31T17:38:57.375270Z",
     "shell.execute_reply": "2022-03-31T17:38:57.375885Z"
    },
    "scrolled": false
   },
   "outputs": [
    {
     "name": "stderr",
     "output_type": "stream",
     "text": [
      "Using custom data configuration artemis13fowl--imdb-f63738dec0d5e230\n",
      "Reusing dataset parquet (/home/jasko/.cache/huggingface/datasets/parquet/artemis13fowl--imdb-f63738dec0d5e230/0.0.0/0b6d5799bb726b24ad7fc7be720c170d8e497f575d02d47537de9a5bac074901)\n"
     ]
    },
    {
     "data": {
      "application/vnd.jupyter.widget-view+json": {
       "model_id": "c9f3643acd4f436eb4cc830dbb1f20bd",
       "version_major": 2,
       "version_minor": 0
      },
      "text/plain": [
       "  0%|          | 0/4 [00:00<?, ?it/s]"
      ]
     },
     "metadata": {},
     "output_type": "display_data"
    }
   ],
   "source": [
    "imdb = load_dataset('artemis13fowl/imdb')"
   ]
  },
  {
   "cell_type": "code",
   "execution_count": 9,
   "id": "9bc64b56",
   "metadata": {
    "execution": {
     "iopub.execute_input": "2022-03-31T17:38:57.393928Z",
     "iopub.status.busy": "2022-03-31T17:38:57.393247Z",
     "iopub.status.idle": "2022-03-31T17:38:57.432347Z",
     "shell.execute_reply": "2022-03-31T17:38:57.432870Z"
    }
   },
   "outputs": [
    {
     "name": "stderr",
     "output_type": "stream",
     "text": [
      "Loading cached processed dataset at /home/jasko/.cache/huggingface/datasets/parquet/artemis13fowl--imdb-f63738dec0d5e230/0.0.0/0b6d5799bb726b24ad7fc7be720c170d8e497f575d02d47537de9a5bac074901/cache-b45d493b37ab1dc7.arrow\n"
     ]
    }
   ],
   "source": [
    "random.seed(11)\n",
    "if use_dev_set:\n",
    "    sampled_test_set['imdb'] = imdb['dev'].select(random.choices(range(len(imdb['dev'])), k=eval_set_size)).map(preprocess)\n",
    "else:\n",
    "    sampled_test_set['imdb'] = imdb['attack_eval_truncated'].select(range(eval_set_size)).map(preprocess)\n",
    "\n",
    "\n",
    "# This is silly but apparently huggingface datasets are immutable?\n",
    "# Representing it as something a bit more sane\n",
    "sampled_test_set_dict['imdb'] = [\n",
    "    {\n",
    "        'text': row['text'],\n",
    "        'label': row['label'],\n",
    "    }\n",
    "    for row in sampled_test_set['imdb']\n",
    "]"
   ]
  },
  {
   "cell_type": "markdown",
   "id": "e34d21ea",
   "metadata": {},
   "source": [
    "## SST-5 Dataset"
   ]
  },
  {
   "cell_type": "code",
   "execution_count": 10,
   "id": "38106401",
   "metadata": {},
   "outputs": [
    {
     "name": "stderr",
     "output_type": "stream",
     "text": [
      "No config specified, defaulting to: sst/default\n",
      "Reusing dataset sst (/home/jasko/.cache/huggingface/datasets/sst/default/1.0.0/b8a7889ef01c5d3ae8c379b84cc4080f8aad3ac2bc538701cbe0ac6416fb76ff)\n"
     ]
    },
    {
     "data": {
      "application/vnd.jupyter.widget-view+json": {
       "model_id": "448ab87fa79148ed8ba348f5fef52d55",
       "version_major": 2,
       "version_minor": 0
      },
      "text/plain": [
       "  0%|          | 0/3 [00:00<?, ?it/s]"
      ]
     },
     "metadata": {},
     "output_type": "display_data"
    },
    {
     "name": "stderr",
     "output_type": "stream",
     "text": [
      "Loading cached processed dataset at /home/jasko/.cache/huggingface/datasets/sst/default/1.0.0/b8a7889ef01c5d3ae8c379b84cc4080f8aad3ac2bc538701cbe0ac6416fb76ff/cache-3c142acdab53f98c.arrow\n",
      "Loading cached processed dataset at /home/jasko/.cache/huggingface/datasets/sst/default/1.0.0/b8a7889ef01c5d3ae8c379b84cc4080f8aad3ac2bc538701cbe0ac6416fb76ff/cache-0bf56ce0086915ee.arrow\n",
      "Loading cached processed dataset at /home/jasko/.cache/huggingface/datasets/sst/default/1.0.0/b8a7889ef01c5d3ae8c379b84cc4080f8aad3ac2bc538701cbe0ac6416fb76ff/cache-19fdf8d124be4ba7.arrow\n",
      "Loading cached processed dataset at /home/jasko/.cache/huggingface/datasets/sst/default/1.0.0/b8a7889ef01c5d3ae8c379b84cc4080f8aad3ac2bc538701cbe0ac6416fb76ff/cache-fc3e75429c3f7637.arrow\n"
     ]
    }
   ],
   "source": [
    "treebank_detok = TreebankWordDetokenizer()\n",
    "\n",
    "sst = load_dataset('sst').map(\n",
    "    lambda row: {\n",
    "        \"text\": treebank_detok.detokenize(row[\"sentence\"].split()),\n",
    "        \"label\": min(math.floor(row[\"label\"] / 0.2), 4.0),\n",
    "    }, remove_columns=['sentence', 'tokens', 'tree']\n",
    ")\n",
    "\n",
    "random.seed(11)\n",
    "if use_dev_set:\n",
    "    sampled_test_set['sst'] = sst['validation'].select(random.choices(range(len(sst['validation'])), k=eval_set_size)).map(preprocess)\n",
    "else:\n",
    "    sampled_test_set['sst'] = sst['test'].select(random.choices(range(len(sst['test'])), k=eval_set_size)).map(preprocess)\n",
    "\n",
    "sampled_test_set_dict['sst'] = [\n",
    "    {\n",
    "        'text': row['text'],\n",
    "        'label': row['label'],\n",
    "    }\n",
    "    for row in sampled_test_set['sst']\n",
    "]"
   ]
  },
  {
   "cell_type": "markdown",
   "id": "d3bae186",
   "metadata": {},
   "source": [
    "## SST-2 Dataset"
   ]
  },
  {
   "cell_type": "code",
   "execution_count": 11,
   "id": "7f1e5046",
   "metadata": {},
   "outputs": [
    {
     "name": "stderr",
     "output_type": "stream",
     "text": [
      "No config specified, defaulting to: sst/default\n",
      "Reusing dataset sst (/home/jasko/.cache/huggingface/datasets/sst/default/1.0.0/b8a7889ef01c5d3ae8c379b84cc4080f8aad3ac2bc538701cbe0ac6416fb76ff)\n"
     ]
    },
    {
     "data": {
      "application/vnd.jupyter.widget-view+json": {
       "model_id": "eb2d085d97354d0ca476614cfdfdc15b",
       "version_major": 2,
       "version_minor": 0
      },
      "text/plain": [
       "  0%|          | 0/3 [00:00<?, ?it/s]"
      ]
     },
     "metadata": {},
     "output_type": "display_data"
    },
    {
     "name": "stderr",
     "output_type": "stream",
     "text": [
      "Loading cached processed dataset at /home/jasko/.cache/huggingface/datasets/sst/default/1.0.0/b8a7889ef01c5d3ae8c379b84cc4080f8aad3ac2bc538701cbe0ac6416fb76ff/cache-f4f1ada73617d193.arrow\n",
      "Loading cached processed dataset at /home/jasko/.cache/huggingface/datasets/sst/default/1.0.0/b8a7889ef01c5d3ae8c379b84cc4080f8aad3ac2bc538701cbe0ac6416fb76ff/cache-6279b6f0f8a08f9a.arrow\n",
      "Loading cached processed dataset at /home/jasko/.cache/huggingface/datasets/sst/default/1.0.0/b8a7889ef01c5d3ae8c379b84cc4080f8aad3ac2bc538701cbe0ac6416fb76ff/cache-6c5f77e5aefdd0e2.arrow\n",
      "Loading cached processed dataset at /home/jasko/.cache/huggingface/datasets/sst/default/1.0.0/b8a7889ef01c5d3ae8c379b84cc4080f8aad3ac2bc538701cbe0ac6416fb76ff/cache-c46f07c913633b4d.arrow\n",
      "Loading cached processed dataset at /home/jasko/.cache/huggingface/datasets/sst/default/1.0.0/b8a7889ef01c5d3ae8c379b84cc4080f8aad3ac2bc538701cbe0ac6416fb76ff/cache-87779081ead23eae.arrow\n",
      "Loading cached processed dataset at /home/jasko/.cache/huggingface/datasets/sst/default/1.0.0/b8a7889ef01c5d3ae8c379b84cc4080f8aad3ac2bc538701cbe0ac6416fb76ff/cache-7813af5c6a05de02.arrow\n",
      "Loading cached processed dataset at /home/jasko/.cache/huggingface/datasets/sst/default/1.0.0/b8a7889ef01c5d3ae8c379b84cc4080f8aad3ac2bc538701cbe0ac6416fb76ff/cache-8a65da8df1dcb8ac.arrow\n"
     ]
    }
   ],
   "source": [
    "treebank_detok = TreebankWordDetokenizer()\n",
    "\n",
    "sst_bin = load_dataset('sst').filter(\n",
    "        lambda row: row[\"label\"] < 0.4 or row[\"label\"] >= 0.6\n",
    "    ).map(\n",
    "    lambda row: {\n",
    "        \"text\": treebank_detok.detokenize(row[\"sentence\"].split()),\n",
    "        \"label\": min(math.floor(row[\"label\"] / 0.5), 1.0),\n",
    "    }\n",
    ")\n",
    "\n",
    "random.seed(11)\n",
    "if use_dev_set:\n",
    "    sampled_test_set['sst_bin'] = sst_bin['validation'].select(random.choices(range(len(sst_bin['validation'])), k=eval_set_size)).map(preprocess)\n",
    "else:\n",
    "    sampled_test_set['sst_bin'] = sst_bin['test'].select(random.choices(range(len(sst_bin['test'])), k=eval_set_size)).map(preprocess)\n",
    "\n",
    "sampled_test_set_dict['sst_bin'] = [\n",
    "    {\n",
    "        'text': row['text'],\n",
    "        'label': row['label'],\n",
    "    }\n",
    "    for row in sampled_test_set['sst_bin']\n",
    "]"
   ]
  },
  {
   "cell_type": "markdown",
   "id": "4b096c3f",
   "metadata": {},
   "source": [
    "## Yelp-2"
   ]
  },
  {
   "cell_type": "code",
   "execution_count": 12,
   "id": "ccfe1b02",
   "metadata": {},
   "outputs": [
    {
     "name": "stderr",
     "output_type": "stream",
     "text": [
      "Reusing dataset yelp_polarity (/home/jasko/.cache/huggingface/datasets/yelp_polarity/plain_text/1.0.0/a770787b2526bdcbfc29ac2d9beb8e820fbc15a03afd3ebc4fb9d8529de57544)\n"
     ]
    },
    {
     "data": {
      "application/vnd.jupyter.widget-view+json": {
       "model_id": "3cc77b1b3ce54263a93812e0522eadde",
       "version_major": 2,
       "version_minor": 0
      },
      "text/plain": [
       "  0%|          | 0/2 [00:00<?, ?it/s]"
      ]
     },
     "metadata": {},
     "output_type": "display_data"
    },
    {
     "name": "stderr",
     "output_type": "stream",
     "text": [
      "Loading cached processed dataset at /home/jasko/.cache/huggingface/datasets/yelp_polarity/plain_text/1.0.0/a770787b2526bdcbfc29ac2d9beb8e820fbc15a03afd3ebc4fb9d8529de57544/cache-4aafc3a0650c7800.arrow\n"
     ]
    }
   ],
   "source": [
    "yelp_bin = load_dataset('yelp_polarity')\n",
    "\n",
    "random.seed(11)\n",
    "sampled_test_set['yelp_bin'] = yelp_bin['test'].select(random.choices(range(len(yelp_bin['test'])), k=eval_set_size)).map(preprocess)\n",
    "\n",
    "sampled_test_set_dict['yelp_bin'] = [\n",
    "    {\n",
    "        'text': row['text'],\n",
    "        'label': row['label'],\n",
    "    }\n",
    "    for row in sampled_test_set['yelp_bin']\n",
    "]"
   ]
  },
  {
   "cell_type": "markdown",
   "id": "56f2fc43",
   "metadata": {},
   "source": [
    "## Yelp-5"
   ]
  },
  {
   "cell_type": "code",
   "execution_count": 13,
   "id": "92deac75",
   "metadata": {},
   "outputs": [
    {
     "name": "stderr",
     "output_type": "stream",
     "text": [
      "Reusing dataset yelp_review_full (/home/jasko/.cache/huggingface/datasets/yelp_review_full/yelp_review_full/1.0.0/13c31a618ba62568ec8572a222a283dfc29a6517776a3ac5945fb508877dde43)\n"
     ]
    },
    {
     "data": {
      "application/vnd.jupyter.widget-view+json": {
       "model_id": "f8678805770e465ca7877d86a0dfaaed",
       "version_major": 2,
       "version_minor": 0
      },
      "text/plain": [
       "  0%|          | 0/2 [00:00<?, ?it/s]"
      ]
     },
     "metadata": {},
     "output_type": "display_data"
    },
    {
     "name": "stderr",
     "output_type": "stream",
     "text": [
      "Loading cached processed dataset at /home/jasko/.cache/huggingface/datasets/yelp_review_full/yelp_review_full/1.0.0/13c31a618ba62568ec8572a222a283dfc29a6517776a3ac5945fb508877dde43/cache-be339907fd6abb29.arrow\n"
     ]
    }
   ],
   "source": [
    "yelp_full = load_dataset('yelp_review_full')\n",
    "\n",
    "random.seed(11)\n",
    "sampled_test_set['yelp_full'] = yelp_full['test'].select(random.choices(range(len(yelp_full['test'])), k=eval_set_size)).map(preprocess)\n",
    "\n",
    "sampled_test_set_dict['yelp_full'] = [\n",
    "    {\n",
    "        'text': row['text'],\n",
    "        'label': row['label'],\n",
    "    }\n",
    "    for row in sampled_test_set['yelp_full']\n",
    "]"
   ]
  },
  {
   "cell_type": "markdown",
   "id": "8a5ec74a",
   "metadata": {},
   "source": [
    "### Perturbations"
   ]
  },
  {
   "cell_type": "code",
   "execution_count": 14,
   "id": "cb0dab9f",
   "metadata": {},
   "outputs": [],
   "source": [
    "def generate_perturbed_multiset(input, wsp):\n",
    "    random.seed(11)\n",
    "    result = []\n",
    "\n",
    "    for i in range(10):\n",
    "        test_item = copy.deepcopy(input)\n",
    "\n",
    "        for row in test_item:\n",
    "            row['text'] = wsp.perturb([row['text']])[0][0]\n",
    "        result.append(test_item)\n",
    "    \n",
    "    return result"
   ]
  },
  {
   "cell_type": "markdown",
   "id": "bf674fa6",
   "metadata": {},
   "source": [
    "Perturbed set with no whitespace modifications"
   ]
  },
  {
   "cell_type": "code",
   "execution_count": 15,
   "id": "8712401f",
   "metadata": {},
   "outputs": [],
   "source": [
    "wsp = WordScramblerPerturber(perturb_prob=0.1, weight_add=1, weight_drop=1, weight_swap=1,\n",
    "                             weight_split_word=0, weight_merge_words=0)\n",
    "\n",
    "for task in tasks:\n",
    "    sampled_test_set_adv_no_ws[task] = generate_perturbed_multiset(sampled_test_set_dict[task], wsp)"
   ]
  },
  {
   "cell_type": "markdown",
   "id": "afc4acd0",
   "metadata": {},
   "source": [
    "Perturbed set with whitespace modifications"
   ]
  },
  {
   "cell_type": "code",
   "execution_count": 16,
   "id": "72861511",
   "metadata": {},
   "outputs": [],
   "source": [
    "wsp = WordScramblerPerturber(perturb_prob=0.1, weight_add=1, weight_drop=1, weight_swap=1,\n",
    "                             weight_split_word=1, weight_merge_words=1)\n",
    "\n",
    "for task in tasks:\n",
    "    sampled_test_set_adv_incl_ws[task] = generate_perturbed_multiset(sampled_test_set_dict[task], wsp)"
   ]
  },
  {
   "cell_type": "markdown",
   "id": "5e6454c2",
   "metadata": {},
   "source": [
    "## Models"
   ]
  },
  {
   "cell_type": "markdown",
   "id": "370b1cdb",
   "metadata": {},
   "source": [
    "### BERT, including finetuned variants"
   ]
  },
  {
   "cell_type": "code",
   "execution_count": 17,
   "id": "3573bce1",
   "metadata": {},
   "outputs": [],
   "source": [
    "tokenizer = {}\n",
    "model_base = {}\n",
    "model_finetuned = { type: {} for type in model_types }\n",
    "model_finetuned_all_pert = { type: {} for type in model_types }"
   ]
  },
  {
   "cell_type": "code",
   "execution_count": 18,
   "id": "17700b9e",
   "metadata": {
    "execution": {
     "iopub.execute_input": "2022-03-31T17:38:57.438989Z",
     "iopub.status.busy": "2022-03-31T17:38:57.436437Z",
     "iopub.status.idle": "2022-03-31T17:38:58.316850Z",
     "shell.execute_reply": "2022-03-31T17:38:58.316245Z"
    }
   },
   "outputs": [],
   "source": [
    "bert_checkpoint = \"bert-base-uncased\"\n",
    "tokenizer['bert'] = AutoTokenizer.from_pretrained(bert_checkpoint)\n",
    "model_base['bert'] = BertModel.from_pretrained(bert_checkpoint).to(device)"
   ]
  },
  {
   "cell_type": "code",
   "execution_count": 19,
   "id": "a09ce62d",
   "metadata": {
    "execution": {
     "iopub.execute_input": "2022-03-31T17:38:58.323968Z",
     "iopub.status.busy": "2022-03-31T17:38:58.321059Z",
     "iopub.status.idle": "2022-03-31T17:41:02.742864Z",
     "shell.execute_reply": "2022-03-31T17:41:02.743367Z"
    }
   },
   "outputs": [],
   "source": [
    "bert_checkpoint_finetuned_imdb = \"artemis13fowl/bert-base-uncased-imdb\"\n",
    "if 'bert' in model_types and 'imdb' in tasks:\n",
    "    model_finetuned['bert']['imdb'] = BertForSequenceClassification.from_pretrained(bert_checkpoint_finetuned_imdb).to(device)"
   ]
  },
  {
   "cell_type": "code",
   "execution_count": 20,
   "id": "e0bc679c",
   "metadata": {},
   "outputs": [],
   "source": [
    "bert_checkpoint_finetuned_imdb_all_pert = \"jjezabek/bert-base-uncased-imdb-all-pert\"\n",
    "if 'bert' in model_types and 'imdb' in tasks:\n",
    "    model_finetuned_all_pert['bert']['imdb'] = BertForSequenceClassification.from_pretrained(bert_checkpoint_finetuned_imdb_all_pert).to(device)"
   ]
  },
  {
   "cell_type": "code",
   "execution_count": 21,
   "id": "2454c4ec",
   "metadata": {
    "execution": {
     "iopub.execute_input": "2022-03-31T17:38:58.323968Z",
     "iopub.status.busy": "2022-03-31T17:38:58.321059Z",
     "iopub.status.idle": "2022-03-31T17:41:02.742864Z",
     "shell.execute_reply": "2022-03-31T17:41:02.743367Z"
    }
   },
   "outputs": [],
   "source": [
    "bert_checkpoint_finetuned_sst = \"jjezabek/bert-base-uncased-sst\"\n",
    "if 'bert' in model_types and 'sst' in tasks:\n",
    "    model_finetuned['bert']['sst'] = BertForSequenceClassification.from_pretrained(bert_checkpoint_finetuned_sst).to(device)"
   ]
  },
  {
   "cell_type": "code",
   "execution_count": 22,
   "id": "af9a1b15",
   "metadata": {},
   "outputs": [],
   "source": [
    "bert_checkpoint_finetuned_sst_bin = '/home/jasko/resilient_nlp/output/bert-base-uncased-sst_bin/checkpoint-800'\n",
    "if 'bert' in model_types and 'sst_bin' in tasks:\n",
    "    model_finetuned['bert']['sst_bin'] = BertForSequenceClassification.from_pretrained(bert_checkpoint_finetuned_sst_bin).to(device)"
   ]
  },
  {
   "cell_type": "code",
   "execution_count": 23,
   "id": "a6c66b9b",
   "metadata": {},
   "outputs": [],
   "source": [
    "bert_checkpoint_finetuned_yelp_bin = '/home/jasko/resilient_nlp/output/bert-base-uncased-yelp_bin/checkpoint-3500'\n",
    "if 'bert' in model_types and 'yelp_bin' in tasks:\n",
    "    model_finetuned['bert']['yelp_bin'] = BertForSequenceClassification.from_pretrained(bert_checkpoint_finetuned_yelp_bin).to(device)"
   ]
  },
  {
   "cell_type": "code",
   "execution_count": 24,
   "id": "ad769b01",
   "metadata": {},
   "outputs": [],
   "source": [
    "bert_checkpoint_finetuned_yelp_full = '/home/jasko/resilient_nlp/output/bert-base-uncased-yelp_full/checkpoint-1500'\n",
    "if 'bert' in model_types and 'yelp_full' in tasks:\n",
    "    model_finetuned['bert']['yelp_full'] = BertForSequenceClassification.from_pretrained(bert_checkpoint_finetuned_yelp_full).to(device)"
   ]
  },
  {
   "cell_type": "code",
   "execution_count": 25,
   "id": "084978a5",
   "metadata": {
    "execution": {
     "iopub.execute_input": "2022-03-31T17:38:57.438989Z",
     "iopub.status.busy": "2022-03-31T17:38:57.436437Z",
     "iopub.status.idle": "2022-03-31T17:38:58.316850Z",
     "shell.execute_reply": "2022-03-31T17:38:58.316245Z"
    }
   },
   "outputs": [],
   "source": [
    "roberta_checkpoint = \"roberta-base\"\n",
    "tokenizer['roberta'] = AutoTokenizer.from_pretrained(roberta_checkpoint)\n",
    "model_base['roberta'] = RobertaModel.from_pretrained(roberta_checkpoint).to(device)"
   ]
  },
  {
   "cell_type": "code",
   "execution_count": 26,
   "id": "6a93a042",
   "metadata": {},
   "outputs": [],
   "source": [
    "roberta_checkpoint_finetuned_imdb = \"jjezabek/roberta-base-imdb\"\n",
    "if 'roberta' in model_types and 'imdb' in tasks:\n",
    "    model_finetuned['roberta']['imdb'] = RobertaForSequenceClassification.from_pretrained(roberta_checkpoint_finetuned_imdb).to(device)"
   ]
  },
  {
   "cell_type": "code",
   "execution_count": 27,
   "id": "8ae40370",
   "metadata": {},
   "outputs": [],
   "source": [
    "roberta_checkpoint_finetuned_sst = '/home/jasko/resilient_nlp/output/roberta-base-sst/checkpoint-900'\n",
    "if 'roberta' in model_types and 'sst' in tasks:\n",
    "    model_finetuned['roberta']['sst'] = RobertaForSequenceClassification.from_pretrained(roberta_checkpoint_finetuned_sst).to(device)"
   ]
  },
  {
   "cell_type": "code",
   "execution_count": 28,
   "id": "dfd9fc0e",
   "metadata": {},
   "outputs": [],
   "source": [
    "roberta_checkpoint_finetuned_sst_bin = '/home/jasko/resilient_nlp/output/roberta-base-sst_bin/checkpoint-700'\n",
    "if 'roberta' in model_types and 'sst_bin' in tasks:\n",
    "    model_finetuned['roberta']['sst_bin'] = RobertaForSequenceClassification.from_pretrained(roberta_checkpoint_finetuned_sst_bin).to(device)"
   ]
  },
  {
   "cell_type": "code",
   "execution_count": 29,
   "id": "328428ae",
   "metadata": {},
   "outputs": [],
   "source": [
    "roberta_checkpoint_finetuned_yelp_bin = '/home/jasko/resilient_nlp/output/roberta-base-yelp_bin/checkpoint-2200'\n",
    "if 'roberta' in model_types and 'yelp_bin' in tasks:\n",
    "    model_finetuned['roberta']['yelp_bin'] = RobertaForSequenceClassification.from_pretrained(roberta_checkpoint_finetuned_yelp_bin).to(device)"
   ]
  },
  {
   "cell_type": "code",
   "execution_count": 30,
   "id": "bb218742",
   "metadata": {},
   "outputs": [],
   "source": [
    "roberta_checkpoint_finetuned_yelp_full = '/home/jasko/resilient_nlp/output/roberta-base-yelp_full/checkpoint-7500'\n",
    "if 'roberta' in model_types and 'yelp_full' in tasks:\n",
    "    model_finetuned['roberta']['yelp_full'] = RobertaForSequenceClassification.from_pretrained(roberta_checkpoint_finetuned_yelp_full).to(device)"
   ]
  },
  {
   "cell_type": "markdown",
   "id": "e63dab18",
   "metadata": {},
   "source": [
    "### RobEn clusterings (as baseline)"
   ]
  },
  {
   "cell_type": "markdown",
   "id": "5758ab39",
   "metadata": {},
   "source": [
    "The first clustering is ConnComp (which very aggressively merges clusters). The second is AggClust, which uses a cost function to better preserve fidelity. The second one should generally be better."
   ]
  },
  {
   "cell_type": "code",
   "execution_count": 31,
   "id": "8b3c3fb8",
   "metadata": {
    "execution": {
     "iopub.execute_input": "2022-03-31T17:41:02.748232Z",
     "iopub.status.busy": "2022-03-31T17:41:02.747612Z",
     "iopub.status.idle": "2022-03-31T17:43:45.925467Z",
     "shell.execute_reply": "2022-03-31T17:43:45.924906Z"
    }
   },
   "outputs": [],
   "source": [
    "roben_clustering = Clustering.from_pickle(\"../vocab100000_ed1.pkl\")\n",
    "roben_recoverer = ClusterRecovererWithPassthrough(\"cache\", roben_clustering)\n",
    "roben_clustering2 = Clustering.from_pickle(\"../vocab100000_ed1_gamma0.3.pkl\")\n",
    "roben_recoverer2 = ClusterRecovererWithPassthrough(\"cache\", roben_clustering2)"
   ]
  },
  {
   "cell_type": "markdown",
   "id": "e17aaf07",
   "metadata": {},
   "source": [
    "## Model Prediction Helpers"
   ]
  },
  {
   "cell_type": "code",
   "execution_count": 32,
   "id": "a2efe10f",
   "metadata": {
    "execution": {
     "iopub.execute_input": "2022-03-31T17:43:49.085047Z",
     "iopub.status.busy": "2022-03-31T17:43:49.084381Z",
     "iopub.status.idle": "2022-03-31T17:43:49.087081Z",
     "shell.execute_reply": "2022-03-31T17:43:49.086570Z"
    }
   },
   "outputs": [],
   "source": [
    "max_sequence_length = 128\n",
    "batch_size = 32"
   ]
  },
  {
   "cell_type": "markdown",
   "id": "7cebe273",
   "metadata": {},
   "source": [
    "These are wrappers for standard (possibly finetuned) Huggingface models, using their normal tokenizers."
   ]
  },
  {
   "cell_type": "code",
   "execution_count": 33,
   "id": "7b958a5c",
   "metadata": {
    "execution": {
     "iopub.execute_input": "2022-03-31T17:43:49.094914Z",
     "iopub.status.busy": "2022-03-31T17:43:49.094323Z",
     "iopub.status.idle": "2022-03-31T17:43:49.096390Z",
     "shell.execute_reply": "2022-03-31T17:43:49.096869Z"
    }
   },
   "outputs": [],
   "source": [
    "def standard_model_predict(tokenizer, model, sentences, recoverer, return_pred_tensor, recoverer_tokenize):\n",
    "    if recoverer is not None:\n",
    "        if recoverer_tokenize:\n",
    "            tok = nltk.tokenize.treebank.TreebankWordTokenizer()\n",
    "            sentences = [ \" \".join(tok_list) for tok_list in tok.tokenize_sents(sentences) ]\n",
    "        sentences = [ recoverer.recover(s.lower()) for s in sentences ]\n",
    "        if recoverer_tokenize:\n",
    "            detok = nltk.tokenize.treebank.TreebankWordDetokenizer()\n",
    "            sentences = [ detok.detokenize(s.split(\" \")) for s in sentences]\n",
    "    tokenized = tokenizer(sentences, truncation=True, padding='max_length', max_length=max_sequence_length,\n",
    "                          return_tensors='pt')\n",
    "    tokenized = { k: v.to(device) for k, v in tokenized.items() }\n",
    "    preds = model(**tokenized)\n",
    "    if return_pred_tensor:\n",
    "        return preds\n",
    "    else:\n",
    "        return torch.argmax(preds.logits, dim=1)\n",
    "\n",
    "def wrap_standard_model(tokenizer, model, recoverer=None, return_pred_tensor=True, recoverer_tokenize=False):\n",
    "    return lambda sentences: standard_model_predict(tokenizer, model, sentences, recoverer, return_pred_tensor,\n",
    "                                                    recoverer_tokenize)"
   ]
  },
  {
   "cell_type": "markdown",
   "id": "b3cfccf9",
   "metadata": {},
   "source": [
    "This is a wrapper for the machine trained tokenizer+embedder (aka MockingBERT)"
   ]
  },
  {
   "cell_type": "code",
   "execution_count": 34,
   "id": "0ba7bb36",
   "metadata": {
    "execution": {
     "iopub.execute_input": "2022-03-31T17:43:49.104843Z",
     "iopub.status.busy": "2022-03-31T17:43:49.104249Z",
     "iopub.status.idle": "2022-03-31T17:43:49.106973Z",
     "shell.execute_reply": "2022-03-31T17:43:49.107449Z"
    }
   },
   "outputs": [],
   "source": [
    "def mltokenizer_model_predict(runner, model, cls_embedding, sep_embedding, pad_embedding, sentences, return_pred_tensor):\n",
    "    # Truncate and lower case. Truncation is for performance only\n",
    "    sentences = [ s.lower()[:8*max_sequence_length] for s in sentences]\n",
    "    embedding = runner.embed(sentences=sentences,\n",
    "        start_token=cls_embedding, end_token=sep_embedding, pad_token=pad_embedding,\n",
    "        max_tokens=max_sequence_length)\n",
    "    preds = model(inputs_embeds=embedding['inputs_embeds'], attention_mask=embedding['attention_mask'])\n",
    "    if return_pred_tensor:\n",
    "        return preds\n",
    "    else:\n",
    "        return torch.argmax(preds.logits, dim=1)\n",
    "\n",
    "def wrap_mltokenizer_model(mltokenizer_prefix, tokenizer, model, cf_embedding, type, return_pred_tensor=True):\n",
    "    filename = \"../{}.pth\".format(mltokenizer_prefix)\n",
    "    runner = ExperimentRunner(device, model_filename=filename)\n",
    "    if type == 'bert':\n",
    "        cls_token_id = tokenizer.vocab['[CLS]']\n",
    "        sep_token_id = tokenizer.vocab['[SEP]']\n",
    "        pad_token_id = tokenizer.vocab['[PAD]']\n",
    "    elif type == 'roberta':\n",
    "        cls_token_id = tokenizer.vocab['<s>']\n",
    "        sep_token_id = tokenizer.vocab['</s>']\n",
    "        pad_token_id = tokenizer.vocab['<pad>']\n",
    "    cls_embedding = cf_embedding(torch.tensor([cls_token_id], device=device)).view(-1)\n",
    "    sep_embedding = cf_embedding(torch.tensor([sep_token_id], device=device)).view(-1)\n",
    "    pad_embedding = cf_embedding(torch.tensor([pad_token_id], device=device)).view(-1)\n",
    "    \n",
    "    return lambda sentences: mltokenizer_model_predict(runner, model, cls_embedding, sep_embedding,\n",
    "                                                      pad_embedding, sentences, return_pred_tensor)"
   ]
  },
  {
   "cell_type": "markdown",
   "id": "b1da87ea",
   "metadata": {},
   "source": [
    "## Evaluation Helpers"
   ]
  },
  {
   "cell_type": "markdown",
   "id": "d5a4b8cf",
   "metadata": {},
   "source": [
    "Evaluates a wrapped model on a test set"
   ]
  },
  {
   "cell_type": "code",
   "execution_count": 35,
   "id": "2033ec30",
   "metadata": {
    "execution": {
     "iopub.execute_input": "2022-03-31T17:43:49.113921Z",
     "iopub.status.busy": "2022-03-31T17:43:49.113314Z",
     "iopub.status.idle": "2022-03-31T17:43:49.115410Z",
     "shell.execute_reply": "2022-03-31T17:43:49.115943Z"
    }
   },
   "outputs": [],
   "source": [
    "@torch.no_grad()\n",
    "def evaluate_model(model, test_set):\n",
    "    num_batches = math.ceil(len(test_set) / batch_size)\n",
    "    \n",
    "    sentences = [ x['text'] for x in test_set ]\n",
    "    labels = [ x['label'] for x in test_set ]\n",
    "    pred_batches = []\n",
    "    \n",
    "    for i in tqdm(range(num_batches)):\n",
    "        bs = i * batch_size\n",
    "        be = bs + batch_size\n",
    "        \n",
    "        output = model(sentences[bs:be])\n",
    "        \n",
    "        pred_batches.append(torch.argmax(output.logits, dim=1).detach().cpu())\n",
    "    preds = torch.cat(pred_batches)\n",
    "    \n",
    "    print(classification_report(labels, preds, digits=4))\n",
    "    \n",
    "    accuracy = accuracy_score(labels, preds)\n",
    "    f1 = f1_score(labels, preds, average='macro')\n",
    "    \n",
    "    return accuracy, f1"
   ]
  },
  {
   "cell_type": "markdown",
   "id": "cac39aaf",
   "metadata": {},
   "source": [
    "Evaluates a wrapped model on a stochastic, pseudo-adversarial test set. This means that each input sentence is replicated x times (typically 10) with randomized perturbations, and an attack is considered successful if *any* of the predictions is incorrect."
   ]
  },
  {
   "cell_type": "code",
   "execution_count": 36,
   "id": "33c8259a",
   "metadata": {
    "execution": {
     "iopub.execute_input": "2022-03-31T17:43:49.124562Z",
     "iopub.status.busy": "2022-03-31T17:43:49.123971Z",
     "iopub.status.idle": "2022-03-31T17:43:49.125916Z",
     "shell.execute_reply": "2022-03-31T17:43:49.126467Z"
    }
   },
   "outputs": [],
   "source": [
    "@torch.no_grad()\n",
    "def evaluate_model_adv(model, test_sets):\n",
    "    labels = [ x['label'] for x in test_sets[0] ]\n",
    "    adv_preds = copy.copy(labels)\n",
    "    accuracy_list = []\n",
    "    f1_list = []\n",
    "    \n",
    "    for idx in tqdm(range(len(test_sets))):\n",
    "        test_set = test_sets[idx]\n",
    "        num_batches = math.ceil(len(test_set) / batch_size)\n",
    "    \n",
    "        sentences = [ x['text'] for x in test_set ]\n",
    "        pred_batches = []\n",
    "    \n",
    "        for i in range(num_batches):\n",
    "            bs = i * batch_size\n",
    "            be = bs + batch_size\n",
    "        \n",
    "            output = model(sentences[bs:be])\n",
    "        \n",
    "            pred_batches.append(torch.argmax(output.logits, dim=1).detach().cpu())\n",
    "        preds = torch.cat(pred_batches)\n",
    "        \n",
    "        for i in range(len(adv_preds)):\n",
    "            if labels[i] != preds[i]:\n",
    "                adv_preds[i] = preds[i]\n",
    "\n",
    "        accuracy_list.append(accuracy_score(labels, adv_preds))\n",
    "        f1_list.append(f1_score(labels, adv_preds, average='macro'))\n",
    "    \n",
    "    print(classification_report(labels, adv_preds, digits=4))    \n",
    "    \n",
    "    return accuracy_list, f1_list"
   ]
  },
  {
   "cell_type": "markdown",
   "id": "f1bba12b",
   "metadata": {},
   "source": [
    "Evaluates a model using WordScoreAttack"
   ]
  },
  {
   "cell_type": "code",
   "execution_count": 37,
   "id": "26be9ad5",
   "metadata": {
    "execution": {
     "iopub.execute_input": "2022-03-31T17:43:49.132768Z",
     "iopub.status.busy": "2022-03-31T17:43:49.132187Z",
     "iopub.status.idle": "2022-03-31T17:43:49.134404Z",
     "shell.execute_reply": "2022-03-31T17:43:49.134865Z"
    }
   },
   "outputs": [],
   "source": [
    "@torch.no_grad()\n",
    "def evaluate_model_word_score(model, test_set, allow_whitespace_pert=True, report_prefix=None, word_scores_file=None):\n",
    "    attacker = BertWordScoreAttack(\n",
    "        WordScramblerPerturber(perturb_prob=1, weight_add=1, weight_drop=1, weight_swap=1,\n",
    "                               weight_split_word=int(allow_whitespace_pert),\n",
    "                               weight_merge_words=0),\n",
    "        word_scores_file, model, tokenizer=None, max_sequence_length=max_sequence_length,\n",
    "        attack_whitespace=allow_whitespace_pert,\n",
    "    )\n",
    "\n",
    "    res = attacker.attack(test_set, max_tokens_to_perturb=10, max_tries_per_token=4, mode=0, print_summary=False)\n",
    "\n",
    "    if report_prefix is not None:\n",
    "        res.to_csv(f\"{report_prefix}_df.csv\")\n",
    "        with open(f\"{report_prefix}_stats.json\", \"w\") as f:\n",
    "            json.dump(attacker.compute_attack_stats(), fp=f)            \n",
    "    \n",
    "    print(classification_report(res['ground_truth'], res['perturbed_preds'], digits=4))    \n",
    "    \n",
    "    accuracy = accuracy_score(res['ground_truth'], res['perturbed_preds'])\n",
    "    f1 = f1_score(res['ground_truth'], res['perturbed_preds'], average='macro')\n",
    "    \n",
    "    return accuracy, f1"
   ]
  },
  {
   "cell_type": "code",
   "execution_count": 38,
   "id": "3b6fcd6e",
   "metadata": {
    "execution": {
     "iopub.execute_input": "2022-03-31T17:44:32.712568Z",
     "iopub.status.busy": "2022-03-31T17:44:32.711928Z",
     "iopub.status.idle": "2022-03-31T17:45:57.105422Z",
     "shell.execute_reply": "2022-03-31T17:45:57.104806Z"
    }
   },
   "outputs": [],
   "source": [
    "all_models = {\n",
    "    'baseline': lambda task, type: wrap_standard_model(tokenizer[type], model_finetuned[type][task]),\n",
    "    'baseline_all_pert': lambda task, type: wrap_standard_model(tokenizer[type], model_finetuned_all_pert[type][task]),\n",
    "    'roben_1': lambda task, type: wrap_standard_model(tokenizer[type], model_finetuned[type][task], roben_recoverer),\n",
    "    'roben_2': lambda task, type: wrap_standard_model(tokenizer[type], model_finetuned[type][task], roben_recoverer2),\n",
    "    'roben_1_tok': lambda task, type: wrap_standard_model(tokenizer[type], model_finetuned[type][task], roben_recoverer, recoverer_tokenize=True),\n",
    "    'roben_2_tok': lambda task, type: wrap_standard_model(tokenizer[type], model_finetuned[type][task], roben_recoverer2, recoverer_tokenize=True),\n",
    "}\n",
    "\n",
    "mltok_model_names = [\n",
    "    '64k_lstm_clean_vanilla',\n",
    "    '64k_lstm_no_whitespace_pert_vanilla',\n",
    "    '64k_lstm_all_pert_vanilla',\n",
    "    '64k_lstm_clean_finetuned',\n",
    "    '64k_lstm_no_whitespace_pert_finetuned',\n",
    "    '64k_lstm_all_pert_finetuned',\n",
    "    '64k_cnn_no_whitespace_pert_finetuned',\n",
    "    '2m_lstm_all_pert_finetuned',\n",
    "    '32k_lstm_all_pert_finetuned_100ep',\n",
    "]\n",
    "\n",
    "for name in mltok_model_names:\n",
    "    if name.endswith('_vanilla'):\n",
    "        cf_embedding = lambda task, type: model_base[type].embeddings.word_embeddings\n",
    "        filename = lambda task, type, name: f'output/{type}_{name}'\n",
    "    else:\n",
    "        cf_embedding = lambda task, type: model_finetuned[type][task].base_model.embeddings.word_embeddings\n",
    "        filename = lambda task, type, name: f'output/{type}_{name}_{task}'\n",
    "    # name=name is a hack to avoid Python late binding\n",
    "    all_models[name] = lambda task, type, name=name, filename=filename, cf_embedding=cf_embedding: wrap_mltokenizer_model(filename(task, type, name), tokenizer[type], model_finetuned[type][task], cf_embedding(task, type), type)"
   ]
  },
  {
   "cell_type": "code",
   "execution_count": 39,
   "id": "e61f9273",
   "metadata": {
    "execution": {
     "iopub.execute_input": "2022-03-31T17:45:57.109658Z",
     "iopub.status.busy": "2022-03-31T17:45:57.109097Z",
     "iopub.status.idle": "2022-03-31T17:45:57.111181Z",
     "shell.execute_reply": "2022-03-31T17:45:57.111650Z"
    }
   },
   "outputs": [],
   "source": [
    "evaluations = [\n",
    "    'clean',\n",
    "    'stochastic_no_ws',\n",
    "    'stochastic_incl_ws',\n",
    "    'word_score_no_ws',\n",
    "    'word_score_incl_ws',\n",
    "]"
   ]
  },
  {
   "cell_type": "code",
   "execution_count": 40,
   "id": "602a9ff8",
   "metadata": {
    "execution": {
     "iopub.execute_input": "2022-03-31T17:45:57.146612Z",
     "iopub.status.busy": "2022-03-31T17:45:57.142921Z",
     "iopub.status.idle": "2022-04-01T06:14:51.176862Z",
     "shell.execute_reply": "2022-04-01T06:14:51.177399Z"
    }
   },
   "outputs": [
    {
     "name": "stdout",
     "output_type": "stream",
     "text": [
      "Evaluating model baseline on bert on clean for task yelp_bin\n"
     ]
    },
    {
     "name": "stderr",
     "output_type": "stream",
     "text": [
      "100%|██████████████████████████████████████████████████████████████████████████████████████████████████████████████████████████████████████████████████████████████████████████████| 16/16 [00:03<00:00,  5.04it/s]\n"
     ]
    },
    {
     "name": "stdout",
     "output_type": "stream",
     "text": [
      "              precision    recall  f1-score   support\n",
      "\n",
      "           0     0.9346    0.9720    0.9529       250\n",
      "           1     0.9708    0.9320    0.9510       250\n",
      "\n",
      "    accuracy                         0.9520       500\n",
      "   macro avg     0.9527    0.9520    0.9520       500\n",
      "weighted avg     0.9527    0.9520    0.9520       500\n",
      "\n",
      "Evaluation took 3.320714235305786 seconds\n",
      "Evaluating model baseline on bert on stochastic_no_ws for task yelp_bin\n"
     ]
    },
    {
     "name": "stderr",
     "output_type": "stream",
     "text": [
      "100%|██████████████████████████████████████████████████████████████████████████████████████████████████████████████████████████████████████████████████████████████████████████████| 10/10 [00:25<00:00,  2.59s/it]\n"
     ]
    },
    {
     "name": "stdout",
     "output_type": "stream",
     "text": [
      "              precision    recall  f1-score   support\n",
      "\n",
      "           0     0.8626    0.9040    0.8828       250\n",
      "           1     0.8992    0.8560    0.8770       250\n",
      "\n",
      "    accuracy                         0.8800       500\n",
      "   macro avg     0.8809    0.8800    0.8799       500\n",
      "weighted avg     0.8809    0.8800    0.8799       500\n",
      "\n",
      "Evaluation took 26.032347917556763 seconds\n",
      "Evaluating model baseline on bert on stochastic_incl_ws for task yelp_bin\n"
     ]
    },
    {
     "name": "stderr",
     "output_type": "stream",
     "text": [
      "100%|██████████████████████████████████████████████████████████████████████████████████████████████████████████████████████████████████████████████████████████████████████████████| 10/10 [00:25<00:00,  2.60s/it]\n"
     ]
    },
    {
     "name": "stdout",
     "output_type": "stream",
     "text": [
      "              precision    recall  f1-score   support\n",
      "\n",
      "           0     0.8667    0.8840    0.8752       250\n",
      "           1     0.8816    0.8640    0.8727       250\n",
      "\n",
      "    accuracy                         0.8740       500\n",
      "   macro avg     0.8741    0.8740    0.8740       500\n",
      "weighted avg     0.8741    0.8740    0.8740       500\n",
      "\n",
      "Evaluation took 26.618725061416626 seconds\n",
      "Evaluating model baseline on bert on word_score_no_ws for task yelp_bin\n"
     ]
    },
    {
     "name": "stderr",
     "output_type": "stream",
     "text": [
      "100%|████████████████████████████████████████████████████████████████████████████████████████████████████████████████████████████████████████████████████████████████████████████| 500/500 [01:28<00:00,  5.62it/s]\n"
     ]
    },
    {
     "name": "stdout",
     "output_type": "stream",
     "text": [
      "              precision    recall  f1-score   support\n",
      "\n",
      "           0     0.7023    0.7360    0.7187       250\n",
      "           1     0.7227    0.6880    0.7049       250\n",
      "\n",
      "    accuracy                         0.7120       500\n",
      "   macro avg     0.7125    0.7120    0.7118       500\n",
      "weighted avg     0.7125    0.7120    0.7118       500\n",
      "\n",
      "Evaluation took 89.48078799247742 seconds\n",
      "Evaluating model baseline on bert on word_score_incl_ws for task yelp_bin\n"
     ]
    },
    {
     "name": "stderr",
     "output_type": "stream",
     "text": [
      "100%|████████████████████████████████████████████████████████████████████████████████████████████████████████████████████████████████████████████████████████████████████████████| 500/500 [01:26<00:00,  5.79it/s]\n"
     ]
    },
    {
     "name": "stdout",
     "output_type": "stream",
     "text": [
      "              precision    recall  f1-score   support\n",
      "\n",
      "           0     0.6917    0.7360    0.7132       250\n",
      "           1     0.7179    0.6720    0.6942       250\n",
      "\n",
      "    accuracy                         0.7040       500\n",
      "   macro avg     0.7048    0.7040    0.7037       500\n",
      "weighted avg     0.7048    0.7040    0.7037       500\n",
      "\n",
      "Evaluation took 86.41984486579895 seconds\n",
      "Failed loading model baseline_all_pert on bert for task yelp_bin, skipping\n",
      "Evaluating model roben_1 on bert on clean for task yelp_bin\n"
     ]
    },
    {
     "name": "stderr",
     "output_type": "stream",
     "text": [
      "100%|██████████████████████████████████████████████████████████████████████████████████████████████████████████████████████████████████████████████████████████████████████████████| 16/16 [00:02<00:00,  5.93it/s]\n"
     ]
    },
    {
     "name": "stdout",
     "output_type": "stream",
     "text": [
      "              precision    recall  f1-score   support\n",
      "\n",
      "           0     0.8453    0.9400    0.8902       250\n",
      "           1     0.9324    0.8280    0.8771       250\n",
      "\n",
      "    accuracy                         0.8840       500\n",
      "   macro avg     0.8889    0.8840    0.8836       500\n",
      "weighted avg     0.8889    0.8840    0.8836       500\n",
      "\n",
      "Evaluation took 2.7370617389678955 seconds\n",
      "Evaluating model roben_1 on bert on stochastic_no_ws for task yelp_bin\n"
     ]
    },
    {
     "name": "stderr",
     "output_type": "stream",
     "text": [
      "100%|██████████████████████████████████████████████████████████████████████████████████████████████████████████████████████████████████████████████████████████████████████████████| 10/10 [00:26<00:00,  2.65s/it]\n"
     ]
    },
    {
     "name": "stdout",
     "output_type": "stream",
     "text": [
      "              precision    recall  f1-score   support\n",
      "\n",
      "           0     0.7789    0.8880    0.8299       250\n",
      "           1     0.8698    0.7480    0.8043       250\n",
      "\n",
      "    accuracy                         0.8180       500\n",
      "   macro avg     0.8244    0.8180    0.8171       500\n",
      "weighted avg     0.8244    0.8180    0.8171       500\n",
      "\n",
      "Evaluation took 26.549556255340576 seconds\n",
      "Evaluating model roben_1 on bert on stochastic_incl_ws for task yelp_bin\n"
     ]
    },
    {
     "name": "stderr",
     "output_type": "stream",
     "text": [
      "100%|██████████████████████████████████████████████████████████████████████████████████████████████████████████████████████████████████████████████████████████████████████████████| 10/10 [00:26<00:00,  2.65s/it]\n"
     ]
    },
    {
     "name": "stdout",
     "output_type": "stream",
     "text": [
      "              precision    recall  f1-score   support\n",
      "\n",
      "           0     0.7428    0.8200    0.7795       250\n",
      "           1     0.7991    0.7160    0.7553       250\n",
      "\n",
      "    accuracy                         0.7680       500\n",
      "   macro avg     0.7709    0.7680    0.7674       500\n",
      "weighted avg     0.7709    0.7680    0.7674       500\n",
      "\n",
      "Evaluation took 26.518423318862915 seconds\n",
      "Evaluating model roben_1 on bert on word_score_no_ws for task yelp_bin\n"
     ]
    },
    {
     "name": "stderr",
     "output_type": "stream",
     "text": [
      "100%|████████████████████████████████████████████████████████████████████████████████████████████████████████████████████████████████████████████████████████████████████████████| 500/500 [01:28<00:00,  5.67it/s]\n"
     ]
    },
    {
     "name": "stdout",
     "output_type": "stream",
     "text": [
      "              precision    recall  f1-score   support\n",
      "\n",
      "           0     0.7448    0.8520    0.7948       250\n",
      "           1     0.8271    0.7080    0.7629       250\n",
      "\n",
      "    accuracy                         0.7800       500\n",
      "   macro avg     0.7859    0.7800    0.7789       500\n",
      "weighted avg     0.7859    0.7800    0.7789       500\n",
      "\n",
      "Evaluation took 88.28096389770508 seconds\n",
      "Evaluating model roben_1 on bert on word_score_incl_ws for task yelp_bin\n"
     ]
    },
    {
     "name": "stderr",
     "output_type": "stream",
     "text": [
      "100%|████████████████████████████████████████████████████████████████████████████████████████████████████████████████████████████████████████████████████████████████████████████| 500/500 [01:22<00:00,  6.06it/s]\n"
     ]
    },
    {
     "name": "stdout",
     "output_type": "stream",
     "text": [
      "              precision    recall  f1-score   support\n",
      "\n",
      "           0     0.6355    0.7600    0.6922       250\n",
      "           1     0.7015    0.5640    0.6253       250\n",
      "\n",
      "    accuracy                         0.6620       500\n",
      "   macro avg     0.6685    0.6620    0.6587       500\n",
      "weighted avg     0.6685    0.6620    0.6587       500\n",
      "\n",
      "Evaluation took 82.60048627853394 seconds\n",
      "Evaluating model roben_2 on bert on clean for task yelp_bin\n"
     ]
    },
    {
     "name": "stderr",
     "output_type": "stream",
     "text": [
      "100%|██████████████████████████████████████████████████████████████████████████████████████████████████████████████████████████████████████████████████████████████████████████████| 16/16 [00:02<00:00,  6.15it/s]\n"
     ]
    },
    {
     "name": "stdout",
     "output_type": "stream",
     "text": [
      "              precision    recall  f1-score   support\n",
      "\n",
      "           0     0.8918    0.9560    0.9228       250\n",
      "           1     0.9526    0.8840    0.9170       250\n",
      "\n",
      "    accuracy                         0.9200       500\n",
      "   macro avg     0.9222    0.9200    0.9199       500\n",
      "weighted avg     0.9222    0.9200    0.9199       500\n",
      "\n",
      "Evaluation took 2.642221212387085 seconds\n",
      "Evaluating model roben_2 on bert on stochastic_no_ws for task yelp_bin\n"
     ]
    },
    {
     "name": "stderr",
     "output_type": "stream",
     "text": [
      "100%|██████████████████████████████████████████████████████████████████████████████████████████████████████████████████████████████████████████████████████████████████████████████| 10/10 [00:25<00:00,  2.58s/it]\n"
     ]
    },
    {
     "name": "stdout",
     "output_type": "stream",
     "text": [
      "              precision    recall  f1-score   support\n",
      "\n",
      "           0     0.8513    0.9160    0.8825       250\n",
      "           1     0.9091    0.8400    0.8732       250\n",
      "\n",
      "    accuracy                         0.8780       500\n",
      "   macro avg     0.8802    0.8780    0.8778       500\n",
      "weighted avg     0.8802    0.8780    0.8778       500\n",
      "\n",
      "Evaluation took 25.846231698989868 seconds\n",
      "Evaluating model roben_2 on bert on stochastic_incl_ws for task yelp_bin\n"
     ]
    },
    {
     "name": "stderr",
     "output_type": "stream",
     "text": [
      "100%|██████████████████████████████████████████████████████████████████████████████████████████████████████████████████████████████████████████████████████████████████████████████| 10/10 [00:25<00:00,  2.58s/it]\n"
     ]
    },
    {
     "name": "stdout",
     "output_type": "stream",
     "text": [
      "              precision    recall  f1-score   support\n",
      "\n",
      "           0     0.8029    0.8960    0.8469       250\n",
      "           1     0.8824    0.7800    0.8280       250\n",
      "\n",
      "    accuracy                         0.8380       500\n",
      "   macro avg     0.8426    0.8380    0.8375       500\n",
      "weighted avg     0.8426    0.8380    0.8375       500\n",
      "\n",
      "Evaluation took 25.84341859817505 seconds\n",
      "Evaluating model roben_2 on bert on word_score_no_ws for task yelp_bin\n"
     ]
    },
    {
     "name": "stderr",
     "output_type": "stream",
     "text": [
      "100%|████████████████████████████████████████████████████████████████████████████████████████████████████████████████████████████████████████████████████████████████████████████| 500/500 [01:31<00:00,  5.46it/s]\n"
     ]
    },
    {
     "name": "stdout",
     "output_type": "stream",
     "text": [
      "              precision    recall  f1-score   support\n",
      "\n",
      "           0     0.8073    0.8880    0.8457       250\n",
      "           1     0.8756    0.7880    0.8295       250\n",
      "\n",
      "    accuracy                         0.8380       500\n",
      "   macro avg     0.8414    0.8380    0.8376       500\n",
      "weighted avg     0.8414    0.8380    0.8376       500\n",
      "\n",
      "Evaluation took 91.68138718605042 seconds\n",
      "Evaluating model roben_2 on bert on word_score_incl_ws for task yelp_bin\n"
     ]
    },
    {
     "name": "stderr",
     "output_type": "stream",
     "text": [
      "100%|████████████████████████████████████████████████████████████████████████████████████████████████████████████████████████████████████████████████████████████████████████████| 500/500 [01:25<00:00,  5.84it/s]\n"
     ]
    },
    {
     "name": "stdout",
     "output_type": "stream",
     "text": [
      "              precision    recall  f1-score   support\n",
      "\n",
      "           0     0.6833    0.7680    0.7232       250\n",
      "           1     0.7352    0.6440    0.6866       250\n",
      "\n",
      "    accuracy                         0.7060       500\n",
      "   macro avg     0.7092    0.7060    0.7049       500\n",
      "weighted avg     0.7092    0.7060    0.7049       500\n",
      "\n",
      "Evaluation took 85.6818060874939 seconds\n",
      "Evaluating model roben_1_tok on bert on clean for task yelp_bin\n"
     ]
    },
    {
     "name": "stderr",
     "output_type": "stream",
     "text": [
      "100%|██████████████████████████████████████████████████████████████████████████████████████████████████████████████████████████████████████████████████████████████████████████████| 16/16 [00:02<00:00,  5.55it/s]\n"
     ]
    },
    {
     "name": "stdout",
     "output_type": "stream",
     "text": [
      "              precision    recall  f1-score   support\n",
      "\n",
      "           0     0.8280    0.9240    0.8733       250\n",
      "           1     0.9140    0.8080    0.8577       250\n",
      "\n",
      "    accuracy                         0.8660       500\n",
      "   macro avg     0.8710    0.8660    0.8655       500\n",
      "weighted avg     0.8710    0.8660    0.8655       500\n",
      "\n",
      "Evaluation took 2.926464796066284 seconds\n",
      "Evaluating model roben_1_tok on bert on stochastic_no_ws for task yelp_bin\n"
     ]
    },
    {
     "name": "stderr",
     "output_type": "stream",
     "text": [
      "100%|██████████████████████████████████████████████████████████████████████████████████████████████████████████████████████████████████████████████████████████████████████████████| 10/10 [00:28<00:00,  2.86s/it]\n"
     ]
    },
    {
     "name": "stdout",
     "output_type": "stream",
     "text": [
      "              precision    recall  f1-score   support\n",
      "\n",
      "           0     0.7657    0.8760    0.8172       250\n",
      "           1     0.8551    0.7320    0.7888       250\n",
      "\n",
      "    accuracy                         0.8040       500\n",
      "   macro avg     0.8104    0.8040    0.8030       500\n",
      "weighted avg     0.8104    0.8040    0.8030       500\n",
      "\n",
      "Evaluation took 28.61399555206299 seconds\n",
      "Evaluating model roben_1_tok on bert on stochastic_incl_ws for task yelp_bin\n"
     ]
    },
    {
     "name": "stderr",
     "output_type": "stream",
     "text": [
      "100%|██████████████████████████████████████████████████████████████████████████████████████████████████████████████████████████████████████████████████████████████████████████████| 10/10 [00:28<00:00,  2.85s/it]\n"
     ]
    },
    {
     "name": "stdout",
     "output_type": "stream",
     "text": [
      "              precision    recall  f1-score   support\n",
      "\n",
      "           0     0.7193    0.8200    0.7664       250\n",
      "           1     0.7907    0.6800    0.7312       250\n",
      "\n",
      "    accuracy                         0.7500       500\n",
      "   macro avg     0.7550    0.7500    0.7488       500\n",
      "weighted avg     0.7550    0.7500    0.7488       500\n",
      "\n",
      "Evaluation took 28.546339988708496 seconds\n",
      "Evaluating model roben_1_tok on bert on word_score_no_ws for task yelp_bin\n"
     ]
    },
    {
     "name": "stderr",
     "output_type": "stream",
     "text": [
      "100%|████████████████████████████████████████████████████████████████████████████████████████████████████████████████████████████████████████████████████████████████████████████| 500/500 [01:35<00:00,  5.21it/s]\n"
     ]
    },
    {
     "name": "stdout",
     "output_type": "stream",
     "text": [
      "              precision    recall  f1-score   support\n",
      "\n",
      "           0     0.7593    0.8960    0.8220       250\n",
      "           1     0.8732    0.7160    0.7868       250\n",
      "\n",
      "    accuracy                         0.8060       500\n",
      "   macro avg     0.8162    0.8060    0.8044       500\n",
      "weighted avg     0.8162    0.8060    0.8044       500\n",
      "\n",
      "Evaluation took 95.93481588363647 seconds\n",
      "Evaluating model roben_1_tok on bert on word_score_incl_ws for task yelp_bin\n"
     ]
    },
    {
     "name": "stderr",
     "output_type": "stream",
     "text": [
      "100%|████████████████████████████████████████████████████████████████████████████████████████████████████████████████████████████████████████████████████████████████████████████| 500/500 [01:26<00:00,  5.75it/s]\n"
     ]
    },
    {
     "name": "stdout",
     "output_type": "stream",
     "text": [
      "              precision    recall  f1-score   support\n",
      "\n",
      "           0     0.6201    0.7640    0.6846       250\n",
      "           1     0.6927    0.5320    0.6018       250\n",
      "\n",
      "    accuracy                         0.6480       500\n",
      "   macro avg     0.6564    0.6480    0.6432       500\n",
      "weighted avg     0.6564    0.6480    0.6432       500\n",
      "\n",
      "Evaluation took 86.99793529510498 seconds\n",
      "Evaluating model roben_2_tok on bert on clean for task yelp_bin\n"
     ]
    },
    {
     "name": "stderr",
     "output_type": "stream",
     "text": [
      "100%|██████████████████████████████████████████████████████████████████████████████████████████████████████████████████████████████████████████████████████████████████████████████| 16/16 [00:02<00:00,  5.72it/s]\n"
     ]
    },
    {
     "name": "stdout",
     "output_type": "stream",
     "text": [
      "              precision    recall  f1-score   support\n",
      "\n",
      "           0     0.8686    0.9520    0.9084       250\n",
      "           1     0.9469    0.8560    0.8992       250\n",
      "\n",
      "    accuracy                         0.9040       500\n",
      "   macro avg     0.9078    0.9040    0.9038       500\n",
      "weighted avg     0.9078    0.9040    0.9038       500\n",
      "\n",
      "Evaluation took 2.840550422668457 seconds\n",
      "Evaluating model roben_2_tok on bert on stochastic_no_ws for task yelp_bin\n"
     ]
    },
    {
     "name": "stderr",
     "output_type": "stream",
     "text": [
      "100%|██████████████████████████████████████████████████████████████████████████████████████████████████████████████████████████████████████████████████████████████████████████████| 10/10 [00:27<00:00,  2.78s/it]\n"
     ]
    },
    {
     "name": "stdout",
     "output_type": "stream",
     "text": [
      "              precision    recall  f1-score   support\n",
      "\n",
      "           0     0.8345    0.9280    0.8788       250\n",
      "           1     0.9189    0.8160    0.8644       250\n",
      "\n",
      "    accuracy                         0.8720       500\n",
      "   macro avg     0.8767    0.8720    0.8716       500\n",
      "weighted avg     0.8767    0.8720    0.8716       500\n",
      "\n",
      "Evaluation took 27.797950744628906 seconds\n",
      "Evaluating model roben_2_tok on bert on stochastic_incl_ws for task yelp_bin\n"
     ]
    },
    {
     "name": "stderr",
     "output_type": "stream",
     "text": [
      "100%|██████████████████████████████████████████████████████████████████████████████████████████████████████████████████████████████████████████████████████████████████████████████| 10/10 [00:27<00:00,  2.78s/it]\n"
     ]
    },
    {
     "name": "stdout",
     "output_type": "stream",
     "text": [
      "              precision    recall  f1-score   support\n",
      "\n",
      "           0     0.7727    0.8840    0.8246       250\n",
      "           1     0.8645    0.7400    0.7974       250\n",
      "\n",
      "    accuracy                         0.8120       500\n",
      "   macro avg     0.8186    0.8120    0.8110       500\n",
      "weighted avg     0.8186    0.8120    0.8110       500\n",
      "\n",
      "Evaluation took 27.7800772190094 seconds\n",
      "Evaluating model roben_2_tok on bert on word_score_no_ws for task yelp_bin\n"
     ]
    },
    {
     "name": "stderr",
     "output_type": "stream",
     "text": [
      "100%|████████████████████████████████████████████████████████████████████████████████████████████████████████████████████████████████████████████████████████████████████████████| 500/500 [01:39<00:00,  5.04it/s]\n"
     ]
    },
    {
     "name": "stdout",
     "output_type": "stream",
     "text": [
      "              precision    recall  f1-score   support\n",
      "\n",
      "           0     0.8250    0.9240    0.8717       250\n",
      "           1     0.9136    0.8040    0.8553       250\n",
      "\n",
      "    accuracy                         0.8640       500\n",
      "   macro avg     0.8693    0.8640    0.8635       500\n",
      "weighted avg     0.8693    0.8640    0.8635       500\n",
      "\n",
      "Evaluation took 99.31512236595154 seconds\n",
      "Evaluating model roben_2_tok on bert on word_score_incl_ws for task yelp_bin\n"
     ]
    },
    {
     "name": "stderr",
     "output_type": "stream",
     "text": [
      "100%|████████████████████████████████████████████████████████████████████████████████████████████████████████████████████████████████████████████████████████████████████████████| 500/500 [01:30<00:00,  5.50it/s]\n"
     ]
    },
    {
     "name": "stdout",
     "output_type": "stream",
     "text": [
      "              precision    recall  f1-score   support\n",
      "\n",
      "           0     0.6829    0.7840    0.7300       250\n",
      "           1     0.7465    0.6360    0.6868       250\n",
      "\n",
      "    accuracy                         0.7100       500\n",
      "   macro avg     0.7147    0.7100    0.7084       500\n",
      "weighted avg     0.7147    0.7100    0.7084       500\n",
      "\n",
      "Evaluation took 90.88443303108215 seconds\n",
      "Evaluating model 64k_lstm_clean_vanilla on bert on clean for task yelp_bin\n"
     ]
    },
    {
     "name": "stderr",
     "output_type": "stream",
     "text": [
      "100%|██████████████████████████████████████████████████████████████████████████████████████████████████████████████████████████████████████████████████████████████████████████████| 16/16 [00:22<00:00,  1.39s/it]\n"
     ]
    },
    {
     "name": "stdout",
     "output_type": "stream",
     "text": [
      "              precision    recall  f1-score   support\n",
      "\n",
      "           0     0.9412    0.9600    0.9505       250\n",
      "           1     0.9592    0.9400    0.9495       250\n",
      "\n",
      "    accuracy                         0.9500       500\n",
      "   macro avg     0.9502    0.9500    0.9500       500\n",
      "weighted avg     0.9502    0.9500    0.9500       500\n",
      "\n",
      "Evaluation took 22.25829005241394 seconds\n",
      "Evaluating model 64k_lstm_clean_vanilla on bert on stochastic_no_ws for task yelp_bin\n"
     ]
    },
    {
     "name": "stderr",
     "output_type": "stream",
     "text": [
      "100%|██████████████████████████████████████████████████████████████████████████████████████████████████████████████████████████████████████████████████████████████████████████████| 10/10 [03:40<00:00, 22.07s/it]\n"
     ]
    },
    {
     "name": "stdout",
     "output_type": "stream",
     "text": [
      "              precision    recall  f1-score   support\n",
      "\n",
      "           0     0.8964    0.9000    0.8982       250\n",
      "           1     0.8996    0.8960    0.8978       250\n",
      "\n",
      "    accuracy                         0.8980       500\n",
      "   macro avg     0.8980    0.8980    0.8980       500\n",
      "weighted avg     0.8980    0.8980    0.8980       500\n",
      "\n",
      "Evaluation took 220.65621900558472 seconds\n",
      "Evaluating model 64k_lstm_clean_vanilla on bert on stochastic_incl_ws for task yelp_bin\n"
     ]
    },
    {
     "name": "stderr",
     "output_type": "stream",
     "text": [
      "100%|██████████████████████████████████████████████████████████████████████████████████████████████████████████████████████████████████████████████████████████████████████████████| 10/10 [03:38<00:00, 21.82s/it]\n"
     ]
    },
    {
     "name": "stdout",
     "output_type": "stream",
     "text": [
      "              precision    recall  f1-score   support\n",
      "\n",
      "           0     0.8770    0.8840    0.8805       250\n",
      "           1     0.8831    0.8760    0.8795       250\n",
      "\n",
      "    accuracy                         0.8800       500\n",
      "   macro avg     0.8800    0.8800    0.8800       500\n",
      "weighted avg     0.8800    0.8800    0.8800       500\n",
      "\n",
      "Evaluation took 218.20307517051697 seconds\n",
      "Evaluating model 64k_lstm_clean_vanilla on bert on word_score_no_ws for task yelp_bin\n"
     ]
    },
    {
     "name": "stderr",
     "output_type": "stream",
     "text": [
      "100%|████████████████████████████████████████████████████████████████████████████████████████████████████████████████████████████████████████████████████████████████████████████| 500/500 [12:45<00:00,  1.53s/it]\n"
     ]
    },
    {
     "name": "stdout",
     "output_type": "stream",
     "text": [
      "              precision    recall  f1-score   support\n",
      "\n",
      "           0     0.7716    0.7160    0.7427       250\n",
      "           1     0.7351    0.7880    0.7606       250\n",
      "\n",
      "    accuracy                         0.7520       500\n",
      "   macro avg     0.7533    0.7520    0.7517       500\n",
      "weighted avg     0.7533    0.7520    0.7517       500\n",
      "\n",
      "Evaluation took 765.3168187141418 seconds\n",
      "Evaluating model 64k_lstm_clean_vanilla on bert on word_score_incl_ws for task yelp_bin\n"
     ]
    },
    {
     "name": "stderr",
     "output_type": "stream",
     "text": [
      "100%|████████████████████████████████████████████████████████████████████████████████████████████████████████████████████████████████████████████████████████████████████████████| 500/500 [12:35<00:00,  1.51s/it]\n"
     ]
    },
    {
     "name": "stdout",
     "output_type": "stream",
     "text": [
      "              precision    recall  f1-score   support\n",
      "\n",
      "           0     0.7213    0.7040    0.7126       250\n",
      "           1     0.7109    0.7280    0.7194       250\n",
      "\n",
      "    accuracy                         0.7160       500\n",
      "   macro avg     0.7161    0.7160    0.7160       500\n",
      "weighted avg     0.7161    0.7160    0.7160       500\n",
      "\n",
      "Evaluation took 755.2156369686127 seconds\n",
      "Evaluating model 64k_lstm_no_whitespace_pert_vanilla on bert on clean for task yelp_bin\n"
     ]
    },
    {
     "name": "stderr",
     "output_type": "stream",
     "text": [
      "100%|██████████████████████████████████████████████████████████████████████████████████████████████████████████████████████████████████████████████████████████████████████████████| 16/16 [00:22<00:00,  1.39s/it]\n"
     ]
    },
    {
     "name": "stdout",
     "output_type": "stream",
     "text": [
      "              precision    recall  f1-score   support\n",
      "\n",
      "           0     0.9526    0.9640    0.9583       250\n",
      "           1     0.9636    0.9520    0.9577       250\n",
      "\n",
      "    accuracy                         0.9580       500\n",
      "   macro avg     0.9581    0.9580    0.9580       500\n",
      "weighted avg     0.9581    0.9580    0.9580       500\n",
      "\n",
      "Evaluation took 22.23691964149475 seconds\n",
      "Evaluating model 64k_lstm_no_whitespace_pert_vanilla on bert on stochastic_no_ws for task yelp_bin\n"
     ]
    },
    {
     "name": "stderr",
     "output_type": "stream",
     "text": [
      "100%|██████████████████████████████████████████████████████████████████████████████████████████████████████████████████████████████████████████████████████████████████████████████| 10/10 [03:45<00:00, 22.54s/it]\n"
     ]
    },
    {
     "name": "stdout",
     "output_type": "stream",
     "text": [
      "              precision    recall  f1-score   support\n",
      "\n",
      "           0     0.9286    0.9360    0.9323       250\n",
      "           1     0.9355    0.9280    0.9317       250\n",
      "\n",
      "    accuracy                         0.9320       500\n",
      "   macro avg     0.9320    0.9320    0.9320       500\n",
      "weighted avg     0.9320    0.9320    0.9320       500\n",
      "\n",
      "Evaluation took 225.37646770477295 seconds\n",
      "Evaluating model 64k_lstm_no_whitespace_pert_vanilla on bert on stochastic_incl_ws for task yelp_bin\n"
     ]
    },
    {
     "name": "stderr",
     "output_type": "stream",
     "text": [
      "100%|██████████████████████████████████████████████████████████████████████████████████████████████████████████████████████████████████████████████████████████████████████████████| 10/10 [03:49<00:00, 22.95s/it]\n"
     ]
    },
    {
     "name": "stdout",
     "output_type": "stream",
     "text": [
      "              precision    recall  f1-score   support\n",
      "\n",
      "           0     0.8915    0.9200    0.9055       250\n",
      "           1     0.9174    0.8880    0.9024       250\n",
      "\n",
      "    accuracy                         0.9040       500\n",
      "   macro avg     0.9044    0.9040    0.9040       500\n",
      "weighted avg     0.9044    0.9040    0.9040       500\n",
      "\n",
      "Evaluation took 229.53277111053467 seconds\n",
      "Evaluating model 64k_lstm_no_whitespace_pert_vanilla on bert on word_score_no_ws for task yelp_bin\n"
     ]
    },
    {
     "name": "stderr",
     "output_type": "stream",
     "text": [
      "100%|████████████████████████████████████████████████████████████████████████████████████████████████████████████████████████████████████████████████████████████████████████████| 500/500 [14:04<00:00,  1.69s/it]\n"
     ]
    },
    {
     "name": "stdout",
     "output_type": "stream",
     "text": [
      "              precision    recall  f1-score   support\n",
      "\n",
      "           0     0.8984    0.8840    0.8911       250\n",
      "           1     0.8858    0.9000    0.8929       250\n",
      "\n",
      "    accuracy                         0.8920       500\n",
      "   macro avg     0.8921    0.8920    0.8920       500\n",
      "weighted avg     0.8921    0.8920    0.8920       500\n",
      "\n",
      "Evaluation took 844.0933077335358 seconds\n",
      "Evaluating model 64k_lstm_no_whitespace_pert_vanilla on bert on word_score_incl_ws for task yelp_bin\n"
     ]
    },
    {
     "name": "stderr",
     "output_type": "stream",
     "text": [
      "100%|████████████████████████████████████████████████████████████████████████████████████████████████████████████████████████████████████████████████████████████████████████████| 500/500 [13:17<00:00,  1.59s/it]\n"
     ]
    },
    {
     "name": "stdout",
     "output_type": "stream",
     "text": [
      "              precision    recall  f1-score   support\n",
      "\n",
      "           0     0.7854    0.7760    0.7807       250\n",
      "           1     0.7787    0.7880    0.7833       250\n",
      "\n",
      "    accuracy                         0.7820       500\n",
      "   macro avg     0.7820    0.7820    0.7820       500\n",
      "weighted avg     0.7820    0.7820    0.7820       500\n",
      "\n",
      "Evaluation took 797.2182626724243 seconds\n",
      "Evaluating model 64k_lstm_all_pert_vanilla on bert on clean for task yelp_bin\n"
     ]
    },
    {
     "name": "stderr",
     "output_type": "stream",
     "text": [
      "100%|██████████████████████████████████████████████████████████████████████████████████████████████████████████████████████████████████████████████████████████████████████████████| 16/16 [00:22<00:00,  1.38s/it]\n"
     ]
    },
    {
     "name": "stdout",
     "output_type": "stream",
     "text": [
      "              precision    recall  f1-score   support\n",
      "\n",
      "           0     0.9414    0.9640    0.9526       250\n",
      "           1     0.9631    0.9400    0.9514       250\n",
      "\n",
      "    accuracy                         0.9520       500\n",
      "   macro avg     0.9523    0.9520    0.9520       500\n",
      "weighted avg     0.9523    0.9520    0.9520       500\n",
      "\n",
      "Evaluation took 22.06883931159973 seconds\n",
      "Evaluating model 64k_lstm_all_pert_vanilla on bert on stochastic_no_ws for task yelp_bin\n"
     ]
    },
    {
     "name": "stderr",
     "output_type": "stream",
     "text": [
      "100%|██████████████████████████████████████████████████████████████████████████████████████████████████████████████████████████████████████████████████████████████████████████████| 10/10 [03:39<00:00, 21.91s/it]\n"
     ]
    },
    {
     "name": "stdout",
     "output_type": "stream",
     "text": [
      "              precision    recall  f1-score   support\n",
      "\n",
      "           0     0.9252    0.9400    0.9325       250\n",
      "           1     0.9390    0.9240    0.9315       250\n",
      "\n",
      "    accuracy                         0.9320       500\n",
      "   macro avg     0.9321    0.9320    0.9320       500\n",
      "weighted avg     0.9321    0.9320    0.9320       500\n",
      "\n",
      "Evaluation took 219.07126712799072 seconds\n",
      "Evaluating model 64k_lstm_all_pert_vanilla on bert on stochastic_incl_ws for task yelp_bin\n"
     ]
    },
    {
     "name": "stderr",
     "output_type": "stream",
     "text": [
      "100%|██████████████████████████████████████████████████████████████████████████████████████████████████████████████████████████████████████████████████████████████████████████████| 10/10 [03:38<00:00, 21.83s/it]\n"
     ]
    },
    {
     "name": "stdout",
     "output_type": "stream",
     "text": [
      "              precision    recall  f1-score   support\n",
      "\n",
      "           0     0.9291    0.9440    0.9365       250\n",
      "           1     0.9431    0.9280    0.9355       250\n",
      "\n",
      "    accuracy                         0.9360       500\n",
      "   macro avg     0.9361    0.9360    0.9360       500\n",
      "weighted avg     0.9361    0.9360    0.9360       500\n",
      "\n",
      "Evaluation took 218.3376088142395 seconds\n",
      "Evaluating model 64k_lstm_all_pert_vanilla on bert on word_score_no_ws for task yelp_bin\n"
     ]
    },
    {
     "name": "stderr",
     "output_type": "stream",
     "text": [
      "100%|████████████████████████████████████████████████████████████████████████████████████████████████████████████████████████████████████████████████████████████████████████████| 500/500 [13:36<00:00,  1.63s/it]\n"
     ]
    },
    {
     "name": "stdout",
     "output_type": "stream",
     "text": [
      "              precision    recall  f1-score   support\n",
      "\n",
      "           0     0.9072    0.8600    0.8830       250\n",
      "           1     0.8669    0.9120    0.8889       250\n",
      "\n",
      "    accuracy                         0.8860       500\n",
      "   macro avg     0.8870    0.8860    0.8859       500\n",
      "weighted avg     0.8870    0.8860    0.8859       500\n",
      "\n",
      "Evaluation took 816.25426030159 seconds\n",
      "Evaluating model 64k_lstm_all_pert_vanilla on bert on word_score_incl_ws for task yelp_bin\n"
     ]
    },
    {
     "name": "stderr",
     "output_type": "stream",
     "text": [
      "100%|████████████████████████████████████████████████████████████████████████████████████████████████████████████████████████████████████████████████████████████████████████████| 500/500 [13:40<00:00,  1.64s/it]\n"
     ]
    },
    {
     "name": "stdout",
     "output_type": "stream",
     "text": [
      "              precision    recall  f1-score   support\n",
      "\n",
      "           0     0.9163    0.8760    0.8957       250\n",
      "           1     0.8812    0.9200    0.9002       250\n",
      "\n",
      "    accuracy                         0.8980       500\n",
      "   macro avg     0.8988    0.8980    0.8980       500\n",
      "weighted avg     0.8988    0.8980    0.8980       500\n",
      "\n",
      "Evaluation took 821.0216379165649 seconds\n",
      "Failed loading model 64k_lstm_clean_finetuned on bert for task yelp_bin, skipping\n",
      "Failed loading model 64k_lstm_no_whitespace_pert_finetuned on bert for task yelp_bin, skipping\n",
      "Evaluating model 64k_lstm_all_pert_finetuned on bert on clean for task yelp_bin\n"
     ]
    },
    {
     "name": "stderr",
     "output_type": "stream",
     "text": [
      "100%|██████████████████████████████████████████████████████████████████████████████████████████████████████████████████████████████████████████████████████████████████████████████| 16/16 [00:21<00:00,  1.37s/it]\n"
     ]
    },
    {
     "name": "stdout",
     "output_type": "stream",
     "text": [
      "              precision    recall  f1-score   support\n",
      "\n",
      "           0     0.9486    0.9600    0.9543       250\n",
      "           1     0.9595    0.9480    0.9537       250\n",
      "\n",
      "    accuracy                         0.9540       500\n",
      "   macro avg     0.9541    0.9540    0.9540       500\n",
      "weighted avg     0.9541    0.9540    0.9540       500\n",
      "\n",
      "Evaluation took 21.91558527946472 seconds\n",
      "Evaluating model 64k_lstm_all_pert_finetuned on bert on stochastic_no_ws for task yelp_bin\n"
     ]
    },
    {
     "name": "stderr",
     "output_type": "stream",
     "text": [
      "100%|██████████████████████████████████████████████████████████████████████████████████████████████████████████████████████████████████████████████████████████████████████████████| 10/10 [03:39<00:00, 21.91s/it]\n"
     ]
    },
    {
     "name": "stdout",
     "output_type": "stream",
     "text": [
      "              precision    recall  f1-score   support\n",
      "\n",
      "           0     0.9331    0.9480    0.9405       250\n",
      "           1     0.9472    0.9320    0.9395       250\n",
      "\n",
      "    accuracy                         0.9400       500\n",
      "   macro avg     0.9401    0.9400    0.9400       500\n",
      "weighted avg     0.9401    0.9400    0.9400       500\n",
      "\n",
      "Evaluation took 219.15632319450378 seconds\n",
      "Evaluating model 64k_lstm_all_pert_finetuned on bert on stochastic_incl_ws for task yelp_bin\n"
     ]
    },
    {
     "name": "stderr",
     "output_type": "stream",
     "text": [
      "100%|██████████████████████████████████████████████████████████████████████████████████████████████████████████████████████████████████████████████████████████████████████████████| 10/10 [03:39<00:00, 21.96s/it]\n"
     ]
    },
    {
     "name": "stdout",
     "output_type": "stream",
     "text": [
      "              precision    recall  f1-score   support\n",
      "\n",
      "           0     0.9294    0.9480    0.9386       250\n",
      "           1     0.9469    0.9280    0.9374       250\n",
      "\n",
      "    accuracy                         0.9380       500\n",
      "   macro avg     0.9382    0.9380    0.9380       500\n",
      "weighted avg     0.9382    0.9380    0.9380       500\n",
      "\n",
      "Evaluation took 219.64597511291504 seconds\n",
      "Evaluating model 64k_lstm_all_pert_finetuned on bert on word_score_no_ws for task yelp_bin\n"
     ]
    },
    {
     "name": "stderr",
     "output_type": "stream",
     "text": [
      "100%|████████████████████████████████████████████████████████████████████████████████████████████████████████████████████████████████████████████████████████████████████████████| 500/500 [13:46<00:00,  1.65s/it]\n"
     ]
    },
    {
     "name": "stdout",
     "output_type": "stream",
     "text": [
      "              precision    recall  f1-score   support\n",
      "\n",
      "           0     0.9103    0.8520    0.8802       250\n",
      "           1     0.8609    0.9160    0.8876       250\n",
      "\n",
      "    accuracy                         0.8840       500\n",
      "   macro avg     0.8856    0.8840    0.8839       500\n",
      "weighted avg     0.8856    0.8840    0.8839       500\n",
      "\n",
      "Evaluation took 826.0417170524597 seconds\n",
      "Evaluating model 64k_lstm_all_pert_finetuned on bert on word_score_incl_ws for task yelp_bin\n"
     ]
    },
    {
     "name": "stderr",
     "output_type": "stream",
     "text": [
      "100%|████████████████████████████████████████████████████████████████████████████████████████████████████████████████████████████████████████████████████████████████████████████| 500/500 [13:51<00:00,  1.66s/it]\n"
     ]
    },
    {
     "name": "stdout",
     "output_type": "stream",
     "text": [
      "              precision    recall  f1-score   support\n",
      "\n",
      "           0     0.9079    0.8680    0.8875       250\n",
      "           1     0.8736    0.9120    0.8924       250\n",
      "\n",
      "    accuracy                         0.8900       500\n",
      "   macro avg     0.8908    0.8900    0.8899       500\n",
      "weighted avg     0.8908    0.8900    0.8899       500\n",
      "\n",
      "Evaluation took 831.5052070617676 seconds\n",
      "Failed loading model 64k_cnn_no_whitespace_pert_finetuned on bert for task yelp_bin, skipping\n",
      "Failed loading model 2m_lstm_all_pert_finetuned on bert for task yelp_bin, skipping\n",
      "Failed loading model 32k_lstm_all_pert_finetuned_100ep on bert for task yelp_bin, skipping\n",
      "Evaluating model baseline on roberta on clean for task yelp_bin\n"
     ]
    },
    {
     "name": "stderr",
     "output_type": "stream",
     "text": [
      "100%|██████████████████████████████████████████████████████████████████████████████████████████████████████████████████████████████████████████████████████████████████████████████| 16/16 [00:02<00:00,  5.90it/s]\n"
     ]
    },
    {
     "name": "stdout",
     "output_type": "stream",
     "text": [
      "              precision    recall  f1-score   support\n",
      "\n",
      "           0     0.9640    0.9640    0.9640       250\n",
      "           1     0.9640    0.9640    0.9640       250\n",
      "\n",
      "    accuracy                         0.9640       500\n",
      "   macro avg     0.9640    0.9640    0.9640       500\n",
      "weighted avg     0.9640    0.9640    0.9640       500\n",
      "\n",
      "Evaluation took 2.7555718421936035 seconds\n",
      "Evaluating model baseline on roberta on stochastic_no_ws for task yelp_bin\n"
     ]
    },
    {
     "name": "stderr",
     "output_type": "stream",
     "text": [
      "100%|██████████████████████████████████████████████████████████████████████████████████████████████████████████████████████████████████████████████████████████████████████████████| 10/10 [00:25<00:00,  2.54s/it]\n"
     ]
    },
    {
     "name": "stdout",
     "output_type": "stream",
     "text": [
      "              precision    recall  f1-score   support\n",
      "\n",
      "           0     0.8929    0.9000    0.8964       250\n",
      "           1     0.8992    0.8920    0.8956       250\n",
      "\n",
      "    accuracy                         0.8960       500\n",
      "   macro avg     0.8960    0.8960    0.8960       500\n",
      "weighted avg     0.8960    0.8960    0.8960       500\n",
      "\n",
      "Evaluation took 25.357050895690918 seconds\n",
      "Evaluating model baseline on roberta on stochastic_incl_ws for task yelp_bin\n"
     ]
    },
    {
     "name": "stderr",
     "output_type": "stream",
     "text": [
      "100%|██████████████████████████████████████████████████████████████████████████████████████████████████████████████████████████████████████████████████████████████████████████████| 10/10 [00:25<00:00,  2.54s/it]\n"
     ]
    },
    {
     "name": "stdout",
     "output_type": "stream",
     "text": [
      "              precision    recall  f1-score   support\n",
      "\n",
      "           0     0.8906    0.9120    0.9012       250\n",
      "           1     0.9098    0.8880    0.8988       250\n",
      "\n",
      "    accuracy                         0.9000       500\n",
      "   macro avg     0.9002    0.9000    0.9000       500\n",
      "weighted avg     0.9002    0.9000    0.9000       500\n",
      "\n",
      "Evaluation took 25.41081213951111 seconds\n",
      "Evaluating model baseline on roberta on word_score_no_ws for task yelp_bin\n"
     ]
    },
    {
     "name": "stderr",
     "output_type": "stream",
     "text": [
      "100%|████████████████████████████████████████████████████████████████████████████████████████████████████████████████████████████████████████████████████████████████████████████| 500/500 [01:30<00:00,  5.51it/s]\n"
     ]
    },
    {
     "name": "stdout",
     "output_type": "stream",
     "text": [
      "              precision    recall  f1-score   support\n",
      "\n",
      "           0     0.7407    0.8000    0.7692       250\n",
      "           1     0.7826    0.7200    0.7500       250\n",
      "\n",
      "    accuracy                         0.7600       500\n",
      "   macro avg     0.7617    0.7600    0.7596       500\n",
      "weighted avg     0.7617    0.7600    0.7596       500\n",
      "\n",
      "Evaluation took 90.71817278862 seconds\n",
      "Evaluating model baseline on roberta on word_score_incl_ws for task yelp_bin\n"
     ]
    },
    {
     "name": "stderr",
     "output_type": "stream",
     "text": [
      "100%|████████████████████████████████████████████████████████████████████████████████████████████████████████████████████████████████████████████████████████████████████████████| 500/500 [01:30<00:00,  5.51it/s]\n"
     ]
    },
    {
     "name": "stdout",
     "output_type": "stream",
     "text": [
      "              precision    recall  f1-score   support\n",
      "\n",
      "           0     0.7593    0.8200    0.7885       250\n",
      "           1     0.8043    0.7400    0.7708       250\n",
      "\n",
      "    accuracy                         0.7800       500\n",
      "   macro avg     0.7818    0.7800    0.7796       500\n",
      "weighted avg     0.7818    0.7800    0.7796       500\n",
      "\n",
      "Evaluation took 90.71153163909912 seconds\n",
      "Failed loading model baseline_all_pert on roberta for task yelp_bin, skipping\n",
      "Evaluating model roben_1 on roberta on clean for task yelp_bin\n"
     ]
    },
    {
     "name": "stderr",
     "output_type": "stream",
     "text": [
      "100%|██████████████████████████████████████████████████████████████████████████████████████████████████████████████████████████████████████████████████████████████████████████████| 16/16 [00:02<00:00,  6.26it/s]\n"
     ]
    },
    {
     "name": "stdout",
     "output_type": "stream",
     "text": [
      "              precision    recall  f1-score   support\n",
      "\n",
      "           0     0.8662    0.9320    0.8979       250\n",
      "           1     0.9264    0.8560    0.8898       250\n",
      "\n",
      "    accuracy                         0.8940       500\n",
      "   macro avg     0.8963    0.8940    0.8938       500\n",
      "weighted avg     0.8963    0.8940    0.8938       500\n",
      "\n",
      "Evaluation took 2.5955681800842285 seconds\n",
      "Evaluating model roben_1 on roberta on stochastic_no_ws for task yelp_bin\n"
     ]
    },
    {
     "name": "stderr",
     "output_type": "stream",
     "text": [
      "100%|██████████████████████████████████████████████████████████████████████████████████████████████████████████████████████████████████████████████████████████████████████████████| 10/10 [00:25<00:00,  2.54s/it]\n"
     ]
    },
    {
     "name": "stdout",
     "output_type": "stream",
     "text": [
      "              precision    recall  f1-score   support\n",
      "\n",
      "           0     0.8095    0.8840    0.8451       250\n",
      "           1     0.8722    0.7920    0.8302       250\n",
      "\n",
      "    accuracy                         0.8380       500\n",
      "   macro avg     0.8409    0.8380    0.8377       500\n",
      "weighted avg     0.8409    0.8380    0.8377       500\n",
      "\n",
      "Evaluation took 25.38089942932129 seconds\n",
      "Evaluating model roben_1 on roberta on stochastic_incl_ws for task yelp_bin\n"
     ]
    },
    {
     "name": "stderr",
     "output_type": "stream",
     "text": [
      "100%|██████████████████████████████████████████████████████████████████████████████████████████████████████████████████████████████████████████████████████████████████████████████| 10/10 [00:25<00:00,  2.54s/it]\n"
     ]
    },
    {
     "name": "stdout",
     "output_type": "stream",
     "text": [
      "              precision    recall  f1-score   support\n",
      "\n",
      "           0     0.7687    0.8640    0.8136       250\n",
      "           1     0.8447    0.7400    0.7889       250\n",
      "\n",
      "    accuracy                         0.8020       500\n",
      "   macro avg     0.8067    0.8020    0.8012       500\n",
      "weighted avg     0.8067    0.8020    0.8012       500\n",
      "\n",
      "Evaluation took 25.391318559646606 seconds\n",
      "Evaluating model roben_1 on roberta on word_score_no_ws for task yelp_bin\n"
     ]
    },
    {
     "name": "stderr",
     "output_type": "stream",
     "text": [
      "100%|████████████████████████████████████████████████████████████████████████████████████████████████████████████████████████████████████████████████████████████████████████████| 500/500 [01:28<00:00,  5.66it/s]\n"
     ]
    },
    {
     "name": "stdout",
     "output_type": "stream",
     "text": [
      "              precision    recall  f1-score   support\n",
      "\n",
      "           0     0.7599    0.8480    0.8015       250\n",
      "           1     0.8281    0.7320    0.7771       250\n",
      "\n",
      "    accuracy                         0.7900       500\n",
      "   macro avg     0.7940    0.7900    0.7893       500\n",
      "weighted avg     0.7940    0.7900    0.7893       500\n",
      "\n",
      "Evaluation took 88.38461422920227 seconds\n",
      "Evaluating model roben_1 on roberta on word_score_incl_ws for task yelp_bin\n"
     ]
    },
    {
     "name": "stderr",
     "output_type": "stream",
     "text": [
      "100%|████████████████████████████████████████████████████████████████████████████████████████████████████████████████████████████████████████████████████████████████████████████| 500/500 [01:24<00:00,  5.92it/s]\n"
     ]
    },
    {
     "name": "stdout",
     "output_type": "stream",
     "text": [
      "              precision    recall  f1-score   support\n",
      "\n",
      "           0     0.6667    0.7920    0.7239       250\n",
      "           1     0.7438    0.6040    0.6667       250\n",
      "\n",
      "    accuracy                         0.6980       500\n",
      "   macro avg     0.7053    0.6980    0.6953       500\n",
      "weighted avg     0.7053    0.6980    0.6953       500\n",
      "\n",
      "Evaluation took 84.46801948547363 seconds\n",
      "Evaluating model roben_2 on roberta on clean for task yelp_bin\n"
     ]
    },
    {
     "name": "stderr",
     "output_type": "stream",
     "text": [
      "100%|██████████████████████████████████████████████████████████████████████████████████████████████████████████████████████████████████████████████████████████████████████████████| 16/16 [00:02<00:00,  6.27it/s]\n"
     ]
    },
    {
     "name": "stdout",
     "output_type": "stream",
     "text": [
      "              precision    recall  f1-score   support\n",
      "\n",
      "           0     0.8951    0.9560    0.9246       250\n",
      "           1     0.9528    0.8880    0.9193       250\n",
      "\n",
      "    accuracy                         0.9220       500\n",
      "   macro avg     0.9240    0.9220    0.9219       500\n",
      "weighted avg     0.9240    0.9220    0.9219       500\n",
      "\n",
      "Evaluation took 2.594374895095825 seconds\n",
      "Evaluating model roben_2 on roberta on stochastic_no_ws for task yelp_bin\n"
     ]
    },
    {
     "name": "stderr",
     "output_type": "stream",
     "text": [
      "100%|██████████████████████████████████████████████████████████████████████████████████████████████████████████████████████████████████████████████████████████████████████████████| 10/10 [00:25<00:00,  2.54s/it]\n"
     ]
    },
    {
     "name": "stdout",
     "output_type": "stream",
     "text": [
      "              precision    recall  f1-score   support\n",
      "\n",
      "           0     0.8481    0.9160    0.8808       250\n",
      "           1     0.9087    0.8360    0.8708       250\n",
      "\n",
      "    accuracy                         0.8760       500\n",
      "   macro avg     0.8784    0.8760    0.8758       500\n",
      "weighted avg     0.8784    0.8760    0.8758       500\n",
      "\n",
      "Evaluation took 25.38547706604004 seconds\n",
      "Evaluating model roben_2 on roberta on stochastic_incl_ws for task yelp_bin\n"
     ]
    },
    {
     "name": "stderr",
     "output_type": "stream",
     "text": [
      "100%|██████████████████████████████████████████████████████████████████████████████████████████████████████████████████████████████████████████████████████████████████████████████| 10/10 [00:25<00:00,  2.54s/it]\n"
     ]
    },
    {
     "name": "stdout",
     "output_type": "stream",
     "text": [
      "              precision    recall  f1-score   support\n",
      "\n",
      "           0     0.8162    0.8880    0.8506       250\n",
      "           1     0.8772    0.8000    0.8368       250\n",
      "\n",
      "    accuracy                         0.8440       500\n",
      "   macro avg     0.8467    0.8440    0.8437       500\n",
      "weighted avg     0.8467    0.8440    0.8437       500\n",
      "\n",
      "Evaluation took 25.404032707214355 seconds\n",
      "Evaluating model roben_2 on roberta on word_score_no_ws for task yelp_bin\n"
     ]
    },
    {
     "name": "stderr",
     "output_type": "stream",
     "text": [
      "100%|████████████████████████████████████████████████████████████████████████████████████████████████████████████████████████████████████████████████████████████████████████████| 500/500 [01:31<00:00,  5.46it/s]\n"
     ]
    },
    {
     "name": "stdout",
     "output_type": "stream",
     "text": [
      "              precision    recall  f1-score   support\n",
      "\n",
      "           0     0.8071    0.9040    0.8528       250\n",
      "           1     0.8909    0.7840    0.8340       250\n",
      "\n",
      "    accuracy                         0.8440       500\n",
      "   macro avg     0.8490    0.8440    0.8434       500\n",
      "weighted avg     0.8490    0.8440    0.8434       500\n",
      "\n",
      "Evaluation took 91.5969626903534 seconds\n",
      "Evaluating model roben_2 on roberta on word_score_incl_ws for task yelp_bin\n"
     ]
    },
    {
     "name": "stderr",
     "output_type": "stream",
     "text": [
      "100%|████████████████████████████████████████████████████████████████████████████████████████████████████████████████████████████████████████████████████████████████████████████| 500/500 [01:28<00:00,  5.68it/s]\n"
     ]
    },
    {
     "name": "stdout",
     "output_type": "stream",
     "text": [
      "              precision    recall  f1-score   support\n",
      "\n",
      "           0     0.7208    0.8160    0.7655       250\n",
      "           1     0.7880    0.6840    0.7323       250\n",
      "\n",
      "    accuracy                         0.7500       500\n",
      "   macro avg     0.7544    0.7500    0.7489       500\n",
      "weighted avg     0.7544    0.7500    0.7489       500\n",
      "\n",
      "Evaluation took 88.05123710632324 seconds\n",
      "Evaluating model roben_1_tok on roberta on clean for task yelp_bin\n"
     ]
    },
    {
     "name": "stderr",
     "output_type": "stream",
     "text": [
      "100%|██████████████████████████████████████████████████████████████████████████████████████████████████████████████████████████████████████████████████████████████████████████████| 16/16 [00:02<00:00,  5.83it/s]\n"
     ]
    },
    {
     "name": "stdout",
     "output_type": "stream",
     "text": [
      "              precision    recall  f1-score   support\n",
      "\n",
      "           0     0.8442    0.9320    0.8859       250\n",
      "           1     0.9241    0.8280    0.8734       250\n",
      "\n",
      "    accuracy                         0.8800       500\n",
      "   macro avg     0.8842    0.8800    0.8797       500\n",
      "weighted avg     0.8842    0.8800    0.8797       500\n",
      "\n",
      "Evaluation took 2.7872912883758545 seconds\n",
      "Evaluating model roben_1_tok on roberta on stochastic_no_ws for task yelp_bin\n"
     ]
    },
    {
     "name": "stderr",
     "output_type": "stream",
     "text": [
      "100%|██████████████████████████████████████████████████████████████████████████████████████████████████████████████████████████████████████████████████████████████████████████████| 10/10 [00:27<00:00,  2.72s/it]\n"
     ]
    },
    {
     "name": "stdout",
     "output_type": "stream",
     "text": [
      "              precision    recall  f1-score   support\n",
      "\n",
      "           0     0.7993    0.8920    0.8431       250\n",
      "           1     0.8778    0.7760    0.8238       250\n",
      "\n",
      "    accuracy                         0.8340       500\n",
      "   macro avg     0.8386    0.8340    0.8334       500\n",
      "weighted avg     0.8386    0.8340    0.8334       500\n",
      "\n",
      "Evaluation took 27.238959312438965 seconds\n",
      "Evaluating model roben_1_tok on roberta on stochastic_incl_ws for task yelp_bin\n"
     ]
    },
    {
     "name": "stderr",
     "output_type": "stream",
     "text": [
      "100%|██████████████████████████████████████████████████████████████████████████████████████████████████████████████████████████████████████████████████████████████████████████████| 10/10 [00:27<00:00,  2.72s/it]\n"
     ]
    },
    {
     "name": "stdout",
     "output_type": "stream",
     "text": [
      "              precision    recall  f1-score   support\n",
      "\n",
      "           0     0.7431    0.8560    0.7955       250\n",
      "           1     0.8302    0.7040    0.7619       250\n",
      "\n",
      "    accuracy                         0.7800       500\n",
      "   macro avg     0.7866    0.7800    0.7787       500\n",
      "weighted avg     0.7866    0.7800    0.7787       500\n",
      "\n",
      "Evaluation took 27.22798180580139 seconds\n",
      "Evaluating model roben_1_tok on roberta on word_score_no_ws for task yelp_bin\n"
     ]
    },
    {
     "name": "stderr",
     "output_type": "stream",
     "text": [
      "100%|████████████████████████████████████████████████████████████████████████████████████████████████████████████████████████████████████████████████████████████████████████████| 500/500 [01:34<00:00,  5.32it/s]\n"
     ]
    },
    {
     "name": "stdout",
     "output_type": "stream",
     "text": [
      "              precision    recall  f1-score   support\n",
      "\n",
      "           0     0.7742    0.8640    0.8166       250\n",
      "           1     0.8462    0.7480    0.7941       250\n",
      "\n",
      "    accuracy                         0.8060       500\n",
      "   macro avg     0.8102    0.8060    0.8053       500\n",
      "weighted avg     0.8102    0.8060    0.8053       500\n",
      "\n",
      "Evaluation took 94.06026005744934 seconds\n",
      "Evaluating model roben_1_tok on roberta on word_score_incl_ws for task yelp_bin\n"
     ]
    },
    {
     "name": "stderr",
     "output_type": "stream",
     "text": [
      "100%|████████████████████████████████████████████████████████████████████████████████████████████████████████████████████████████████████████████████████████████████████████████| 500/500 [01:28<00:00,  5.64it/s]\n"
     ]
    },
    {
     "name": "stdout",
     "output_type": "stream",
     "text": [
      "              precision    recall  f1-score   support\n",
      "\n",
      "           0     0.6566    0.7800    0.7130       250\n",
      "           1     0.7291    0.5920    0.6534       250\n",
      "\n",
      "    accuracy                         0.6860       500\n",
      "   macro avg     0.6928    0.6860    0.6832       500\n",
      "weighted avg     0.6928    0.6860    0.6832       500\n",
      "\n",
      "Evaluation took 88.67803359031677 seconds\n",
      "Evaluating model roben_2_tok on roberta on clean for task yelp_bin\n"
     ]
    },
    {
     "name": "stderr",
     "output_type": "stream",
     "text": [
      "100%|██████████████████████████████████████████████████████████████████████████████████████████████████████████████████████████████████████████████████████████████████████████████| 16/16 [00:02<00:00,  5.83it/s]\n"
     ]
    },
    {
     "name": "stdout",
     "output_type": "stream",
     "text": [
      "              precision    recall  f1-score   support\n",
      "\n",
      "           0     0.8906    0.9440    0.9165       250\n",
      "           1     0.9404    0.8840    0.9113       250\n",
      "\n",
      "    accuracy                         0.9140       500\n",
      "   macro avg     0.9155    0.9140    0.9139       500\n",
      "weighted avg     0.9155    0.9140    0.9139       500\n",
      "\n",
      "Evaluation took 2.7848637104034424 seconds\n",
      "Evaluating model roben_2_tok on roberta on stochastic_no_ws for task yelp_bin\n"
     ]
    },
    {
     "name": "stderr",
     "output_type": "stream",
     "text": [
      "100%|██████████████████████████████████████████████████████████████████████████████████████████████████████████████████████████████████████████████████████████████████████████████| 10/10 [00:27<00:00,  2.72s/it]\n"
     ]
    },
    {
     "name": "stdout",
     "output_type": "stream",
     "text": [
      "              precision    recall  f1-score   support\n",
      "\n",
      "           0     0.8593    0.9280    0.8923       250\n",
      "           1     0.9217    0.8480    0.8833       250\n",
      "\n",
      "    accuracy                         0.8880       500\n",
      "   macro avg     0.8905    0.8880    0.8878       500\n",
      "weighted avg     0.8905    0.8880    0.8878       500\n",
      "\n",
      "Evaluation took 27.23576068878174 seconds\n",
      "Evaluating model roben_2_tok on roberta on stochastic_incl_ws for task yelp_bin\n"
     ]
    },
    {
     "name": "stderr",
     "output_type": "stream",
     "text": [
      "100%|██████████████████████████████████████████████████████████████████████████████████████████████████████████████████████████████████████████████████████████████████████████████| 10/10 [00:27<00:00,  2.72s/it]\n"
     ]
    },
    {
     "name": "stdout",
     "output_type": "stream",
     "text": [
      "              precision    recall  f1-score   support\n",
      "\n",
      "           0     0.8094    0.9000    0.8523       250\n",
      "           1     0.8874    0.7880    0.8347       250\n",
      "\n",
      "    accuracy                         0.8440       500\n",
      "   macro avg     0.8484    0.8440    0.8435       500\n",
      "weighted avg     0.8484    0.8440    0.8435       500\n",
      "\n",
      "Evaluation took 27.243335485458374 seconds\n",
      "Evaluating model roben_2_tok on roberta on word_score_no_ws for task yelp_bin\n"
     ]
    },
    {
     "name": "stderr",
     "output_type": "stream",
     "text": [
      "100%|████████████████████████████████████████████████████████████████████████████████████████████████████████████████████████████████████████████████████████████████████████████| 500/500 [01:39<00:00,  5.04it/s]\n"
     ]
    },
    {
     "name": "stdout",
     "output_type": "stream",
     "text": [
      "              precision    recall  f1-score   support\n",
      "\n",
      "           0     0.8444    0.9120    0.8769       250\n",
      "           1     0.9043    0.8320    0.8667       250\n",
      "\n",
      "    accuracy                         0.8720       500\n",
      "   macro avg     0.8744    0.8720    0.8718       500\n",
      "weighted avg     0.8744    0.8720    0.8718       500\n",
      "\n",
      "Evaluation took 99.32031965255737 seconds\n",
      "Evaluating model roben_2_tok on roberta on word_score_incl_ws for task yelp_bin\n"
     ]
    },
    {
     "name": "stderr",
     "output_type": "stream",
     "text": [
      "100%|████████████████████████████████████████████████████████████████████████████████████████████████████████████████████████████████████████████████████████████████████████████| 500/500 [01:34<00:00,  5.30it/s]\n"
     ]
    },
    {
     "name": "stdout",
     "output_type": "stream",
     "text": [
      "              precision    recall  f1-score   support\n",
      "\n",
      "           0     0.7188    0.8280    0.7695       250\n",
      "           1     0.7972    0.6760    0.7316       250\n",
      "\n",
      "    accuracy                         0.7520       500\n",
      "   macro avg     0.7580    0.7520    0.7506       500\n",
      "weighted avg     0.7580    0.7520    0.7506       500\n",
      "\n",
      "Evaluation took 94.44889426231384 seconds\n",
      "Failed loading model 64k_lstm_clean_vanilla on roberta for task yelp_bin, skipping\n",
      "Failed loading model 64k_lstm_no_whitespace_pert_vanilla on roberta for task yelp_bin, skipping\n",
      "Evaluating model 64k_lstm_all_pert_vanilla on roberta on clean for task yelp_bin\n"
     ]
    },
    {
     "name": "stderr",
     "output_type": "stream",
     "text": [
      "100%|██████████████████████████████████████████████████████████████████████████████████████████████████████████████████████████████████████████████████████████████████████████████| 16/16 [00:22<00:00,  1.43s/it]\n"
     ]
    },
    {
     "name": "stdout",
     "output_type": "stream",
     "text": [
      "              precision    recall  f1-score   support\n",
      "\n",
      "           0     0.9600    0.9600    0.9600       250\n",
      "           1     0.9600    0.9600    0.9600       250\n",
      "\n",
      "    accuracy                         0.9600       500\n",
      "   macro avg     0.9600    0.9600    0.9600       500\n",
      "weighted avg     0.9600    0.9600    0.9600       500\n",
      "\n",
      "Evaluation took 22.8534677028656 seconds\n",
      "Evaluating model 64k_lstm_all_pert_vanilla on roberta on stochastic_no_ws for task yelp_bin\n"
     ]
    },
    {
     "name": "stderr",
     "output_type": "stream",
     "text": [
      "100%|██████████████████████████████████████████████████████████████████████████████████████████████████████████████████████████████████████████████████████████████████████████████| 10/10 [03:38<00:00, 21.89s/it]\n"
     ]
    },
    {
     "name": "stdout",
     "output_type": "stream",
     "text": [
      "              precision    recall  f1-score   support\n",
      "\n",
      "           0     0.9370    0.9520    0.9444       250\n",
      "           1     0.9512    0.9360    0.9435       250\n",
      "\n",
      "    accuracy                         0.9440       500\n",
      "   macro avg     0.9441    0.9440    0.9440       500\n",
      "weighted avg     0.9441    0.9440    0.9440       500\n",
      "\n",
      "Evaluation took 218.8963544368744 seconds\n",
      "Evaluating model 64k_lstm_all_pert_vanilla on roberta on stochastic_incl_ws for task yelp_bin\n"
     ]
    },
    {
     "name": "stderr",
     "output_type": "stream",
     "text": [
      "100%|██████████████████████████████████████████████████████████████████████████████████████████████████████████████████████████████████████████████████████████████████████████████| 10/10 [03:39<00:00, 21.96s/it]\n"
     ]
    },
    {
     "name": "stdout",
     "output_type": "stream",
     "text": [
      "              precision    recall  f1-score   support\n",
      "\n",
      "           0     0.9219    0.9440    0.9328       250\n",
      "           1     0.9426    0.9200    0.9312       250\n",
      "\n",
      "    accuracy                         0.9320       500\n",
      "   macro avg     0.9322    0.9320    0.9320       500\n",
      "weighted avg     0.9322    0.9320    0.9320       500\n",
      "\n",
      "Evaluation took 219.58509254455566 seconds\n",
      "Evaluating model 64k_lstm_all_pert_vanilla on roberta on word_score_no_ws for task yelp_bin\n"
     ]
    },
    {
     "name": "stderr",
     "output_type": "stream",
     "text": [
      "100%|████████████████████████████████████████████████████████████████████████████████████████████████████████████████████████████████████████████████████████████████████████████| 500/500 [13:40<00:00,  1.64s/it]\n"
     ]
    },
    {
     "name": "stdout",
     "output_type": "stream",
     "text": [
      "              precision    recall  f1-score   support\n",
      "\n",
      "           0     0.8519    0.9200    0.8846       250\n",
      "           1     0.9130    0.8400    0.8750       250\n",
      "\n",
      "    accuracy                         0.8800       500\n",
      "   macro avg     0.8824    0.8800    0.8798       500\n",
      "weighted avg     0.8824    0.8800    0.8798       500\n",
      "\n",
      "Evaluation took 821.0247361660004 seconds\n",
      "Evaluating model 64k_lstm_all_pert_vanilla on roberta on word_score_incl_ws for task yelp_bin\n"
     ]
    },
    {
     "name": "stderr",
     "output_type": "stream",
     "text": [
      "100%|████████████████████████████████████████████████████████████████████████████████████████████████████████████████████████████████████████████████████████████████████████████| 500/500 [13:35<00:00,  1.63s/it]\n"
     ]
    },
    {
     "name": "stdout",
     "output_type": "stream",
     "text": [
      "              precision    recall  f1-score   support\n",
      "\n",
      "           0     0.8498    0.9280    0.8872       250\n",
      "           1     0.9207    0.8360    0.8763       250\n",
      "\n",
      "    accuracy                         0.8820       500\n",
      "   macro avg     0.8853    0.8820    0.8817       500\n",
      "weighted avg     0.8853    0.8820    0.8817       500\n",
      "\n",
      "Evaluation took 815.7625555992126 seconds\n",
      "Failed loading model 64k_lstm_clean_finetuned on roberta for task yelp_bin, skipping\n",
      "Failed loading model 64k_lstm_no_whitespace_pert_finetuned on roberta for task yelp_bin, skipping\n",
      "Evaluating model 64k_lstm_all_pert_finetuned on roberta on clean for task yelp_bin\n"
     ]
    },
    {
     "name": "stderr",
     "output_type": "stream",
     "text": [
      "100%|██████████████████████████████████████████████████████████████████████████████████████████████████████████████████████████████████████████████████████████████████████████████| 16/16 [00:21<00:00,  1.36s/it]\n"
     ]
    },
    {
     "name": "stdout",
     "output_type": "stream",
     "text": [
      "              precision    recall  f1-score   support\n",
      "\n",
      "           0     0.9641    0.9680    0.9661       250\n",
      "           1     0.9679    0.9640    0.9659       250\n",
      "\n",
      "    accuracy                         0.9660       500\n",
      "   macro avg     0.9660    0.9660    0.9660       500\n",
      "weighted avg     0.9660    0.9660    0.9660       500\n",
      "\n",
      "Evaluation took 21.871656894683838 seconds\n",
      "Evaluating model 64k_lstm_all_pert_finetuned on roberta on stochastic_no_ws for task yelp_bin\n"
     ]
    },
    {
     "name": "stderr",
     "output_type": "stream",
     "text": [
      "100%|██████████████████████████████████████████████████████████████████████████████████████████████████████████████████████████████████████████████████████████████████████████████| 10/10 [03:39<00:00, 21.91s/it]\n"
     ]
    },
    {
     "name": "stdout",
     "output_type": "stream",
     "text": [
      "              precision    recall  f1-score   support\n",
      "\n",
      "           0     0.9444    0.9520    0.9482       250\n",
      "           1     0.9516    0.9440    0.9478       250\n",
      "\n",
      "    accuracy                         0.9480       500\n",
      "   macro avg     0.9480    0.9480    0.9480       500\n",
      "weighted avg     0.9480    0.9480    0.9480       500\n",
      "\n",
      "Evaluation took 219.15234351158142 seconds\n",
      "Evaluating model 64k_lstm_all_pert_finetuned on roberta on stochastic_incl_ws for task yelp_bin\n"
     ]
    },
    {
     "name": "stderr",
     "output_type": "stream",
     "text": [
      "100%|██████████████████████████████████████████████████████████████████████████████████████████████████████████████████████████████████████████████████████████████████████████████| 10/10 [03:40<00:00, 22.02s/it]\n"
     ]
    },
    {
     "name": "stdout",
     "output_type": "stream",
     "text": [
      "              precision    recall  f1-score   support\n",
      "\n",
      "           0     0.9258    0.9480    0.9368       250\n",
      "           1     0.9467    0.9240    0.9352       250\n",
      "\n",
      "    accuracy                         0.9360       500\n",
      "   macro avg     0.9363    0.9360    0.9360       500\n",
      "weighted avg     0.9363    0.9360    0.9360       500\n",
      "\n",
      "Evaluation took 220.16953778266907 seconds\n",
      "Evaluating model 64k_lstm_all_pert_finetuned on roberta on word_score_no_ws for task yelp_bin\n"
     ]
    },
    {
     "name": "stderr",
     "output_type": "stream",
     "text": [
      "100%|████████████████████████████████████████████████████████████████████████████████████████████████████████████████████████████████████████████████████████████████████████████| 500/500 [13:58<00:00,  1.68s/it]\n"
     ]
    },
    {
     "name": "stdout",
     "output_type": "stream",
     "text": [
      "              precision    recall  f1-score   support\n",
      "\n",
      "           0     0.8425    0.9200    0.8795       250\n",
      "           1     0.9119    0.8280    0.8679       250\n",
      "\n",
      "    accuracy                         0.8740       500\n",
      "   macro avg     0.8772    0.8740    0.8737       500\n",
      "weighted avg     0.8772    0.8740    0.8737       500\n",
      "\n",
      "Evaluation took 838.2970867156982 seconds\n",
      "Evaluating model 64k_lstm_all_pert_finetuned on roberta on word_score_incl_ws for task yelp_bin\n"
     ]
    },
    {
     "name": "stderr",
     "output_type": "stream",
     "text": [
      "100%|████████████████████████████████████████████████████████████████████████████████████████████████████████████████████████████████████████████████████████████████████████████| 500/500 [14:13<00:00,  1.71s/it]"
     ]
    },
    {
     "name": "stdout",
     "output_type": "stream",
     "text": [
      "              precision    recall  f1-score   support\n",
      "\n",
      "           0     0.8498    0.9280    0.8872       250\n",
      "           1     0.9207    0.8360    0.8763       250\n",
      "\n",
      "    accuracy                         0.8820       500\n",
      "   macro avg     0.8853    0.8820    0.8817       500\n",
      "weighted avg     0.8853    0.8820    0.8817       500\n",
      "\n",
      "Evaluation took 854.0374884605408 seconds\n",
      "Failed loading model 64k_cnn_no_whitespace_pert_finetuned on roberta for task yelp_bin, skipping\n",
      "Failed loading model 2m_lstm_all_pert_finetuned on roberta for task yelp_bin, skipping\n",
      "Failed loading model 32k_lstm_all_pert_finetuned_100ep on roberta for task yelp_bin, skipping\n"
     ]
    },
    {
     "name": "stderr",
     "output_type": "stream",
     "text": [
      "\n"
     ]
    }
   ],
   "source": [
    "model_task_ids = [ f\"{model}_{type}_{task}\" for task, type, model in itertools.product(tasks, model_types, all_models.keys()) ]\n",
    "\n",
    "accuracy_df = pd.DataFrame(columns=evaluations, index=model_task_ids)\n",
    "f1_df = pd.DataFrame(columns=evaluations, index=model_task_ids)\n",
    "\n",
    "for task, type in itertools.product(tasks, model_types):\n",
    "    for cur_model_name, cur_model_factory in all_models.items():\n",
    "        try:\n",
    "            cur_model = cur_model_factory(task, type)\n",
    "        except:\n",
    "            print(f'Failed loading model {cur_model_name} on {type} for task {task}, skipping')\n",
    "            accuracy_df.drop(f\"{cur_model_name}_{type}_{task}\", inplace=True)\n",
    "            f1_df.drop(f\"{cur_model_name}_{type}_{task}\", inplace=True)\n",
    "            continue\n",
    "        for cur_evaluation in evaluations:\n",
    "            print(f'Evaluating model {cur_model_name} on {type} on {cur_evaluation} for task {task}')\n",
    "            start_time = time.time()\n",
    "            random.seed(11)\n",
    "            if cur_evaluation == 'clean':\n",
    "                acc, f1 = evaluate_model(cur_model, sampled_test_set[task])\n",
    "            elif cur_evaluation.startswith('stochastic_'):\n",
    "                if cur_evaluation == 'stochastic_no_ws':\n",
    "                    acc_list, f1_list = evaluate_model_adv(cur_model, sampled_test_set_adv_no_ws[task])\n",
    "                elif cur_evaluation == 'stochastic_incl_ws':\n",
    "                    acc_list, f1_list = evaluate_model_adv(cur_model, sampled_test_set_adv_incl_ws[task])\n",
    "                acc = acc_list[-1]\n",
    "                f1 = f1_list[-1]\n",
    "                with open(f\"../output/eval/{cur_model_name}_{type}_{task}_{cur_evaluation}_acc_list.json\", \"w\") as f:\n",
    "                    json.dump(acc_list, fp=f)\n",
    "                with open(f\"../output/eval/{cur_model_name}_{type}_{task}_{cur_evaluation}_f1_list.json\", \"w\") as f:\n",
    "                    json.dump(f1_list, fp=f)\n",
    "            elif cur_evaluation.startswith('word_score_'):\n",
    "                if cur_evaluation == 'word_score_no_ws':\n",
    "                    acc, f1 = evaluate_model_word_score(cur_model, sampled_test_set[task], allow_whitespace_pert=False,\n",
    "                                                        report_prefix=f\"../output/eval/{cur_model_name}_{type}_{task}_{cur_evaluation}\",\n",
    "                                                        word_scores_file=f\"../output/{task}_word_scores.json\")\n",
    "                elif cur_evaluation == 'word_score_incl_ws':\n",
    "                    acc, f1 = evaluate_model_word_score(cur_model, sampled_test_set[task], allow_whitespace_pert=True,\n",
    "                                                        report_prefix=f\"../output/eval/{cur_model_name}_{type}_{task}_{cur_evaluation}\",\n",
    "                                                        word_scores_file=f\"../output/{task}_word_scores.json\")\n",
    "\n",
    "            accuracy_df[cur_evaluation][f\"{cur_model_name}_{type}_{task}\"] = acc\n",
    "            f1_df[cur_evaluation][f\"{cur_model_name}_{type}_{task}\"] = f1\n",
    "            end_time = time.time()\n",
    "            print(f\"Evaluation took {end_time-start_time} seconds\")\n",
    "        del cur_model"
   ]
  },
  {
   "cell_type": "code",
   "execution_count": 41,
   "id": "6e229c55",
   "metadata": {
    "execution": {
     "iopub.execute_input": "2022-04-01T06:14:51.186588Z",
     "iopub.status.busy": "2022-04-01T06:14:51.184925Z",
     "iopub.status.idle": "2022-04-01T06:14:51.198999Z",
     "shell.execute_reply": "2022-04-01T06:14:51.198401Z"
    }
   },
   "outputs": [
    {
     "data": {
      "text/html": [
       "<div>\n",
       "<style scoped>\n",
       "    .dataframe tbody tr th:only-of-type {\n",
       "        vertical-align: middle;\n",
       "    }\n",
       "\n",
       "    .dataframe tbody tr th {\n",
       "        vertical-align: top;\n",
       "    }\n",
       "\n",
       "    .dataframe thead th {\n",
       "        text-align: right;\n",
       "    }\n",
       "</style>\n",
       "<table border=\"1\" class=\"dataframe\">\n",
       "  <thead>\n",
       "    <tr style=\"text-align: right;\">\n",
       "      <th></th>\n",
       "      <th>clean</th>\n",
       "      <th>stochastic_no_ws</th>\n",
       "      <th>stochastic_incl_ws</th>\n",
       "      <th>word_score_no_ws</th>\n",
       "      <th>word_score_incl_ws</th>\n",
       "    </tr>\n",
       "  </thead>\n",
       "  <tbody>\n",
       "    <tr>\n",
       "      <th>baseline_bert_yelp_bin</th>\n",
       "      <td>0.952</td>\n",
       "      <td>0.88</td>\n",
       "      <td>0.874</td>\n",
       "      <td>0.712</td>\n",
       "      <td>0.704</td>\n",
       "    </tr>\n",
       "    <tr>\n",
       "      <th>roben_1_bert_yelp_bin</th>\n",
       "      <td>0.884</td>\n",
       "      <td>0.818</td>\n",
       "      <td>0.768</td>\n",
       "      <td>0.78</td>\n",
       "      <td>0.662</td>\n",
       "    </tr>\n",
       "    <tr>\n",
       "      <th>roben_2_bert_yelp_bin</th>\n",
       "      <td>0.92</td>\n",
       "      <td>0.878</td>\n",
       "      <td>0.838</td>\n",
       "      <td>0.838</td>\n",
       "      <td>0.706</td>\n",
       "    </tr>\n",
       "    <tr>\n",
       "      <th>roben_1_tok_bert_yelp_bin</th>\n",
       "      <td>0.866</td>\n",
       "      <td>0.804</td>\n",
       "      <td>0.75</td>\n",
       "      <td>0.806</td>\n",
       "      <td>0.648</td>\n",
       "    </tr>\n",
       "    <tr>\n",
       "      <th>roben_2_tok_bert_yelp_bin</th>\n",
       "      <td>0.904</td>\n",
       "      <td>0.872</td>\n",
       "      <td>0.812</td>\n",
       "      <td>0.864</td>\n",
       "      <td>0.71</td>\n",
       "    </tr>\n",
       "    <tr>\n",
       "      <th>64k_lstm_clean_vanilla_bert_yelp_bin</th>\n",
       "      <td>0.95</td>\n",
       "      <td>0.898</td>\n",
       "      <td>0.88</td>\n",
       "      <td>0.752</td>\n",
       "      <td>0.716</td>\n",
       "    </tr>\n",
       "    <tr>\n",
       "      <th>64k_lstm_no_whitespace_pert_vanilla_bert_yelp_bin</th>\n",
       "      <td>0.958</td>\n",
       "      <td>0.932</td>\n",
       "      <td>0.904</td>\n",
       "      <td>0.892</td>\n",
       "      <td>0.782</td>\n",
       "    </tr>\n",
       "    <tr>\n",
       "      <th>64k_lstm_all_pert_vanilla_bert_yelp_bin</th>\n",
       "      <td>0.952</td>\n",
       "      <td>0.932</td>\n",
       "      <td>0.936</td>\n",
       "      <td>0.886</td>\n",
       "      <td>0.898</td>\n",
       "    </tr>\n",
       "    <tr>\n",
       "      <th>64k_lstm_all_pert_finetuned_bert_yelp_bin</th>\n",
       "      <td>0.954</td>\n",
       "      <td>0.94</td>\n",
       "      <td>0.938</td>\n",
       "      <td>0.884</td>\n",
       "      <td>0.89</td>\n",
       "    </tr>\n",
       "    <tr>\n",
       "      <th>baseline_roberta_yelp_bin</th>\n",
       "      <td>0.964</td>\n",
       "      <td>0.896</td>\n",
       "      <td>0.9</td>\n",
       "      <td>0.76</td>\n",
       "      <td>0.78</td>\n",
       "    </tr>\n",
       "    <tr>\n",
       "      <th>roben_1_roberta_yelp_bin</th>\n",
       "      <td>0.894</td>\n",
       "      <td>0.838</td>\n",
       "      <td>0.802</td>\n",
       "      <td>0.79</td>\n",
       "      <td>0.698</td>\n",
       "    </tr>\n",
       "    <tr>\n",
       "      <th>roben_2_roberta_yelp_bin</th>\n",
       "      <td>0.922</td>\n",
       "      <td>0.876</td>\n",
       "      <td>0.844</td>\n",
       "      <td>0.844</td>\n",
       "      <td>0.75</td>\n",
       "    </tr>\n",
       "    <tr>\n",
       "      <th>roben_1_tok_roberta_yelp_bin</th>\n",
       "      <td>0.88</td>\n",
       "      <td>0.834</td>\n",
       "      <td>0.78</td>\n",
       "      <td>0.806</td>\n",
       "      <td>0.686</td>\n",
       "    </tr>\n",
       "    <tr>\n",
       "      <th>roben_2_tok_roberta_yelp_bin</th>\n",
       "      <td>0.914</td>\n",
       "      <td>0.888</td>\n",
       "      <td>0.844</td>\n",
       "      <td>0.872</td>\n",
       "      <td>0.752</td>\n",
       "    </tr>\n",
       "    <tr>\n",
       "      <th>64k_lstm_all_pert_vanilla_roberta_yelp_bin</th>\n",
       "      <td>0.96</td>\n",
       "      <td>0.944</td>\n",
       "      <td>0.932</td>\n",
       "      <td>0.88</td>\n",
       "      <td>0.882</td>\n",
       "    </tr>\n",
       "    <tr>\n",
       "      <th>64k_lstm_all_pert_finetuned_roberta_yelp_bin</th>\n",
       "      <td>0.966</td>\n",
       "      <td>0.948</td>\n",
       "      <td>0.936</td>\n",
       "      <td>0.874</td>\n",
       "      <td>0.882</td>\n",
       "    </tr>\n",
       "  </tbody>\n",
       "</table>\n",
       "</div>"
      ],
      "text/plain": [
       "                                                   clean stochastic_no_ws  \\\n",
       "baseline_bert_yelp_bin                             0.952             0.88   \n",
       "roben_1_bert_yelp_bin                              0.884            0.818   \n",
       "roben_2_bert_yelp_bin                               0.92            0.878   \n",
       "roben_1_tok_bert_yelp_bin                          0.866            0.804   \n",
       "roben_2_tok_bert_yelp_bin                          0.904            0.872   \n",
       "64k_lstm_clean_vanilla_bert_yelp_bin                0.95            0.898   \n",
       "64k_lstm_no_whitespace_pert_vanilla_bert_yelp_bin  0.958            0.932   \n",
       "64k_lstm_all_pert_vanilla_bert_yelp_bin            0.952            0.932   \n",
       "64k_lstm_all_pert_finetuned_bert_yelp_bin          0.954             0.94   \n",
       "baseline_roberta_yelp_bin                          0.964            0.896   \n",
       "roben_1_roberta_yelp_bin                           0.894            0.838   \n",
       "roben_2_roberta_yelp_bin                           0.922            0.876   \n",
       "roben_1_tok_roberta_yelp_bin                        0.88            0.834   \n",
       "roben_2_tok_roberta_yelp_bin                       0.914            0.888   \n",
       "64k_lstm_all_pert_vanilla_roberta_yelp_bin          0.96            0.944   \n",
       "64k_lstm_all_pert_finetuned_roberta_yelp_bin       0.966            0.948   \n",
       "\n",
       "                                                  stochastic_incl_ws  \\\n",
       "baseline_bert_yelp_bin                                         0.874   \n",
       "roben_1_bert_yelp_bin                                          0.768   \n",
       "roben_2_bert_yelp_bin                                          0.838   \n",
       "roben_1_tok_bert_yelp_bin                                       0.75   \n",
       "roben_2_tok_bert_yelp_bin                                      0.812   \n",
       "64k_lstm_clean_vanilla_bert_yelp_bin                            0.88   \n",
       "64k_lstm_no_whitespace_pert_vanilla_bert_yelp_bin              0.904   \n",
       "64k_lstm_all_pert_vanilla_bert_yelp_bin                        0.936   \n",
       "64k_lstm_all_pert_finetuned_bert_yelp_bin                      0.938   \n",
       "baseline_roberta_yelp_bin                                        0.9   \n",
       "roben_1_roberta_yelp_bin                                       0.802   \n",
       "roben_2_roberta_yelp_bin                                       0.844   \n",
       "roben_1_tok_roberta_yelp_bin                                    0.78   \n",
       "roben_2_tok_roberta_yelp_bin                                   0.844   \n",
       "64k_lstm_all_pert_vanilla_roberta_yelp_bin                     0.932   \n",
       "64k_lstm_all_pert_finetuned_roberta_yelp_bin                   0.936   \n",
       "\n",
       "                                                  word_score_no_ws  \\\n",
       "baseline_bert_yelp_bin                                       0.712   \n",
       "roben_1_bert_yelp_bin                                         0.78   \n",
       "roben_2_bert_yelp_bin                                        0.838   \n",
       "roben_1_tok_bert_yelp_bin                                    0.806   \n",
       "roben_2_tok_bert_yelp_bin                                    0.864   \n",
       "64k_lstm_clean_vanilla_bert_yelp_bin                         0.752   \n",
       "64k_lstm_no_whitespace_pert_vanilla_bert_yelp_bin            0.892   \n",
       "64k_lstm_all_pert_vanilla_bert_yelp_bin                      0.886   \n",
       "64k_lstm_all_pert_finetuned_bert_yelp_bin                    0.884   \n",
       "baseline_roberta_yelp_bin                                     0.76   \n",
       "roben_1_roberta_yelp_bin                                      0.79   \n",
       "roben_2_roberta_yelp_bin                                     0.844   \n",
       "roben_1_tok_roberta_yelp_bin                                 0.806   \n",
       "roben_2_tok_roberta_yelp_bin                                 0.872   \n",
       "64k_lstm_all_pert_vanilla_roberta_yelp_bin                    0.88   \n",
       "64k_lstm_all_pert_finetuned_roberta_yelp_bin                 0.874   \n",
       "\n",
       "                                                  word_score_incl_ws  \n",
       "baseline_bert_yelp_bin                                         0.704  \n",
       "roben_1_bert_yelp_bin                                          0.662  \n",
       "roben_2_bert_yelp_bin                                          0.706  \n",
       "roben_1_tok_bert_yelp_bin                                      0.648  \n",
       "roben_2_tok_bert_yelp_bin                                       0.71  \n",
       "64k_lstm_clean_vanilla_bert_yelp_bin                           0.716  \n",
       "64k_lstm_no_whitespace_pert_vanilla_bert_yelp_bin              0.782  \n",
       "64k_lstm_all_pert_vanilla_bert_yelp_bin                        0.898  \n",
       "64k_lstm_all_pert_finetuned_bert_yelp_bin                       0.89  \n",
       "baseline_roberta_yelp_bin                                       0.78  \n",
       "roben_1_roberta_yelp_bin                                       0.698  \n",
       "roben_2_roberta_yelp_bin                                        0.75  \n",
       "roben_1_tok_roberta_yelp_bin                                   0.686  \n",
       "roben_2_tok_roberta_yelp_bin                                   0.752  \n",
       "64k_lstm_all_pert_vanilla_roberta_yelp_bin                     0.882  \n",
       "64k_lstm_all_pert_finetuned_roberta_yelp_bin                   0.882  "
      ]
     },
     "execution_count": 41,
     "metadata": {},
     "output_type": "execute_result"
    }
   ],
   "source": [
    "accuracy_df"
   ]
  },
  {
   "cell_type": "code",
   "execution_count": 42,
   "id": "79f4cd33",
   "metadata": {
    "execution": {
     "iopub.execute_input": "2022-04-01T06:14:51.208980Z",
     "iopub.status.busy": "2022-04-01T06:14:51.208404Z",
     "iopub.status.idle": "2022-04-01T06:14:51.211291Z",
     "shell.execute_reply": "2022-04-01T06:14:51.211757Z"
    }
   },
   "outputs": [
    {
     "data": {
      "text/html": [
       "<div>\n",
       "<style scoped>\n",
       "    .dataframe tbody tr th:only-of-type {\n",
       "        vertical-align: middle;\n",
       "    }\n",
       "\n",
       "    .dataframe tbody tr th {\n",
       "        vertical-align: top;\n",
       "    }\n",
       "\n",
       "    .dataframe thead th {\n",
       "        text-align: right;\n",
       "    }\n",
       "</style>\n",
       "<table border=\"1\" class=\"dataframe\">\n",
       "  <thead>\n",
       "    <tr style=\"text-align: right;\">\n",
       "      <th></th>\n",
       "      <th>clean</th>\n",
       "      <th>stochastic_no_ws</th>\n",
       "      <th>stochastic_incl_ws</th>\n",
       "      <th>word_score_no_ws</th>\n",
       "      <th>word_score_incl_ws</th>\n",
       "    </tr>\n",
       "  </thead>\n",
       "  <tbody>\n",
       "    <tr>\n",
       "      <th>baseline_bert_yelp_bin</th>\n",
       "      <td>0.951981</td>\n",
       "      <td>0.879931</td>\n",
       "      <td>0.873987</td>\n",
       "      <td>0.711834</td>\n",
       "      <td>0.703697</td>\n",
       "    </tr>\n",
       "    <tr>\n",
       "      <th>roben_1_bert_yelp_bin</th>\n",
       "      <td>0.883635</td>\n",
       "      <td>0.817104</td>\n",
       "      <td>0.767371</td>\n",
       "      <td>0.778854</td>\n",
       "      <td>0.658722</td>\n",
       "    </tr>\n",
       "    <tr>\n",
       "      <th>roben_2_bert_yelp_bin</th>\n",
       "      <td>0.919896</td>\n",
       "      <td>0.877824</td>\n",
       "      <td>0.837453</td>\n",
       "      <td>0.837594</td>\n",
       "      <td>0.704866</td>\n",
       "    </tr>\n",
       "    <tr>\n",
       "      <th>roben_1_tok_bert_yelp_bin</th>\n",
       "      <td>0.865548</td>\n",
       "      <td>0.802979</td>\n",
       "      <td>0.748769</td>\n",
       "      <td>0.804416</td>\n",
       "      <td>0.643199</td>\n",
       "    </tr>\n",
       "    <tr>\n",
       "      <th>roben_2_tok_bert_yelp_bin</th>\n",
       "      <td>0.903778</td>\n",
       "      <td>0.871597</td>\n",
       "      <td>0.81102</td>\n",
       "      <td>0.863509</td>\n",
       "      <td>0.708403</td>\n",
       "    </tr>\n",
       "    <tr>\n",
       "      <th>64k_lstm_clean_vanilla_bert_yelp_bin</th>\n",
       "      <td>0.949995</td>\n",
       "      <td>0.898</td>\n",
       "      <td>0.879998</td>\n",
       "      <td>0.751678</td>\n",
       "      <td>0.715959</td>\n",
       "    </tr>\n",
       "    <tr>\n",
       "      <th>64k_lstm_no_whitespace_pert_vanilla_bert_yelp_bin</th>\n",
       "      <td>0.957998</td>\n",
       "      <td>0.931999</td>\n",
       "      <td>0.903975</td>\n",
       "      <td>0.891993</td>\n",
       "      <td>0.781992</td>\n",
       "    </tr>\n",
       "    <tr>\n",
       "      <th>64k_lstm_all_pert_vanilla_bert_yelp_bin</th>\n",
       "      <td>0.951993</td>\n",
       "      <td>0.931996</td>\n",
       "      <td>0.935996</td>\n",
       "      <td>0.885923</td>\n",
       "      <td>0.897951</td>\n",
       "    </tr>\n",
       "    <tr>\n",
       "      <th>64k_lstm_all_pert_finetuned_bert_yelp_bin</th>\n",
       "      <td>0.953998</td>\n",
       "      <td>0.939996</td>\n",
       "      <td>0.937994</td>\n",
       "      <td>0.883881</td>\n",
       "      <td>0.889947</td>\n",
       "    </tr>\n",
       "    <tr>\n",
       "      <th>baseline_roberta_yelp_bin</th>\n",
       "      <td>0.964</td>\n",
       "      <td>0.895998</td>\n",
       "      <td>0.899986</td>\n",
       "      <td>0.759615</td>\n",
       "      <td>0.779647</td>\n",
       "    </tr>\n",
       "    <tr>\n",
       "      <th>roben_1_roberta_yelp_bin</th>\n",
       "      <td>0.893847</td>\n",
       "      <td>0.837656</td>\n",
       "      <td>0.801236</td>\n",
       "      <td>0.789291</td>\n",
       "      <td>0.695308</td>\n",
       "    </tr>\n",
       "    <tr>\n",
       "      <th>roben_2_roberta_yelp_bin</th>\n",
       "      <td>0.92191</td>\n",
       "      <td>0.875801</td>\n",
       "      <td>0.843697</td>\n",
       "      <td>0.843436</td>\n",
       "      <td>0.748906</td>\n",
       "    </tr>\n",
       "    <tr>\n",
       "      <th>roben_1_tok_roberta_yelp_bin</th>\n",
       "      <td>0.879675</td>\n",
       "      <td>0.83344</td>\n",
       "      <td>0.778722</td>\n",
       "      <td>0.805345</td>\n",
       "      <td>0.683201</td>\n",
       "    </tr>\n",
       "    <tr>\n",
       "      <th>roben_2_tok_roberta_yelp_bin</th>\n",
       "      <td>0.913923</td>\n",
       "      <td>0.887821</td>\n",
       "      <td>0.843509</td>\n",
       "      <td>0.871795</td>\n",
       "      <td>0.750559</td>\n",
       "    </tr>\n",
       "    <tr>\n",
       "      <th>64k_lstm_all_pert_vanilla_roberta_yelp_bin</th>\n",
       "      <td>0.96</td>\n",
       "      <td>0.943996</td>\n",
       "      <td>0.93199</td>\n",
       "      <td>0.879808</td>\n",
       "      <td>0.88175</td>\n",
       "    </tr>\n",
       "    <tr>\n",
       "      <th>64k_lstm_all_pert_finetuned_roberta_yelp_bin</th>\n",
       "      <td>0.966</td>\n",
       "      <td>0.947999</td>\n",
       "      <td>0.935991</td>\n",
       "      <td>0.873733</td>\n",
       "      <td>0.88175</td>\n",
       "    </tr>\n",
       "  </tbody>\n",
       "</table>\n",
       "</div>"
      ],
      "text/plain": [
       "                                                      clean stochastic_no_ws  \\\n",
       "baseline_bert_yelp_bin                             0.951981         0.879931   \n",
       "roben_1_bert_yelp_bin                              0.883635         0.817104   \n",
       "roben_2_bert_yelp_bin                              0.919896         0.877824   \n",
       "roben_1_tok_bert_yelp_bin                          0.865548         0.802979   \n",
       "roben_2_tok_bert_yelp_bin                          0.903778         0.871597   \n",
       "64k_lstm_clean_vanilla_bert_yelp_bin               0.949995            0.898   \n",
       "64k_lstm_no_whitespace_pert_vanilla_bert_yelp_bin  0.957998         0.931999   \n",
       "64k_lstm_all_pert_vanilla_bert_yelp_bin            0.951993         0.931996   \n",
       "64k_lstm_all_pert_finetuned_bert_yelp_bin          0.953998         0.939996   \n",
       "baseline_roberta_yelp_bin                             0.964         0.895998   \n",
       "roben_1_roberta_yelp_bin                           0.893847         0.837656   \n",
       "roben_2_roberta_yelp_bin                            0.92191         0.875801   \n",
       "roben_1_tok_roberta_yelp_bin                       0.879675          0.83344   \n",
       "roben_2_tok_roberta_yelp_bin                       0.913923         0.887821   \n",
       "64k_lstm_all_pert_vanilla_roberta_yelp_bin             0.96         0.943996   \n",
       "64k_lstm_all_pert_finetuned_roberta_yelp_bin          0.966         0.947999   \n",
       "\n",
       "                                                  stochastic_incl_ws  \\\n",
       "baseline_bert_yelp_bin                                      0.873987   \n",
       "roben_1_bert_yelp_bin                                       0.767371   \n",
       "roben_2_bert_yelp_bin                                       0.837453   \n",
       "roben_1_tok_bert_yelp_bin                                   0.748769   \n",
       "roben_2_tok_bert_yelp_bin                                    0.81102   \n",
       "64k_lstm_clean_vanilla_bert_yelp_bin                        0.879998   \n",
       "64k_lstm_no_whitespace_pert_vanilla_bert_yelp_bin           0.903975   \n",
       "64k_lstm_all_pert_vanilla_bert_yelp_bin                     0.935996   \n",
       "64k_lstm_all_pert_finetuned_bert_yelp_bin                   0.937994   \n",
       "baseline_roberta_yelp_bin                                   0.899986   \n",
       "roben_1_roberta_yelp_bin                                    0.801236   \n",
       "roben_2_roberta_yelp_bin                                    0.843697   \n",
       "roben_1_tok_roberta_yelp_bin                                0.778722   \n",
       "roben_2_tok_roberta_yelp_bin                                0.843509   \n",
       "64k_lstm_all_pert_vanilla_roberta_yelp_bin                   0.93199   \n",
       "64k_lstm_all_pert_finetuned_roberta_yelp_bin                0.935991   \n",
       "\n",
       "                                                  word_score_no_ws  \\\n",
       "baseline_bert_yelp_bin                                    0.711834   \n",
       "roben_1_bert_yelp_bin                                     0.778854   \n",
       "roben_2_bert_yelp_bin                                     0.837594   \n",
       "roben_1_tok_bert_yelp_bin                                 0.804416   \n",
       "roben_2_tok_bert_yelp_bin                                 0.863509   \n",
       "64k_lstm_clean_vanilla_bert_yelp_bin                      0.751678   \n",
       "64k_lstm_no_whitespace_pert_vanilla_bert_yelp_bin         0.891993   \n",
       "64k_lstm_all_pert_vanilla_bert_yelp_bin                   0.885923   \n",
       "64k_lstm_all_pert_finetuned_bert_yelp_bin                 0.883881   \n",
       "baseline_roberta_yelp_bin                                 0.759615   \n",
       "roben_1_roberta_yelp_bin                                  0.789291   \n",
       "roben_2_roberta_yelp_bin                                  0.843436   \n",
       "roben_1_tok_roberta_yelp_bin                              0.805345   \n",
       "roben_2_tok_roberta_yelp_bin                              0.871795   \n",
       "64k_lstm_all_pert_vanilla_roberta_yelp_bin                0.879808   \n",
       "64k_lstm_all_pert_finetuned_roberta_yelp_bin              0.873733   \n",
       "\n",
       "                                                  word_score_incl_ws  \n",
       "baseline_bert_yelp_bin                                      0.703697  \n",
       "roben_1_bert_yelp_bin                                       0.658722  \n",
       "roben_2_bert_yelp_bin                                       0.704866  \n",
       "roben_1_tok_bert_yelp_bin                                   0.643199  \n",
       "roben_2_tok_bert_yelp_bin                                   0.708403  \n",
       "64k_lstm_clean_vanilla_bert_yelp_bin                        0.715959  \n",
       "64k_lstm_no_whitespace_pert_vanilla_bert_yelp_bin           0.781992  \n",
       "64k_lstm_all_pert_vanilla_bert_yelp_bin                     0.897951  \n",
       "64k_lstm_all_pert_finetuned_bert_yelp_bin                   0.889947  \n",
       "baseline_roberta_yelp_bin                                   0.779647  \n",
       "roben_1_roberta_yelp_bin                                    0.695308  \n",
       "roben_2_roberta_yelp_bin                                    0.748906  \n",
       "roben_1_tok_roberta_yelp_bin                                0.683201  \n",
       "roben_2_tok_roberta_yelp_bin                                0.750559  \n",
       "64k_lstm_all_pert_vanilla_roberta_yelp_bin                   0.88175  \n",
       "64k_lstm_all_pert_finetuned_roberta_yelp_bin                 0.88175  "
      ]
     },
     "execution_count": 42,
     "metadata": {},
     "output_type": "execute_result"
    }
   ],
   "source": [
    "f1_df"
   ]
  },
  {
   "cell_type": "code",
   "execution_count": 43,
   "id": "4b227192",
   "metadata": {
    "execution": {
     "iopub.execute_input": "2022-04-01T06:14:51.215426Z",
     "iopub.status.busy": "2022-04-01T06:14:51.214848Z",
     "iopub.status.idle": "2022-04-01T06:14:51.219469Z",
     "shell.execute_reply": "2022-04-01T06:14:51.219961Z"
    }
   },
   "outputs": [],
   "source": [
    "accuracy_df.to_csv(\"../output/grid_accuracy.csv\")"
   ]
  },
  {
   "cell_type": "code",
   "execution_count": 44,
   "id": "69cb79c5",
   "metadata": {
    "execution": {
     "iopub.execute_input": "2022-04-01T06:14:51.223400Z",
     "iopub.status.busy": "2022-04-01T06:14:51.222326Z",
     "iopub.status.idle": "2022-04-01T06:14:51.226522Z",
     "shell.execute_reply": "2022-04-01T06:14:51.227884Z"
    }
   },
   "outputs": [],
   "source": [
    "f1_df.to_csv(\"../output/grid_f1.csv\")"
   ]
  },
  {
   "cell_type": "markdown",
   "id": "8fff8d67",
   "metadata": {},
   "source": [
    "-----"
   ]
  }
 ],
 "metadata": {
  "kernelspec": {
   "display_name": "Python 3 (ipykernel)",
   "language": "python",
   "name": "python3"
  },
  "language_info": {
   "codemirror_mode": {
    "name": "ipython",
    "version": 3
   },
   "file_extension": ".py",
   "mimetype": "text/x-python",
   "name": "python",
   "nbconvert_exporter": "python",
   "pygments_lexer": "ipython3",
   "version": "3.9.12"
  },
  "widgets": {
   "application/vnd.jupyter.widget-state+json": {
    "state": {
     "2a4bb820c60e40c1ad0f64107d79c7f1": {
      "model_module": "@jupyter-widgets/controls",
      "model_module_version": "1.5.0",
      "model_name": "DescriptionStyleModel",
      "state": {
       "_model_module": "@jupyter-widgets/controls",
       "_model_module_version": "1.5.0",
       "_model_name": "DescriptionStyleModel",
       "_view_count": null,
       "_view_module": "@jupyter-widgets/base",
       "_view_module_version": "1.2.0",
       "_view_name": "StyleView",
       "description_width": ""
      }
     },
     "46a5be577b9e40eeab875a637fb2c738": {
      "model_module": "@jupyter-widgets/base",
      "model_module_version": "1.2.0",
      "model_name": "LayoutModel",
      "state": {
       "_model_module": "@jupyter-widgets/base",
       "_model_module_version": "1.2.0",
       "_model_name": "LayoutModel",
       "_view_count": null,
       "_view_module": "@jupyter-widgets/base",
       "_view_module_version": "1.2.0",
       "_view_name": "LayoutView",
       "align_content": null,
       "align_items": null,
       "align_self": null,
       "border": null,
       "bottom": null,
       "display": null,
       "flex": null,
       "flex_flow": null,
       "grid_area": null,
       "grid_auto_columns": null,
       "grid_auto_flow": null,
       "grid_auto_rows": null,
       "grid_column": null,
       "grid_gap": null,
       "grid_row": null,
       "grid_template_areas": null,
       "grid_template_columns": null,
       "grid_template_rows": null,
       "height": null,
       "justify_content": null,
       "justify_items": null,
       "left": null,
       "margin": null,
       "max_height": null,
       "max_width": null,
       "min_height": null,
       "min_width": null,
       "object_fit": null,
       "object_position": null,
       "order": null,
       "overflow": null,
       "overflow_x": null,
       "overflow_y": null,
       "padding": null,
       "right": null,
       "top": null,
       "visibility": null,
       "width": null
      }
     },
     "4d936e5567d94706bcf6b4ef2236e146": {
      "model_module": "@jupyter-widgets/controls",
      "model_module_version": "1.5.0",
      "model_name": "HTMLModel",
      "state": {
       "_dom_classes": [],
       "_model_module": "@jupyter-widgets/controls",
       "_model_module_version": "1.5.0",
       "_model_name": "HTMLModel",
       "_view_count": null,
       "_view_module": "@jupyter-widgets/controls",
       "_view_module_version": "1.5.0",
       "_view_name": "HTMLView",
       "description": "",
       "description_tooltip": null,
       "layout": "IPY_MODEL_cb6ac35c597a4aaaa22afa7869915e6c",
       "placeholder": "​",
       "style": "IPY_MODEL_d449ab3082d846d9bfe6f759ce4b6961",
       "value": "100%"
      }
     },
     "9cbbe48af9c74d1fa2a1dcfd7fedf44c": {
      "model_module": "@jupyter-widgets/controls",
      "model_module_version": "1.5.0",
      "model_name": "HBoxModel",
      "state": {
       "_dom_classes": [],
       "_model_module": "@jupyter-widgets/controls",
       "_model_module_version": "1.5.0",
       "_model_name": "HBoxModel",
       "_view_count": null,
       "_view_module": "@jupyter-widgets/controls",
       "_view_module_version": "1.5.0",
       "_view_name": "HBoxView",
       "box_style": "",
       "children": [
        "IPY_MODEL_4d936e5567d94706bcf6b4ef2236e146",
        "IPY_MODEL_b819c89091db48baa8d383ab5691e161",
        "IPY_MODEL_d88b1744e4b248d4862767ee803c7a82"
       ],
       "layout": "IPY_MODEL_46a5be577b9e40eeab875a637fb2c738"
      }
     },
     "9eb4ae5d3a0e4d26a146082921db36ad": {
      "model_module": "@jupyter-widgets/base",
      "model_module_version": "1.2.0",
      "model_name": "LayoutModel",
      "state": {
       "_model_module": "@jupyter-widgets/base",
       "_model_module_version": "1.2.0",
       "_model_name": "LayoutModel",
       "_view_count": null,
       "_view_module": "@jupyter-widgets/base",
       "_view_module_version": "1.2.0",
       "_view_name": "LayoutView",
       "align_content": null,
       "align_items": null,
       "align_self": null,
       "border": null,
       "bottom": null,
       "display": null,
       "flex": null,
       "flex_flow": null,
       "grid_area": null,
       "grid_auto_columns": null,
       "grid_auto_flow": null,
       "grid_auto_rows": null,
       "grid_column": null,
       "grid_gap": null,
       "grid_row": null,
       "grid_template_areas": null,
       "grid_template_columns": null,
       "grid_template_rows": null,
       "height": null,
       "justify_content": null,
       "justify_items": null,
       "left": null,
       "margin": null,
       "max_height": null,
       "max_width": null,
       "min_height": null,
       "min_width": null,
       "object_fit": null,
       "object_position": null,
       "order": null,
       "overflow": null,
       "overflow_x": null,
       "overflow_y": null,
       "padding": null,
       "right": null,
       "top": null,
       "visibility": null,
       "width": null
      }
     },
     "a961553d4e66474b986f6d9279bc6cfe": {
      "model_module": "@jupyter-widgets/controls",
      "model_module_version": "1.5.0",
      "model_name": "ProgressStyleModel",
      "state": {
       "_model_module": "@jupyter-widgets/controls",
       "_model_module_version": "1.5.0",
       "_model_name": "ProgressStyleModel",
       "_view_count": null,
       "_view_module": "@jupyter-widgets/base",
       "_view_module_version": "1.2.0",
       "_view_name": "StyleView",
       "bar_color": null,
       "description_width": ""
      }
     },
     "b819c89091db48baa8d383ab5691e161": {
      "model_module": "@jupyter-widgets/controls",
      "model_module_version": "1.5.0",
      "model_name": "FloatProgressModel",
      "state": {
       "_dom_classes": [],
       "_model_module": "@jupyter-widgets/controls",
       "_model_module_version": "1.5.0",
       "_model_name": "FloatProgressModel",
       "_view_count": null,
       "_view_module": "@jupyter-widgets/controls",
       "_view_module_version": "1.5.0",
       "_view_name": "ProgressView",
       "bar_style": "success",
       "description": "",
       "description_tooltip": null,
       "layout": "IPY_MODEL_cf845fb3afc3455384caed6df36f6f45",
       "max": 4,
       "min": 0,
       "orientation": "horizontal",
       "style": "IPY_MODEL_a961553d4e66474b986f6d9279bc6cfe",
       "value": 4
      }
     },
     "cb6ac35c597a4aaaa22afa7869915e6c": {
      "model_module": "@jupyter-widgets/base",
      "model_module_version": "1.2.0",
      "model_name": "LayoutModel",
      "state": {
       "_model_module": "@jupyter-widgets/base",
       "_model_module_version": "1.2.0",
       "_model_name": "LayoutModel",
       "_view_count": null,
       "_view_module": "@jupyter-widgets/base",
       "_view_module_version": "1.2.0",
       "_view_name": "LayoutView",
       "align_content": null,
       "align_items": null,
       "align_self": null,
       "border": null,
       "bottom": null,
       "display": null,
       "flex": null,
       "flex_flow": null,
       "grid_area": null,
       "grid_auto_columns": null,
       "grid_auto_flow": null,
       "grid_auto_rows": null,
       "grid_column": null,
       "grid_gap": null,
       "grid_row": null,
       "grid_template_areas": null,
       "grid_template_columns": null,
       "grid_template_rows": null,
       "height": null,
       "justify_content": null,
       "justify_items": null,
       "left": null,
       "margin": null,
       "max_height": null,
       "max_width": null,
       "min_height": null,
       "min_width": null,
       "object_fit": null,
       "object_position": null,
       "order": null,
       "overflow": null,
       "overflow_x": null,
       "overflow_y": null,
       "padding": null,
       "right": null,
       "top": null,
       "visibility": null,
       "width": null
      }
     },
     "cf845fb3afc3455384caed6df36f6f45": {
      "model_module": "@jupyter-widgets/base",
      "model_module_version": "1.2.0",
      "model_name": "LayoutModel",
      "state": {
       "_model_module": "@jupyter-widgets/base",
       "_model_module_version": "1.2.0",
       "_model_name": "LayoutModel",
       "_view_count": null,
       "_view_module": "@jupyter-widgets/base",
       "_view_module_version": "1.2.0",
       "_view_name": "LayoutView",
       "align_content": null,
       "align_items": null,
       "align_self": null,
       "border": null,
       "bottom": null,
       "display": null,
       "flex": null,
       "flex_flow": null,
       "grid_area": null,
       "grid_auto_columns": null,
       "grid_auto_flow": null,
       "grid_auto_rows": null,
       "grid_column": null,
       "grid_gap": null,
       "grid_row": null,
       "grid_template_areas": null,
       "grid_template_columns": null,
       "grid_template_rows": null,
       "height": null,
       "justify_content": null,
       "justify_items": null,
       "left": null,
       "margin": null,
       "max_height": null,
       "max_width": null,
       "min_height": null,
       "min_width": null,
       "object_fit": null,
       "object_position": null,
       "order": null,
       "overflow": null,
       "overflow_x": null,
       "overflow_y": null,
       "padding": null,
       "right": null,
       "top": null,
       "visibility": null,
       "width": null
      }
     },
     "d449ab3082d846d9bfe6f759ce4b6961": {
      "model_module": "@jupyter-widgets/controls",
      "model_module_version": "1.5.0",
      "model_name": "DescriptionStyleModel",
      "state": {
       "_model_module": "@jupyter-widgets/controls",
       "_model_module_version": "1.5.0",
       "_model_name": "DescriptionStyleModel",
       "_view_count": null,
       "_view_module": "@jupyter-widgets/base",
       "_view_module_version": "1.2.0",
       "_view_name": "StyleView",
       "description_width": ""
      }
     },
     "d88b1744e4b248d4862767ee803c7a82": {
      "model_module": "@jupyter-widgets/controls",
      "model_module_version": "1.5.0",
      "model_name": "HTMLModel",
      "state": {
       "_dom_classes": [],
       "_model_module": "@jupyter-widgets/controls",
       "_model_module_version": "1.5.0",
       "_model_name": "HTMLModel",
       "_view_count": null,
       "_view_module": "@jupyter-widgets/controls",
       "_view_module_version": "1.5.0",
       "_view_name": "HTMLView",
       "description": "",
       "description_tooltip": null,
       "layout": "IPY_MODEL_9eb4ae5d3a0e4d26a146082921db36ad",
       "placeholder": "​",
       "style": "IPY_MODEL_2a4bb820c60e40c1ad0f64107d79c7f1",
       "value": " 4/4 [00:00&lt;00:00,  5.44it/s]"
      }
     }
    },
    "version_major": 2,
    "version_minor": 0
   }
  }
 },
 "nbformat": 4,
 "nbformat_minor": 5
}
