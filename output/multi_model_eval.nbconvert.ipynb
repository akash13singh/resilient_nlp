{
 "cells": [
  {
   "cell_type": "code",
   "execution_count": 1,
   "id": "67daa863",
   "metadata": {
    "execution": {
     "iopub.execute_input": "2022-03-31T17:37:11.549957Z",
     "iopub.status.busy": "2022-03-31T17:37:11.549161Z",
     "iopub.status.idle": "2022-03-31T17:38:55.687241Z",
     "shell.execute_reply": "2022-03-31T17:38:55.687845Z"
    }
   },
   "outputs": [],
   "source": [
    "import sys\n",
    "sys.path.append(\"..\")\n",
    "\n",
    "import copy\n",
    "import cProfile\n",
    "from datasets import load_dataset\n",
    "import math\n",
    "import nltk\n",
    "import pandas as pd\n",
    "import random\n",
    "from sklearn.metrics import classification_report, accuracy_score, f1_score\n",
    "import torch\n",
    "from tqdm import tqdm\n",
    "from transformers import AutoTokenizer, DataCollatorWithPadding, \\\n",
    "                         AutoModelForSequenceClassification, BertForSequenceClassification\n",
    "\n",
    "from resilient_nlp.mini_roben import Clustering, ClusterRepRecoverer, ClusterRecovererWithPassthrough\n",
    "from resilient_nlp.models import BertClassifier\n",
    "from resilient_nlp.perturbers import ToyPerturber, WordScramblerPerturber\n",
    "from runner import ExperimentRunner\n",
    "from word_score_attack import BertWordScoreAttack\n",
    "\n",
    "device = torch.device(\"cuda\") if torch.cuda.is_available() else torch.device(\"cpu\")"
   ]
  },
  {
   "cell_type": "code",
   "execution_count": 2,
   "id": "7ae7a7c7",
   "metadata": {
    "execution": {
     "iopub.execute_input": "2022-03-31T17:38:55.696962Z",
     "iopub.status.busy": "2022-03-31T17:38:55.696275Z",
     "iopub.status.idle": "2022-03-31T17:38:57.375270Z",
     "shell.execute_reply": "2022-03-31T17:38:57.375885Z"
    },
    "scrolled": true
   },
   "outputs": [
    {
     "name": "stderr",
     "output_type": "stream",
     "text": [
      "Using custom data configuration artemis13fowl--imdb-f63738dec0d5e230\n",
      "Reusing dataset parquet (/home/scpdxcs/.cache/huggingface/datasets/parquet/artemis13fowl--imdb-f63738dec0d5e230/0.0.0/0b6d5799bb726b24ad7fc7be720c170d8e497f575d02d47537de9a5bac074901)\n"
     ]
    },
    {
     "data": {
      "application/vnd.jupyter.widget-view+json": {
       "model_id": "9cbbe48af9c74d1fa2a1dcfd7fedf44c",
       "version_major": 2,
       "version_minor": 0
      },
      "text/plain": [
       "  0%|          | 0/4 [00:00<?, ?it/s]"
      ]
     },
     "metadata": {},
     "output_type": "display_data"
    }
   ],
   "source": [
    "# imdb = load_dataset('imdb')\n",
    "imdb = load_dataset('artemis13fowl/imdb')"
   ]
  },
  {
   "cell_type": "code",
   "execution_count": 3,
   "id": "9bc64b56",
   "metadata": {
    "execution": {
     "iopub.execute_input": "2022-03-31T17:38:57.393928Z",
     "iopub.status.busy": "2022-03-31T17:38:57.393247Z",
     "iopub.status.idle": "2022-03-31T17:38:57.432347Z",
     "shell.execute_reply": "2022-03-31T17:38:57.432870Z"
    }
   },
   "outputs": [],
   "source": [
    "random.seed(11)\n",
    "sampled_test_set = imdb['attack_eval_truncated']\n",
    "\n",
    "# This is silly but apparently huggingface datasets are immutable?\n",
    "# Representing it as something a bit more sane\n",
    "sampled_test_set_dict = [\n",
    "    {\n",
    "        'text': row['text'],\n",
    "        'label': row['label'],\n",
    "    }\n",
    "    for row in sampled_test_set\n",
    "]"
   ]
  },
  {
   "cell_type": "code",
   "execution_count": 4,
   "id": "17700b9e",
   "metadata": {
    "execution": {
     "iopub.execute_input": "2022-03-31T17:38:57.438989Z",
     "iopub.status.busy": "2022-03-31T17:38:57.436437Z",
     "iopub.status.idle": "2022-03-31T17:38:58.316850Z",
     "shell.execute_reply": "2022-03-31T17:38:58.316245Z"
    }
   },
   "outputs": [],
   "source": [
    "checkpoint = \"bert-base-uncased\"\n",
    "tokenizer = AutoTokenizer.from_pretrained(checkpoint)"
   ]
  },
  {
   "cell_type": "code",
   "execution_count": 5,
   "id": "a09ce62d",
   "metadata": {
    "execution": {
     "iopub.execute_input": "2022-03-31T17:38:58.323968Z",
     "iopub.status.busy": "2022-03-31T17:38:58.321059Z",
     "iopub.status.idle": "2022-03-31T17:41:02.742864Z",
     "shell.execute_reply": "2022-03-31T17:41:02.743367Z"
    }
   },
   "outputs": [],
   "source": [
    "checkpoint_finetuned = \"artemis13fowl/bert-base-uncased-imdb\"\n",
    "model_finetuned = BertForSequenceClassification.from_pretrained(checkpoint_finetuned).to(device)"
   ]
  },
  {
   "cell_type": "code",
   "execution_count": 6,
   "id": "8b3c3fb8",
   "metadata": {
    "execution": {
     "iopub.execute_input": "2022-03-31T17:41:02.748232Z",
     "iopub.status.busy": "2022-03-31T17:41:02.747612Z",
     "iopub.status.idle": "2022-03-31T17:43:45.925467Z",
     "shell.execute_reply": "2022-03-31T17:43:45.924906Z"
    }
   },
   "outputs": [],
   "source": [
    "roben_clustering = Clustering.from_pickle(\"../vocab100000_ed1.pkl\")\n",
    "roben_recoverer = ClusterRecovererWithPassthrough(\"cache\", roben_clustering)\n",
    "roben_clustering2 = Clustering.from_pickle(\"../vocab100000_ed1_gamma0.3.pkl\")\n",
    "roben_recoverer2 = ClusterRecovererWithPassthrough(\"cache\", roben_clustering2)"
   ]
  },
  {
   "cell_type": "code",
   "execution_count": 7,
   "id": "effea54c",
   "metadata": {
    "execution": {
     "iopub.execute_input": "2022-03-31T17:43:45.966757Z",
     "iopub.status.busy": "2022-03-31T17:43:45.949658Z",
     "iopub.status.idle": "2022-03-31T17:43:47.478148Z",
     "shell.execute_reply": "2022-03-31T17:43:47.478672Z"
    }
   },
   "outputs": [],
   "source": [
    "random.seed(11)\n",
    "sampled_test_set_adv_no_ws = []\n",
    "wsp = WordScramblerPerturber(perturb_prob=0.1, weight_add=1, weight_drop=1, weight_swap=1,\n",
    "                             weight_split_word=0, weight_merge_words=0)\n",
    "\n",
    "for i in range(10):\n",
    "    test_item = copy.deepcopy(sampled_test_set_dict)\n",
    "\n",
    "    for row in test_item:\n",
    "        row['text'] = wsp.perturb([row['text']])[0][0]\n",
    "    sampled_test_set_adv_no_ws.append(test_item)"
   ]
  },
  {
   "cell_type": "code",
   "execution_count": 8,
   "id": "651ef05f",
   "metadata": {
    "execution": {
     "iopub.execute_input": "2022-03-31T17:43:47.506859Z",
     "iopub.status.busy": "2022-03-31T17:43:47.496467Z",
     "iopub.status.idle": "2022-03-31T17:43:49.080180Z",
     "shell.execute_reply": "2022-03-31T17:43:49.080686Z"
    }
   },
   "outputs": [],
   "source": [
    "random.seed(11)\n",
    "sampled_test_set_adv_incl_ws = []\n",
    "wsp = WordScramblerPerturber(perturb_prob=0.1, weight_add=1, weight_drop=1, weight_swap=1,\n",
    "                             weight_split_word=1, weight_merge_words=1)\n",
    "\n",
    "for i in range(10):\n",
    "    test_item = copy.deepcopy(sampled_test_set_dict)\n",
    "\n",
    "    for row in test_item:\n",
    "        row['text'] = wsp.perturb([row['text']])[0][0]\n",
    "    sampled_test_set_adv_incl_ws.append(test_item)"
   ]
  },
  {
   "cell_type": "code",
   "execution_count": 9,
   "id": "a2efe10f",
   "metadata": {
    "execution": {
     "iopub.execute_input": "2022-03-31T17:43:49.085047Z",
     "iopub.status.busy": "2022-03-31T17:43:49.084381Z",
     "iopub.status.idle": "2022-03-31T17:43:49.087081Z",
     "shell.execute_reply": "2022-03-31T17:43:49.086570Z"
    }
   },
   "outputs": [],
   "source": [
    "max_sequence_length = 128\n",
    "batch_size = 32\n",
    "eval_steps = 100"
   ]
  },
  {
   "cell_type": "code",
   "execution_count": 10,
   "id": "7b958a5c",
   "metadata": {
    "execution": {
     "iopub.execute_input": "2022-03-31T17:43:49.094914Z",
     "iopub.status.busy": "2022-03-31T17:43:49.094323Z",
     "iopub.status.idle": "2022-03-31T17:43:49.096390Z",
     "shell.execute_reply": "2022-03-31T17:43:49.096869Z"
    }
   },
   "outputs": [],
   "source": [
    "def standard_model_predict(tokenizer, model, sentences, recoverer, return_pred_tensor, recoverer_tokenize):\n",
    "    if recoverer is not None:\n",
    "        if recoverer_tokenize:\n",
    "            tok = nltk.tokenize.treebank.TreebankWordTokenizer()\n",
    "            sentences = [ \" \".join(tok_list) for tok_list in tok.tokenize_sents(sentences) ]\n",
    "        sentences = [ recoverer.recover(s.lower()) for s in sentences ]\n",
    "        if recoverer_tokenize:\n",
    "            detok = nltk.tokenize.treebank.TreebankWordDetokenizer()\n",
    "            sentences = [ detok.detokenize(s.split(\" \")) for s in sentences]\n",
    "    tokenized = tokenizer(sentences, truncation=True, padding='max_length', max_length=max_sequence_length,\n",
    "                          return_tensors='pt')\n",
    "    tokenized = { k: v.to(device) for k, v in tokenized.items() }\n",
    "    preds = model(**tokenized)\n",
    "    if return_pred_tensor:\n",
    "        return preds\n",
    "    else:\n",
    "        return torch.argmax(preds.logits, dim=1)\n",
    "\n",
    "def wrap_standard_model(tokenizer, model, recoverer=None, return_pred_tensor=True, recoverer_tokenize=False):\n",
    "    return lambda sentences: standard_model_predict(tokenizer, model, sentences, recoverer, return_pred_tensor,\n",
    "                                                    recoverer_tokenize)"
   ]
  },
  {
   "cell_type": "code",
   "execution_count": 11,
   "id": "0ba7bb36",
   "metadata": {
    "execution": {
     "iopub.execute_input": "2022-03-31T17:43:49.104843Z",
     "iopub.status.busy": "2022-03-31T17:43:49.104249Z",
     "iopub.status.idle": "2022-03-31T17:43:49.106973Z",
     "shell.execute_reply": "2022-03-31T17:43:49.107449Z"
    }
   },
   "outputs": [],
   "source": [
    "def mltokenizer_model_predict(runner, model, cls_embedding, sep_embedding, pad_embedding, sentences, return_pred_tensor):\n",
    "    # Truncate and lower case. Truncation is for performance only\n",
    "    sentences = [ s.lower()[:5*max_sequence_length] for s in sentences]\n",
    "    embedding = runner.embed(sentences=sentences,\n",
    "        start_token=cls_embedding, end_token=sep_embedding, pad_token=pad_embedding,\n",
    "        max_tokens=max_sequence_length)\n",
    "    preds = model(inputs_embeds=embedding['inputs_embeds'], attention_mask=embedding['attention_mask'])\n",
    "    if return_pred_tensor:\n",
    "        return preds\n",
    "    else:\n",
    "        return torch.argmax(preds.logits, dim=1)\n",
    "\n",
    "def wrap_mltokenizer_model(mltokenizer_prefix, tokenizer, model, return_pred_tensor=True):\n",
    "    filename = \"../{}.pth\".format(mltokenizer_prefix)\n",
    "    runner = ExperimentRunner(device, model_filename=filename)\n",
    "    cf_embedding = model.base_model.embeddings.word_embeddings\n",
    "    cls_token_id = tokenizer.vocab['[CLS]']\n",
    "    sep_token_id = tokenizer.vocab['[SEP]']\n",
    "    pad_token_id = tokenizer.vocab['[PAD]']\n",
    "    cls_embedding = cf_embedding(torch.tensor([cls_token_id], device=device)).view(-1)\n",
    "    sep_embedding = cf_embedding(torch.tensor([sep_token_id], device=device)).view(-1)\n",
    "    pad_embedding = cf_embedding(torch.tensor([pad_token_id], device=device)).view(-1)\n",
    "    \n",
    "    return lambda sentences: mltokenizer_model_predict(runner, model, cls_embedding, sep_embedding,\n",
    "                                                      pad_embedding, sentences, return_pred_tensor)"
   ]
  },
  {
   "cell_type": "code",
   "execution_count": 12,
   "id": "2033ec30",
   "metadata": {
    "execution": {
     "iopub.execute_input": "2022-03-31T17:43:49.113921Z",
     "iopub.status.busy": "2022-03-31T17:43:49.113314Z",
     "iopub.status.idle": "2022-03-31T17:43:49.115410Z",
     "shell.execute_reply": "2022-03-31T17:43:49.115943Z"
    }
   },
   "outputs": [],
   "source": [
    "@torch.no_grad()\n",
    "def evaluate_model(model, test_set):\n",
    "    num_batches = math.ceil(len(test_set) / batch_size)\n",
    "    \n",
    "    sentences = [ x['text'] for x in test_set ]\n",
    "    labels = [ x['label'] for x in test_set ]\n",
    "    pred_batches = []\n",
    "    \n",
    "    for i in tqdm(range(num_batches)):\n",
    "        bs = i * batch_size\n",
    "        be = bs + batch_size\n",
    "        \n",
    "        output = model(sentences[bs:be])\n",
    "        \n",
    "        pred_batches.append(torch.argmax(output.logits, dim=1).detach().cpu())\n",
    "    preds = torch.cat(pred_batches)\n",
    "    \n",
    "    print(classification_report(labels, preds, digits=4))\n",
    "    \n",
    "    accuracy = accuracy_score(labels, preds)\n",
    "    f1 = f1_score(labels, preds, average='macro')\n",
    "    \n",
    "    return accuracy, f1"
   ]
  },
  {
   "cell_type": "code",
   "execution_count": 13,
   "id": "33c8259a",
   "metadata": {
    "execution": {
     "iopub.execute_input": "2022-03-31T17:43:49.124562Z",
     "iopub.status.busy": "2022-03-31T17:43:49.123971Z",
     "iopub.status.idle": "2022-03-31T17:43:49.125916Z",
     "shell.execute_reply": "2022-03-31T17:43:49.126467Z"
    }
   },
   "outputs": [],
   "source": [
    "@torch.no_grad()\n",
    "def evaluate_model_adv(model, test_sets):\n",
    "    labels = [ x['label'] for x in test_sets[0] ]\n",
    "    adv_preds = copy.copy(labels)\n",
    "    accuracy_list = []\n",
    "    f1_list = []\n",
    "    \n",
    "    for idx in tqdm(range(len(test_sets))):\n",
    "        test_set = test_sets[idx]\n",
    "        num_batches = math.ceil(len(test_set) / batch_size)\n",
    "    \n",
    "        sentences = [ x['text'] for x in test_set ]\n",
    "        pred_batches = []\n",
    "    \n",
    "        for i in range(num_batches):\n",
    "            bs = i * batch_size\n",
    "            be = bs + batch_size\n",
    "        \n",
    "            output = model(sentences[bs:be])\n",
    "        \n",
    "            pred_batches.append(torch.argmax(output.logits, dim=1).detach().cpu())\n",
    "        preds = torch.cat(pred_batches)\n",
    "        \n",
    "        for i in range(len(adv_preds)):\n",
    "            if labels[i] == 1.0 and preds[i] == 0.0:\n",
    "                adv_preds[i] = 0.0\n",
    "            elif labels[i] == 0.0 and preds[i] == 1.0:\n",
    "                adv_preds[i] = 1.0\n",
    "\n",
    "        accuracy_list.append(accuracy_score(labels, adv_preds))\n",
    "        f1_list.append(f1_score(labels, adv_preds, average='macro'))\n",
    "    \n",
    "    print(classification_report(labels, adv_preds, digits=4))    \n",
    "    \n",
    "    return accuracy_list, f1_list"
   ]
  },
  {
   "cell_type": "code",
   "execution_count": 14,
   "id": "26be9ad5",
   "metadata": {
    "execution": {
     "iopub.execute_input": "2022-03-31T17:43:49.132768Z",
     "iopub.status.busy": "2022-03-31T17:43:49.132187Z",
     "iopub.status.idle": "2022-03-31T17:43:49.134404Z",
     "shell.execute_reply": "2022-03-31T17:43:49.134865Z"
    }
   },
   "outputs": [],
   "source": [
    "@torch.no_grad()\n",
    "def evaluate_model_word_score(model, test_set, allow_whitespace_pert=True):\n",
    "    attacker = BertWordScoreAttack(\n",
    "        WordScramblerPerturber(perturb_prob=1, weight_add=1, weight_drop=1, weight_swap=1,\n",
    "                               weight_split_word=int(allow_whitespace_pert),\n",
    "                               weight_merge_words=int(allow_whitespace_pert)),\n",
    "        \"../output/imdb_word_scores.json\", model, tokenizer=None, max_sequence_length=max_sequence_length\n",
    "    )\n",
    "\n",
    "    res = attacker.attack(test_set, max_tokens_to_query=10, max_tries_per_token=2, mode=0, print_summary=False)\n",
    "    \n",
    "    print(classification_report(res['ground_truth'], res['perturbed_preds'], digits=4))    \n",
    "    \n",
    "    accuracy = accuracy_score(res['ground_truth'], res['perturbed_preds'])\n",
    "    f1 = f1_score(res['ground_truth'], res['perturbed_preds'], average='macro')\n",
    "    \n",
    "    return accuracy, f1"
   ]
  },
  {
   "cell_type": "code",
   "execution_count": 15,
   "id": "b537d1f4",
   "metadata": {
    "execution": {
     "iopub.execute_input": "2022-03-31T17:43:49.138742Z",
     "iopub.status.busy": "2022-03-31T17:43:49.138146Z",
     "iopub.status.idle": "2022-03-31T17:43:49.140195Z",
     "shell.execute_reply": "2022-03-31T17:43:49.140721Z"
    }
   },
   "outputs": [],
   "source": [
    "baseline_model = wrap_standard_model(tokenizer, model_finetuned)"
   ]
  },
  {
   "cell_type": "code",
   "execution_count": 16,
   "id": "f5364f3b",
   "metadata": {
    "execution": {
     "iopub.execute_input": "2022-03-31T17:43:49.144759Z",
     "iopub.status.busy": "2022-03-31T17:43:49.144174Z",
     "iopub.status.idle": "2022-03-31T17:44:32.682348Z",
     "shell.execute_reply": "2022-03-31T17:44:32.681783Z"
    }
   },
   "outputs": [],
   "source": [
    "mltok_model = wrap_mltokenizer_model('output/64k_lstm_all_pert_finetuned', tokenizer, model_finetuned)"
   ]
  },
  {
   "cell_type": "code",
   "execution_count": 17,
   "id": "6e49764a",
   "metadata": {
    "execution": {
     "iopub.execute_input": "2022-03-31T17:44:32.686965Z",
     "iopub.status.busy": "2022-03-31T17:44:32.686364Z",
     "iopub.status.idle": "2022-03-31T17:44:32.689061Z",
     "shell.execute_reply": "2022-03-31T17:44:32.688460Z"
    }
   },
   "outputs": [],
   "source": [
    "baseline_roben_model = wrap_standard_model(tokenizer, model_finetuned, roben_recoverer)"
   ]
  },
  {
   "cell_type": "code",
   "execution_count": 18,
   "id": "0b09dca9",
   "metadata": {
    "execution": {
     "iopub.execute_input": "2022-03-31T17:44:32.692992Z",
     "iopub.status.busy": "2022-03-31T17:44:32.692397Z",
     "iopub.status.idle": "2022-03-31T17:44:32.694640Z",
     "shell.execute_reply": "2022-03-31T17:44:32.695147Z"
    }
   },
   "outputs": [],
   "source": [
    "baseline_roben_model_tok = wrap_standard_model(tokenizer, model_finetuned, roben_recoverer, recoverer_tokenize=True)"
   ]
  },
  {
   "cell_type": "code",
   "execution_count": 19,
   "id": "0eb23d8c",
   "metadata": {
    "execution": {
     "iopub.execute_input": "2022-03-31T17:44:32.699204Z",
     "iopub.status.busy": "2022-03-31T17:44:32.698513Z",
     "iopub.status.idle": "2022-03-31T17:44:32.701081Z",
     "shell.execute_reply": "2022-03-31T17:44:32.700447Z"
    }
   },
   "outputs": [],
   "source": [
    "baseline_roben_model2 = wrap_standard_model(tokenizer, model_finetuned, roben_recoverer2)"
   ]
  },
  {
   "cell_type": "code",
   "execution_count": 20,
   "id": "159e33c5",
   "metadata": {
    "execution": {
     "iopub.execute_input": "2022-03-31T17:44:32.705072Z",
     "iopub.status.busy": "2022-03-31T17:44:32.704446Z",
     "iopub.status.idle": "2022-03-31T17:44:32.706554Z",
     "shell.execute_reply": "2022-03-31T17:44:32.707154Z"
    }
   },
   "outputs": [],
   "source": [
    "baseline_roben_model2_tok = wrap_standard_model(tokenizer, model_finetuned, roben_recoverer2, recoverer_tokenize=True)"
   ]
  },
  {
   "cell_type": "code",
   "execution_count": 21,
   "id": "3b6fcd6e",
   "metadata": {
    "execution": {
     "iopub.execute_input": "2022-03-31T17:44:32.712568Z",
     "iopub.status.busy": "2022-03-31T17:44:32.711928Z",
     "iopub.status.idle": "2022-03-31T17:45:57.105422Z",
     "shell.execute_reply": "2022-03-31T17:45:57.104806Z"
    }
   },
   "outputs": [],
   "source": [
    "all_models = {\n",
    "    'baseline': baseline_model,\n",
    "    'roben_1': baseline_roben_model,\n",
    "    'roben_2': baseline_roben_model2,\n",
    "    'roben_1_tok': baseline_roben_model,\n",
    "    'roben_2_tok': baseline_roben_model2_tok,\n",
    "}\n",
    "\n",
    "mltok_model_names = [\n",
    "    '64k_lstm_clean_vanilla',\n",
    "    '64k_lstm_no_whitespace_pert_vanilla',\n",
    "    '64k_lstm_all_pert_vanilla',\n",
    "    '64k_lstm_clean_finetuned',\n",
    "    '64k_lstm_no_whitespace_pert_finetuned',\n",
    "    '64k_lstm_all_pert_finetuned',\n",
    "    '64k_cnn_no_whitespace_pert_finetuned',\n",
    "]\n",
    "\n",
    "for name in mltok_model_names:\n",
    "    all_models[name] = wrap_mltokenizer_model(f'output/{name}', tokenizer, model_finetuned)"
   ]
  },
  {
   "cell_type": "code",
   "execution_count": 22,
   "id": "e61f9273",
   "metadata": {
    "execution": {
     "iopub.execute_input": "2022-03-31T17:45:57.109658Z",
     "iopub.status.busy": "2022-03-31T17:45:57.109097Z",
     "iopub.status.idle": "2022-03-31T17:45:57.111181Z",
     "shell.execute_reply": "2022-03-31T17:45:57.111650Z"
    }
   },
   "outputs": [],
   "source": [
    "evaluations = [\n",
    "    'clean',\n",
    "    'stochastic_no_ws',\n",
    "    'stochastic_incl_ws',\n",
    "    'word_score_no_ws',\n",
    "    'word_score_incl_ws',\n",
    "]"
   ]
  },
  {
   "cell_type": "code",
   "execution_count": 23,
   "id": "602a9ff8",
   "metadata": {
    "execution": {
     "iopub.execute_input": "2022-03-31T17:45:57.146612Z",
     "iopub.status.busy": "2022-03-31T17:45:57.142921Z",
     "iopub.status.idle": "2022-04-01T06:14:51.176862Z",
     "shell.execute_reply": "2022-04-01T06:14:51.177399Z"
    }
   },
   "outputs": [
    {
     "name": "stdout",
     "output_type": "stream",
     "text": [
      "Evaluating model baseline on clean\n"
     ]
    },
    {
     "name": "stderr",
     "output_type": "stream",
     "text": [
      "100%|████████████████████████████████████████████████████████████████████████████████████████████████████████████████████████████████████████████████████████████████████████████████████████████████████████| 16/16 [00:07<00:00,  2.04it/s]\n"
     ]
    },
    {
     "name": "stdout",
     "output_type": "stream",
     "text": [
      "              precision    recall  f1-score   support\n",
      "\n",
      "           0     0.8765    0.8765    0.8765       243\n",
      "           1     0.8833    0.8833    0.8833       257\n",
      "\n",
      "    accuracy                         0.8800       500\n",
      "   macro avg     0.8799    0.8799    0.8799       500\n",
      "weighted avg     0.8800    0.8800    0.8800       500\n",
      "\n",
      "Evaluating model baseline on stochastic_no_ws\n"
     ]
    },
    {
     "name": "stderr",
     "output_type": "stream",
     "text": [
      "100%|████████████████████████████████████████████████████████████████████████████████████████████████████████████████████████████████████████████████████████████████████████████████████████████████████████| 10/10 [01:16<00:00,  7.67s/it]\n"
     ]
    },
    {
     "name": "stdout",
     "output_type": "stream",
     "text": [
      "              precision    recall  f1-score   support\n",
      "\n",
      "           0     0.6970    0.7572    0.7258       243\n",
      "           1     0.7500    0.6887    0.7181       257\n",
      "\n",
      "    accuracy                         0.7220       500\n",
      "   macro avg     0.7235    0.7230    0.7219       500\n",
      "weighted avg     0.7242    0.7220    0.7218       500\n",
      "\n",
      "Evaluating model baseline on stochastic_incl_ws\n"
     ]
    },
    {
     "name": "stderr",
     "output_type": "stream",
     "text": [
      "100%|████████████████████████████████████████████████████████████████████████████████████████████████████████████████████████████████████████████████████████████████████████████████████████████████████████| 10/10 [01:16<00:00,  7.68s/it]\n"
     ]
    },
    {
     "name": "stdout",
     "output_type": "stream",
     "text": [
      "              precision    recall  f1-score   support\n",
      "\n",
      "           0     0.6692    0.7160    0.6918       243\n",
      "           1     0.7125    0.6654    0.6881       257\n",
      "\n",
      "    accuracy                         0.6900       500\n",
      "   macro avg     0.6909    0.6907    0.6900       500\n",
      "weighted avg     0.6915    0.6900    0.6899       500\n",
      "\n",
      "Evaluating model baseline on word_score_no_ws\n"
     ]
    },
    {
     "name": "stderr",
     "output_type": "stream",
     "text": [
      "500it [03:39,  2.27it/s]\n"
     ]
    },
    {
     "name": "stdout",
     "output_type": "stream",
     "text": [
      "              precision    recall  f1-score   support\n",
      "\n",
      "           0     0.6182    0.6996    0.6564       243\n",
      "           1     0.6756    0.5914    0.6307       257\n",
      "\n",
      "    accuracy                         0.6440       500\n",
      "   macro avg     0.6469    0.6455    0.6435       500\n",
      "weighted avg     0.6477    0.6440    0.6432       500\n",
      "\n",
      "Evaluating model baseline on word_score_incl_ws\n"
     ]
    },
    {
     "name": "stderr",
     "output_type": "stream",
     "text": [
      "500it [03:46,  2.21it/s]\n"
     ]
    },
    {
     "name": "stdout",
     "output_type": "stream",
     "text": [
      "              precision    recall  f1-score   support\n",
      "\n",
      "           0     0.6322    0.6790    0.6548       243\n",
      "           1     0.6736    0.6265    0.6492       257\n",
      "\n",
      "    accuracy                         0.6520       500\n",
      "   macro avg     0.6529    0.6527    0.6520       500\n",
      "weighted avg     0.6535    0.6520    0.6519       500\n",
      "\n",
      "Evaluating model roben_1 on clean\n"
     ]
    },
    {
     "name": "stderr",
     "output_type": "stream",
     "text": [
      "100%|████████████████████████████████████████████████████████████████████████████████████████████████████████████████████████████████████████████████████████████████████████████████████████████████████████| 16/16 [00:08<00:00,  1.95it/s]\n"
     ]
    },
    {
     "name": "stdout",
     "output_type": "stream",
     "text": [
      "              precision    recall  f1-score   support\n",
      "\n",
      "           0     0.8365    0.7160    0.7716       243\n",
      "           1     0.7637    0.8677    0.8124       257\n",
      "\n",
      "    accuracy                         0.7940       500\n",
      "   macro avg     0.8001    0.7919    0.7920       500\n",
      "weighted avg     0.7991    0.7940    0.7926       500\n",
      "\n",
      "Evaluating model roben_1 on stochastic_no_ws\n"
     ]
    },
    {
     "name": "stderr",
     "output_type": "stream",
     "text": [
      "100%|████████████████████████████████████████████████████████████████████████████████████████████████████████████████████████████████████████████████████████████████████████████████████████████████████████| 10/10 [01:22<00:00,  8.21s/it]\n"
     ]
    },
    {
     "name": "stdout",
     "output_type": "stream",
     "text": [
      "              precision    recall  f1-score   support\n",
      "\n",
      "           0     0.7048    0.6091    0.6534       243\n",
      "           1     0.6724    0.7588    0.7130       257\n",
      "\n",
      "    accuracy                         0.6860       500\n",
      "   macro avg     0.6886    0.6839    0.6832       500\n",
      "weighted avg     0.6881    0.6860    0.6840       500\n",
      "\n",
      "Evaluating model roben_1 on stochastic_incl_ws\n"
     ]
    },
    {
     "name": "stderr",
     "output_type": "stream",
     "text": [
      "100%|████████████████████████████████████████████████████████████████████████████████████████████████████████████████████████████████████████████████████████████████████████████████████████████████████████| 10/10 [01:21<00:00,  8.19s/it]\n"
     ]
    },
    {
     "name": "stdout",
     "output_type": "stream",
     "text": [
      "              precision    recall  f1-score   support\n",
      "\n",
      "           0     0.5674    0.5021    0.5328       243\n",
      "           1     0.5754    0.6381    0.6052       257\n",
      "\n",
      "    accuracy                         0.5720       500\n",
      "   macro avg     0.5714    0.5701    0.5690       500\n",
      "weighted avg     0.5716    0.5720    0.5700       500\n",
      "\n",
      "Evaluating model roben_1 on word_score_no_ws\n"
     ]
    },
    {
     "name": "stderr",
     "output_type": "stream",
     "text": [
      "500it [03:39,  2.28it/s]\n"
     ]
    },
    {
     "name": "stdout",
     "output_type": "stream",
     "text": [
      "              precision    recall  f1-score   support\n",
      "\n",
      "           0     0.7196    0.5597    0.6296       243\n",
      "           1     0.6559    0.7938    0.7183       257\n",
      "\n",
      "    accuracy                         0.6800       500\n",
      "   macro avg     0.6878    0.6767    0.6740       500\n",
      "weighted avg     0.6869    0.6800    0.6752       500\n",
      "\n",
      "Evaluating model roben_1 on word_score_incl_ws\n"
     ]
    },
    {
     "name": "stderr",
     "output_type": "stream",
     "text": [
      "500it [03:31,  2.37it/s]\n"
     ]
    },
    {
     "name": "stdout",
     "output_type": "stream",
     "text": [
      "              precision    recall  f1-score   support\n",
      "\n",
      "           0     0.6413    0.4856    0.5527       243\n",
      "           1     0.6044    0.7432    0.6667       257\n",
      "\n",
      "    accuracy                         0.6180       500\n",
      "   macro avg     0.6229    0.6144    0.6097       500\n",
      "weighted avg     0.6224    0.6180    0.6113       500\n",
      "\n",
      "Evaluating model roben_2 on clean\n"
     ]
    },
    {
     "name": "stderr",
     "output_type": "stream",
     "text": [
      "100%|████████████████████████████████████████████████████████████████████████████████████████████████████████████████████████████████████████████████████████████████████████████████████████████████████████| 16/16 [00:08<00:00,  1.98it/s]\n"
     ]
    },
    {
     "name": "stdout",
     "output_type": "stream",
     "text": [
      "              precision    recall  f1-score   support\n",
      "\n",
      "           0     0.8423    0.7695    0.8043       243\n",
      "           1     0.7986    0.8638    0.8299       257\n",
      "\n",
      "    accuracy                         0.8180       500\n",
      "   macro avg     0.8205    0.8167    0.8171       500\n",
      "weighted avg     0.8198    0.8180    0.8175       500\n",
      "\n",
      "Evaluating model roben_2 on stochastic_no_ws\n"
     ]
    },
    {
     "name": "stderr",
     "output_type": "stream",
     "text": [
      "100%|████████████████████████████████████████████████████████████████████████████████████████████████████████████████████████████████████████████████████████████████████████████████████████████████████████| 10/10 [01:20<00:00,  8.09s/it]\n"
     ]
    },
    {
     "name": "stdout",
     "output_type": "stream",
     "text": [
      "              precision    recall  f1-score   support\n",
      "\n",
      "           0     0.7168    0.6667    0.6908       243\n",
      "           1     0.7044    0.7510    0.7269       257\n",
      "\n",
      "    accuracy                         0.7100       500\n",
      "   macro avg     0.7106    0.7088    0.7089       500\n",
      "weighted avg     0.7104    0.7100    0.7094       500\n",
      "\n",
      "Evaluating model roben_2 on stochastic_incl_ws\n"
     ]
    },
    {
     "name": "stderr",
     "output_type": "stream",
     "text": [
      "100%|████████████████████████████████████████████████████████████████████████████████████████████████████████████████████████████████████████████████████████████████████████████████████████████████████████| 10/10 [01:21<00:00,  8.10s/it]\n"
     ]
    },
    {
     "name": "stdout",
     "output_type": "stream",
     "text": [
      "              precision    recall  f1-score   support\n",
      "\n",
      "           0     0.5778    0.5350    0.5556       243\n",
      "           1     0.5891    0.6304    0.6090       257\n",
      "\n",
      "    accuracy                         0.5840       500\n",
      "   macro avg     0.5834    0.5827    0.5823       500\n",
      "weighted avg     0.5836    0.5840    0.5830       500\n",
      "\n",
      "Evaluating model roben_2 on word_score_no_ws\n"
     ]
    },
    {
     "name": "stderr",
     "output_type": "stream",
     "text": [
      "500it [03:50,  2.17it/s]\n"
     ]
    },
    {
     "name": "stdout",
     "output_type": "stream",
     "text": [
      "              precision    recall  f1-score   support\n",
      "\n",
      "           0     0.7536    0.6420    0.6933       243\n",
      "           1     0.7031    0.8016    0.7491       257\n",
      "\n",
      "    accuracy                         0.7240       500\n",
      "   macro avg     0.7283    0.7218    0.7212       500\n",
      "weighted avg     0.7276    0.7240    0.7220       500\n",
      "\n",
      "Evaluating model roben_2 on word_score_incl_ws\n"
     ]
    },
    {
     "name": "stderr",
     "output_type": "stream",
     "text": [
      "500it [03:40,  2.27it/s]\n"
     ]
    },
    {
     "name": "stdout",
     "output_type": "stream",
     "text": [
      "              precision    recall  f1-score   support\n",
      "\n",
      "           0     0.6774    0.6049    0.6391       243\n",
      "           1     0.6608    0.7276    0.6926       257\n",
      "\n",
      "    accuracy                         0.6680       500\n",
      "   macro avg     0.6691    0.6663    0.6659       500\n",
      "weighted avg     0.6689    0.6680    0.6666       500\n",
      "\n",
      "Evaluating model roben_1_tok on clean\n"
     ]
    },
    {
     "name": "stderr",
     "output_type": "stream",
     "text": [
      "100%|████████████████████████████████████████████████████████████████████████████████████████████████████████████████████████████████████████████████████████████████████████████████████████████████████████| 16/16 [00:07<00:00,  2.00it/s]\n"
     ]
    },
    {
     "name": "stdout",
     "output_type": "stream",
     "text": [
      "              precision    recall  f1-score   support\n",
      "\n",
      "           0     0.8365    0.7160    0.7716       243\n",
      "           1     0.7637    0.8677    0.8124       257\n",
      "\n",
      "    accuracy                         0.7940       500\n",
      "   macro avg     0.8001    0.7919    0.7920       500\n",
      "weighted avg     0.7991    0.7940    0.7926       500\n",
      "\n",
      "Evaluating model roben_1_tok on stochastic_no_ws\n"
     ]
    },
    {
     "name": "stderr",
     "output_type": "stream",
     "text": [
      "100%|████████████████████████████████████████████████████████████████████████████████████████████████████████████████████████████████████████████████████████████████████████████████████████████████████████| 10/10 [01:19<00:00,  7.99s/it]\n"
     ]
    },
    {
     "name": "stdout",
     "output_type": "stream",
     "text": [
      "              precision    recall  f1-score   support\n",
      "\n",
      "           0     0.7048    0.6091    0.6534       243\n",
      "           1     0.6724    0.7588    0.7130       257\n",
      "\n",
      "    accuracy                         0.6860       500\n",
      "   macro avg     0.6886    0.6839    0.6832       500\n",
      "weighted avg     0.6881    0.6860    0.6840       500\n",
      "\n",
      "Evaluating model roben_1_tok on stochastic_incl_ws\n"
     ]
    },
    {
     "name": "stderr",
     "output_type": "stream",
     "text": [
      "100%|████████████████████████████████████████████████████████████████████████████████████████████████████████████████████████████████████████████████████████████████████████████████████████████████████████| 10/10 [01:20<00:00,  8.00s/it]\n"
     ]
    },
    {
     "name": "stdout",
     "output_type": "stream",
     "text": [
      "              precision    recall  f1-score   support\n",
      "\n",
      "           0     0.5674    0.5021    0.5328       243\n",
      "           1     0.5754    0.6381    0.6052       257\n",
      "\n",
      "    accuracy                         0.5720       500\n",
      "   macro avg     0.5714    0.5701    0.5690       500\n",
      "weighted avg     0.5716    0.5720    0.5700       500\n",
      "\n",
      "Evaluating model roben_1_tok on word_score_no_ws\n"
     ]
    },
    {
     "name": "stderr",
     "output_type": "stream",
     "text": [
      "500it [03:39,  2.28it/s]\n"
     ]
    },
    {
     "name": "stdout",
     "output_type": "stream",
     "text": [
      "              precision    recall  f1-score   support\n",
      "\n",
      "           0     0.7196    0.5597    0.6296       243\n",
      "           1     0.6559    0.7938    0.7183       257\n",
      "\n",
      "    accuracy                         0.6800       500\n",
      "   macro avg     0.6878    0.6767    0.6740       500\n",
      "weighted avg     0.6869    0.6800    0.6752       500\n",
      "\n",
      "Evaluating model roben_1_tok on word_score_incl_ws\n"
     ]
    },
    {
     "name": "stderr",
     "output_type": "stream",
     "text": [
      "500it [03:29,  2.39it/s]\n"
     ]
    },
    {
     "name": "stdout",
     "output_type": "stream",
     "text": [
      "              precision    recall  f1-score   support\n",
      "\n",
      "           0     0.6413    0.4856    0.5527       243\n",
      "           1     0.6044    0.7432    0.6667       257\n",
      "\n",
      "    accuracy                         0.6180       500\n",
      "   macro avg     0.6229    0.6144    0.6097       500\n",
      "weighted avg     0.6224    0.6180    0.6113       500\n",
      "\n",
      "Evaluating model roben_2_tok on clean\n"
     ]
    },
    {
     "name": "stderr",
     "output_type": "stream",
     "text": [
      "100%|████████████████████████████████████████████████████████████████████████████████████████████████████████████████████████████████████████████████████████████████████████████████████████████████████████| 16/16 [00:08<00:00,  1.88it/s]\n"
     ]
    },
    {
     "name": "stdout",
     "output_type": "stream",
     "text": [
      "              precision    recall  f1-score   support\n",
      "\n",
      "           0     0.8238    0.7119    0.7638       243\n",
      "           1     0.7586    0.8560    0.8044       257\n",
      "\n",
      "    accuracy                         0.7860       500\n",
      "   macro avg     0.7912    0.7840    0.7841       500\n",
      "weighted avg     0.7903    0.7860    0.7847       500\n",
      "\n",
      "Evaluating model roben_2_tok on stochastic_no_ws\n"
     ]
    },
    {
     "name": "stderr",
     "output_type": "stream",
     "text": [
      "100%|████████████████████████████████████████████████████████████████████████████████████████████████████████████████████████████████████████████████████████████████████████████████████████████████████████| 10/10 [01:24<00:00,  8.50s/it]\n"
     ]
    },
    {
     "name": "stdout",
     "output_type": "stream",
     "text": [
      "              precision    recall  f1-score   support\n",
      "\n",
      "           0     0.7053    0.6008    0.6489       243\n",
      "           1     0.6689    0.7626    0.7127       257\n",
      "\n",
      "    accuracy                         0.6840       500\n",
      "   macro avg     0.6871    0.6817    0.6808       500\n",
      "weighted avg     0.6866    0.6840    0.6817       500\n",
      "\n",
      "Evaluating model roben_2_tok on stochastic_incl_ws\n"
     ]
    },
    {
     "name": "stderr",
     "output_type": "stream",
     "text": [
      "100%|████████████████████████████████████████████████████████████████████████████████████████████████████████████████████████████████████████████████████████████████████████████████████████████████████████| 10/10 [01:24<00:00,  8.47s/it]\n"
     ]
    },
    {
     "name": "stdout",
     "output_type": "stream",
     "text": [
      "              precision    recall  f1-score   support\n",
      "\n",
      "           0     0.5880    0.5226    0.5534       243\n",
      "           1     0.5915    0.6537    0.6211       257\n",
      "\n",
      "    accuracy                         0.5900       500\n",
      "   macro avg     0.5898    0.5882    0.5872       500\n",
      "weighted avg     0.5898    0.5900    0.5882       500\n",
      "\n",
      "Evaluating model roben_2_tok on word_score_no_ws\n"
     ]
    },
    {
     "name": "stderr",
     "output_type": "stream",
     "text": [
      "500it [03:52,  2.15it/s]\n"
     ]
    },
    {
     "name": "stdout",
     "output_type": "stream",
     "text": [
      "              precision    recall  f1-score   support\n",
      "\n",
      "           0     0.7778    0.6337    0.6984       243\n",
      "           1     0.7053    0.8288    0.7621       257\n",
      "\n",
      "    accuracy                         0.7340       500\n",
      "   macro avg     0.7415    0.7313    0.7302       500\n",
      "weighted avg     0.7405    0.7340    0.7311       500\n",
      "\n",
      "Evaluating model roben_2_tok on word_score_incl_ws\n"
     ]
    },
    {
     "name": "stderr",
     "output_type": "stream",
     "text": [
      "500it [03:40,  2.27it/s]\n"
     ]
    },
    {
     "name": "stdout",
     "output_type": "stream",
     "text": [
      "              precision    recall  f1-score   support\n",
      "\n",
      "           0     0.6753    0.5391    0.5995       243\n",
      "           1     0.6340    0.7549    0.6892       257\n",
      "\n",
      "    accuracy                         0.6500       500\n",
      "   macro avg     0.6546    0.6470    0.6444       500\n",
      "weighted avg     0.6540    0.6500    0.6456       500\n",
      "\n",
      "Evaluating model 64k_lstm_clean_vanilla on clean\n"
     ]
    },
    {
     "name": "stderr",
     "output_type": "stream",
     "text": [
      "100%|████████████████████████████████████████████████████████████████████████████████████████████████████████████████████████████████████████████████████████████████████████████████████████████████████████| 16/16 [00:49<00:00,  3.11s/it]\n"
     ]
    },
    {
     "name": "stdout",
     "output_type": "stream",
     "text": [
      "              precision    recall  f1-score   support\n",
      "\n",
      "           0     0.8571    0.8642    0.8607       243\n",
      "           1     0.8706    0.8638    0.8672       257\n",
      "\n",
      "    accuracy                         0.8640       500\n",
      "   macro avg     0.8639    0.8640    0.8639       500\n",
      "weighted avg     0.8641    0.8640    0.8640       500\n",
      "\n",
      "Evaluating model 64k_lstm_clean_vanilla on stochastic_no_ws\n"
     ]
    },
    {
     "name": "stderr",
     "output_type": "stream",
     "text": [
      "100%|████████████████████████████████████████████████████████████████████████████████████████████████████████████████████████████████████████████████████████████████████████████████████████████████████████| 10/10 [08:10<00:00, 49.02s/it]\n"
     ]
    },
    {
     "name": "stdout",
     "output_type": "stream",
     "text": [
      "              precision    recall  f1-score   support\n",
      "\n",
      "           0     0.6858    0.7366    0.7103       243\n",
      "           1     0.7322    0.6809    0.7056       257\n",
      "\n",
      "    accuracy                         0.7080       500\n",
      "   macro avg     0.7090    0.7088    0.7080       500\n",
      "weighted avg     0.7097    0.7080    0.7079       500\n",
      "\n",
      "Evaluating model 64k_lstm_clean_vanilla on stochastic_incl_ws\n"
     ]
    },
    {
     "name": "stderr",
     "output_type": "stream",
     "text": [
      "100%|████████████████████████████████████████████████████████████████████████████████████████████████████████████████████████████████████████████████████████████████████████████████████████████████████████| 10/10 [08:09<00:00, 48.92s/it]\n"
     ]
    },
    {
     "name": "stdout",
     "output_type": "stream",
     "text": [
      "              precision    recall  f1-score   support\n",
      "\n",
      "           0     0.6370    0.7078    0.6706       243\n",
      "           1     0.6913    0.6187    0.6530       257\n",
      "\n",
      "    accuracy                         0.6620       500\n",
      "   macro avg     0.6642    0.6632    0.6618       500\n",
      "weighted avg     0.6649    0.6620    0.6615       500\n",
      "\n",
      "Evaluating model 64k_lstm_clean_vanilla on word_score_no_ws\n"
     ]
    },
    {
     "name": "stderr",
     "output_type": "stream",
     "text": [
      "500it [45:36,  5.47s/it]\n"
     ]
    },
    {
     "name": "stdout",
     "output_type": "stream",
     "text": [
      "              precision    recall  f1-score   support\n",
      "\n",
      "           0     0.6640    0.6914    0.6774       243\n",
      "           1     0.6964    0.6693    0.6825       257\n",
      "\n",
      "    accuracy                         0.6800       500\n",
      "   macro avg     0.6802    0.6803    0.6800       500\n",
      "weighted avg     0.6806    0.6800    0.6801       500\n",
      "\n",
      "Evaluating model 64k_lstm_clean_vanilla on word_score_incl_ws\n"
     ]
    },
    {
     "name": "stderr",
     "output_type": "stream",
     "text": [
      "500it [44:14,  5.31s/it]\n"
     ]
    },
    {
     "name": "stdout",
     "output_type": "stream",
     "text": [
      "              precision    recall  f1-score   support\n",
      "\n",
      "           0     0.6070    0.6420    0.6240       243\n",
      "           1     0.6420    0.6070    0.6240       257\n",
      "\n",
      "    accuracy                         0.6240       500\n",
      "   macro avg     0.6245    0.6245    0.6240       500\n",
      "weighted avg     0.6250    0.6240    0.6240       500\n",
      "\n",
      "Evaluating model 64k_lstm_no_whitespace_pert_vanilla on clean\n"
     ]
    },
    {
     "name": "stderr",
     "output_type": "stream",
     "text": [
      "100%|████████████████████████████████████████████████████████████████████████████████████████████████████████████████████████████████████████████████████████████████████████████████████████████████████████| 16/16 [00:49<00:00,  3.07s/it]\n"
     ]
    },
    {
     "name": "stdout",
     "output_type": "stream",
     "text": [
      "              precision    recall  f1-score   support\n",
      "\n",
      "           0     0.8653    0.8724    0.8689       243\n",
      "           1     0.8784    0.8716    0.8750       257\n",
      "\n",
      "    accuracy                         0.8720       500\n",
      "   macro avg     0.8719    0.8720    0.8719       500\n",
      "weighted avg     0.8721    0.8720    0.8720       500\n",
      "\n",
      "Evaluating model 64k_lstm_no_whitespace_pert_vanilla on stochastic_no_ws\n"
     ]
    },
    {
     "name": "stderr",
     "output_type": "stream",
     "text": [
      "100%|████████████████████████████████████████████████████████████████████████████████████████████████████████████████████████████████████████████████████████████████████████████████████████████████████████| 10/10 [08:13<00:00, 49.39s/it]\n"
     ]
    },
    {
     "name": "stdout",
     "output_type": "stream",
     "text": [
      "              precision    recall  f1-score   support\n",
      "\n",
      "           0     0.8041    0.8107    0.8074       243\n",
      "           1     0.8196    0.8132    0.8164       257\n",
      "\n",
      "    accuracy                         0.8120       500\n",
      "   macro avg     0.8118    0.8120    0.8119       500\n",
      "weighted avg     0.8121    0.8120    0.8120       500\n",
      "\n",
      "Evaluating model 64k_lstm_no_whitespace_pert_vanilla on stochastic_incl_ws\n"
     ]
    },
    {
     "name": "stderr",
     "output_type": "stream",
     "text": [
      "100%|████████████████████████████████████████████████████████████████████████████████████████████████████████████████████████████████████████████████████████████████████████████████████████████████████████| 10/10 [08:14<00:00, 49.45s/it]\n"
     ]
    },
    {
     "name": "stdout",
     "output_type": "stream",
     "text": [
      "              precision    recall  f1-score   support\n",
      "\n",
      "           0     0.6972    0.7202    0.7085       243\n",
      "           1     0.7269    0.7043    0.7154       257\n",
      "\n",
      "    accuracy                         0.7120       500\n",
      "   macro avg     0.7121    0.7122    0.7120       500\n",
      "weighted avg     0.7125    0.7120    0.7121       500\n",
      "\n",
      "Evaluating model 64k_lstm_no_whitespace_pert_vanilla on word_score_no_ws\n"
     ]
    },
    {
     "name": "stderr",
     "output_type": "stream",
     "text": [
      "500it [48:28,  5.82s/it]\n"
     ]
    },
    {
     "name": "stdout",
     "output_type": "stream",
     "text": [
      "              precision    recall  f1-score   support\n",
      "\n",
      "           0     0.7787    0.7531    0.7657       243\n",
      "           1     0.7736    0.7977    0.7854       257\n",
      "\n",
      "    accuracy                         0.7760       500\n",
      "   macro avg     0.7762    0.7754    0.7756       500\n",
      "weighted avg     0.7761    0.7760    0.7758       500\n",
      "\n",
      "Evaluating model 64k_lstm_no_whitespace_pert_vanilla on word_score_incl_ws\n"
     ]
    },
    {
     "name": "stderr",
     "output_type": "stream",
     "text": [
      "500it [48:02,  5.77s/it]\n"
     ]
    },
    {
     "name": "stdout",
     "output_type": "stream",
     "text": [
      "              precision    recall  f1-score   support\n",
      "\n",
      "           0     0.7460    0.7613    0.7536       243\n",
      "           1     0.7698    0.7549    0.7623       257\n",
      "\n",
      "    accuracy                         0.7580       500\n",
      "   macro avg     0.7579    0.7581    0.7579       500\n",
      "weighted avg     0.7582    0.7580    0.7580       500\n",
      "\n",
      "Evaluating model 64k_lstm_all_pert_vanilla on clean\n"
     ]
    },
    {
     "name": "stderr",
     "output_type": "stream",
     "text": [
      "100%|████████████████████████████████████████████████████████████████████████████████████████████████████████████████████████████████████████████████████████████████████████████████████████████████████████| 16/16 [00:49<00:00,  3.10s/it]\n"
     ]
    },
    {
     "name": "stdout",
     "output_type": "stream",
     "text": [
      "              precision    recall  f1-score   support\n",
      "\n",
      "           0     0.8734    0.8519    0.8625       243\n",
      "           1     0.8631    0.8833    0.8731       257\n",
      "\n",
      "    accuracy                         0.8680       500\n",
      "   macro avg     0.8683    0.8676    0.8678       500\n",
      "weighted avg     0.8681    0.8680    0.8679       500\n",
      "\n",
      "Evaluating model 64k_lstm_all_pert_vanilla on stochastic_no_ws\n"
     ]
    },
    {
     "name": "stderr",
     "output_type": "stream",
     "text": [
      "100%|████████████████████████████████████████████████████████████████████████████████████████████████████████████████████████████████████████████████████████████████████████████████████████████████████████| 10/10 [08:12<00:00, 49.25s/it]\n"
     ]
    },
    {
     "name": "stdout",
     "output_type": "stream",
     "text": [
      "              precision    recall  f1-score   support\n",
      "\n",
      "           0     0.8162    0.7860    0.8008       243\n",
      "           1     0.8045    0.8327    0.8184       257\n",
      "\n",
      "    accuracy                         0.8100       500\n",
      "   macro avg     0.8104    0.8093    0.8096       500\n",
      "weighted avg     0.8102    0.8100    0.8098       500\n",
      "\n",
      "Evaluating model 64k_lstm_all_pert_vanilla on stochastic_incl_ws\n"
     ]
    },
    {
     "name": "stderr",
     "output_type": "stream",
     "text": [
      "100%|████████████████████████████████████████████████████████████████████████████████████████████████████████████████████████████████████████████████████████████████████████████████████████████████████████| 10/10 [08:13<00:00, 49.30s/it]\n"
     ]
    },
    {
     "name": "stdout",
     "output_type": "stream",
     "text": [
      "              precision    recall  f1-score   support\n",
      "\n",
      "           0     0.8103    0.7737    0.7916       243\n",
      "           1     0.7948    0.8288    0.8114       257\n",
      "\n",
      "    accuracy                         0.8020       500\n",
      "   macro avg     0.8026    0.8012    0.8015       500\n",
      "weighted avg     0.8023    0.8020    0.8018       500\n",
      "\n",
      "Evaluating model 64k_lstm_all_pert_vanilla on word_score_no_ws\n"
     ]
    },
    {
     "name": "stderr",
     "output_type": "stream",
     "text": [
      "500it [48:30,  5.82s/it]\n"
     ]
    },
    {
     "name": "stdout",
     "output_type": "stream",
     "text": [
      "              precision    recall  f1-score   support\n",
      "\n",
      "           0     0.7888    0.7531    0.7705       243\n",
      "           1     0.7761    0.8093    0.7924       257\n",
      "\n",
      "    accuracy                         0.7820       500\n",
      "   macro avg     0.7825    0.7812    0.7815       500\n",
      "weighted avg     0.7823    0.7820    0.7818       500\n",
      "\n",
      "Evaluating model 64k_lstm_all_pert_vanilla on word_score_incl_ws\n"
     ]
    },
    {
     "name": "stderr",
     "output_type": "stream",
     "text": [
      "500it [48:37,  5.84s/it]\n"
     ]
    },
    {
     "name": "stdout",
     "output_type": "stream",
     "text": [
      "              precision    recall  f1-score   support\n",
      "\n",
      "           0     0.7759    0.7407    0.7579       243\n",
      "           1     0.7649    0.7977    0.7810       257\n",
      "\n",
      "    accuracy                         0.7700       500\n",
      "   macro avg     0.7704    0.7692    0.7694       500\n",
      "weighted avg     0.7702    0.7700    0.7697       500\n",
      "\n",
      "Evaluating model 64k_lstm_clean_finetuned on clean\n"
     ]
    },
    {
     "name": "stderr",
     "output_type": "stream",
     "text": [
      "100%|████████████████████████████████████████████████████████████████████████████████████████████████████████████████████████████████████████████████████████████████████████████████████████████████████████| 16/16 [00:49<00:00,  3.10s/it]\n"
     ]
    },
    {
     "name": "stdout",
     "output_type": "stream",
     "text": [
      "              precision    recall  f1-score   support\n",
      "\n",
      "           0     0.8543    0.8683    0.8612       243\n",
      "           1     0.8735    0.8599    0.8667       257\n",
      "\n",
      "    accuracy                         0.8640       500\n",
      "   macro avg     0.8639    0.8641    0.8639       500\n",
      "weighted avg     0.8642    0.8640    0.8640       500\n",
      "\n",
      "Evaluating model 64k_lstm_clean_finetuned on stochastic_no_ws\n"
     ]
    },
    {
     "name": "stderr",
     "output_type": "stream",
     "text": [
      "100%|████████████████████████████████████████████████████████████████████████████████████████████████████████████████████████████████████████████████████████████████████████████████████████████████████████| 10/10 [08:14<00:00, 49.43s/it]\n"
     ]
    },
    {
     "name": "stdout",
     "output_type": "stream",
     "text": [
      "              precision    recall  f1-score   support\n",
      "\n",
      "           0     0.7092    0.7325    0.7206       243\n",
      "           1     0.7390    0.7160    0.7273       257\n",
      "\n",
      "    accuracy                         0.7240       500\n",
      "   macro avg     0.7241    0.7242    0.7240       500\n",
      "weighted avg     0.7245    0.7240    0.7241       500\n",
      "\n",
      "Evaluating model 64k_lstm_clean_finetuned on stochastic_incl_ws\n"
     ]
    },
    {
     "name": "stderr",
     "output_type": "stream",
     "text": [
      "100%|████████████████████████████████████████████████████████████████████████████████████████████████████████████████████████████████████████████████████████████████████████████████████████████████████████| 10/10 [08:11<00:00, 49.10s/it]\n"
     ]
    },
    {
     "name": "stdout",
     "output_type": "stream",
     "text": [
      "              precision    recall  f1-score   support\n",
      "\n",
      "           0     0.6718    0.7243    0.6970       243\n",
      "           1     0.7185    0.6654    0.6909       257\n",
      "\n",
      "    accuracy                         0.6940       500\n",
      "   macro avg     0.6951    0.6948    0.6940       500\n",
      "weighted avg     0.6958    0.6940    0.6939       500\n",
      "\n",
      "Evaluating model 64k_lstm_clean_finetuned on word_score_no_ws\n"
     ]
    },
    {
     "name": "stderr",
     "output_type": "stream",
     "text": [
      "500it [46:33,  5.59s/it]\n"
     ]
    },
    {
     "name": "stdout",
     "output_type": "stream",
     "text": [
      "              precision    recall  f1-score   support\n",
      "\n",
      "           0     0.6829    0.6914    0.6871       243\n",
      "           1     0.7047    0.6965    0.7006       257\n",
      "\n",
      "    accuracy                         0.6940       500\n",
      "   macro avg     0.6938    0.6939    0.6939       500\n",
      "weighted avg     0.6941    0.6940    0.6940       500\n",
      "\n",
      "Evaluating model 64k_lstm_clean_finetuned on word_score_incl_ws\n"
     ]
    },
    {
     "name": "stderr",
     "output_type": "stream",
     "text": [
      "500it [45:34,  5.47s/it]\n"
     ]
    },
    {
     "name": "stdout",
     "output_type": "stream",
     "text": [
      "              precision    recall  f1-score   support\n",
      "\n",
      "           0     0.6454    0.6667    0.6559       243\n",
      "           1     0.6747    0.6537    0.6640       257\n",
      "\n",
      "    accuracy                         0.6600       500\n",
      "   macro avg     0.6601    0.6602    0.6600       500\n",
      "weighted avg     0.6605    0.6600    0.6601       500\n",
      "\n",
      "Evaluating model 64k_lstm_no_whitespace_pert_finetuned on clean\n"
     ]
    },
    {
     "name": "stderr",
     "output_type": "stream",
     "text": [
      "100%|████████████████████████████████████████████████████████████████████████████████████████████████████████████████████████████████████████████████████████████████████████████████████████████████████████| 16/16 [00:49<00:00,  3.10s/it]\n"
     ]
    },
    {
     "name": "stdout",
     "output_type": "stream",
     "text": [
      "              precision    recall  f1-score   support\n",
      "\n",
      "           0     0.8514    0.8724    0.8618       243\n",
      "           1     0.8765    0.8560    0.8661       257\n",
      "\n",
      "    accuracy                         0.8640       500\n",
      "   macro avg     0.8639    0.8642    0.8640       500\n",
      "weighted avg     0.8643    0.8640    0.8640       500\n",
      "\n",
      "Evaluating model 64k_lstm_no_whitespace_pert_finetuned on stochastic_no_ws\n"
     ]
    },
    {
     "name": "stderr",
     "output_type": "stream",
     "text": [
      "100%|████████████████████████████████████████████████████████████████████████████████████████████████████████████████████████████████████████████████████████████████████████████████████████████████████████| 10/10 [08:12<00:00, 49.24s/it]\n"
     ]
    },
    {
     "name": "stdout",
     "output_type": "stream",
     "text": [
      "              precision    recall  f1-score   support\n",
      "\n",
      "           0     0.7984    0.8313    0.8145       243\n",
      "           1     0.8340    0.8016    0.8175       257\n",
      "\n",
      "    accuracy                         0.8160       500\n",
      "   macro avg     0.8162    0.8164    0.8160       500\n",
      "weighted avg     0.8167    0.8160    0.8160       500\n",
      "\n",
      "Evaluating model 64k_lstm_no_whitespace_pert_finetuned on stochastic_incl_ws\n"
     ]
    },
    {
     "name": "stderr",
     "output_type": "stream",
     "text": [
      "100%|████████████████████████████████████████████████████████████████████████████████████████████████████████████████████████████████████████████████████████████████████████████████████████████████████████| 10/10 [08:10<00:00, 49.04s/it]\n"
     ]
    },
    {
     "name": "stdout",
     "output_type": "stream",
     "text": [
      "              precision    recall  f1-score   support\n",
      "\n",
      "           0     0.7016    0.7449    0.7226       243\n",
      "           1     0.7438    0.7004    0.7214       257\n",
      "\n",
      "    accuracy                         0.7220       500\n",
      "   macro avg     0.7227    0.7226    0.7220       500\n",
      "weighted avg     0.7233    0.7220    0.7220       500\n",
      "\n",
      "Evaluating model 64k_lstm_no_whitespace_pert_finetuned on word_score_no_ws\n"
     ]
    },
    {
     "name": "stderr",
     "output_type": "stream",
     "text": [
      "500it [48:12,  5.78s/it]\n"
     ]
    },
    {
     "name": "stdout",
     "output_type": "stream",
     "text": [
      "              precision    recall  f1-score   support\n",
      "\n",
      "           0     0.7842    0.7778    0.7810       243\n",
      "           1     0.7915    0.7977    0.7946       257\n",
      "\n",
      "    accuracy                         0.7880       500\n",
      "   macro avg     0.7879    0.7877    0.7878       500\n",
      "weighted avg     0.7880    0.7880    0.7880       500\n",
      "\n",
      "Evaluating model 64k_lstm_no_whitespace_pert_finetuned on word_score_incl_ws\n"
     ]
    },
    {
     "name": "stderr",
     "output_type": "stream",
     "text": [
      "500it [47:00,  5.64s/it]\n"
     ]
    },
    {
     "name": "stdout",
     "output_type": "stream",
     "text": [
      "              precision    recall  f1-score   support\n",
      "\n",
      "           0     0.7261    0.7202    0.7231       243\n",
      "           1     0.7375    0.7432    0.7403       257\n",
      "\n",
      "    accuracy                         0.7320       500\n",
      "   macro avg     0.7318    0.7317    0.7317       500\n",
      "weighted avg     0.7320    0.7320    0.7320       500\n",
      "\n",
      "Evaluating model 64k_lstm_all_pert_finetuned on clean\n"
     ]
    },
    {
     "name": "stderr",
     "output_type": "stream",
     "text": [
      "100%|████████████████████████████████████████████████████████████████████████████████████████████████████████████████████████████████████████████████████████████████████████████████████████████████████████| 16/16 [00:49<00:00,  3.07s/it]\n"
     ]
    },
    {
     "name": "stdout",
     "output_type": "stream",
     "text": [
      "              precision    recall  f1-score   support\n",
      "\n",
      "           0     0.8601    0.8601    0.8601       243\n",
      "           1     0.8677    0.8677    0.8677       257\n",
      "\n",
      "    accuracy                         0.8640       500\n",
      "   macro avg     0.8639    0.8639    0.8639       500\n",
      "weighted avg     0.8640    0.8640    0.8640       500\n",
      "\n",
      "Evaluating model 64k_lstm_all_pert_finetuned on stochastic_no_ws\n"
     ]
    },
    {
     "name": "stderr",
     "output_type": "stream",
     "text": [
      "100%|████████████████████████████████████████████████████████████████████████████████████████████████████████████████████████████████████████████████████████████████████████████████████████████████████████| 10/10 [08:10<00:00, 49.02s/it]\n"
     ]
    },
    {
     "name": "stdout",
     "output_type": "stream",
     "text": [
      "              precision    recall  f1-score   support\n",
      "\n",
      "           0     0.7912    0.8107    0.8008       243\n",
      "           1     0.8167    0.7977    0.8071       257\n",
      "\n",
      "    accuracy                         0.8040       500\n",
      "   macro avg     0.8039    0.8042    0.8039       500\n",
      "weighted avg     0.8043    0.8040    0.8040       500\n",
      "\n",
      "Evaluating model 64k_lstm_all_pert_finetuned on stochastic_incl_ws\n"
     ]
    },
    {
     "name": "stderr",
     "output_type": "stream",
     "text": [
      "100%|████████████████████████████████████████████████████████████████████████████████████████████████████████████████████████████████████████████████████████████████████████████████████████████████████████| 10/10 [08:08<00:00, 48.86s/it]\n"
     ]
    },
    {
     "name": "stdout",
     "output_type": "stream",
     "text": [
      "              precision    recall  f1-score   support\n",
      "\n",
      "           0     0.7765    0.8148    0.7952       243\n",
      "           1     0.8163    0.7782    0.7968       257\n",
      "\n",
      "    accuracy                         0.7960       500\n",
      "   macro avg     0.7964    0.7965    0.7960       500\n",
      "weighted avg     0.7970    0.7960    0.7960       500\n",
      "\n",
      "Evaluating model 64k_lstm_all_pert_finetuned on word_score_no_ws\n"
     ]
    },
    {
     "name": "stderr",
     "output_type": "stream",
     "text": [
      "500it [48:20,  5.80s/it]\n"
     ]
    },
    {
     "name": "stdout",
     "output_type": "stream",
     "text": [
      "              precision    recall  f1-score   support\n",
      "\n",
      "           0     0.7676    0.7613    0.7645       243\n",
      "           1     0.7761    0.7821    0.7791       257\n",
      "\n",
      "    accuracy                         0.7720       500\n",
      "   macro avg     0.7718    0.7717    0.7718       500\n",
      "weighted avg     0.7720    0.7720    0.7720       500\n",
      "\n",
      "Evaluating model 64k_lstm_all_pert_finetuned on word_score_incl_ws\n"
     ]
    },
    {
     "name": "stderr",
     "output_type": "stream",
     "text": [
      "500it [47:54,  5.75s/it]\n"
     ]
    },
    {
     "name": "stdout",
     "output_type": "stream",
     "text": [
      "              precision    recall  f1-score   support\n",
      "\n",
      "           0     0.7412    0.7778    0.7590       243\n",
      "           1     0.7796    0.7432    0.7610       257\n",
      "\n",
      "    accuracy                         0.7600       500\n",
      "   macro avg     0.7604    0.7605    0.7600       500\n",
      "weighted avg     0.7609    0.7600    0.7600       500\n",
      "\n",
      "Evaluating model 64k_cnn_no_whitespace_pert_finetuned on clean\n"
     ]
    },
    {
     "name": "stderr",
     "output_type": "stream",
     "text": [
      "100%|████████████████████████████████████████████████████████████████████████████████████████████████████████████████████████████████████████████████████████████████████████████████████████████████████████| 16/16 [00:30<00:00,  1.93s/it]\n"
     ]
    },
    {
     "name": "stdout",
     "output_type": "stream",
     "text": [
      "              precision    recall  f1-score   support\n",
      "\n",
      "           0     0.8333    0.0206    0.0402       243\n",
      "           1     0.5182    0.9961    0.6818       257\n",
      "\n",
      "    accuracy                         0.5220       500\n",
      "   macro avg     0.6758    0.5083    0.3610       500\n",
      "weighted avg     0.6714    0.5220    0.3699       500\n",
      "\n",
      "Evaluating model 64k_cnn_no_whitespace_pert_finetuned on stochastic_no_ws\n"
     ]
    },
    {
     "name": "stderr",
     "output_type": "stream",
     "text": [
      "100%|████████████████████████████████████████████████████████████████████████████████████████████████████████████████████████████████████████████████████████████████████████████████████████████████████████| 10/10 [05:05<00:00, 30.50s/it]\n"
     ]
    },
    {
     "name": "stdout",
     "output_type": "stream",
     "text": [
      "              precision    recall  f1-score   support\n",
      "\n",
      "           0     0.3333    0.0123    0.0238       243\n",
      "           1     0.5112    0.9767    0.6711       257\n",
      "\n",
      "    accuracy                         0.5080       500\n",
      "   macro avg     0.4223    0.4945    0.3475       500\n",
      "weighted avg     0.4248    0.5080    0.3565       500\n",
      "\n",
      "Evaluating model 64k_cnn_no_whitespace_pert_finetuned on stochastic_incl_ws\n"
     ]
    },
    {
     "name": "stderr",
     "output_type": "stream",
     "text": [
      "100%|████████████████████████████████████████████████████████████████████████████████████████████████████████████████████████████████████████████████████████████████████████████████████████████████████████| 10/10 [05:03<00:00, 30.37s/it]\n"
     ]
    },
    {
     "name": "stdout",
     "output_type": "stream",
     "text": [
      "              precision    recall  f1-score   support\n",
      "\n",
      "           0     0.1333    0.0082    0.0155       243\n",
      "           1     0.5031    0.9494    0.6577       257\n",
      "\n",
      "    accuracy                         0.4920       500\n",
      "   macro avg     0.3182    0.4788    0.3366       500\n",
      "weighted avg     0.3234    0.4920    0.3456       500\n",
      "\n",
      "Evaluating model 64k_cnn_no_whitespace_pert_finetuned on word_score_no_ws\n"
     ]
    },
    {
     "name": "stderr",
     "output_type": "stream",
     "text": [
      "500it [08:26,  1.01s/it]\n"
     ]
    },
    {
     "name": "stdout",
     "output_type": "stream",
     "text": [
      "              precision    recall  f1-score   support\n",
      "\n",
      "           0     0.3333    0.0041    0.0081       243\n",
      "           1     0.5131    0.9922    0.6764       257\n",
      "\n",
      "    accuracy                         0.5120       500\n",
      "   macro avg     0.4232    0.4982    0.3423       500\n",
      "weighted avg     0.4257    0.5120    0.3516       500\n",
      "\n",
      "Evaluating model 64k_cnn_no_whitespace_pert_finetuned on word_score_incl_ws\n"
     ]
    },
    {
     "name": "stderr",
     "output_type": "stream",
     "text": [
      "500it [08:24,  1.01s/it]"
     ]
    },
    {
     "name": "stdout",
     "output_type": "stream",
     "text": [
      "              precision    recall  f1-score   support\n",
      "\n",
      "           0     0.2000    0.0082    0.0158       243\n",
      "           1     0.5082    0.9689    0.6667       257\n",
      "\n",
      "    accuracy                         0.5020       500\n",
      "   macro avg     0.3541    0.4886    0.3412       500\n",
      "weighted avg     0.3584    0.5020    0.3504       500\n",
      "\n"
     ]
    },
    {
     "name": "stderr",
     "output_type": "stream",
     "text": [
      "\n"
     ]
    }
   ],
   "source": [
    "accuracy_df = pd.DataFrame(columns=evaluations, index=all_models.keys())\n",
    "f1_df = pd.DataFrame(columns=evaluations, index=all_models.keys())\n",
    "\n",
    "for cur_model_name, cur_model in all_models.items():\n",
    "    for cur_evaluation in evaluations:\n",
    "        print(f'Evaluating model {cur_model_name} on {cur_evaluation}')\n",
    "        random.seed(11)\n",
    "        if cur_evaluation == 'clean':\n",
    "            acc, f1 = evaluate_model(cur_model, sampled_test_set)\n",
    "        elif cur_evaluation.startswith('stochastic_'):\n",
    "            if cur_evaluation == 'stochastic_no_ws':\n",
    "                acc_list, f1_list = evaluate_model_adv(cur_model, sampled_test_set_adv_no_ws)\n",
    "            elif cur_evaluation == 'stochastic_incl_ws':\n",
    "                acc_list, f1_list = evaluate_model_adv(cur_model, sampled_test_set_adv_incl_ws)\n",
    "            acc = acc_list[-1]\n",
    "            f1 = f1_list[-1]\n",
    "        elif cur_evaluation.startswith('word_score_'):\n",
    "            if cur_evaluation == 'word_score_no_ws':\n",
    "                acc, f1 = evaluate_model_word_score(cur_model, sampled_test_set, allow_whitespace_pert=False)\n",
    "            elif cur_evaluation == 'word_score_incl_ws':\n",
    "                acc, f1 = evaluate_model_word_score(cur_model, sampled_test_set, allow_whitespace_pert=True)\n",
    "\n",
    "        accuracy_df[cur_evaluation][cur_model_name] = acc\n",
    "        f1_df[cur_evaluation][cur_model_name] = f1"
   ]
  },
  {
   "cell_type": "code",
   "execution_count": 24,
   "id": "6e229c55",
   "metadata": {
    "execution": {
     "iopub.execute_input": "2022-04-01T06:14:51.186588Z",
     "iopub.status.busy": "2022-04-01T06:14:51.184925Z",
     "iopub.status.idle": "2022-04-01T06:14:51.198999Z",
     "shell.execute_reply": "2022-04-01T06:14:51.198401Z"
    }
   },
   "outputs": [
    {
     "data": {
      "text/html": [
       "<div>\n",
       "<style scoped>\n",
       "    .dataframe tbody tr th:only-of-type {\n",
       "        vertical-align: middle;\n",
       "    }\n",
       "\n",
       "    .dataframe tbody tr th {\n",
       "        vertical-align: top;\n",
       "    }\n",
       "\n",
       "    .dataframe thead th {\n",
       "        text-align: right;\n",
       "    }\n",
       "</style>\n",
       "<table border=\"1\" class=\"dataframe\">\n",
       "  <thead>\n",
       "    <tr style=\"text-align: right;\">\n",
       "      <th></th>\n",
       "      <th>clean</th>\n",
       "      <th>stochastic_no_ws</th>\n",
       "      <th>stochastic_incl_ws</th>\n",
       "      <th>word_score_no_ws</th>\n",
       "      <th>word_score_incl_ws</th>\n",
       "    </tr>\n",
       "  </thead>\n",
       "  <tbody>\n",
       "    <tr>\n",
       "      <th>baseline</th>\n",
       "      <td>0.88</td>\n",
       "      <td>0.722</td>\n",
       "      <td>0.69</td>\n",
       "      <td>0.644</td>\n",
       "      <td>0.652</td>\n",
       "    </tr>\n",
       "    <tr>\n",
       "      <th>roben_1</th>\n",
       "      <td>0.794</td>\n",
       "      <td>0.686</td>\n",
       "      <td>0.572</td>\n",
       "      <td>0.68</td>\n",
       "      <td>0.618</td>\n",
       "    </tr>\n",
       "    <tr>\n",
       "      <th>roben_2</th>\n",
       "      <td>0.818</td>\n",
       "      <td>0.71</td>\n",
       "      <td>0.584</td>\n",
       "      <td>0.724</td>\n",
       "      <td>0.668</td>\n",
       "    </tr>\n",
       "    <tr>\n",
       "      <th>roben_1_tok</th>\n",
       "      <td>0.794</td>\n",
       "      <td>0.686</td>\n",
       "      <td>0.572</td>\n",
       "      <td>0.68</td>\n",
       "      <td>0.618</td>\n",
       "    </tr>\n",
       "    <tr>\n",
       "      <th>roben_2_tok</th>\n",
       "      <td>0.786</td>\n",
       "      <td>0.684</td>\n",
       "      <td>0.59</td>\n",
       "      <td>0.734</td>\n",
       "      <td>0.65</td>\n",
       "    </tr>\n",
       "    <tr>\n",
       "      <th>64k_lstm_clean_vanilla</th>\n",
       "      <td>0.864</td>\n",
       "      <td>0.708</td>\n",
       "      <td>0.662</td>\n",
       "      <td>0.68</td>\n",
       "      <td>0.624</td>\n",
       "    </tr>\n",
       "    <tr>\n",
       "      <th>64k_lstm_no_whitespace_pert_vanilla</th>\n",
       "      <td>0.872</td>\n",
       "      <td>0.812</td>\n",
       "      <td>0.712</td>\n",
       "      <td>0.776</td>\n",
       "      <td>0.758</td>\n",
       "    </tr>\n",
       "    <tr>\n",
       "      <th>64k_lstm_all_pert_vanilla</th>\n",
       "      <td>0.868</td>\n",
       "      <td>0.81</td>\n",
       "      <td>0.802</td>\n",
       "      <td>0.782</td>\n",
       "      <td>0.77</td>\n",
       "    </tr>\n",
       "    <tr>\n",
       "      <th>64k_lstm_clean_finetuned</th>\n",
       "      <td>0.864</td>\n",
       "      <td>0.724</td>\n",
       "      <td>0.694</td>\n",
       "      <td>0.694</td>\n",
       "      <td>0.66</td>\n",
       "    </tr>\n",
       "    <tr>\n",
       "      <th>64k_lstm_no_whitespace_pert_finetuned</th>\n",
       "      <td>0.864</td>\n",
       "      <td>0.816</td>\n",
       "      <td>0.722</td>\n",
       "      <td>0.788</td>\n",
       "      <td>0.732</td>\n",
       "    </tr>\n",
       "    <tr>\n",
       "      <th>64k_lstm_all_pert_finetuned</th>\n",
       "      <td>0.864</td>\n",
       "      <td>0.804</td>\n",
       "      <td>0.796</td>\n",
       "      <td>0.772</td>\n",
       "      <td>0.76</td>\n",
       "    </tr>\n",
       "    <tr>\n",
       "      <th>64k_cnn_no_whitespace_pert_finetuned</th>\n",
       "      <td>0.522</td>\n",
       "      <td>0.508</td>\n",
       "      <td>0.492</td>\n",
       "      <td>0.512</td>\n",
       "      <td>0.502</td>\n",
       "    </tr>\n",
       "  </tbody>\n",
       "</table>\n",
       "</div>"
      ],
      "text/plain": [
       "                                       clean stochastic_no_ws  \\\n",
       "baseline                                0.88            0.722   \n",
       "roben_1                                0.794            0.686   \n",
       "roben_2                                0.818             0.71   \n",
       "roben_1_tok                            0.794            0.686   \n",
       "roben_2_tok                            0.786            0.684   \n",
       "64k_lstm_clean_vanilla                 0.864            0.708   \n",
       "64k_lstm_no_whitespace_pert_vanilla    0.872            0.812   \n",
       "64k_lstm_all_pert_vanilla              0.868             0.81   \n",
       "64k_lstm_clean_finetuned               0.864            0.724   \n",
       "64k_lstm_no_whitespace_pert_finetuned  0.864            0.816   \n",
       "64k_lstm_all_pert_finetuned            0.864            0.804   \n",
       "64k_cnn_no_whitespace_pert_finetuned   0.522            0.508   \n",
       "\n",
       "                                      stochastic_incl_ws word_score_no_ws  \\\n",
       "baseline                                            0.69            0.644   \n",
       "roben_1                                            0.572             0.68   \n",
       "roben_2                                            0.584            0.724   \n",
       "roben_1_tok                                        0.572             0.68   \n",
       "roben_2_tok                                         0.59            0.734   \n",
       "64k_lstm_clean_vanilla                             0.662             0.68   \n",
       "64k_lstm_no_whitespace_pert_vanilla                0.712            0.776   \n",
       "64k_lstm_all_pert_vanilla                          0.802            0.782   \n",
       "64k_lstm_clean_finetuned                           0.694            0.694   \n",
       "64k_lstm_no_whitespace_pert_finetuned              0.722            0.788   \n",
       "64k_lstm_all_pert_finetuned                        0.796            0.772   \n",
       "64k_cnn_no_whitespace_pert_finetuned               0.492            0.512   \n",
       "\n",
       "                                      word_score_incl_ws  \n",
       "baseline                                           0.652  \n",
       "roben_1                                            0.618  \n",
       "roben_2                                            0.668  \n",
       "roben_1_tok                                        0.618  \n",
       "roben_2_tok                                         0.65  \n",
       "64k_lstm_clean_vanilla                             0.624  \n",
       "64k_lstm_no_whitespace_pert_vanilla                0.758  \n",
       "64k_lstm_all_pert_vanilla                           0.77  \n",
       "64k_lstm_clean_finetuned                            0.66  \n",
       "64k_lstm_no_whitespace_pert_finetuned              0.732  \n",
       "64k_lstm_all_pert_finetuned                         0.76  \n",
       "64k_cnn_no_whitespace_pert_finetuned               0.502  "
      ]
     },
     "execution_count": 24,
     "metadata": {},
     "output_type": "execute_result"
    }
   ],
   "source": [
    "accuracy_df"
   ]
  },
  {
   "cell_type": "code",
   "execution_count": 25,
   "id": "79f4cd33",
   "metadata": {
    "execution": {
     "iopub.execute_input": "2022-04-01T06:14:51.208980Z",
     "iopub.status.busy": "2022-04-01T06:14:51.208404Z",
     "iopub.status.idle": "2022-04-01T06:14:51.211291Z",
     "shell.execute_reply": "2022-04-01T06:14:51.211757Z"
    }
   },
   "outputs": [
    {
     "data": {
      "text/html": [
       "<div>\n",
       "<style scoped>\n",
       "    .dataframe tbody tr th:only-of-type {\n",
       "        vertical-align: middle;\n",
       "    }\n",
       "\n",
       "    .dataframe tbody tr th {\n",
       "        vertical-align: top;\n",
       "    }\n",
       "\n",
       "    .dataframe thead th {\n",
       "        text-align: right;\n",
       "    }\n",
       "</style>\n",
       "<table border=\"1\" class=\"dataframe\">\n",
       "  <thead>\n",
       "    <tr style=\"text-align: right;\">\n",
       "      <th></th>\n",
       "      <th>clean</th>\n",
       "      <th>stochastic_no_ws</th>\n",
       "      <th>stochastic_incl_ws</th>\n",
       "      <th>word_score_no_ws</th>\n",
       "      <th>word_score_incl_ws</th>\n",
       "    </tr>\n",
       "  </thead>\n",
       "  <tbody>\n",
       "    <tr>\n",
       "      <th>baseline</th>\n",
       "      <td>0.879906</td>\n",
       "      <td>0.721946</td>\n",
       "      <td>0.689989</td>\n",
       "      <td>0.643538</td>\n",
       "      <td>0.651978</td>\n",
       "    </tr>\n",
       "    <tr>\n",
       "      <th>roben_1</th>\n",
       "      <td>0.792002</td>\n",
       "      <td>0.683201</td>\n",
       "      <td>0.568959</td>\n",
       "      <td>0.67397</td>\n",
       "      <td>0.60968</td>\n",
       "    </tr>\n",
       "    <tr>\n",
       "      <th>roben_2</th>\n",
       "      <td>0.817104</td>\n",
       "      <td>0.708881</td>\n",
       "      <td>0.582289</td>\n",
       "      <td>0.721212</td>\n",
       "      <td>0.665862</td>\n",
       "    </tr>\n",
       "    <tr>\n",
       "      <th>roben_1_tok</th>\n",
       "      <td>0.792002</td>\n",
       "      <td>0.683201</td>\n",
       "      <td>0.568959</td>\n",
       "      <td>0.67397</td>\n",
       "      <td>0.60968</td>\n",
       "    </tr>\n",
       "    <tr>\n",
       "      <th>roben_2_tok</th>\n",
       "      <td>0.784092</td>\n",
       "      <td>0.680808</td>\n",
       "      <td>0.587224</td>\n",
       "      <td>0.730244</td>\n",
       "      <td>0.644354</td>\n",
       "    </tr>\n",
       "    <tr>\n",
       "      <th>64k_lstm_clean_vanilla</th>\n",
       "      <td>0.863922</td>\n",
       "      <td>0.707981</td>\n",
       "      <td>0.661771</td>\n",
       "      <td>0.67998</td>\n",
       "      <td>0.624</td>\n",
       "    </tr>\n",
       "    <tr>\n",
       "      <th>64k_lstm_no_whitespace_pert_vanilla</th>\n",
       "      <td>0.871926</td>\n",
       "      <td>0.811892</td>\n",
       "      <td>0.711959</td>\n",
       "      <td>0.775565</td>\n",
       "      <td>0.757922</td>\n",
       "    </tr>\n",
       "    <tr>\n",
       "      <th>64k_lstm_all_pert_vanilla</th>\n",
       "      <td>0.867788</td>\n",
       "      <td>0.809597</td>\n",
       "      <td>0.801504</td>\n",
       "      <td>0.781454</td>\n",
       "      <td>0.769424</td>\n",
       "    </tr>\n",
       "    <tr>\n",
       "      <th>64k_lstm_clean_finetuned</th>\n",
       "      <td>0.863946</td>\n",
       "      <td>0.72396</td>\n",
       "      <td>0.693969</td>\n",
       "      <td>0.693852</td>\n",
       "      <td>0.659951</td>\n",
       "    </tr>\n",
       "    <tr>\n",
       "      <th>64k_lstm_no_whitespace_pert_finetuned</th>\n",
       "      <td>0.863965</td>\n",
       "      <td>0.815988</td>\n",
       "      <td>0.721999</td>\n",
       "      <td>0.787783</td>\n",
       "      <td>0.731725</td>\n",
       "    </tr>\n",
       "    <tr>\n",
       "      <th>64k_lstm_all_pert_finetuned</th>\n",
       "      <td>0.863893</td>\n",
       "      <td>0.80395</td>\n",
       "      <td>0.795997</td>\n",
       "      <td>0.771766</td>\n",
       "      <td>0.759996</td>\n",
       "    </tr>\n",
       "    <tr>\n",
       "      <th>64k_cnn_no_whitespace_pert_finetuned</th>\n",
       "      <td>0.360959</td>\n",
       "      <td>0.347466</td>\n",
       "      <td>0.336593</td>\n",
       "      <td>0.342261</td>\n",
       "      <td>0.341238</td>\n",
       "    </tr>\n",
       "  </tbody>\n",
       "</table>\n",
       "</div>"
      ],
      "text/plain": [
       "                                          clean stochastic_no_ws  \\\n",
       "baseline                               0.879906         0.721946   \n",
       "roben_1                                0.792002         0.683201   \n",
       "roben_2                                0.817104         0.708881   \n",
       "roben_1_tok                            0.792002         0.683201   \n",
       "roben_2_tok                            0.784092         0.680808   \n",
       "64k_lstm_clean_vanilla                 0.863922         0.707981   \n",
       "64k_lstm_no_whitespace_pert_vanilla    0.871926         0.811892   \n",
       "64k_lstm_all_pert_vanilla              0.867788         0.809597   \n",
       "64k_lstm_clean_finetuned               0.863946          0.72396   \n",
       "64k_lstm_no_whitespace_pert_finetuned  0.863965         0.815988   \n",
       "64k_lstm_all_pert_finetuned            0.863893          0.80395   \n",
       "64k_cnn_no_whitespace_pert_finetuned   0.360959         0.347466   \n",
       "\n",
       "                                      stochastic_incl_ws word_score_no_ws  \\\n",
       "baseline                                        0.689989         0.643538   \n",
       "roben_1                                         0.568959          0.67397   \n",
       "roben_2                                         0.582289         0.721212   \n",
       "roben_1_tok                                     0.568959          0.67397   \n",
       "roben_2_tok                                     0.587224         0.730244   \n",
       "64k_lstm_clean_vanilla                          0.661771          0.67998   \n",
       "64k_lstm_no_whitespace_pert_vanilla             0.711959         0.775565   \n",
       "64k_lstm_all_pert_vanilla                       0.801504         0.781454   \n",
       "64k_lstm_clean_finetuned                        0.693969         0.693852   \n",
       "64k_lstm_no_whitespace_pert_finetuned           0.721999         0.787783   \n",
       "64k_lstm_all_pert_finetuned                     0.795997         0.771766   \n",
       "64k_cnn_no_whitespace_pert_finetuned            0.336593         0.342261   \n",
       "\n",
       "                                      word_score_incl_ws  \n",
       "baseline                                        0.651978  \n",
       "roben_1                                          0.60968  \n",
       "roben_2                                         0.665862  \n",
       "roben_1_tok                                      0.60968  \n",
       "roben_2_tok                                     0.644354  \n",
       "64k_lstm_clean_vanilla                             0.624  \n",
       "64k_lstm_no_whitespace_pert_vanilla             0.757922  \n",
       "64k_lstm_all_pert_vanilla                       0.769424  \n",
       "64k_lstm_clean_finetuned                        0.659951  \n",
       "64k_lstm_no_whitespace_pert_finetuned           0.731725  \n",
       "64k_lstm_all_pert_finetuned                     0.759996  \n",
       "64k_cnn_no_whitespace_pert_finetuned            0.341238  "
      ]
     },
     "execution_count": 25,
     "metadata": {},
     "output_type": "execute_result"
    }
   ],
   "source": [
    "f1_df"
   ]
  },
  {
   "cell_type": "code",
   "execution_count": 26,
   "id": "4b227192",
   "metadata": {
    "execution": {
     "iopub.execute_input": "2022-04-01T06:14:51.215426Z",
     "iopub.status.busy": "2022-04-01T06:14:51.214848Z",
     "iopub.status.idle": "2022-04-01T06:14:51.219469Z",
     "shell.execute_reply": "2022-04-01T06:14:51.219961Z"
    }
   },
   "outputs": [],
   "source": [
    "accuracy_df.to_csv(\"../output/grid_accuracy.csv\")"
   ]
  },
  {
   "cell_type": "code",
   "execution_count": 27,
   "id": "69cb79c5",
   "metadata": {
    "execution": {
     "iopub.execute_input": "2022-04-01T06:14:51.223400Z",
     "iopub.status.busy": "2022-04-01T06:14:51.222326Z",
     "iopub.status.idle": "2022-04-01T06:14:51.226522Z",
     "shell.execute_reply": "2022-04-01T06:14:51.227884Z"
    }
   },
   "outputs": [],
   "source": [
    "f1_df.to_csv(\"../output/grid_f1.csv\")"
   ]
  }
 ],
 "metadata": {
  "kernelspec": {
   "display_name": "Python 3 (ipykernel)",
   "language": "python",
   "name": "python3"
  },
  "language_info": {
   "codemirror_mode": {
    "name": "ipython",
    "version": 3
   },
   "file_extension": ".py",
   "mimetype": "text/x-python",
   "name": "python",
   "nbconvert_exporter": "python",
   "pygments_lexer": "ipython3",
   "version": "3.8.12"
  },
  "widgets": {
   "application/vnd.jupyter.widget-state+json": {
    "state": {
     "2a4bb820c60e40c1ad0f64107d79c7f1": {
      "model_module": "@jupyter-widgets/controls",
      "model_module_version": "1.5.0",
      "model_name": "DescriptionStyleModel",
      "state": {
       "_model_module": "@jupyter-widgets/controls",
       "_model_module_version": "1.5.0",
       "_model_name": "DescriptionStyleModel",
       "_view_count": null,
       "_view_module": "@jupyter-widgets/base",
       "_view_module_version": "1.2.0",
       "_view_name": "StyleView",
       "description_width": ""
      }
     },
     "46a5be577b9e40eeab875a637fb2c738": {
      "model_module": "@jupyter-widgets/base",
      "model_module_version": "1.2.0",
      "model_name": "LayoutModel",
      "state": {
       "_model_module": "@jupyter-widgets/base",
       "_model_module_version": "1.2.0",
       "_model_name": "LayoutModel",
       "_view_count": null,
       "_view_module": "@jupyter-widgets/base",
       "_view_module_version": "1.2.0",
       "_view_name": "LayoutView",
       "align_content": null,
       "align_items": null,
       "align_self": null,
       "border": null,
       "bottom": null,
       "display": null,
       "flex": null,
       "flex_flow": null,
       "grid_area": null,
       "grid_auto_columns": null,
       "grid_auto_flow": null,
       "grid_auto_rows": null,
       "grid_column": null,
       "grid_gap": null,
       "grid_row": null,
       "grid_template_areas": null,
       "grid_template_columns": null,
       "grid_template_rows": null,
       "height": null,
       "justify_content": null,
       "justify_items": null,
       "left": null,
       "margin": null,
       "max_height": null,
       "max_width": null,
       "min_height": null,
       "min_width": null,
       "object_fit": null,
       "object_position": null,
       "order": null,
       "overflow": null,
       "overflow_x": null,
       "overflow_y": null,
       "padding": null,
       "right": null,
       "top": null,
       "visibility": null,
       "width": null
      }
     },
     "4d936e5567d94706bcf6b4ef2236e146": {
      "model_module": "@jupyter-widgets/controls",
      "model_module_version": "1.5.0",
      "model_name": "HTMLModel",
      "state": {
       "_dom_classes": [],
       "_model_module": "@jupyter-widgets/controls",
       "_model_module_version": "1.5.0",
       "_model_name": "HTMLModel",
       "_view_count": null,
       "_view_module": "@jupyter-widgets/controls",
       "_view_module_version": "1.5.0",
       "_view_name": "HTMLView",
       "description": "",
       "description_tooltip": null,
       "layout": "IPY_MODEL_cb6ac35c597a4aaaa22afa7869915e6c",
       "placeholder": "​",
       "style": "IPY_MODEL_d449ab3082d846d9bfe6f759ce4b6961",
       "value": "100%"
      }
     },
     "9cbbe48af9c74d1fa2a1dcfd7fedf44c": {
      "model_module": "@jupyter-widgets/controls",
      "model_module_version": "1.5.0",
      "model_name": "HBoxModel",
      "state": {
       "_dom_classes": [],
       "_model_module": "@jupyter-widgets/controls",
       "_model_module_version": "1.5.0",
       "_model_name": "HBoxModel",
       "_view_count": null,
       "_view_module": "@jupyter-widgets/controls",
       "_view_module_version": "1.5.0",
       "_view_name": "HBoxView",
       "box_style": "",
       "children": [
        "IPY_MODEL_4d936e5567d94706bcf6b4ef2236e146",
        "IPY_MODEL_b819c89091db48baa8d383ab5691e161",
        "IPY_MODEL_d88b1744e4b248d4862767ee803c7a82"
       ],
       "layout": "IPY_MODEL_46a5be577b9e40eeab875a637fb2c738"
      }
     },
     "9eb4ae5d3a0e4d26a146082921db36ad": {
      "model_module": "@jupyter-widgets/base",
      "model_module_version": "1.2.0",
      "model_name": "LayoutModel",
      "state": {
       "_model_module": "@jupyter-widgets/base",
       "_model_module_version": "1.2.0",
       "_model_name": "LayoutModel",
       "_view_count": null,
       "_view_module": "@jupyter-widgets/base",
       "_view_module_version": "1.2.0",
       "_view_name": "LayoutView",
       "align_content": null,
       "align_items": null,
       "align_self": null,
       "border": null,
       "bottom": null,
       "display": null,
       "flex": null,
       "flex_flow": null,
       "grid_area": null,
       "grid_auto_columns": null,
       "grid_auto_flow": null,
       "grid_auto_rows": null,
       "grid_column": null,
       "grid_gap": null,
       "grid_row": null,
       "grid_template_areas": null,
       "grid_template_columns": null,
       "grid_template_rows": null,
       "height": null,
       "justify_content": null,
       "justify_items": null,
       "left": null,
       "margin": null,
       "max_height": null,
       "max_width": null,
       "min_height": null,
       "min_width": null,
       "object_fit": null,
       "object_position": null,
       "order": null,
       "overflow": null,
       "overflow_x": null,
       "overflow_y": null,
       "padding": null,
       "right": null,
       "top": null,
       "visibility": null,
       "width": null
      }
     },
     "a961553d4e66474b986f6d9279bc6cfe": {
      "model_module": "@jupyter-widgets/controls",
      "model_module_version": "1.5.0",
      "model_name": "ProgressStyleModel",
      "state": {
       "_model_module": "@jupyter-widgets/controls",
       "_model_module_version": "1.5.0",
       "_model_name": "ProgressStyleModel",
       "_view_count": null,
       "_view_module": "@jupyter-widgets/base",
       "_view_module_version": "1.2.0",
       "_view_name": "StyleView",
       "bar_color": null,
       "description_width": ""
      }
     },
     "b819c89091db48baa8d383ab5691e161": {
      "model_module": "@jupyter-widgets/controls",
      "model_module_version": "1.5.0",
      "model_name": "FloatProgressModel",
      "state": {
       "_dom_classes": [],
       "_model_module": "@jupyter-widgets/controls",
       "_model_module_version": "1.5.0",
       "_model_name": "FloatProgressModel",
       "_view_count": null,
       "_view_module": "@jupyter-widgets/controls",
       "_view_module_version": "1.5.0",
       "_view_name": "ProgressView",
       "bar_style": "success",
       "description": "",
       "description_tooltip": null,
       "layout": "IPY_MODEL_cf845fb3afc3455384caed6df36f6f45",
       "max": 4.0,
       "min": 0.0,
       "orientation": "horizontal",
       "style": "IPY_MODEL_a961553d4e66474b986f6d9279bc6cfe",
       "value": 4.0
      }
     },
     "cb6ac35c597a4aaaa22afa7869915e6c": {
      "model_module": "@jupyter-widgets/base",
      "model_module_version": "1.2.0",
      "model_name": "LayoutModel",
      "state": {
       "_model_module": "@jupyter-widgets/base",
       "_model_module_version": "1.2.0",
       "_model_name": "LayoutModel",
       "_view_count": null,
       "_view_module": "@jupyter-widgets/base",
       "_view_module_version": "1.2.0",
       "_view_name": "LayoutView",
       "align_content": null,
       "align_items": null,
       "align_self": null,
       "border": null,
       "bottom": null,
       "display": null,
       "flex": null,
       "flex_flow": null,
       "grid_area": null,
       "grid_auto_columns": null,
       "grid_auto_flow": null,
       "grid_auto_rows": null,
       "grid_column": null,
       "grid_gap": null,
       "grid_row": null,
       "grid_template_areas": null,
       "grid_template_columns": null,
       "grid_template_rows": null,
       "height": null,
       "justify_content": null,
       "justify_items": null,
       "left": null,
       "margin": null,
       "max_height": null,
       "max_width": null,
       "min_height": null,
       "min_width": null,
       "object_fit": null,
       "object_position": null,
       "order": null,
       "overflow": null,
       "overflow_x": null,
       "overflow_y": null,
       "padding": null,
       "right": null,
       "top": null,
       "visibility": null,
       "width": null
      }
     },
     "cf845fb3afc3455384caed6df36f6f45": {
      "model_module": "@jupyter-widgets/base",
      "model_module_version": "1.2.0",
      "model_name": "LayoutModel",
      "state": {
       "_model_module": "@jupyter-widgets/base",
       "_model_module_version": "1.2.0",
       "_model_name": "LayoutModel",
       "_view_count": null,
       "_view_module": "@jupyter-widgets/base",
       "_view_module_version": "1.2.0",
       "_view_name": "LayoutView",
       "align_content": null,
       "align_items": null,
       "align_self": null,
       "border": null,
       "bottom": null,
       "display": null,
       "flex": null,
       "flex_flow": null,
       "grid_area": null,
       "grid_auto_columns": null,
       "grid_auto_flow": null,
       "grid_auto_rows": null,
       "grid_column": null,
       "grid_gap": null,
       "grid_row": null,
       "grid_template_areas": null,
       "grid_template_columns": null,
       "grid_template_rows": null,
       "height": null,
       "justify_content": null,
       "justify_items": null,
       "left": null,
       "margin": null,
       "max_height": null,
       "max_width": null,
       "min_height": null,
       "min_width": null,
       "object_fit": null,
       "object_position": null,
       "order": null,
       "overflow": null,
       "overflow_x": null,
       "overflow_y": null,
       "padding": null,
       "right": null,
       "top": null,
       "visibility": null,
       "width": null
      }
     },
     "d449ab3082d846d9bfe6f759ce4b6961": {
      "model_module": "@jupyter-widgets/controls",
      "model_module_version": "1.5.0",
      "model_name": "DescriptionStyleModel",
      "state": {
       "_model_module": "@jupyter-widgets/controls",
       "_model_module_version": "1.5.0",
       "_model_name": "DescriptionStyleModel",
       "_view_count": null,
       "_view_module": "@jupyter-widgets/base",
       "_view_module_version": "1.2.0",
       "_view_name": "StyleView",
       "description_width": ""
      }
     },
     "d88b1744e4b248d4862767ee803c7a82": {
      "model_module": "@jupyter-widgets/controls",
      "model_module_version": "1.5.0",
      "model_name": "HTMLModel",
      "state": {
       "_dom_classes": [],
       "_model_module": "@jupyter-widgets/controls",
       "_model_module_version": "1.5.0",
       "_model_name": "HTMLModel",
       "_view_count": null,
       "_view_module": "@jupyter-widgets/controls",
       "_view_module_version": "1.5.0",
       "_view_name": "HTMLView",
       "description": "",
       "description_tooltip": null,
       "layout": "IPY_MODEL_9eb4ae5d3a0e4d26a146082921db36ad",
       "placeholder": "​",
       "style": "IPY_MODEL_2a4bb820c60e40c1ad0f64107d79c7f1",
       "value": " 4/4 [00:00&lt;00:00,  5.44it/s]"
      }
     }
    },
    "version_major": 2,
    "version_minor": 0
   }
  }
 },
 "nbformat": 4,
 "nbformat_minor": 5
}
