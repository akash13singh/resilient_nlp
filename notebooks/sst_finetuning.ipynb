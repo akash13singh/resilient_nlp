{
 "cells": [
  {
   "cell_type": "code",
   "execution_count": 1,
   "id": "4af76dd6",
   "metadata": {},
   "outputs": [],
   "source": [
    "from datasets import load_dataset, load_from_disk\n",
    "from transformers import BertModel, AutoTokenizer, DataCollatorWithPadding, PreTrainedModel, AutoConfig, Trainer, EarlyStoppingCallback, TrainingArguments\n",
    "from transformers.modeling_outputs import SequenceClassifierOutput\n",
    "import torch\n",
    "import torch.nn as nn\n",
    "from torch.utils.data import DataLoader\n",
    "from tqdm.auto import tqdm\n",
    "import time, datetime\n",
    "from datasets import load_metric\n",
    "import numpy as np\n",
    "from sklearn.metrics import accuracy_score, recall_score, precision_score, f1_score, classification_report"
   ]
  },
  {
   "cell_type": "code",
   "execution_count": 2,
   "id": "ba60034a",
   "metadata": {},
   "outputs": [
    {
     "data": {
      "text/plain": [
       "DatasetDict({\n",
       "    train: Dataset({\n",
       "        features: ['text', 'label', 'label_text', 'ternary_label'],\n",
       "        num_rows: 8544\n",
       "    })\n",
       "    test: Dataset({\n",
       "        features: ['text', 'label', 'label_text', 'ternary_label'],\n",
       "        num_rows: 2210\n",
       "    })\n",
       "    validation: Dataset({\n",
       "        features: ['text', 'label', 'label_text', 'ternary_label'],\n",
       "        num_rows: 1101\n",
       "    })\n",
       "})"
      ]
     },
     "execution_count": 2,
     "metadata": {},
     "output_type": "execute_result"
    }
   ],
   "source": [
    "sst = load_from_disk(\"../data/sst5\")\n",
    "sst"
   ]
  },
  {
   "cell_type": "code",
   "execution_count": 3,
   "id": "87cd5e4d-a87f-464a-9734-c7ac4ea59c52",
   "metadata": {},
   "outputs": [],
   "source": [
    "sst.set_format(\"pandas\")"
   ]
  },
  {
   "cell_type": "code",
   "execution_count": 4,
   "id": "5a70a05c-629b-464c-beb8-7d4497c082e6",
   "metadata": {},
   "outputs": [
    {
     "name": "stdout",
     "output_type": "stream",
     "text": [
      "2    0.422519\n",
      "0    0.387406\n",
      "1    0.190075\n",
      "Name: ternary_label, dtype: float64\n",
      "2    0.403270\n",
      "0    0.388738\n",
      "1    0.207993\n",
      "Name: ternary_label, dtype: float64\n",
      "0    0.412670\n",
      "2    0.411312\n",
      "1    0.176018\n",
      "Name: ternary_label, dtype: float64\n"
     ]
    }
   ],
   "source": [
    "print(sst['train']['ternary_label'].value_counts(normalize=True))\n",
    "print(sst['validation']['ternary_label'].value_counts(normalize=True))\n",
    "print(sst['test']['ternary_label'].value_counts(normalize=True))"
   ]
  },
  {
   "cell_type": "code",
   "execution_count": 5,
   "id": "30cfb5b5-7483-47c8-9be1-985420c0a1bc",
   "metadata": {},
   "outputs": [
    {
     "data": {
      "text/html": [
       "<div>\n",
       "<style scoped>\n",
       "    .dataframe tbody tr th:only-of-type {\n",
       "        vertical-align: middle;\n",
       "    }\n",
       "\n",
       "    .dataframe tbody tr th {\n",
       "        vertical-align: top;\n",
       "    }\n",
       "\n",
       "    .dataframe thead th {\n",
       "        text-align: right;\n",
       "    }\n",
       "</style>\n",
       "<table border=\"1\" class=\"dataframe\">\n",
       "  <thead>\n",
       "    <tr style=\"text-align: right;\">\n",
       "      <th></th>\n",
       "      <th>text</th>\n",
       "      <th>label</th>\n",
       "      <th>label_text</th>\n",
       "      <th>ternary_label</th>\n",
       "    </tr>\n",
       "  </thead>\n",
       "  <tbody>\n",
       "    <tr>\n",
       "      <th>0</th>\n",
       "      <td>no movement , no yuks , not much of anything .</td>\n",
       "      <td>1</td>\n",
       "      <td>negative</td>\n",
       "      <td>0</td>\n",
       "    </tr>\n",
       "    <tr>\n",
       "      <th>1</th>\n",
       "      <td>a gob of drivel so sickly sweet , even the eag...</td>\n",
       "      <td>0</td>\n",
       "      <td>very negative</td>\n",
       "      <td>0</td>\n",
       "    </tr>\n",
       "    <tr>\n",
       "      <th>2</th>\n",
       "      <td>` how many more voyages can this limping but d...</td>\n",
       "      <td>2</td>\n",
       "      <td>neutral</td>\n",
       "      <td>1</td>\n",
       "    </tr>\n",
       "    <tr>\n",
       "      <th>3</th>\n",
       "      <td>so relentlessly wholesome it made me want to s...</td>\n",
       "      <td>2</td>\n",
       "      <td>neutral</td>\n",
       "      <td>1</td>\n",
       "    </tr>\n",
       "    <tr>\n",
       "      <th>4</th>\n",
       "      <td>gangs of new york is an unapologetic mess , wh...</td>\n",
       "      <td>0</td>\n",
       "      <td>very negative</td>\n",
       "      <td>0</td>\n",
       "    </tr>\n",
       "  </tbody>\n",
       "</table>\n",
       "</div>"
      ],
      "text/plain": [
       "                                                text  label     label_text  \\\n",
       "0     no movement , no yuks , not much of anything .      1       negative   \n",
       "1  a gob of drivel so sickly sweet , even the eag...      0  very negative   \n",
       "2  ` how many more voyages can this limping but d...      2        neutral   \n",
       "3  so relentlessly wholesome it made me want to s...      2        neutral   \n",
       "4  gangs of new york is an unapologetic mess , wh...      0  very negative   \n",
       "\n",
       "   ternary_label  \n",
       "0              0  \n",
       "1              0  \n",
       "2              1  \n",
       "3              1  \n",
       "4              0  "
      ]
     },
     "execution_count": 5,
     "metadata": {},
     "output_type": "execute_result"
    }
   ],
   "source": [
    "sst['test'][:5]"
   ]
  },
  {
   "cell_type": "code",
   "execution_count": 6,
   "id": "fe512f45-90a1-445a-a380-b0d6cea6863d",
   "metadata": {},
   "outputs": [],
   "source": [
    "sst.set_format()"
   ]
  },
  {
   "cell_type": "code",
   "execution_count": 7,
   "id": "f859a168",
   "metadata": {},
   "outputs": [],
   "source": [
    "# max_sequence_length = 2\n",
    "# batch_size = 32\n",
    "# learning_rate=2e-05\n",
    "# num_epochs=2\n",
    "# num_log_steps = 1000\n",
    "# output_dir = \"../output/\"\n",
    "# model_dir = \"../models/\"\n",
    "# checkpoint = \"bert-base-uncased\"\n",
    "# eval_steps = 1000"
   ]
  },
  {
   "cell_type": "code",
   "execution_count": 8,
   "id": "cd6a4f95-b295-480e-9817-02f8e49f1477",
   "metadata": {},
   "outputs": [],
   "source": [
    "max_sequence_length = 6\n",
    "batch_size = 8\n",
    "eval_steps = 5\n",
    "learning_rate=2e-05\n",
    "num_train_epochs=3\n",
    "output_dir = \"../output/\"\n",
    "model_dir = \"../models/\"\n",
    "checkpoint = \"bert-base-uncased\"\n",
    "early_stopping_patience = 10"
   ]
  },
  {
   "cell_type": "code",
   "execution_count": 9,
   "id": "6a475072",
   "metadata": {},
   "outputs": [],
   "source": [
    "tokenizer = AutoTokenizer.from_pretrained(checkpoint)"
   ]
  },
  {
   "cell_type": "code",
   "execution_count": 10,
   "id": "3f944c88",
   "metadata": {},
   "outputs": [
    {
     "name": "stderr",
     "output_type": "stream",
     "text": [
      "Loading cached processed dataset at ../data/sst5/train/cache-511cc9f3c86622a9.arrow\n",
      "Loading cached processed dataset at ../data/sst5/test/cache-caf78cf3dbbb038b.arrow\n",
      "Loading cached processed dataset at ../data/sst5/validation/cache-f216719faa867d9e.arrow\n"
     ]
    }
   ],
   "source": [
    "def tokenize_function(example):\n",
    "    return tokenizer(example[\"text\"],  truncation=True, padding=\"max_length\", max_length=max_sequence_length)\n",
    "\n",
    "tokenized_datasets = sst.map(tokenize_function, batched=True)\n",
    "data_collator = DataCollatorWithPadding(tokenizer=tokenizer)"
   ]
  },
  {
   "cell_type": "code",
   "execution_count": null,
   "id": "9e5905d9-51a8-49e6-8ff0-9c0e334c6411",
   "metadata": {},
   "outputs": [],
   "source": []
  },
  {
   "cell_type": "code",
   "execution_count": 11,
   "id": "d71e2fec",
   "metadata": {},
   "outputs": [
    {
     "data": {
      "text/plain": [
       "['text', 'labels', 'input_ids', 'token_type_ids', 'attention_mask']"
      ]
     },
     "execution_count": 11,
     "metadata": {},
     "output_type": "execute_result"
    }
   ],
   "source": [
    "tokenized_datasets = tokenized_datasets.remove_columns([ 'label_text', 'label'])\n",
    "tokenized_datasets = tokenized_datasets.rename_column(\"ternary_label\", \"labels\")\n",
    "tokenized_datasets.set_format(\"torch\")\n",
    "tokenized_datasets[\"train\"].column_names"
   ]
  },
  {
   "cell_type": "code",
   "execution_count": 12,
   "id": "a091fd82",
   "metadata": {},
   "outputs": [],
   "source": [
    "class Classifier(PreTrainedModel):\n",
    "    def __init__(self, checkpoint, n_classes):\n",
    "        \n",
    "        super().__init__(AutoConfig.from_pretrained(checkpoint))\n",
    "        self.n_classes = n_classes\n",
    "        self.model = BertModel.from_pretrained(checkpoint, num_labels=self.n_classes)\n",
    "        self.dropout = nn.Dropout(0.1) \n",
    "        self.hidden_dim = self.model.embeddings.word_embeddings.embedding_dim\n",
    "        self.classifier_layer = nn.Linear(self.hidden_dim, self.n_classes)\n",
    "        \n",
    "    def forward(self, input_ids=None, attention_mask=None,labels=None, token_type_ids=None):\n",
    "        outputs = self.model(input_ids=input_ids, attention_mask=attention_mask, )\n",
    "        # print(attention_mask)\n",
    "        # cls_rep = outputs['last_hidden_state'][:,0,:]\n",
    "        # cls_rep = self.dropout(cls_rep)\n",
    "        # logits =self.classifier_layer(cls_rep)\n",
    "        \n",
    "        embeds = outputs.last_hidden_state[:,1:,:]\n",
    "        attentions = attention_mask[:,1:].unsqueeze(-1)\n",
    "        # print(embeds.shape)\n",
    "        # print(attentions.shape)\n",
    "        mean_embeds = torch.sum(embeds * attentions, axis=1)/ (torch.sum(attentions,axis=1))\n",
    "        logits =self.classifier_layer(mean_embeds)\n",
    "        \n",
    "        loss = None\n",
    "        if labels is not None:\n",
    "            # print(logits.shape, labels.shape)\n",
    "            loss_fct = nn.CrossEntropyLoss()\n",
    "            loss = loss_fct(logits, labels)\n",
    "\n",
    "        return SequenceClassifierOutput(loss=loss, logits=logits, hidden_states=outputs.hidden_states,attentions=outputs.attentions)"
   ]
  },
  {
   "cell_type": "code",
   "execution_count": 13,
   "id": "519bd09e",
   "metadata": {},
   "outputs": [],
   "source": [
    "device = torch.device(\"cuda\") if torch.cuda.is_available() else torch.device(\"cpu\")"
   ]
  },
  {
   "cell_type": "code",
   "execution_count": 14,
   "id": "84a78563",
   "metadata": {},
   "outputs": [
    {
     "name": "stderr",
     "output_type": "stream",
     "text": [
      "Some weights of the model checkpoint at bert-base-uncased were not used when initializing BertModel: ['cls.predictions.transform.LayerNorm.weight', 'cls.predictions.decoder.weight', 'cls.predictions.bias', 'cls.predictions.transform.LayerNorm.bias', 'cls.predictions.transform.dense.bias', 'cls.predictions.transform.dense.weight', 'cls.seq_relationship.bias', 'cls.seq_relationship.weight']\n",
      "- This IS expected if you are initializing BertModel from the checkpoint of a model trained on another task or with another architecture (e.g. initializing a BertForSequenceClassification model from a BertForPreTraining model).\n",
      "- This IS NOT expected if you are initializing BertModel from the checkpoint of a model that you expect to be exactly identical (initializing a BertForSequenceClassification model from a BertForSequenceClassification model).\n"
     ]
    },
    {
     "data": {
      "text/plain": [
       "device(type='cpu')"
      ]
     },
     "execution_count": 14,
     "metadata": {},
     "output_type": "execute_result"
    }
   ],
   "source": [
    "\n",
    "model=Classifier(checkpoint=checkpoint,n_classes=3).to(device)\n",
    "device"
   ]
  },
  {
   "cell_type": "code",
   "execution_count": 15,
   "id": "7a400d08-9e35-43e9-9fad-fe9e5851eb89",
   "metadata": {},
   "outputs": [],
   "source": [
    "def compute_metrics(p):    \n",
    "    pred, labels = p\n",
    "    pred = np.argmax(pred, axis=1)\n",
    "    accuracy = accuracy_score(y_true=labels, y_pred=pred)\n",
    "    recall = recall_score(y_true=labels, y_pred=pred, average=\"macro\")\n",
    "    precision = precision_score(y_true=labels, y_pred=pred, average=\"macro\")\n",
    "    f1 = f1_score(y_true=labels, y_pred=pred,average=\"macro\")    \n",
    "    return {\"accuracy\": accuracy, \"precision\": precision, \"recall\": recall, \"f1\": f1}"
   ]
  },
  {
   "cell_type": "code",
   "execution_count": 16,
   "id": "6f425156-254b-4732-b539-5f4248a92890",
   "metadata": {},
   "outputs": [
    {
     "data": {
      "text/plain": [
       "5"
      ]
     },
     "execution_count": 16,
     "metadata": {},
     "output_type": "execute_result"
    }
   ],
   "source": [
    "eval_steps"
   ]
  },
  {
   "cell_type": "code",
   "execution_count": 17,
   "id": "bd2c974e-bd61-4259-b806-a6860c17439b",
   "metadata": {},
   "outputs": [],
   "source": [
    "training_args = TrainingArguments(\n",
    "   output_dir+\"bert-base-uncased-sst3\",\n",
    "   evaluation_strategy ='steps',\n",
    "   eval_steps = eval_steps , # Evaluation and Save happens every eval_steps steps\n",
    "   save_total_limit = 1, # Only last  model is saved. Older ones are deleted.\n",
    "   learning_rate=learning_rate,\n",
    "   per_device_train_batch_size=batch_size,\n",
    "   per_device_eval_batch_size=batch_size,\n",
    "   num_train_epochs=num_train_epochs,\n",
    "   metric_for_best_model = 'f1',\n",
    "   load_best_model_at_end=True,\n",
    "   save_steps = eval_steps)"
   ]
  },
  {
   "cell_type": "code",
   "execution_count": 18,
   "id": "1a3dee60-cd34-4755-b87a-fd293aa7f976",
   "metadata": {},
   "outputs": [],
   "source": [
    "from transformers import Trainer, EarlyStoppingCallback\n",
    "\n",
    "trainer = Trainer(\n",
    "    model,\n",
    "    training_args,\n",
    "    train_dataset=tokenized_datasets[\"train\"].select(range(32)),\n",
    "    eval_dataset=tokenized_datasets[\"validation\"].select(range(32)),\n",
    "    data_collator=data_collator,\n",
    "    tokenizer=tokenizer,\n",
    "    callbacks = [EarlyStoppingCallback(early_stopping_patience=early_stopping_patience)],\n",
    "    compute_metrics=compute_metrics,\n",
    ")\n"
   ]
  },
  {
   "cell_type": "code",
   "execution_count": 19,
   "id": "7bfcda2a-55c3-4cff-8b0e-9fb1e0354f72",
   "metadata": {},
   "outputs": [
    {
     "name": "stderr",
     "output_type": "stream",
     "text": [
      "The following columns in the training set  don't have a corresponding argument in `Classifier.forward` and have been ignored: text. If text are not expected by `Classifier.forward`,  you can safely ignore this message.\n",
      "/Users/user/opt/anaconda3/envs/local_nmt/lib/python3.7/site-packages/transformers/optimization.py:309: FutureWarning: This implementation of AdamW is deprecated and will be removed in a future version. Use the PyTorch implementation torch.optim.AdamW instead, or set `no_deprecation_warning=True` to disable this warning\n",
      "  FutureWarning,\n",
      "***** Running training *****\n",
      "  Num examples = 32\n",
      "  Num Epochs = 3\n",
      "  Instantaneous batch size per device = 8\n",
      "  Total train batch size (w. parallel, distributed & accumulation) = 8\n",
      "  Gradient Accumulation steps = 1\n",
      "  Total optimization steps = 12\n"
     ]
    },
    {
     "data": {
      "text/html": [
       "\n",
       "    <div>\n",
       "      \n",
       "      <progress value='12' max='12' style='width:300px; height:20px; vertical-align: middle;'></progress>\n",
       "      [12/12 00:12, Epoch 3/3]\n",
       "    </div>\n",
       "    <table border=\"1\" class=\"dataframe\">\n",
       "  <thead>\n",
       " <tr style=\"text-align: left;\">\n",
       "      <th>Step</th>\n",
       "      <th>Training Loss</th>\n",
       "      <th>Validation Loss</th>\n",
       "      <th>Accuracy</th>\n",
       "      <th>Precision</th>\n",
       "      <th>Recall</th>\n",
       "      <th>F1</th>\n",
       "    </tr>\n",
       "  </thead>\n",
       "  <tbody>\n",
       "    <tr>\n",
       "      <td>5</td>\n",
       "      <td>No log</td>\n",
       "      <td>1.126506</td>\n",
       "      <td>0.343750</td>\n",
       "      <td>0.273810</td>\n",
       "      <td>0.328283</td>\n",
       "      <td>0.237179</td>\n",
       "    </tr>\n",
       "    <tr>\n",
       "      <td>10</td>\n",
       "      <td>No log</td>\n",
       "      <td>1.152663</td>\n",
       "      <td>0.343750</td>\n",
       "      <td>0.273810</td>\n",
       "      <td>0.328283</td>\n",
       "      <td>0.237179</td>\n",
       "    </tr>\n",
       "  </tbody>\n",
       "</table><p>"
      ],
      "text/plain": [
       "<IPython.core.display.HTML object>"
      ]
     },
     "metadata": {},
     "output_type": "display_data"
    },
    {
     "name": "stderr",
     "output_type": "stream",
     "text": [
      "The following columns in the evaluation set  don't have a corresponding argument in `Classifier.forward` and have been ignored: text. If text are not expected by `Classifier.forward`,  you can safely ignore this message.\n",
      "***** Running Evaluation *****\n",
      "  Num examples = 32\n",
      "  Batch size = 8\n",
      "/Users/user/opt/anaconda3/envs/local_nmt/lib/python3.7/site-packages/sklearn/metrics/_classification.py:1318: UndefinedMetricWarning: Precision is ill-defined and being set to 0.0 in labels with no predicted samples. Use `zero_division` parameter to control this behavior.\n",
      "  _warn_prf(average, modifier, msg_start, len(result))\n",
      "Saving model checkpoint to ../output/bert-base-uncased-sst3/checkpoint-5\n",
      "Configuration saved in ../output/bert-base-uncased-sst3/checkpoint-5/config.json\n",
      "Model weights saved in ../output/bert-base-uncased-sst3/checkpoint-5/pytorch_model.bin\n",
      "tokenizer config file saved in ../output/bert-base-uncased-sst3/checkpoint-5/tokenizer_config.json\n",
      "Special tokens file saved in ../output/bert-base-uncased-sst3/checkpoint-5/special_tokens_map.json\n",
      "Deleting older checkpoint [../output/bert-base-uncased-sst3/checkpoint-3] due to args.save_total_limit\n",
      "Deleting older checkpoint [../output/bert-base-uncased-sst3/checkpoint-4] due to args.save_total_limit\n",
      "The following columns in the evaluation set  don't have a corresponding argument in `Classifier.forward` and have been ignored: text. If text are not expected by `Classifier.forward`,  you can safely ignore this message.\n",
      "***** Running Evaluation *****\n",
      "  Num examples = 32\n",
      "  Batch size = 8\n",
      "/Users/user/opt/anaconda3/envs/local_nmt/lib/python3.7/site-packages/sklearn/metrics/_classification.py:1318: UndefinedMetricWarning: Precision is ill-defined and being set to 0.0 in labels with no predicted samples. Use `zero_division` parameter to control this behavior.\n",
      "  _warn_prf(average, modifier, msg_start, len(result))\n",
      "Saving model checkpoint to ../output/bert-base-uncased-sst3/checkpoint-10\n",
      "Configuration saved in ../output/bert-base-uncased-sst3/checkpoint-10/config.json\n",
      "Model weights saved in ../output/bert-base-uncased-sst3/checkpoint-10/pytorch_model.bin\n",
      "tokenizer config file saved in ../output/bert-base-uncased-sst3/checkpoint-10/tokenizer_config.json\n",
      "Special tokens file saved in ../output/bert-base-uncased-sst3/checkpoint-10/special_tokens_map.json\n",
      "\n",
      "\n",
      "Training completed. Do not forget to share your model on huggingface.co/models =)\n",
      "\n",
      "\n",
      "Loading best model from ../output/bert-base-uncased-sst3/checkpoint-5 (score: 0.2371794871794872).\n"
     ]
    },
    {
     "data": {
      "text/plain": [
       "TrainOutput(global_step=12, training_loss=0.9552624225616455, metrics={'train_runtime': 14.232, 'train_samples_per_second': 6.745, 'train_steps_per_second': 0.843, 'total_flos': 296002594944.0, 'train_loss': 0.9552624225616455, 'epoch': 3.0})"
      ]
     },
     "execution_count": 19,
     "metadata": {},
     "output_type": "execute_result"
    }
   ],
   "source": [
    "trainer.train()"
   ]
  },
  {
   "cell_type": "code",
   "execution_count": 20,
   "id": "cd64a41d-3ee7-4b9e-8033-0037fe3e1703",
   "metadata": {},
   "outputs": [],
   "source": [
    "trainer_eval = Trainer(\n",
    "    model,\n",
    "    training_args,\n",
    "    data_collator=data_collator,\n",
    "    tokenizer=tokenizer,\n",
    "    compute_metrics=compute_metrics,\n",
    ")\n"
   ]
  },
  {
   "cell_type": "code",
   "execution_count": null,
   "id": "3fe2842c-c903-4bd5-80f9-d291218890de",
   "metadata": {},
   "outputs": [],
   "source": [
    "predictions = trainer_eval.predict(tokenized_datasets[\"test\"].shuffle().select(range(1000)))\n",
    "print(predictions.predictions.shape, predictions.label_ids.shape)\n",
    "preds = np.argmax(predictions.predictions, axis=-1)\n",
    "print(classification_report(predictions.label_ids, preds))"
   ]
  },
  {
   "cell_type": "code",
   "execution_count": null,
   "id": "b6d48085",
   "metadata": {},
   "outputs": [],
   "source": [
    "model.save_pretrained(model_dir+\"bert-base-uncased-sst3\")"
   ]
  },
  {
   "cell_type": "code",
   "execution_count": null,
   "id": "9925f041-19f3-44f3-82b0-72fe4733af07",
   "metadata": {},
   "outputs": [],
   "source": [
    "#model.push_to_hub(\"redacted/bert-base-uncased-sst3\")"
   ]
  },
  {
   "cell_type": "code",
   "execution_count": null,
   "id": "468d14c6-cd17-4126-b67a-751bee9eac65",
   "metadata": {},
   "outputs": [],
   "source": [
    "from transformers import AutoModelForSequenceClassification, BertForSequenceClassification\n",
    "model_finetuned = BertForSequenceClassification.from_pretrained(\"../output/huggingface/test_model\")"
   ]
  },
  {
   "cell_type": "code",
   "execution_count": 21,
   "id": "270d0cf3-8f4d-4d7c-9e17-541a26655e82",
   "metadata": {},
   "outputs": [
    {
     "data": {
      "text/plain": [
       "'4.17.0'"
      ]
     },
     "execution_count": 21,
     "metadata": {},
     "output_type": "execute_result"
    }
   ],
   "source": [
    "import transformers\n",
    "transformers.__version__"
   ]
  },
  {
   "cell_type": "code",
   "execution_count": null,
   "id": "e178af08-cbfd-4250-8571-6db67068b87c",
   "metadata": {},
   "outputs": [],
   "source": []
  }
 ],
 "metadata": {
  "kernelspec": {
   "display_name": "local_nmt",
   "language": "python",
   "name": "local_nmt"
  },
  "language_info": {
   "codemirror_mode": {
    "name": "ipython",
    "version": 3
   },
   "file_extension": ".py",
   "mimetype": "text/x-python",
   "name": "python",
   "nbconvert_exporter": "python",
   "pygments_lexer": "ipython3",
   "version": "3.7.11"
  }
 },
 "nbformat": 4,
 "nbformat_minor": 5
}
