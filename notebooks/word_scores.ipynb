{
 "cells": [
  {
   "cell_type": "code",
   "execution_count": 575,
   "id": "db1d55c6",
   "metadata": {},
   "outputs": [],
   "source": [
    "from datasets import load_dataset, DatasetDict, load_from_disk\n",
    "from transformers import AutoTokenizer, DataCollatorWithPadding\n",
    "import torch\n",
    "import pandas as pd\n",
    "import numpy as np\n",
    "from collections import Counter"
   ]
  },
  {
   "cell_type": "code",
   "execution_count": 576,
   "id": "9455b672",
   "metadata": {},
   "outputs": [],
   "source": [
    "imdb = load_from_disk(\"../data/imdb2\")"
   ]
  },
  {
   "cell_type": "code",
   "execution_count": 577,
   "id": "6ae28502",
   "metadata": {},
   "outputs": [
    {
     "data": {
      "text/plain": [
       "DatasetDict({\n",
       "    train: Dataset({\n",
       "        features: ['text', 'label'],\n",
       "        num_rows: 25000\n",
       "    })\n",
       "    dev: Dataset({\n",
       "        features: ['text', 'label'],\n",
       "        num_rows: 1000\n",
       "    })\n",
       "    test: Dataset({\n",
       "        features: ['text', 'label'],\n",
       "        num_rows: 24000\n",
       "    })\n",
       "    attack_eval_truncated: Dataset({\n",
       "        features: ['text', 'label'],\n",
       "        num_rows: 500\n",
       "    })\n",
       "})"
      ]
     },
     "execution_count": 577,
     "metadata": {},
     "output_type": "execute_result"
    }
   ],
   "source": [
    "imdb "
   ]
  },
  {
   "cell_type": "markdown",
   "id": "4c5ad429-729d-44fc-868b-068a3b557105",
   "metadata": {},
   "source": [
    "## 1. TF IDF method"
   ]
  },
  {
   "cell_type": "code",
   "execution_count": 4,
   "id": "ea4e4044",
   "metadata": {},
   "outputs": [],
   "source": [
    "\n",
    "def truncate(example, max_words=110):\n",
    "    text = example['text']\n",
    "    label = example['label']\n",
    "    \n",
    "    text = text.split()\n",
    "    if len(text) > max_words:\n",
    "        text = text[:max_words]\n",
    "        \n",
    "    # if label==0:\n",
    "    #     count_neg.update(text)\n",
    "    # elif label==1:\n",
    "    #     count_pos.update(text)\n",
    "    \n",
    "    text = \" \".join(text)\n",
    "    return {'text_truncated': text}\n",
    "\n"
   ]
  },
  {
   "cell_type": "code",
   "execution_count": 5,
   "id": "359f5922",
   "metadata": {},
   "outputs": [],
   "source": [
    "pos_corpus = []\n",
    "neg_corpus= []\n",
    "\n",
    "for label, text in zip(imdb['train']['label'],imdb['train']['text']):\n",
    "    text = text.lower().split()\n",
    "    if label==0:\n",
    "        neg_corpus.extend(text)\n",
    "    elif label==1:\n",
    "        pos_corpus.extend(text) "
   ]
  },
  {
   "cell_type": "code",
   "execution_count": 6,
   "id": "67435fb1",
   "metadata": {},
   "outputs": [
    {
     "data": {
      "text/plain": [
       "(2885848, 2958832)"
      ]
     },
     "execution_count": 6,
     "metadata": {},
     "output_type": "execute_result"
    }
   ],
   "source": [
    "len(neg_corpus), len(pos_corpus)"
   ]
  },
  {
   "cell_type": "code",
   "execution_count": 7,
   "id": "194cb7b8",
   "metadata": {},
   "outputs": [],
   "source": [
    "neg_corpus = \" \".join(neg_corpus)"
   ]
  },
  {
   "cell_type": "code",
   "execution_count": 8,
   "id": "2393823f",
   "metadata": {},
   "outputs": [],
   "source": [
    "pos_corpus = \" \".join(pos_corpus)"
   ]
  },
  {
   "cell_type": "code",
   "execution_count": 9,
   "id": "48423734",
   "metadata": {},
   "outputs": [
    {
     "data": {
      "text/plain": [
       "16851768"
      ]
     },
     "execution_count": 9,
     "metadata": {},
     "output_type": "execute_result"
    }
   ],
   "source": [
    "len(pos_corpus)"
   ]
  },
  {
   "cell_type": "code",
   "execution_count": 10,
   "id": "9943fe8a",
   "metadata": {},
   "outputs": [],
   "source": [
    "from sklearn.feature_extraction import text\n",
    "from sklearn.feature_extraction.text import TfidfVectorizer\n",
    "\n",
    "stop_words = text.ENGLISH_STOP_WORDS.union([\"book\"])\n",
    "from sklearn.feature_extraction.text import TfidfVectorizer\n",
    "corpus = [neg_corpus, pos_corpus]\n",
    "vectorizer = TfidfVectorizer(stop_words=stop_words)\n",
    "X = vectorizer.fit_transform(corpus)"
   ]
  },
  {
   "cell_type": "code",
   "execution_count": 11,
   "id": "505ad43b",
   "metadata": {},
   "outputs": [
    {
     "data": {
      "text/plain": [
       "(2, 74537)"
      ]
     },
     "execution_count": 11,
     "metadata": {},
     "output_type": "execute_result"
    }
   ],
   "source": [
    "X.shape"
   ]
  },
  {
   "cell_type": "markdown",
   "id": "9cb5468e-9b76-4b72-b4d7-9cccdeb654c9",
   "metadata": {},
   "source": [
    "#### TF-IDF does not work"
   ]
  },
  {
   "cell_type": "code",
   "execution_count": 578,
   "id": "e79b5e9d",
   "metadata": {},
   "outputs": [
    {
     "name": "stderr",
     "output_type": "stream",
     "text": [
      "/Users/user/opt/anaconda3/envs/local_nmt/lib/python3.7/site-packages/sklearn/utils/deprecation.py:87: FutureWarning: Function get_feature_names is deprecated; get_feature_names is deprecated in 1.0 and will be removed in 1.2. Please use get_feature_names_out instead.\n",
      "  warnings.warn(msg, category=FutureWarning)\n"
     ]
    },
    {
     "data": {
      "text/plain": [
       "[('br', 0.7372279087289554),\n",
       " ('movie', 0.349719652957164),\n",
       " ('film', 0.2691842689007864),\n",
       " ('like', 0.15744317429178104),\n",
       " ('just', 0.14874535281369225),\n",
       " ('good', 0.1039676792783463),\n",
       " ('bad', 0.10365954389586972),\n",
       " ('really', 0.08772054092958141),\n",
       " ('time', 0.08699222093463678),\n",
       " ('don', 0.0751150025555397),\n",
       " ('story', 0.07295805487820367),\n",
       " ('people', 0.06732758107113171),\n",
       " ('make', 0.0661370580024722),\n",
       " ('plot', 0.05819556882682592),\n",
       " ('movies', 0.05715911344940472),\n",
       " ('acting', 0.05680895960568134),\n",
       " ('way', 0.05587054730450267),\n",
       " ('think', 0.051010411953622145),\n",
       " ('characters', 0.05042215349616687),\n",
       " ('watch', 0.049721845808720105)]"
      ]
     },
     "execution_count": 578,
     "metadata": {},
     "output_type": "execute_result"
    }
   ],
   "source": [
    "neg_word_scores = dict(zip(vectorizer.get_feature_names(), X.toarray()[0]))\n",
    "sorted(neg_word_scores.items(), key = lambda x:x[1], reverse=True)[:20]"
   ]
  },
  {
   "cell_type": "code",
   "execution_count": 579,
   "id": "47c488f3",
   "metadata": {},
   "outputs": [
    {
     "data": {
      "text/plain": [
       "[('br', 0.7403070234791804),\n",
       " ('film', 0.314857907416554),\n",
       " ('movie', 0.2868605137389216),\n",
       " ('like', 0.13592719594296315),\n",
       " ('good', 0.11613956432117781),\n",
       " ('just', 0.10756893360353523),\n",
       " ('story', 0.10193036076298088),\n",
       " ('time', 0.09797584167747211),\n",
       " ('great', 0.09651733083604873),\n",
       " ('really', 0.08232316347209329),\n",
       " ('people', 0.06736215020182244),\n",
       " ('best', 0.06495635912318592),\n",
       " ('love', 0.06468570762683933),\n",
       " ('life', 0.06319712439693298),\n",
       " ('way', 0.060701116152847595),\n",
       " ('films', 0.05733300864275647),\n",
       " ('think', 0.05495728995260291),\n",
       " ('movies', 0.05393482874418239),\n",
       " ('characters', 0.053513815305421),\n",
       " ('character', 0.05286725895303744)]"
      ]
     },
     "execution_count": 579,
     "metadata": {},
     "output_type": "execute_result"
    }
   ],
   "source": [
    "pos_word_scores = dict(zip(vectorizer.get_feature_names(), X.toarray()[1]))\n",
    "sorted(pos_word_scores.items(), key = lambda x:x[1], reverse=True)[:20]"
   ]
  },
  {
   "cell_type": "markdown",
   "id": "10e684a9-83c2-422b-bdbc-fa37edae853f",
   "metadata": {},
   "source": [
    "### PreProcessing"
   ]
  },
  {
   "cell_type": "code",
   "execution_count": 580,
   "id": "37d83796-3d61-47b7-9c2e-c27fd718c7b3",
   "metadata": {},
   "outputs": [],
   "source": [
    "import re                                  # library for regular expression operations\n",
    "import string                              # for string operations\n",
    "from nltk.corpus import stopwords          # module for stop words that come with NLTK\n",
    "from nltk.stem import PorterStemmer        # module for stemming\n",
    "from nltk import tokenize   # module for tokenizing strings"
   ]
  },
  {
   "cell_type": "code",
   "execution_count": 585,
   "id": "21767143-a45f-48fe-8cf0-a3f6773c3e99",
   "metadata": {},
   "outputs": [],
   "source": [
    "stopwords_english = stopwords.words('english') \n",
    "\n",
    "def preprocess(sent):\n",
    "    clean_sent = []\n",
    "    tokenizer = tokenize.TweetTokenizer(preserve_case=False, strip_handles=True, reduce_len=True)\n",
    "    stemmer = PorterStemmer()\n",
    "    \n",
    "    sent = tokenizer.tokenize(sent,)\n",
    "    #sent = tokenize.wordpunct_tokenize(sent.lower())\n",
    "    \n",
    "    for word in sent:\n",
    "        if (word not in stopwords_english and word not in string.punctuation):  # remove stopwords, punctuation \n",
    "            word = stemmer.stem(word) \n",
    "            clean_sent.append(word)\n",
    "    return clean_sent\n",
    "\n",
    "\n"
   ]
  },
  {
   "cell_type": "code",
   "execution_count": 586,
   "id": "6163c21b-8f28-4cfe-a1e7-74cb373270df",
   "metadata": {},
   "outputs": [
    {
     "name": "stdout",
     "output_type": "stream",
     "text": [
      "Hello! my favorite movie is The Wonderful Life! It is a 10/10 movie. I liked it a lot!!! :) fucking-shit!!\n",
      "['hello', 'favorit', 'movi', 'wonder', 'life', '10/10', 'movi', 'like', 'lot', ':)', 'fucking-shit']\n"
     ]
    }
   ],
   "source": [
    "sent = \"Hello! my favorite movie is The Wonderful Life! It is a 10/10 movie. I liked it a lot!!! :) fucking-shit!!\"\n",
    "print(sent)\n",
    "print(preprocess(sent))"
   ]
  },
  {
   "cell_type": "code",
   "execution_count": 587,
   "id": "80e8f794-6777-4367-8361-cf782a299ae4",
   "metadata": {},
   "outputs": [
    {
     "name": "stdout",
     "output_type": "stream",
     "text": [
      "['hello', 'favorit', 'movi', 'wonder', 'life', '10/10', 'movi', 'like', 'lot', ':)', 'fucking-shit']\n"
     ]
    }
   ],
   "source": [
    "print(preprocess(sent))"
   ]
  },
  {
   "cell_type": "markdown",
   "id": "e18c82c8-69c7-41d2-b0a2-fe2bdd602d34",
   "metadata": {},
   "source": [
    "## 2. Simple count based method"
   ]
  },
  {
   "cell_type": "code",
   "execution_count": 18,
   "id": "37e72ae6-4017-4a68-bb52-35b5dd38e2d3",
   "metadata": {},
   "outputs": [],
   "source": [
    "positive_counts = Counter()\n",
    "negative_counts = Counter()\n",
    "total_counts = Counter()"
   ]
  },
  {
   "cell_type": "code",
   "execution_count": 19,
   "id": "a467d5ac-df4f-47c5-852e-3d5409b14dc9",
   "metadata": {},
   "outputs": [],
   "source": [
    "splits = ['train', 'test', 'dev']\n",
    "for split in splits:\n",
    "    for label, text in zip(imdb[split]['label'],imdb[split]['text']):\n",
    "        text = text.lower()\n",
    "        text = preprocess(text)\n",
    "        for word in text:\n",
    "            if label==1:\n",
    "                positive_counts[word]+=1\n",
    "            elif label==0:\n",
    "                negative_counts[word]+=1\n",
    "            total_counts[word]+=1"
   ]
  },
  {
   "cell_type": "code",
   "execution_count": 20,
   "id": "74ed6773-55f6-4d71-ba6f-ed6e83f22f4f",
   "metadata": {},
   "outputs": [
    {
     "data": {
      "text/plain": [
       "[('br', 97954),\n",
       " ('film', 40342),\n",
       " ('movie', 36987),\n",
       " ('one', 26409),\n",
       " ('like', 17269),\n",
       " ('good', 14667),\n",
       " ('great', 12879),\n",
       " ('story', 12675),\n",
       " ('time', 12212),\n",
       " ('see', 12017)]"
      ]
     },
     "execution_count": 20,
     "metadata": {},
     "output_type": "execute_result"
    }
   ],
   "source": [
    "positive_counts.most_common()[0:10]"
   ]
  },
  {
   "cell_type": "code",
   "execution_count": 21,
   "id": "2b2403ba-6cba-430e-8225-3911bf4cfd6f",
   "metadata": {},
   "outputs": [
    {
     "data": {
      "text/plain": [
       "[('br', 103997),\n",
       " ('movie', 48870),\n",
       " ('film', 36029),\n",
       " ('one', 25292),\n",
       " ('like', 21975),\n",
       " ('even', 15172),\n",
       " ('bad', 14493),\n",
       " ('good', 14424),\n",
       " ('...', 14038),\n",
       " ('would', 13666)]"
      ]
     },
     "execution_count": 21,
     "metadata": {},
     "output_type": "execute_result"
    }
   ],
   "source": [
    "negative_counts.most_common()[0:10]"
   ]
  },
  {
   "cell_type": "markdown",
   "id": "c077bd13-0afd-45e0-b424-076f2f6e5547",
   "metadata": {},
   "source": [
    "#### compute ratios of +ve to -ve counts"
   ]
  },
  {
   "cell_type": "code",
   "execution_count": 22,
   "id": "4d5a1cd0-68e7-461d-b464-7d0047ccbf2c",
   "metadata": {},
   "outputs": [],
   "source": [
    "pos_neg_ratios = Counter()\n",
    "\n",
    "for term,cnt in list(total_counts.most_common()):\n",
    "    if(cnt > 100):\n",
    "        pos_neg_ratio = positive_counts[term] / float(negative_counts[term]+1)\n",
    "        pos_neg_ratios[term] = pos_neg_ratio"
   ]
  },
  {
   "cell_type": "code",
   "execution_count": 23,
   "id": "c1fc09f9-1b45-409a-8f57-3c3616983e9c",
   "metadata": {},
   "outputs": [
    {
     "data": {
      "text/plain": [
       "[('ponyo', 134.0),\n",
       " ('7/10', 26.6),\n",
       " ('custer', 19.25),\n",
       " ('edie', 19.0),\n",
       " ('9/10', 17.166666666666668),\n",
       " ('felix', 15.8),\n",
       " ('matthau', 15.266666666666667),\n",
       " ('8/', 15.0),\n",
       " ('10/10', 13.08108108108108),\n",
       " ('miyazaki', 12.222222222222221),\n",
       " ('paulie', 11.666666666666666),\n",
       " ('devito', 11.222222222222221),\n",
       " ('haines', 9.818181818181818),\n",
       " ('flawless', 8.48),\n",
       " ('perfection', 7.757575757575758),\n",
       " ('superbly', 7.571428571428571),\n",
       " ('understated', 7.5),\n",
       " ('wonderfully', 7.333333333333333),\n",
       " ('lemmon', 7.2),\n",
       " ('must-see', 7.068965517241379)]"
      ]
     },
     "execution_count": 23,
     "metadata": {},
     "output_type": "execute_result"
    }
   ],
   "source": [
    "pos_neg_ratios.most_common()[0:20]"
   ]
  },
  {
   "cell_type": "code",
   "execution_count": 24,
   "id": "da1d3c74-47ef-41f4-a53c-1d96111ced03",
   "metadata": {},
   "outputs": [
    {
     "data": {
      "text/plain": [
       "[('uwe', 0.006578947368421052),\n",
       " ('boll', 0.010810810810810811),\n",
       " ('2/10', 0.017094017094017096),\n",
       " ('3/10', 0.01910828025477707),\n",
       " ('1/10', 0.03103448275862069),\n",
       " ('4/10', 0.03333333333333333),\n",
       " ('stinker', 0.04225352112676056),\n",
       " ('3k', 0.048701298701298704),\n",
       " ('mst', 0.05309734513274336),\n",
       " ('turd', 0.06),\n",
       " ('waste', 0.0671527244819647),\n",
       " ('unwatchable', 0.07142857142857142),\n",
       " ('yawn', 0.072),\n",
       " ('seagal', 0.07222222222222222),\n",
       " ('incoherent', 0.08444444444444445),\n",
       " ('unfunny', 0.08478260869565217),\n",
       " ('wasting', 0.09056603773584905),\n",
       " ('worst', 0.09135802469135802),\n",
       " ('camcorder', 0.09259259259259259),\n",
       " ('ugh', 0.096)]"
      ]
     },
     "execution_count": 24,
     "metadata": {},
     "output_type": "execute_result"
    }
   ],
   "source": [
    "pos_neg_ratios.most_common()[::-1][0:20]"
   ]
  },
  {
   "cell_type": "markdown",
   "id": "9b955c04-a8f1-4443-8034-c12cfc55787e",
   "metadata": {},
   "source": [
    "## 3. Conditional Probability Score"
   ]
  },
  {
   "cell_type": "code",
   "execution_count": 25,
   "id": "f6687d25-4aab-4e81-8ca0-54650072cb8e",
   "metadata": {},
   "outputs": [],
   "source": [
    "# get the sentiment score of the words that have appeared at least 100 times\n",
    "# V: total words\n",
    "V = len(total_counts.keys())  \n",
    " \n",
    "# get the number of unique positive and negative words\n",
    "N_pos = len(positive_counts.keys()) \n",
    "N_neg = len(negative_counts.keys()) \n",
    " \n",
    "def word_loglikelihood(w):\n",
    "    if w in total_counts:\n",
    "        p_w_pos = (positive_counts.get(w,0)+1 / (N_pos+V))\n",
    "        p_w_neg = (negative_counts.get(w,0)+1 / (N_neg+V)) \n",
    "        return np.log(p_w_pos/p_w_neg)\n",
    "    else:\n",
    "        return(0)\n",
    "\n",
    "\n",
    "word_scores = {}\n",
    " \n",
    "for word in total_counts.keys():\n",
    "    if total_counts[word]>=100:\n",
    "        word_scores[word] = (word_loglikelihood(word))"
   ]
  },
  {
   "cell_type": "code",
   "execution_count": 26,
   "id": "eba39ed3-8d1c-4638-999e-42f910c81248",
   "metadata": {},
   "outputs": [
    {
     "data": {
      "text/plain": [
       "{'ponyo': 17.32426012139519,\n",
       " '7/10': 3.349903810668324,\n",
       " 'edie': 3.1267597683985526,\n",
       " 'custer': 3.0910419060005108,\n",
       " '9/10': 2.9001277096823697,\n",
       " 'felix': 2.865370035022651,\n",
       " 'matthau': 2.794664404687918,\n",
       " '8/': 2.75684017726172,\n",
       " 'miyazaki': 2.6210383586514943,\n",
       " '10/10': 2.598565865006212,\n",
       " 'paulie': 2.574518344727968,\n",
       " 'devito': 2.5356785129027952,\n",
       " 'haines': 2.3795457696145554,\n",
       " 'flawless': 2.178532295838215,\n",
       " 'perfection': 2.0794414317722754,\n",
       " 'understated': 2.061422869126818,\n",
       " 'superbly': 2.0607492787521955,\n",
       " 'lemmon': 2.0253741367470024,\n",
       " 'wonderfully': 2.006416357656412,\n",
       " 'must-see': 1.9908053449902765}"
      ]
     },
     "execution_count": 26,
     "metadata": {},
     "output_type": "execute_result"
    }
   ],
   "source": [
    "dict(sorted(word_scores.items(), key=lambda item: item[1], reverse=True)[0:20])"
   ]
  },
  {
   "cell_type": "code",
   "execution_count": 286,
   "id": "a0f867e7-86e2-4b3e-a7c7-c5fe6c1471f7",
   "metadata": {},
   "outputs": [
    {
     "data": {
      "text/plain": [
       "{'uwe': -5.017275910130278,\n",
       " 'boll': -4.521786622222644,\n",
       " '2/10': -4.064743121347573,\n",
       " '3/10': -3.954443075251533,\n",
       " '1/10': -3.4692016854051477,\n",
       " '4/10': -3.398415420435532,\n",
       " 'stinker': -3.159361277005897,\n",
       " '3k': -3.0187972960003715,\n",
       " 'mst': -2.93267392982896,\n",
       " 'turd': -2.8033597625478,\n",
       " 'waste': -2.700401959213723,\n",
       " 'unwatchable': -2.63428380650453,\n",
       " 'seagal': -2.625225709591731,\n",
       " 'yawn': -2.623056581366551,\n",
       " 'incoherent': -2.4672068825296187,\n",
       " 'unfunny': -2.4654884713043437,\n",
       " 'wasting': -2.3978951232732917,\n",
       " 'worst': -2.3927633638954666,\n",
       " 'camcorder': -2.3702433836301124,\n",
       " 'awful': -2.3371348865016888}"
      ]
     },
     "execution_count": 286,
     "metadata": {},
     "output_type": "execute_result"
    }
   ],
   "source": [
    "dict(sorted(word_scores.items(), key=lambda item: item[1])[0:20])"
   ]
  },
  {
   "cell_type": "markdown",
   "id": "05cc37ba-6437-4685-b27b-f52c3f74b7bb",
   "metadata": {},
   "source": [
    "### Eval attack using imdb"
   ]
  },
  {
   "cell_type": "code",
   "execution_count": 28,
   "id": "d6a5d024-a20c-4471-b216-74763b45392a",
   "metadata": {},
   "outputs": [],
   "source": [
    "import sys\n",
    "import math\n",
    "sys.path.append(\"..\")\n",
    "from resilient_nlp.models import BertClassifier\n",
    "from resilient_nlp.perturbers import ToyPerturber, WordScramblerPerturber\n",
    "from transformers import AutoTokenizer, DataCollatorWithPadding, TextClassificationPipeline, \\\n",
    "                         AutoModelForSequenceClassification, BertForSequenceClassification\n",
    "from sklearn.metrics import classification_report\n",
    "import torch\n",
    "from tqdm import tqdm\n",
    "device = torch.device(\"cuda\") if torch.cuda.is_available() else torch.device(\"cpu\")"
   ]
  },
  {
   "cell_type": "code",
   "execution_count": 29,
   "id": "57145005-9fc6-4ed4-8cfe-1e496a43d14d",
   "metadata": {},
   "outputs": [],
   "source": [
    "checkpoint_finetuned = \"../output/huggingface/bert-base-uncased-imdb\"\n",
    "model_finetuned = BertForSequenceClassification.from_pretrained(checkpoint_finetuned)"
   ]
  },
  {
   "cell_type": "code",
   "execution_count": 30,
   "id": "8f3e8078-951f-4133-a106-da61b8b51c99",
   "metadata": {},
   "outputs": [],
   "source": [
    "max_sequence_length = 128\n",
    "batch_size = 32\n",
    "eval_steps = 100"
   ]
  },
  {
   "cell_type": "code",
   "execution_count": 88,
   "id": "31c082dc-f464-439b-b592-fce7ebe288d9",
   "metadata": {},
   "outputs": [],
   "source": [
    "tokenizer_checkpoint = \"bert-base-uncased\"\n",
    "bert_tokenizer = AutoTokenizer.from_pretrained(tokenizer_checkpoint)"
   ]
  },
  {
   "cell_type": "code",
   "execution_count": 165,
   "id": "96466602-a546-4209-acab-612ff9210d60",
   "metadata": {},
   "outputs": [
    {
     "data": {
      "text/plain": [
       "Counter({'S': 1, 'F': 1})"
      ]
     },
     "execution_count": 165,
     "metadata": {},
     "output_type": "execute_result"
    }
   ],
   "source": [
    "Counter(np.array(['S', 'F']))"
   ]
  },
  {
   "cell_type": "code",
   "execution_count": 573,
   "id": "03368e18-0fca-4f2e-b31b-03ea1adb9ab0",
   "metadata": {},
   "outputs": [],
   "source": [
    "wsp = WordScramblerPerturber(perturb_prob=1, weight_add=1, weight_drop=1, weight_swap=1, weight_split_word=1, weight_merge_words=1)\n",
    "\n",
    "def bert_tokenize(sent):\n",
    "    return bert_tokenizer(sent, truncation=True, padding='max_length', max_length=max_sequence_length,\n",
    "                          return_tensors='pt')\n",
    "\n",
    "def get_bert_output(text):\n",
    "    tokenized = bert_tokenize(text)\n",
    "    output = model_finetuned(**tokenized)\n",
    "    logits = output['logits']\n",
    "    pred = torch.argmax(logits, dim=1).item()\n",
    "    smax = torch.nn.Softmax()\n",
    "    probs = smax(logits)\n",
    "    return pred, np.round(probs[0][pred].item(),4)\n",
    "\n",
    "def perturb_word(word):\n",
    "    pass\n",
    "\n",
    "def compute_attack_stats(results):\n",
    "    attack_stats = {}\n",
    "    attack_stats['total_attacks'] = len(results)\n",
    "    attack_stats['avg_n_queries'] = np.round(results.num_queries.mean(),2)\n",
    "    attack_stats['successful_attacks'] = results.loc[results['attack_status']==\"Successful\"].shape[0]\n",
    "    attack_stats['failed_attacks'] = results.loc[results['attack_status']==\"Failed\"].shape[0]\n",
    "    attack_stats['skipped_attacks'] = results.loc[results['attack_status']==\"Skipped\"].shape[0]\n",
    "    attack_stats['attack_success_rate'] = 100*np.round(attack_stats['successful_attacks']/(attack_stats['successful_attacks'] + attack_stats['failed_attacks']),2)\n",
    "    attack_stats['orig_accuracy'] = (attack_stats['total_attacks']  - attack_stats['skipped_attacks']) * 100.0 / (attack_stats['total_attacks'])\n",
    "    attack_stats['attack_accuracy'] = (attack_stats['failed_attacks']) * 100.0 / (attack_stats['total_attacks'])\n",
    "    return attack_stats\n",
    "\n",
    "def word_score_attack( dataset, max_tokens_to_query=-1, max_tries_per_token=1, mode=0  ):\n",
    "    \"\"\"\n",
    "    mode 0: Perserve best unsuccessful perturbation per token. Final attack can perturb utpo max_tokens_to_query tokens. \n",
    "    mode 1: Forgets unccessful perturbations. Final Attacks perturbs only 1 token per sample.\n",
    "    \"\"\"\n",
    "    actuals = dataset['label']\n",
    "    orig_texts = dataset['text']\n",
    "    n_samples = len(actuals)\n",
    "    \n",
    "    orig_preds = np.zeros(n_samples)\n",
    "    attack_status = np.empty(n_samples, dtype='object')\n",
    "    perturbed_texts = np.empty(n_samples, dtype='object')\n",
    "    orig_tokens=  np.empty(n_samples, dtype='object')\n",
    "    perturbed_tokens =  np.empty(n_samples, dtype='object')\n",
    "    n_queries =  np.empty(n_samples, dtype='object')\n",
    "    \n",
    "    for sample_idx, (orig_text, ground_truth) in enumerate(zip(orig_texts, actuals)):\n",
    "        print(f\"------------- Sample: {sample_idx} ---------------------------------\")\n",
    "        # print(orig_text)\n",
    "        orig_pred, orig_score = get_bert_output(orig_text)\n",
    "        orig_preds[sample_idx] = orig_pred\n",
    "        \n",
    "        \n",
    "        if ground_truth!=orig_pred:  #Model has an error. skip_attack\n",
    "            #print(f'Sample {sample_idx}. Attack Skipped')\n",
    "            attack_status[sample_idx]='Skipped'\n",
    "            continue\n",
    "            \n",
    "        orig_text = orig_text.lower()\n",
    "        tokens = preprocess(orig_text)\n",
    "        token_scores = {token: word_scores[token] if token in word_scores else 0 for token in tokens  }\n",
    "        \n",
    "        if max_tokens_to_query==-1:\n",
    "            max_tokens_to_query = len(token_scores)\n",
    "        else:\n",
    "            max_tokens_to_query = min(max_tokens_to_query, len(token_scores))\n",
    "       \n",
    "        if orig_pred == 0: # fetch -ve sentiment tokens\n",
    "            attack_tokens = sorted(token_scores.items(), key=lambda item: item[1])[:max_tokens_to_query]\n",
    "        else: # fetch +ve sentiment tokens\n",
    "            attack_tokens = sorted(token_scores.items(), key=lambda item: item[1], reverse=True)[:max_tokens_to_query]\n",
    "        \n",
    "        attack_passed = False\n",
    "        token_idx=0\n",
    "        sample_query_counter=0    \n",
    "        text=orig_text\n",
    "        worst_score = orig_score\n",
    "        worst_text=orig_text\n",
    "        \n",
    "        while token_idx<max_tokens_to_query and not attack_passed:\n",
    "            #print(f\"----- token_idx: {token_idx} --------------\")\n",
    "            #token_idx = np.random.choice(top_n_tokens)\n",
    "            attack_token = attack_tokens[token_idx][0]\n",
    "            token_tries_counter = 0\n",
    "            \n",
    "            candidates = []\n",
    "            \n",
    "            \n",
    "            for n_try in range(max_tries_per_token):\n",
    "                perturbed_token = wsp.perturb([attack_token])[0][0]\n",
    "                perturbed_text = text.replace(attack_token, perturbed_token, 1)\n",
    "                perturbed_pred, perturbed_score = get_bert_output(perturbed_text)\n",
    "                \n",
    "                \n",
    "                # print(f\"----- n_try: {n_try}----\")\n",
    "                print(sample_idx,sample_query_counter, token_tries_counter, \n",
    "                      attack_token, perturbed_token, orig_pred, perturbed_pred,  \n",
    "                      worst_score, perturbed_score)\n",
    "                print(perturbed_text)\n",
    "                \n",
    "                \n",
    "                sample_query_counter+=1 # increment sample_query_counter\n",
    "                token_tries_counter+=1 ## increment token_tries_counter\n",
    "                \n",
    "                if perturbed_pred != orig_pred: # success\n",
    "                    attack_passed = True\n",
    "                    attack_status[sample_idx]='Successful'\n",
    "                    perturbed_texts[sample_idx] = perturbed_text\n",
    "                    orig_tokens[sample_idx] = attack_token\n",
    "                    perturbed_tokens[sample_idx] = perturbed_token    \n",
    "                    break     \n",
    "                \n",
    "                # track best attack (worse_score/worse_text) so far.\n",
    "                if perturbed_score < worst_score:\n",
    "                    worst_score = perturbed_score\n",
    "                    worst_text = perturbed_text\n",
    "                    \n",
    "                \n",
    "                    \n",
    "            if mode==0:  ## if tries exhausted, update text to worst text. Worst perturbation per toekn are maintained.\n",
    "                text= worst_text\n",
    "            token_idx+=1 ## move to next token\n",
    "                \n",
    "        n_queries[sample_idx] = sample_query_counter\n",
    "        \n",
    "        if attack_passed == False: # attack failed\n",
    "            #print(f'Sample {sample_idx}. Max tries exhausted')\n",
    "            attack_status[sample_idx]='Failed'\n",
    "        \n",
    "\n",
    "            \n",
    "    print(classification_report(actuals, orig_preds))\n",
    "    status_counts = Counter(attack_status)\n",
    "    print(status_counts)\n",
    "\n",
    "    results = {'attack_status':attack_status,\n",
    "               'ground_truth': actuals,\n",
    "               'orig_prediction':orig_preds,\n",
    "               'attacked_token':orig_tokens,\n",
    "               'perturbed_token':perturbed_tokens,\n",
    "               'num_queries':n_queries,\n",
    "               'original_text':orig_texts,\n",
    "               'perturbed_text':perturbed_texts,\n",
    "              }\n",
    "    \n",
    "    results = pd.DataFrame.from_dict(results)\n",
    "    \n",
    "    success_rate = np.round(100*status_counts['Successful']/(status_counts['Successful'] + status_counts['Failed']) , 2)\n",
    "    print(f'Success Rate {success_rate}')\n",
    "    print(f'Avg Queries: {results.num_queries.mean()}')\n",
    "    \n",
    "    return results"
   ]
  },
  {
   "cell_type": "code",
   "execution_count": 565,
   "id": "f2519ccd-7e1d-422c-915f-cf1aa486d8bc",
   "metadata": {},
   "outputs": [
    {
     "name": "stdout",
     "output_type": "stream",
     "text": [
      "1 tensor([[-0.5820,  0.9800]], grad_fn=<AddmmBackward0>)\n",
      "0.8266438245773315\n"
     ]
    },
    {
     "name": "stderr",
     "output_type": "stream",
     "text": [
      "/Users/user/opt/anaconda3/envs/local_nmt/lib/python3.7/site-packages/ipykernel_launcher.py:7: UserWarning: Implicit dimension choice for softmax has been deprecated. Change the call to include dim=X as an argument.\n",
      "  import sys\n"
     ]
    }
   ],
   "source": [
    "text = \"rivalry between brothers leads to main story line. navy commander chuck prescott(marshall thompson)has developed the y12 aircraft to test how far man can go up in the atmosphere. his brother, lt. dan prescott(bill edwards), seems to be the best test pilot around and is chosen to go up in the y12. dan of course has a problem with taking orders and is also an over confident dare devil. <br /><br />on dan's second flight, he hits over the 300 miles up comfort zone and his craft passes through a meteor dust storm. returning to earth, dan becomes a moster that resembles 200 pounds of bad asphalt. he also has a\"\n",
    "tokenized = bert_tokenize(text)\n",
    "output = model_finetuned(**tokenized)\n",
    "logits = output['logits']\n",
    "pred = torch.argmax(logits, dim=1).item()\n",
    "smax= torch.nn.Softmax()\n",
    "probs = smax(logits)\n",
    "print(pred, logits)\n",
    "print(probs[0][pred].item())"
   ]
  },
  {
   "cell_type": "code",
   "execution_count": 574,
   "id": "6c9370c3-69c7-4016-aede-d162462af09f",
   "metadata": {
    "scrolled": true,
    "tags": []
   },
   "outputs": [
    {
     "name": "stdout",
     "output_type": "stream",
     "text": [
      "------------- Sample: 0 ---------------------------------\n"
     ]
    },
    {
     "name": "stderr",
     "output_type": "stream",
     "text": [
      "/Users/user/opt/anaconda3/envs/local_nmt/lib/python3.7/site-packages/ipykernel_launcher.py:13: UserWarning: Implicit dimension choice for softmax has been deprecated. Change the call to include dim=X as an argument.\n",
      "  del sys.path[0]\n"
     ]
    },
    {
     "name": "stdout",
     "output_type": "stream",
     "text": [
      "0 0 0 simplicity simp licity 1 1 0.9955 0.9955\n",
      "there must have been some interesting conversations on the set of eagle's wing, with martin sheen straight off apocalypse now co-starred with the actor he replaced on coppola's film, harvey keitel. a real unloved child of a movie, dating back to the last major batch of westerns in 1979-80, it was much reviled at the time for being made by a british studio and director (conveniently ignoring the fact that many of the classic american westerns were directed by european émigrés), which seems a bit of an over-reaction.<br /><br />the plot is simp licity itself, as martin sheen's inexperienced trapper finds himself fighting with sam waterston's nonosyllabic kiowa warrior over the\n",
      "0 1 1 simplicity simpicity 1 1 0.9955 0.9955\n",
      "there must have been some interesting conversations on the set of eagle's wing, with martin sheen straight off apocalypse now co-starred with the actor he replaced on coppola's film, harvey keitel. a real unloved child of a movie, dating back to the last major batch of westerns in 1979-80, it was much reviled at the time for being made by a british studio and director (conveniently ignoring the fact that many of the classic american westerns were directed by european émigrés), which seems a bit of an over-reaction.<br /><br />the plot is simpicity itself, as martin sheen's inexperienced trapper finds himself fighting with sam waterston's nonosyllabic kiowa warrior over the\n",
      "0 2 2 simplicity sim plicity 1 1 0.9955 0.9955\n",
      "there must have been some interesting conversations on the set of eagle's wing, with martin sheen straight off apocalypse now co-starred with the actor he replaced on coppola's film, harvey keitel. a real unloved child of a movie, dating back to the last major batch of westerns in 1979-80, it was much reviled at the time for being made by a british studio and director (conveniently ignoring the fact that many of the classic american westerns were directed by european émigrés), which seems a bit of an over-reaction.<br /><br />the plot is sim plicity itself, as martin sheen's inexperienced trapper finds himself fighting with sam waterston's nonosyllabic kiowa warrior over the\n",
      "0 3 0 classic claslsic 1 1 0.9955 0.9956\n",
      "there must have been some interesting conversations on the set of eagle's wing, with martin sheen straight off apocalypse now co-starred with the actor he replaced on coppola's film, harvey keitel. a real unloved child of a movie, dating back to the last major batch of westerns in 1979-80, it was much reviled at the time for being made by a british studio and director (conveniently ignoring the fact that many of the claslsic american westerns were directed by european émigrés), which seems a bit of an over-reaction.<br /><br />the plot is simplicity itself, as martin sheen's inexperienced trapper finds himself fighting with sam waterston's nonosyllabic kiowa warrior over the\n",
      "0 4 1 classic clasic 1 1 0.9955 0.9957\n",
      "there must have been some interesting conversations on the set of eagle's wing, with martin sheen straight off apocalypse now co-starred with the actor he replaced on coppola's film, harvey keitel. a real unloved child of a movie, dating back to the last major batch of westerns in 1979-80, it was much reviled at the time for being made by a british studio and director (conveniently ignoring the fact that many of the clasic american westerns were directed by european émigrés), which seems a bit of an over-reaction.<br /><br />the plot is simplicity itself, as martin sheen's inexperienced trapper finds himself fighting with sam waterston's nonosyllabic kiowa warrior over the\n",
      "0 5 2 classic clajssic 1 1 0.9955 0.9951\n",
      "there must have been some interesting conversations on the set of eagle's wing, with martin sheen straight off apocalypse now co-starred with the actor he replaced on coppola's film, harvey keitel. a real unloved child of a movie, dating back to the last major batch of westerns in 1979-80, it was much reviled at the time for being made by a british studio and director (conveniently ignoring the fact that many of the clajssic american westerns were directed by european émigrés), which seems a bit of an over-reaction.<br /><br />the plot is simplicity itself, as martin sheen's inexperienced trapper finds himself fighting with sam waterston's nonosyllabic kiowa warrior over the\n",
      "0 6 0 apocalypse apocal ypse 1 1 0.9951 0.9959\n",
      "there must have been some interesting conversations on the set of eagle's wing, with martin sheen straight off apocal ypse now co-starred with the actor he replaced on coppola's film, harvey keitel. a real unloved child of a movie, dating back to the last major batch of westerns in 1979-80, it was much reviled at the time for being made by a british studio and director (conveniently ignoring the fact that many of the clajssic american westerns were directed by european émigrés), which seems a bit of an over-reaction.<br /><br />the plot is simplicity itself, as martin sheen's inexperienced trapper finds himself fighting with sam waterston's nonosyllabic kiowa warrior over the\n",
      "0 7 1 apocalypse aopcalypse 1 1 0.9951 0.9958\n",
      "there must have been some interesting conversations on the set of eagle's wing, with martin sheen straight off aopcalypse now co-starred with the actor he replaced on coppola's film, harvey keitel. a real unloved child of a movie, dating back to the last major batch of westerns in 1979-80, it was much reviled at the time for being made by a british studio and director (conveniently ignoring the fact that many of the clajssic american westerns were directed by european émigrés), which seems a bit of an over-reaction.<br /><br />the plot is simplicity itself, as martin sheen's inexperienced trapper finds himself fighting with sam waterston's nonosyllabic kiowa warrior over the\n",
      "0 8 2 apocalypse apoalypse 1 1 0.9951 0.9954\n",
      "there must have been some interesting conversations on the set of eagle's wing, with martin sheen straight off apoalypse now co-starred with the actor he replaced on coppola's film, harvey keitel. a real unloved child of a movie, dating back to the last major batch of westerns in 1979-80, it was much reviled at the time for being made by a british studio and director (conveniently ignoring the fact that many of the clajssic american westerns were directed by european émigrés), which seems a bit of an over-reaction.<br /><br />the plot is simplicity itself, as martin sheen's inexperienced trapper finds himself fighting with sam waterston's nonosyllabic kiowa warrior over the\n",
      "0 9 0 westerns wesqterns 1 1 0.9951 0.9943\n",
      "there must have been some interesting conversations on the set of eagle's wing, with martin sheen straight off apocalypse now co-starred with the actor he replaced on coppola's film, harvey keitel. a real unloved child of a movie, dating back to the last major batch of wesqterns in 1979-80, it was much reviled at the time for being made by a british studio and director (conveniently ignoring the fact that many of the clajssic american westerns were directed by european émigrés), which seems a bit of an over-reaction.<br /><br />the plot is simplicity itself, as martin sheen's inexperienced trapper finds himself fighting with sam waterston's nonosyllabic kiowa warrior over the\n",
      "0 10 1 westerns weserns 1 1 0.9943 0.9949\n",
      "there must have been some interesting conversations on the set of eagle's wing, with martin sheen straight off apocalypse now co-starred with the actor he replaced on coppola's film, harvey keitel. a real unloved child of a movie, dating back to the last major batch of weserns in 1979-80, it was much reviled at the time for being made by a british studio and director (conveniently ignoring the fact that many of the clajssic american westerns were directed by european émigrés), which seems a bit of an over-reaction.<br /><br />the plot is simplicity itself, as martin sheen's inexperienced trapper finds himself fighting with sam waterston's nonosyllabic kiowa warrior over the\n",
      "0 11 2 westerns westers 1 1 0.9943 0.9943\n",
      "there must have been some interesting conversations on the set of eagle's wing, with martin sheen straight off apocalypse now co-starred with the actor he replaced on coppola's film, harvey keitel. a real unloved child of a movie, dating back to the last major batch of westers in 1979-80, it was much reviled at the time for being made by a british studio and director (conveniently ignoring the fact that many of the clajssic american westerns were directed by european émigrés), which seems a bit of an over-reaction.<br /><br />the plot is simplicity itself, as martin sheen's inexperienced trapper finds himself fighting with sam waterston's nonosyllabic kiowa warrior over the\n",
      "0 12 0 finds fiinds 1 1 0.9943 0.9943\n",
      "there must have been some interesting conversations on the set of eagle's wing, with martin sheen straight off apocalypse now co-starred with the actor he replaced on coppola's film, harvey keitel. a real unloved child of a movie, dating back to the last major batch of wesqterns in 1979-80, it was much reviled at the time for being made by a british studio and director (conveniently ignoring the fact that many of the clajssic american westerns were directed by european émigrés), which seems a bit of an over-reaction.<br /><br />the plot is simplicity itself, as martin sheen's inexperienced trapper fiinds himself fighting with sam waterston's nonosyllabic kiowa warrior over the\n",
      "0 13 1 finds findqs 1 1 0.9943 0.9943\n",
      "there must have been some interesting conversations on the set of eagle's wing, with martin sheen straight off apocalypse now co-starred with the actor he replaced on coppola's film, harvey keitel. a real unloved child of a movie, dating back to the last major batch of wesqterns in 1979-80, it was much reviled at the time for being made by a british studio and director (conveniently ignoring the fact that many of the clajssic american westerns were directed by european émigrés), which seems a bit of an over-reaction.<br /><br />the plot is simplicity itself, as martin sheen's inexperienced trapper findqs himself fighting with sam waterston's nonosyllabic kiowa warrior over the\n",
      "0 14 2 finds fnids 1 1 0.9943 0.9943\n",
      "there must have been some interesting conversations on the set of eagle's wing, with martin sheen straight off apocalypse now co-starred with the actor he replaced on coppola's film, harvey keitel. a real unloved child of a movie, dating back to the last major batch of wesqterns in 1979-80, it was much reviled at the time for being made by a british studio and director (conveniently ignoring the fact that many of the clajssic american westerns were directed by european émigrés), which seems a bit of an over-reaction.<br /><br />the plot is simplicity itself, as martin sheen's inexperienced trapper fnids himself fighting with sam waterston's nonosyllabic kiowa warrior over the\n",
      "0 15 0 wing wng 1 1 0.9943 0.9951\n",
      "there must have been some interesting conversations on the set of eagle's wng, with martin sheen straight off apocalypse now co-starred with the actor he replaced on coppola's film, harvey keitel. a real unloved child of a movie, dating back to the last major batch of wesqterns in 1979-80, it was much reviled at the time for being made by a british studio and director (conveniently ignoring the fact that many of the clajssic american westerns were directed by european émigrés), which seems a bit of an over-reaction.<br /><br />the plot is simplicity itself, as martin sheen's inexperienced trapper finds himself fighting with sam waterston's nonosyllabic kiowa warrior over the\n",
      "0 16 1 wing wbing 1 1 0.9943 0.9958\n",
      "there must have been some interesting conversations on the set of eagle's wbing, with martin sheen straight off apocalypse now co-starred with the actor he replaced on coppola's film, harvey keitel. a real unloved child of a movie, dating back to the last major batch of wesqterns in 1979-80, it was much reviled at the time for being made by a british studio and director (conveniently ignoring the fact that many of the clajssic american westerns were directed by european émigrés), which seems a bit of an over-reaction.<br /><br />the plot is simplicity itself, as martin sheen's inexperienced trapper finds himself fighting with sam waterston's nonosyllabic kiowa warrior over the\n",
      "0 17 2 wing wng 1 1 0.9943 0.9951\n",
      "there must have been some interesting conversations on the set of eagle's wng, with martin sheen straight off apocalypse now co-starred with the actor he replaced on coppola's film, harvey keitel. a real unloved child of a movie, dating back to the last major batch of wesqterns in 1979-80, it was much reviled at the time for being made by a british studio and director (conveniently ignoring the fact that many of the clajssic american westerns were directed by european émigrés), which seems a bit of an over-reaction.<br /><br />the plot is simplicity itself, as martin sheen's inexperienced trapper finds himself fighting with sam waterston's nonosyllabic kiowa warrior over the\n",
      "0 18 0 british bri tish 1 1 0.9943 0.9938\n",
      "there must have been some interesting conversations on the set of eagle's wing, with martin sheen straight off apocalypse now co-starred with the actor he replaced on coppola's film, harvey keitel. a real unloved child of a movie, dating back to the last major batch of wesqterns in 1979-80, it was much reviled at the time for being made by a bri tish studio and director (conveniently ignoring the fact that many of the clajssic american westerns were directed by european émigrés), which seems a bit of an over-reaction.<br /><br />the plot is simplicity itself, as martin sheen's inexperienced trapper finds himself fighting with sam waterston's nonosyllabic kiowa warrior over the\n",
      "0 19 1 british brtish 1 1 0.9938 0.9924\n",
      "there must have been some interesting conversations on the set of eagle's wing, with martin sheen straight off apocalypse now co-starred with the actor he replaced on coppola's film, harvey keitel. a real unloved child of a movie, dating back to the last major batch of wesqterns in 1979-80, it was much reviled at the time for being made by a brtish studio and director (conveniently ignoring the fact that many of the clajssic american westerns were directed by european émigrés), which seems a bit of an over-reaction.<br /><br />the plot is simplicity itself, as martin sheen's inexperienced trapper finds himself fighting with sam waterston's nonosyllabic kiowa warrior over the\n",
      "0 20 2 british birtish 1 1 0.9924 0.9937\n",
      "there must have been some interesting conversations on the set of eagle's wing, with martin sheen straight off apocalypse now co-starred with the actor he replaced on coppola's film, harvey keitel. a real unloved child of a movie, dating back to the last major batch of wesqterns in 1979-80, it was much reviled at the time for being made by a birtish studio and director (conveniently ignoring the fact that many of the clajssic american westerns were directed by european émigrés), which seems a bit of an over-reaction.<br /><br />the plot is simplicity itself, as martin sheen's inexperienced trapper finds himself fighting with sam waterston's nonosyllabic kiowa warrior over the\n",
      "0 21 0 many mnay 1 1 0.9924 0.9928\n",
      "there must have been some interesting conversations on the set of eagle's wing, with martin sheen straight off apocalypse now co-starred with the actor he replaced on coppola's film, harvey keitel. a real unloved child of a movie, dating back to the last major batch of wesqterns in 1979-80, it was much reviled at the time for being made by a brtish studio and director (conveniently ignoring the fact that mnay of the clajssic american westerns were directed by european émigrés), which seems a bit of an over-reaction.<br /><br />the plot is simplicity itself, as martin sheen's inexperienced trapper finds himself fighting with sam waterston's nonosyllabic kiowa warrior over the\n",
      "0 22 1 many mnay 1 1 0.9924 0.9928\n",
      "there must have been some interesting conversations on the set of eagle's wing, with martin sheen straight off apocalypse now co-starred with the actor he replaced on coppola's film, harvey keitel. a real unloved child of a movie, dating back to the last major batch of wesqterns in 1979-80, it was much reviled at the time for being made by a brtish studio and director (conveniently ignoring the fact that mnay of the clajssic american westerns were directed by european émigrés), which seems a bit of an over-reaction.<br /><br />the plot is simplicity itself, as martin sheen's inexperienced trapper finds himself fighting with sam waterston's nonosyllabic kiowa warrior over the\n",
      "0 23 2 many maeny 1 1 0.9924 0.9928\n",
      "there must have been some interesting conversations on the set of eagle's wing, with martin sheen straight off apocalypse now co-starred with the actor he replaced on coppola's film, harvey keitel. a real unloved child of a movie, dating back to the last major batch of wesqterns in 1979-80, it was much reviled at the time for being made by a brtish studio and director (conveniently ignoring the fact that maeny of the clajssic american westerns were directed by european émigrés), which seems a bit of an over-reaction.<br /><br />the plot is simplicity itself, as martin sheen's inexperienced trapper finds himself fighting with sam waterston's nonosyllabic kiowa warrior over the\n",
      "0 24 0 harvey har vey 1 1 0.9924 0.9945\n",
      "there must have been some interesting conversations on the set of eagle's wing, with martin sheen straight off apocalypse now co-starred with the actor he replaced on coppola's film, har vey keitel. a real unloved child of a movie, dating back to the last major batch of wesqterns in 1979-80, it was much reviled at the time for being made by a brtish studio and director (conveniently ignoring the fact that many of the clajssic american westerns were directed by european émigrés), which seems a bit of an over-reaction.<br /><br />the plot is simplicity itself, as martin sheen's inexperienced trapper finds himself fighting with sam waterston's nonosyllabic kiowa warrior over the\n",
      "0 25 1 harvey harvxey 1 1 0.9924 0.9933\n",
      "there must have been some interesting conversations on the set of eagle's wing, with martin sheen straight off apocalypse now co-starred with the actor he replaced on coppola's film, harvxey keitel. a real unloved child of a movie, dating back to the last major batch of wesqterns in 1979-80, it was much reviled at the time for being made by a brtish studio and director (conveniently ignoring the fact that many of the clajssic american westerns were directed by european émigrés), which seems a bit of an over-reaction.<br /><br />the plot is simplicity itself, as martin sheen's inexperienced trapper finds himself fighting with sam waterston's nonosyllabic kiowa warrior over the\n",
      "0 26 2 harvey harveqy 1 1 0.9924 0.9924\n",
      "there must have been some interesting conversations on the set of eagle's wing, with martin sheen straight off apocalypse now co-starred with the actor he replaced on coppola's film, harveqy keitel. a real unloved child of a movie, dating back to the last major batch of wesqterns in 1979-80, it was much reviled at the time for being made by a brtish studio and director (conveniently ignoring the fact that many of the clajssic american westerns were directed by european émigrés), which seems a bit of an over-reaction.<br /><br />the plot is simplicity itself, as martin sheen's inexperienced trapper finds himself fighting with sam waterston's nonosyllabic kiowa warrior over the\n",
      "0 27 0 bit bxit 1 1 0.9924 0.987\n",
      "there must have been some interesting conversations on the set of eagle's wing, with martin sheen straight off apocalypse now co-starred with the actor he replaced on coppola's film, harvey keitel. a real unloved child of a movie, dating back to the last major batch of wesqterns in 1979-80, it was much reviled at the time for being made by a brtish studio and director (conveniently ignoring the fact that many of the clajssic american westerns were directed by european émigrés), which seems a bxit of an over-reaction.<br /><br />the plot is simplicity itself, as martin sheen's inexperienced trapper finds himself fighting with sam waterston's nonosyllabic kiowa warrior over the\n",
      "0 28 1 bit bt 1 1 0.987 0.9847\n",
      "there must have been some interesting conversations on the set of eagle's wing, with martin sheen straight off apocalypse now co-starred with the actor he replaced on coppola's film, harvey keitel. a real unloved child of a movie, dating back to the last major batch of wesqterns in 1979-80, it was much reviled at the time for being made by a brtish studio and director (conveniently ignoring the fact that many of the clajssic american westerns were directed by european émigrés), which seems a bt of an over-reaction.<br /><br />the plot is simplicity itself, as martin sheen's inexperienced trapper finds himself fighting with sam waterston's nonosyllabic kiowa warrior over the\n",
      "0 29 2 bit bit 1 1 0.9847 0.9924\n",
      "there must have been some interesting conversations on the set of eagle's wing, with martin sheen straight off apocalypse now co-starred with the actor he replaced on coppola's film, harvey keitel. a real unloved child of a movie, dating back to the last major batch of wesqterns in 1979-80, it was much reviled at the time for being made by a brtish studio and director (conveniently ignoring the fact that many of the clajssic american westerns were directed by european émigrés), which seems a bit of an over-reaction.<br /><br />the plot is simplicity itself, as martin sheen's inexperienced trapper finds himself fighting with sam waterston's nonosyllabic kiowa warrior over the\n",
      "------------- Sample: 1 ---------------------------------\n",
      "1 0 0 timeless timeelss 1 1 0.9996 0.9996\n",
      "cooley high is such a great film that even with the period's sound track, urban landscape, wardrobe and slang...it still doesn't feel dated. the sound track by the way is a timeelss classic in itself.<br /><br />instead it absorbs you right into it. that is a staple of a good movie. from start to finish it doesn't miss a beat and i never grow tired of watching it.<br /><br />it's ending is unique in the respect that it's one of the saddest and at the same time uplifting of all movie endings. there may have been a few since (backdraft comes to mind) but cooley was the first and much\n",
      "1 1 1 timeless timeles 1 1 0.9996 0.9996\n",
      "cooley high is such a great film that even with the period's sound track, urban landscape, wardrobe and slang...it still doesn't feel dated. the sound track by the way is a timeles classic in itself.<br /><br />instead it absorbs you right into it. that is a staple of a good movie. from start to finish it doesn't miss a beat and i never grow tired of watching it.<br /><br />it's ending is unique in the respect that it's one of the saddest and at the same time uplifting of all movie endings. there may have been a few since (backdraft comes to mind) but cooley was the first and much\n",
      "1 2 2 timeless tpimeless 1 1 0.9996 0.9996\n",
      "cooley high is such a great film that even with the period's sound track, urban landscape, wardrobe and slang...it still doesn't feel dated. the sound track by the way is a tpimeless classic in itself.<br /><br />instead it absorbs you right into it. that is a staple of a good movie. from start to finish it doesn't miss a beat and i never grow tired of watching it.<br /><br />it's ending is unique in the respect that it's one of the saddest and at the same time uplifting of all movie endings. there may have been a few since (backdraft comes to mind) but cooley was the first and much\n",
      "1 3 0 uplifting uplif ting 1 1 0.9996 0.9996\n",
      "cooley high is such a great film that even with the period's sound track, urban landscape, wardrobe and slang...it still doesn't feel dated. the sound track by the way is a timeless classic in itself.<br /><br />instead it absorbs you right into it. that is a staple of a good movie. from start to finish it doesn't miss a beat and i never grow tired of watching it.<br /><br />it's ending is unique in the respect that it's one of the saddest and at the same time uplif ting of all movie endings. there may have been a few since (backdraft comes to mind) but cooley was the first and much\n",
      "1 4 1 uplifting upli fting 1 1 0.9996 0.9996\n",
      "cooley high is such a great film that even with the period's sound track, urban landscape, wardrobe and slang...it still doesn't feel dated. the sound track by the way is a timeless classic in itself.<br /><br />instead it absorbs you right into it. that is a staple of a good movie. from start to finish it doesn't miss a beat and i never grow tired of watching it.<br /><br />it's ending is unique in the respect that it's one of the saddest and at the same time upli fting of all movie endings. there may have been a few since (backdraft comes to mind) but cooley was the first and much\n",
      "1 5 2 uplifting ulpifting 1 1 0.9996 0.9996\n",
      "cooley high is such a great film that even with the period's sound track, urban landscape, wardrobe and slang...it still doesn't feel dated. the sound track by the way is a timeless classic in itself.<br /><br />instead it absorbs you right into it. that is a staple of a good movie. from start to finish it doesn't miss a beat and i never grow tired of watching it.<br /><br />it's ending is unique in the respect that it's one of the saddest and at the same time ulpifting of all movie endings. there may have been a few since (backdraft comes to mind) but cooley was the first and much\n",
      "1 6 0 unique uniuqe 1 1 0.9996 0.9996\n",
      "cooley high is such a great film that even with the period's sound track, urban landscape, wardrobe and slang...it still doesn't feel dated. the sound track by the way is a timeless classic in itself.<br /><br />instead it absorbs you right into it. that is a staple of a good movie. from start to finish it doesn't miss a beat and i never grow tired of watching it.<br /><br />it's ending is uniuqe in the respect that it's one of the saddest and at the same time uplifting of all movie endings. there may have been a few since (backdraft comes to mind) but cooley was the first and much\n",
      "1 7 1 unique uique 1 1 0.9996 0.9996\n",
      "cooley high is such a great film that even with the period's sound track, urban landscape, wardrobe and slang...it still doesn't feel dated. the sound track by the way is a timeless classic in itself.<br /><br />instead it absorbs you right into it. that is a staple of a good movie. from start to finish it doesn't miss a beat and i never grow tired of watching it.<br /><br />it's ending is uique in the respect that it's one of the saddest and at the same time uplifting of all movie endings. there may have been a few since (backdraft comes to mind) but cooley was the first and much\n",
      "1 8 2 unique uinque 1 1 0.9996 0.9996\n",
      "cooley high is such a great film that even with the period's sound track, urban landscape, wardrobe and slang...it still doesn't feel dated. the sound track by the way is a timeless classic in itself.<br /><br />instead it absorbs you right into it. that is a staple of a good movie. from start to finish it doesn't miss a beat and i never grow tired of watching it.<br /><br />it's ending is uinque in the respect that it's one of the saddest and at the same time uplifting of all movie endings. there may have been a few since (backdraft comes to mind) but cooley was the first and much\n",
      "1 9 0 great gerat 1 1 0.9996 0.9996\n",
      "cooley high is such a gerat film that even with the period's sound track, urban landscape, wardrobe and slang...it still doesn't feel dated. the sound track by the way is a timeless classic in itself.<br /><br />instead it absorbs you right into it. that is a staple of a good movie. from start to finish it doesn't miss a beat and i never grow tired of watching it.<br /><br />it's ending is unique in the respect that it's one of the saddest and at the same time uplifting of all movie endings. there may have been a few since (backdraft comes to mind) but cooley was the first and much\n",
      "1 10 1 great gerat 1 1 0.9996 0.9996\n",
      "cooley high is such a gerat film that even with the period's sound track, urban landscape, wardrobe and slang...it still doesn't feel dated. the sound track by the way is a timeless classic in itself.<br /><br />instead it absorbs you right into it. that is a staple of a good movie. from start to finish it doesn't miss a beat and i never grow tired of watching it.<br /><br />it's ending is unique in the respect that it's one of the saddest and at the same time uplifting of all movie endings. there may have been a few since (backdraft comes to mind) but cooley was the first and much\n",
      "1 11 2 great gmreat 1 1 0.9996 0.9996\n",
      "cooley high is such a gmreat film that even with the period's sound track, urban landscape, wardrobe and slang...it still doesn't feel dated. the sound track by the way is a timeless classic in itself.<br /><br />instead it absorbs you right into it. that is a staple of a good movie. from start to finish it doesn't miss a beat and i never grow tired of watching it.<br /><br />it's ending is unique in the respect that it's one of the saddest and at the same time uplifting of all movie endings. there may have been a few since (backdraft comes to mind) but cooley was the first and much\n",
      "1 12 0 urban uprban 1 1 0.9996 0.9996\n",
      "cooley high is such a great film that even with the period's sound track, uprban landscape, wardrobe and slang...it still doesn't feel dated. the sound track by the way is a timeless classic in itself.<br /><br />instead it absorbs you right into it. that is a staple of a good movie. from start to finish it doesn't miss a beat and i never grow tired of watching it.<br /><br />it's ending is unique in the respect that it's one of the saddest and at the same time uplifting of all movie endings. there may have been a few since (backdraft comes to mind) but cooley was the first and much\n",
      "1 13 1 urban urbxan 1 1 0.9996 0.9996\n",
      "cooley high is such a great film that even with the period's sound track, urbxan landscape, wardrobe and slang...it still doesn't feel dated. the sound track by the way is a timeless classic in itself.<br /><br />instead it absorbs you right into it. that is a staple of a good movie. from start to finish it doesn't miss a beat and i never grow tired of watching it.<br /><br />it's ending is unique in the respect that it's one of the saddest and at the same time uplifting of all movie endings. there may have been a few since (backdraft comes to mind) but cooley was the first and much\n",
      "1 14 2 urban urbaan 1 1 0.9996 0.9996\n",
      "cooley high is such a great film that even with the period's sound track, urbaan landscape, wardrobe and slang...it still doesn't feel dated. the sound track by the way is a timeless classic in itself.<br /><br />instead it absorbs you right into it. that is a staple of a good movie. from start to finish it doesn't miss a beat and i never grow tired of watching it.<br /><br />it's ending is unique in the respect that it's one of the saddest and at the same time uplifting of all movie endings. there may have been a few since (backdraft comes to mind) but cooley was the first and much\n",
      "1 15 0 landscape landsc ape 1 1 0.9996 0.9996\n",
      "cooley high is such a great film that even with the period's sound track, urban landsc ape, wardrobe and slang...it still doesn't feel dated. the sound track by the way is a timeless classic in itself.<br /><br />instead it absorbs you right into it. that is a staple of a good movie. from start to finish it doesn't miss a beat and i never grow tired of watching it.<br /><br />it's ending is unique in the respect that it's one of the saddest and at the same time uplifting of all movie endings. there may have been a few since (backdraft comes to mind) but cooley was the first and much\n",
      "1 16 1 landscape lnadscape 1 1 0.9996 0.9996\n",
      "cooley high is such a great film that even with the period's sound track, urban lnadscape, wardrobe and slang...it still doesn't feel dated. the sound track by the way is a timeless classic in itself.<br /><br />instead it absorbs you right into it. that is a staple of a good movie. from start to finish it doesn't miss a beat and i never grow tired of watching it.<br /><br />it's ending is unique in the respect that it's one of the saddest and at the same time uplifting of all movie endings. there may have been a few since (backdraft comes to mind) but cooley was the first and much\n",
      "1 17 2 landscape landscaupe 1 1 0.9996 0.9996\n",
      "cooley high is such a great film that even with the period's sound track, urban landscaupe, wardrobe and slang...it still doesn't feel dated. the sound track by the way is a timeless classic in itself.<br /><br />instead it absorbs you right into it. that is a staple of a good movie. from start to finish it doesn't miss a beat and i never grow tired of watching it.<br /><br />it's ending is unique in the respect that it's one of the saddest and at the same time uplifting of all movie endings. there may have been a few since (backdraft comes to mind) but cooley was the first and much\n",
      "1 18 0 classic clssic 1 1 0.9996 0.9996\n",
      "cooley high is such a great film that even with the period's sound track, urban landscape, wardrobe and slang...it still doesn't feel dated. the sound track by the way is a timeless clssic in itself.<br /><br />instead it absorbs you right into it. that is a staple of a good movie. from start to finish it doesn't miss a beat and i never grow tired of watching it.<br /><br />it's ending is unique in the respect that it's one of the saddest and at the same time uplifting of all movie endings. there may have been a few since (backdraft comes to mind) but cooley was the first and much\n",
      "1 19 1 classic cla ssic 1 1 0.9996 0.9995\n",
      "cooley high is such a great film that even with the period's sound track, urban landscape, wardrobe and slang...it still doesn't feel dated. the sound track by the way is a timeless cla ssic in itself.<br /><br />instead it absorbs you right into it. that is a staple of a good movie. from start to finish it doesn't miss a beat and i never grow tired of watching it.<br /><br />it's ending is unique in the respect that it's one of the saddest and at the same time uplifting of all movie endings. there may have been a few since (backdraft comes to mind) but cooley was the first and much\n",
      "1 20 2 classic calssic 1 1 0.9995 0.9996\n",
      "cooley high is such a great film that even with the period's sound track, urban landscape, wardrobe and slang...it still doesn't feel dated. the sound track by the way is a timeless calssic in itself.<br /><br />instead it absorbs you right into it. that is a staple of a good movie. from start to finish it doesn't miss a beat and i never grow tired of watching it.<br /><br />it's ending is unique in the respect that it's one of the saddest and at the same time uplifting of all movie endings. there may have been a few since (backdraft comes to mind) but cooley was the first and much\n",
      "1 21 0 dated datted 1 1 0.9995 0.9995\n",
      "cooley high is such a great film that even with the period's sound track, urban landscape, wardrobe and slang...it still doesn't feel datted. the sound track by the way is a timeless cla ssic in itself.<br /><br />instead it absorbs you right into it. that is a staple of a good movie. from start to finish it doesn't miss a beat and i never grow tired of watching it.<br /><br />it's ending is unique in the respect that it's one of the saddest and at the same time uplifting of all movie endings. there may have been a few since (backdraft comes to mind) but cooley was the first and much\n",
      "1 22 1 dated datd 1 1 0.9995 0.9996\n",
      "cooley high is such a great film that even with the period's sound track, urban landscape, wardrobe and slang...it still doesn't feel datd. the sound track by the way is a timeless cla ssic in itself.<br /><br />instead it absorbs you right into it. that is a staple of a good movie. from start to finish it doesn't miss a beat and i never grow tired of watching it.<br /><br />it's ending is unique in the respect that it's one of the saddest and at the same time uplifting of all movie endings. there may have been a few since (backdraft comes to mind) but cooley was the first and much\n",
      "1 23 2 dated dhated 1 1 0.9995 0.9996\n",
      "cooley high is such a great film that even with the period's sound track, urban landscape, wardrobe and slang...it still doesn't feel dhated. the sound track by the way is a timeless cla ssic in itself.<br /><br />instead it absorbs you right into it. that is a staple of a good movie. from start to finish it doesn't miss a beat and i never grow tired of watching it.<br /><br />it's ending is unique in the respect that it's one of the saddest and at the same time uplifting of all movie endings. there may have been a few since (backdraft comes to mind) but cooley was the first and much\n",
      "1 24 0 miss mis 1 1 0.9995 0.9996\n",
      "cooley high is such a great film that even with the period's sound track, urban landscape, wardrobe and slang...it still doesn't feel dated. the sound track by the way is a timeless cla ssic in itself.<br /><br />instead it absorbs you right into it. that is a staple of a good movie. from start to finish it doesn't mis a beat and i never grow tired of watching it.<br /><br />it's ending is unique in the respect that it's one of the saddest and at the same time uplifting of all movie endings. there may have been a few since (backdraft comes to mind) but cooley was the first and much\n",
      "1 25 1 miss msis 1 1 0.9995 0.9996\n",
      "cooley high is such a great film that even with the period's sound track, urban landscape, wardrobe and slang...it still doesn't feel dated. the sound track by the way is a timeless cla ssic in itself.<br /><br />instead it absorbs you right into it. that is a staple of a good movie. from start to finish it doesn't msis a beat and i never grow tired of watching it.<br /><br />it's ending is unique in the respect that it's one of the saddest and at the same time uplifting of all movie endings. there may have been a few since (backdraft comes to mind) but cooley was the first and much\n",
      "1 26 2 miss mis 1 1 0.9995 0.9996\n",
      "cooley high is such a great film that even with the period's sound track, urban landscape, wardrobe and slang...it still doesn't feel dated. the sound track by the way is a timeless cla ssic in itself.<br /><br />instead it absorbs you right into it. that is a staple of a good movie. from start to finish it doesn't mis a beat and i never grow tired of watching it.<br /><br />it's ending is unique in the respect that it's one of the saddest and at the same time uplifting of all movie endings. there may have been a few since (backdraft comes to mind) but cooley was the first and much\n",
      "1 27 0 still stil 1 1 0.9995 0.9996\n",
      "cooley high is such a great film that even with the period's sound track, urban landscape, wardrobe and slang...it stil doesn't feel dated. the sound track by the way is a timeless cla ssic in itself.<br /><br />instead it absorbs you right into it. that is a staple of a good movie. from start to finish it doesn't miss a beat and i never grow tired of watching it.<br /><br />it's ending is unique in the respect that it's one of the saddest and at the same time uplifting of all movie endings. there may have been a few since (backdraft comes to mind) but cooley was the first and much\n",
      "1 28 1 still still 1 1 0.9995 0.9995\n",
      "cooley high is such a great film that even with the period's sound track, urban landscape, wardrobe and slang...it still doesn't feel dated. the sound track by the way is a timeless cla ssic in itself.<br /><br />instead it absorbs you right into it. that is a staple of a good movie. from start to finish it doesn't miss a beat and i never grow tired of watching it.<br /><br />it's ending is unique in the respect that it's one of the saddest and at the same time uplifting of all movie endings. there may have been a few since (backdraft comes to mind) but cooley was the first and much\n",
      "1 29 2 still sitll 1 1 0.9995 0.9995\n",
      "cooley high is such a great film that even with the period's sound track, urban landscape, wardrobe and slang...it sitll doesn't feel dated. the sound track by the way is a timeless cla ssic in itself.<br /><br />instead it absorbs you right into it. that is a staple of a good movie. from start to finish it doesn't miss a beat and i never grow tired of watching it.<br /><br />it's ending is unique in the respect that it's one of the saddest and at the same time uplifting of all movie endings. there may have been a few since (backdraft comes to mind) but cooley was the first and much\n",
      "------------- Sample: 2 ---------------------------------\n",
      "2 0 0 terrible terr ible 0 0 0.9992 0.9991\n",
      "rise of the undead starts as some huge nuclear type blast rips through an unnamed american city, a few people survive in a building by leaning on the door so it'll stay closed & keep the nastiness out(!). they argue amongst themselves for ages, then a monster thing arrives from seemingly nowhere & begins to kill them of one-by-one...<br /><br />written, produced & directed by jason horton & shannon hubbell one has to say rise of the undead is terr ible. the script takes itself very seriously but makes little sense, the first thing i asked myself was if there's this huge nuclear blast type thing going on outside destroying the\n",
      "2 1 1 terrible terr ible 0 0 0.9991 0.9991\n",
      "rise of the undead starts as some huge nuclear type blast rips through an unnamed american city, a few people survive in a building by leaning on the door so it'll stay closed & keep the nastiness out(!). they argue amongst themselves for ages, then a monster thing arrives from seemingly nowhere & begins to kill them of one-by-one...<br /><br />written, produced & directed by jason horton & shannon hubbell one has to say rise of the undead is terr ible. the script takes itself very seriously but makes little sense, the first thing i asked myself was if there's this huge nuclear blast type thing going on outside destroying the\n",
      "2 2 2 terrible terri ble 0 0 0.9991 0.9989\n",
      "rise of the undead starts as some huge nuclear type blast rips through an unnamed american city, a few people survive in a building by leaning on the door so it'll stay closed & keep the nastiness out(!). they argue amongst themselves for ages, then a monster thing arrives from seemingly nowhere & begins to kill them of one-by-one...<br /><br />written, produced & directed by jason horton & shannon hubbell one has to say rise of the undead is terri ble. the script takes itself very seriously but makes little sense, the first thing i asked myself was if there's this huge nuclear blast type thing going on outside destroying the\n",
      "2 3 0 nowhere now here 0 0 0.9989 0.9991\n",
      "rise of the undead starts as some huge nuclear type blast rips through an unnamed american city, a few people survive in a building by leaning on the door so it'll stay closed & keep the nastiness out(!). they argue amongst themselves for ages, then a monster thing arrives from seemingly now here & begins to kill them of one-by-one...<br /><br />written, produced & directed by jason horton & shannon hubbell one has to say rise of the undead is terri ble. the script takes itself very seriously but makes little sense, the first thing i asked myself was if there's this huge nuclear blast type thing going on outside destroying the\n",
      "2 4 1 nowhere now here 0 0 0.9989 0.9991\n",
      "rise of the undead starts as some huge nuclear type blast rips through an unnamed american city, a few people survive in a building by leaning on the door so it'll stay closed & keep the nastiness out(!). they argue amongst themselves for ages, then a monster thing arrives from seemingly now here & begins to kill them of one-by-one...<br /><br />written, produced & directed by jason horton & shannon hubbell one has to say rise of the undead is terri ble. the script takes itself very seriously but makes little sense, the first thing i asked myself was if there's this huge nuclear blast type thing going on outside destroying the\n",
      "2 5 2 nowhere nwhere 0 0 0.9989 0.999\n",
      "rise of the undead starts as some huge nuclear type blast rips through an unnamed american city, a few people survive in a building by leaning on the door so it'll stay closed & keep the nastiness out(!). they argue amongst themselves for ages, then a monster thing arrives from seemingly nwhere & begins to kill them of one-by-one...<br /><br />written, produced & directed by jason horton & shannon hubbell one has to say rise of the undead is terri ble. the script takes itself very seriously but makes little sense, the first thing i asked myself was if there's this huge nuclear blast type thing going on outside destroying the\n",
      "2 6 0 monster montser 0 0 0.9989 0.9991\n",
      "rise of the undead starts as some huge nuclear type blast rips through an unnamed american city, a few people survive in a building by leaning on the door so it'll stay closed & keep the nastiness out(!). they argue amongst themselves for ages, then a montser thing arrives from seemingly nowhere & begins to kill them of one-by-one...<br /><br />written, produced & directed by jason horton & shannon hubbell one has to say rise of the undead is terri ble. the script takes itself very seriously but makes little sense, the first thing i asked myself was if there's this huge nuclear blast type thing going on outside destroying the\n",
      "2 7 1 monster mnster 0 0 0.9989 0.9991\n",
      "rise of the undead starts as some huge nuclear type blast rips through an unnamed american city, a few people survive in a building by leaning on the door so it'll stay closed & keep the nastiness out(!). they argue amongst themselves for ages, then a mnster thing arrives from seemingly nowhere & begins to kill them of one-by-one...<br /><br />written, produced & directed by jason horton & shannon hubbell one has to say rise of the undead is terri ble. the script takes itself very seriously but makes little sense, the first thing i asked myself was if there's this huge nuclear blast type thing going on outside destroying the\n",
      "2 8 2 monster monser 0 0 0.9989 0.9991\n",
      "rise of the undead starts as some huge nuclear type blast rips through an unnamed american city, a few people survive in a building by leaning on the door so it'll stay closed & keep the nastiness out(!). they argue amongst themselves for ages, then a monser thing arrives from seemingly nowhere & begins to kill them of one-by-one...<br /><br />written, produced & directed by jason horton & shannon hubbell one has to say rise of the undead is terri ble. the script takes itself very seriously but makes little sense, the first thing i asked myself was if there's this huge nuclear blast type thing going on outside destroying the\n",
      "2 9 0 script scirpt 0 0 0.9989 0.9986\n",
      "rise of the undead starts as some huge nuclear type blast rips through an unnamed american city, a few people survive in a building by leaning on the door so it'll stay closed & keep the nastiness out(!). they argue amongst themselves for ages, then a monster thing arrives from seemingly nowhere & begins to kill them of one-by-one...<br /><br />written, produced & directed by jason horton & shannon hubbell one has to say rise of the undead is terri ble. the scirpt takes itself very seriously but makes little sense, the first thing i asked myself was if there's this huge nuclear blast type thing going on outside destroying the\n",
      "2 10 1 script scr ipt 0 0 0.9986 0.9986\n",
      "rise of the undead starts as some huge nuclear type blast rips through an unnamed american city, a few people survive in a building by leaning on the door so it'll stay closed & keep the nastiness out(!). they argue amongst themselves for ages, then a monster thing arrives from seemingly nowhere & begins to kill them of one-by-one...<br /><br />written, produced & directed by jason horton & shannon hubbell one has to say rise of the undead is terri ble. the scr ipt takes itself very seriously but makes little sense, the first thing i asked myself was if there's this huge nuclear blast type thing going on outside destroying the\n",
      "2 11 2 script scripvt 0 0 0.9986 0.9985\n",
      "rise of the undead starts as some huge nuclear type blast rips through an unnamed american city, a few people survive in a building by leaning on the door so it'll stay closed & keep the nastiness out(!). they argue amongst themselves for ages, then a monster thing arrives from seemingly nowhere & begins to kill them of one-by-one...<br /><br />written, produced & directed by jason horton & shannon hubbell one has to say rise of the undead is terri ble. the scripvt takes itself very seriously but makes little sense, the first thing i asked myself was if there's this huge nuclear blast type thing going on outside destroying the\n",
      "2 12 0 seriously seriousy 0 0 0.9985 0.9989\n",
      "rise of the undead starts as some huge nuclear type blast rips through an unnamed american city, a few people survive in a building by leaning on the door so it'll stay closed & keep the nastiness out(!). they argue amongst themselves for ages, then a monster thing arrives from seemingly nowhere & begins to kill them of one-by-one...<br /><br />written, produced & directed by jason horton & shannon hubbell one has to say rise of the undead is terri ble. the scripvt takes itself very seriousy but makes little sense, the first thing i asked myself was if there's this huge nuclear blast type thing going on outside destroying the\n",
      "2 13 1 seriously seri ously 0 0 0.9985 0.9838\n",
      "rise of the undead starts as some huge nuclear type blast rips through an unnamed american city, a few people survive in a building by leaning on the door so it'll stay closed & keep the nastiness out(!). they argue amongst themselves for ages, then a monster thing arrives from seemingly nowhere & begins to kill them of one-by-one...<br /><br />written, produced & directed by jason horton & shannon hubbell one has to say rise of the undead is terri ble. the scripvt takes itself very seri ously but makes little sense, the first thing i asked myself was if there's this huge nuclear blast type thing going on outside destroying the\n",
      "2 14 2 seriously seriouly 0 0 0.9838 0.9984\n",
      "rise of the undead starts as some huge nuclear type blast rips through an unnamed american city, a few people survive in a building by leaning on the door so it'll stay closed & keep the nastiness out(!). they argue amongst themselves for ages, then a monster thing arrives from seemingly nowhere & begins to kill them of one-by-one...<br /><br />written, produced & directed by jason horton & shannon hubbell one has to say rise of the undead is terri ble. the scripvt takes itself very seriouly but makes little sense, the first thing i asked myself was if there's this huge nuclear blast type thing going on outside destroying the\n",
      "2 15 0 destroying destroy ing 0 0 0.9838 0.9838\n",
      "rise of the undead starts as some huge nuclear type blast rips through an unnamed american city, a few people survive in a building by leaning on the door so it'll stay closed & keep the nastiness out(!). they argue amongst themselves for ages, then a monster thing arrives from seemingly nowhere & begins to kill them of one-by-one...<br /><br />written, produced & directed by jason horton & shannon hubbell one has to say rise of the undead is terri ble. the scripvt takes itself very seri ously but makes little sense, the first thing i asked myself was if there's this huge nuclear blast type thing going on outside destroy ing the\n",
      "2 16 1 destroying desthroying 0 0 0.9838 0.9838\n",
      "rise of the undead starts as some huge nuclear type blast rips through an unnamed american city, a few people survive in a building by leaning on the door so it'll stay closed & keep the nastiness out(!). they argue amongst themselves for ages, then a monster thing arrives from seemingly nowhere & begins to kill them of one-by-one...<br /><br />written, produced & directed by jason horton & shannon hubbell one has to say rise of the undead is terri ble. the scripvt takes itself very seri ously but makes little sense, the first thing i asked myself was if there's this huge nuclear blast type thing going on outside desthroying the\n",
      "2 17 2 destroying destzroying 0 0 0.9838 0.9838\n",
      "rise of the undead starts as some huge nuclear type blast rips through an unnamed american city, a few people survive in a building by leaning on the door so it'll stay closed & keep the nastiness out(!). they argue amongst themselves for ages, then a monster thing arrives from seemingly nowhere & begins to kill them of one-by-one...<br /><br />written, produced & directed by jason horton & shannon hubbell one has to say rise of the undead is terri ble. the scripvt takes itself very seri ously but makes little sense, the first thing i asked myself was if there's this huge nuclear blast type thing going on outside destzroying the\n",
      "2 18 0 thing tihng 0 0 0.9838 0.9402\n",
      "rise of the undead starts as some huge nuclear type blast rips through an unnamed american city, a few people survive in a building by leaning on the door so it'll stay closed & keep the nastiness out(!). they argue amongst themselves for ages, then a monster tihng arrives from seemingly nowhere & begins to kill them of one-by-one...<br /><br />written, produced & directed by jason horton & shannon hubbell one has to say rise of the undead is terri ble. the scripvt takes itself very seri ously but makes little sense, the first thing i asked myself was if there's this huge nuclear blast type thing going on outside destroying the\n",
      "2 19 1 thing tihng 0 0 0.9402 0.9402\n",
      "rise of the undead starts as some huge nuclear type blast rips through an unnamed american city, a few people survive in a building by leaning on the door so it'll stay closed & keep the nastiness out(!). they argue amongst themselves for ages, then a monster tihng arrives from seemingly nowhere & begins to kill them of one-by-one...<br /><br />written, produced & directed by jason horton & shannon hubbell one has to say rise of the undead is terri ble. the scripvt takes itself very seri ously but makes little sense, the first thing i asked myself was if there's this huge nuclear blast type thing going on outside destroying the\n",
      "2 20 2 thing thng 0 0 0.9402 0.9356\n",
      "rise of the undead starts as some huge nuclear type blast rips through an unnamed american city, a few people survive in a building by leaning on the door so it'll stay closed & keep the nastiness out(!). they argue amongst themselves for ages, then a monster thng arrives from seemingly nowhere & begins to kill them of one-by-one...<br /><br />written, produced & directed by jason horton & shannon hubbell one has to say rise of the undead is terri ble. the scripvt takes itself very seri ously but makes little sense, the first thing i asked myself was if there's this huge nuclear blast type thing going on outside destroying the\n",
      "2 21 0 undead udead 0 0 0.9356 0.9749\n",
      "rise of the udead starts as some huge nuclear type blast rips through an unnamed american city, a few people survive in a building by leaning on the door so it'll stay closed & keep the nastiness out(!). they argue amongst themselves for ages, then a monster thng arrives from seemingly nowhere & begins to kill them of one-by-one...<br /><br />written, produced & directed by jason horton & shannon hubbell one has to say rise of the undead is terri ble. the scripvt takes itself very seri ously but makes little sense, the first thing i asked myself was if there's this huge nuclear blast type thing going on outside destroying the\n",
      "2 22 1 undead undnead 0 0 0.9356 0.992\n",
      "rise of the undnead starts as some huge nuclear type blast rips through an unnamed american city, a few people survive in a building by leaning on the door so it'll stay closed & keep the nastiness out(!). they argue amongst themselves for ages, then a monster thng arrives from seemingly nowhere & begins to kill them of one-by-one...<br /><br />written, produced & directed by jason horton & shannon hubbell one has to say rise of the undead is terri ble. the scripvt takes itself very seri ously but makes little sense, the first thing i asked myself was if there's this huge nuclear blast type thing going on outside destroying the\n",
      "2 23 2 undead undad 0 0 0.9356 0.9786\n",
      "rise of the undad starts as some huge nuclear type blast rips through an unnamed american city, a few people survive in a building by leaning on the door so it'll stay closed & keep the nastiness out(!). they argue amongst themselves for ages, then a monster thng arrives from seemingly nowhere & begins to kill them of one-by-one...<br /><br />written, produced & directed by jason horton & shannon hubbell one has to say rise of the undead is terri ble. the scripvt takes itself very seri ously but makes little sense, the first thing i asked myself was if there's this huge nuclear blast type thing going on outside destroying the\n",
      "2 24 0 kill klil 0 0 0.9356 0.9937\n",
      "rise of the undead starts as some huge nuclear type blast rips through an unnamed american city, a few people survive in a building by leaning on the door so it'll stay closed & keep the nastiness out(!). they argue amongst themselves for ages, then a monster thng arrives from seemingly nowhere & begins to klil them of one-by-one...<br /><br />written, produced & directed by jason horton & shannon hubbell one has to say rise of the undead is terri ble. the scripvt takes itself very seri ously but makes little sense, the first thing i asked myself was if there's this huge nuclear blast type thing going on outside destroying the\n",
      "2 25 1 kill kll 0 0 0.9356 0.9893\n",
      "rise of the undead starts as some huge nuclear type blast rips through an unnamed american city, a few people survive in a building by leaning on the door so it'll stay closed & keep the nastiness out(!). they argue amongst themselves for ages, then a monster thng arrives from seemingly nowhere & begins to kll them of one-by-one...<br /><br />written, produced & directed by jason horton & shannon hubbell one has to say rise of the undead is terri ble. the scripvt takes itself very seri ously but makes little sense, the first thing i asked myself was if there's this huge nuclear blast type thing going on outside destroying the\n",
      "2 26 2 kill kil 0 0 0.9356 0.9649\n",
      "rise of the undead starts as some huge nuclear type blast rips through an unnamed american city, a few people survive in a building by leaning on the door so it'll stay closed & keep the nastiness out(!). they argue amongst themselves for ages, then a monster thng arrives from seemingly nowhere & begins to kil them of one-by-one...<br /><br />written, produced & directed by jason horton & shannon hubbell one has to say rise of the undead is terri ble. the scripvt takes itself very seri ously but makes little sense, the first thing i asked myself was if there's this huge nuclear blast type thing going on outside destroying the\n",
      "2 27 0 there's therge's 0 0 0.9356 0.9356\n",
      "rise of the undead starts as some huge nuclear type blast rips through an unnamed american city, a few people survive in a building by leaning on the door so it'll stay closed & keep the nastiness out(!). they argue amongst themselves for ages, then a monster thng arrives from seemingly nowhere & begins to kill them of one-by-one...<br /><br />written, produced & directed by jason horton & shannon hubbell one has to say rise of the undead is terri ble. the scripvt takes itself very seri ously but makes little sense, the first thing i asked myself was if therge's this huge nuclear blast type thing going on outside destroying the\n",
      "2 28 1 there's three's 0 0 0.9356 0.9356\n",
      "rise of the undead starts as some huge nuclear type blast rips through an unnamed american city, a few people survive in a building by leaning on the door so it'll stay closed & keep the nastiness out(!). they argue amongst themselves for ages, then a monster thng arrives from seemingly nowhere & begins to kill them of one-by-one...<br /><br />written, produced & directed by jason horton & shannon hubbell one has to say rise of the undead is terri ble. the scripvt takes itself very seri ously but makes little sense, the first thing i asked myself was if three's this huge nuclear blast type thing going on outside destroying the\n",
      "2 29 2 there's tehre's 0 0 0.9356 0.9356\n",
      "rise of the undead starts as some huge nuclear type blast rips through an unnamed american city, a few people survive in a building by leaning on the door so it'll stay closed & keep the nastiness out(!). they argue amongst themselves for ages, then a monster thng arrives from seemingly nowhere & begins to kill them of one-by-one...<br /><br />written, produced & directed by jason horton & shannon hubbell one has to say rise of the undead is terri ble. the scripvt takes itself very seri ously but makes little sense, the first thing i asked myself was if tehre's this huge nuclear blast type thing going on outside destroying the\n",
      "              precision    recall  f1-score   support\n",
      "\n",
      "           0       1.00      1.00      1.00         1\n",
      "           1       1.00      1.00      1.00         2\n",
      "\n",
      "    accuracy                           1.00         3\n",
      "   macro avg       1.00      1.00      1.00         3\n",
      "weighted avg       1.00      1.00      1.00         3\n",
      "\n",
      "Counter({'Failed': 3})\n",
      "Success Rate 0.0\n",
      "Avg Queries: 30.0\n"
     ]
    }
   ],
   "source": [
    "results_20_4_0 = word_score_attack( imdb['attack_eval_truncated'][:3], max_tokens_to_query=10, max_tries_per_token=3, mode=0,)"
   ]
  },
  {
   "cell_type": "code",
   "execution_count": 568,
   "id": "d7688798-6b9a-49af-afbd-10c4cd5f0056",
   "metadata": {},
   "outputs": [
    {
     "data": {
      "text/plain": [
       "{'total_attacks': 100,\n",
       " 'avg_n_queries': 51.6,\n",
       " 'successful_attacks': 43,\n",
       " 'failed_attacks': 47,\n",
       " 'skipped_attacks': 10,\n",
       " 'attack_success_rate': 48.0,\n",
       " 'orig_accuracy': 90.0,\n",
       " 'attack_accuracy': 47.0}"
      ]
     },
     "execution_count": 568,
     "metadata": {},
     "output_type": "execute_result"
    }
   ],
   "source": [
    "compute_attack_stats(results_20_4_0)"
   ]
  },
  {
   "cell_type": "code",
   "execution_count": 496,
   "id": "cc9c0e41-c386-4637-b149-51b1910b0de7",
   "metadata": {},
   "outputs": [
    {
     "name": "stderr",
     "output_type": "stream",
     "text": [
      "20it [01:23,  4.16s/it]"
     ]
    },
    {
     "name": "stdout",
     "output_type": "stream",
     "text": [
      "              precision    recall  f1-score   support\n",
      "\n",
      "           0       0.91      0.83      0.87        12\n",
      "           1       0.78      0.88      0.82         8\n",
      "\n",
      "    accuracy                           0.85        20\n",
      "   macro avg       0.84      0.85      0.85        20\n",
      "weighted avg       0.86      0.85      0.85        20\n",
      "\n",
      "Counter({'Failed': 15, 'Skipped': 3, 'Successful': 2})\n",
      "Success Rate 11.76\n",
      "Avg Queries: 18.176470588235293\n"
     ]
    },
    {
     "name": "stderr",
     "output_type": "stream",
     "text": [
      "\n"
     ]
    }
   ],
   "source": [
    "results_20_4_1 = word_score_attack( imdb['attack_eval_truncated'][:20],max_tokens_to_query=10, max_tries_per_token=2, mode=1)\n"
   ]
  },
  {
   "cell_type": "code",
   "execution_count": 503,
   "id": "fe493697-6a1d-4186-8b8b-eab706514186",
   "metadata": {},
   "outputs": [
    {
     "data": {
      "text/plain": [
       "{'total_attacks': 20,\n",
       " 'avg_n_queries': 18.18,\n",
       " 'successful_attacks': 2,\n",
       " 'failed_attacks': 15,\n",
       " 'skipped_attacks': 3,\n",
       " 'attack_success_rate': 12.0,\n",
       " 'orig_accuracy': 85.0,\n",
       " 'attack_accuracy': 75.0}"
      ]
     },
     "execution_count": 503,
     "metadata": {},
     "output_type": "execute_result"
    }
   ],
   "source": [
    "compute_attack_stats(results_20_4_1)"
   ]
  },
  {
   "cell_type": "code",
   "execution_count": null,
   "id": "6202143d-d47b-4977-922c-a57427da5e2a",
   "metadata": {},
   "outputs": [],
   "source": []
  }
 ],
 "metadata": {
  "kernelspec": {
   "display_name": "local_nmt",
   "language": "python",
   "name": "local_nmt"
  },
  "language_info": {
   "codemirror_mode": {
    "name": "ipython",
    "version": 3
   },
   "file_extension": ".py",
   "mimetype": "text/x-python",
   "name": "python",
   "nbconvert_exporter": "python",
   "pygments_lexer": "ipython3",
   "version": "3.7.11"
  }
 },
 "nbformat": 4,
 "nbformat_minor": 5
}
