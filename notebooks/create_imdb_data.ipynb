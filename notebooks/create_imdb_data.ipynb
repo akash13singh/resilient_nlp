{
 "cells": [
  {
   "cell_type": "code",
   "execution_count": 1,
   "id": "8d7d2e4c-4586-4e1d-9173-41e9784c816c",
   "metadata": {},
   "outputs": [],
   "source": [
    "from datasets import load_dataset, DatasetDict, load_from_disk"
   ]
  },
  {
   "cell_type": "code",
   "execution_count": 2,
   "id": "ae61cbac-7ed5-4ed5-a9bd-43b8d296646f",
   "metadata": {},
   "outputs": [
    {
     "name": "stderr",
     "output_type": "stream",
     "text": [
      "Reusing dataset imdb (/Users/user/.cache/huggingface/datasets/imdb/plain_text/1.0.0/2fdd8b9bcadd6e7055e742a706876ba43f19faee861df134affd7a3f60fc38a1)\n"
     ]
    },
    {
     "data": {
      "application/vnd.jupyter.widget-view+json": {
       "model_id": "96f0cead5db74a08baf522dc4db460df",
       "version_major": 2,
       "version_minor": 0
      },
      "text/plain": [
       "  0%|          | 0/3 [00:00<?, ?it/s]"
      ]
     },
     "metadata": {},
     "output_type": "display_data"
    }
   ],
   "source": [
    "imdb = load_dataset(\"imdb\")"
   ]
  },
  {
   "cell_type": "code",
   "execution_count": 4,
   "id": "bb447423-3af1-46c7-a87f-a0aa2f4eda43",
   "metadata": {},
   "outputs": [
    {
     "data": {
      "text/plain": [
       "DatasetDict({\n",
       "    train: Dataset({\n",
       "        features: ['text', 'label'],\n",
       "        num_rows: 25000\n",
       "    })\n",
       "    test: Dataset({\n",
       "        features: ['text', 'label'],\n",
       "        num_rows: 25000\n",
       "    })\n",
       "    unsupervised: Dataset({\n",
       "        features: ['text', 'label'],\n",
       "        num_rows: 50000\n",
       "    })\n",
       "})"
      ]
     },
     "execution_count": 4,
     "metadata": {},
     "output_type": "execute_result"
    }
   ],
   "source": [
    "imdb.set_format(\"pandas\")\n",
    "imdb"
   ]
  },
  {
   "cell_type": "code",
   "execution_count": 8,
   "id": "2df39311-fada-4e18-a0b6-c6f93192b372",
   "metadata": {},
   "outputs": [
    {
     "data": {
      "text/plain": [
       "(0    12500\n",
       " 1    12500\n",
       " Name: label, dtype: int64,\n",
       " 0    12500\n",
       " 1    12500\n",
       " Name: label, dtype: int64)"
      ]
     },
     "execution_count": 8,
     "metadata": {},
     "output_type": "execute_result"
    }
   ],
   "source": [
    "imdb['train']['label'].value_counts(), imdb['test']['label'].value_counts()"
   ]
  },
  {
   "cell_type": "code",
   "execution_count": 3,
   "id": "33b4f4a3-ddea-4133-aba5-a84167e2b1f8",
   "metadata": {},
   "outputs": [
    {
     "data": {
      "text/plain": [
       "DatasetDict({\n",
       "    train: Dataset({\n",
       "        features: ['text', 'label'],\n",
       "        num_rows: 25000\n",
       "    })\n",
       "    test: Dataset({\n",
       "        features: ['text', 'label'],\n",
       "        num_rows: 25000\n",
       "    })\n",
       "    unsupervised: Dataset({\n",
       "        features: ['text', 'label'],\n",
       "        num_rows: 50000\n",
       "    })\n",
       "})"
      ]
     },
     "execution_count": 3,
     "metadata": {},
     "output_type": "execute_result"
    }
   ],
   "source": [
    "imdb"
   ]
  },
  {
   "cell_type": "code",
   "execution_count": 4,
   "id": "1a784abc-a665-4a9d-a237-24391afb1ead",
   "metadata": {},
   "outputs": [
    {
     "name": "stderr",
     "output_type": "stream",
     "text": [
      "Loading cached shuffled indices for dataset at /Users/user/.cache/huggingface/datasets/imdb/plain_text/1.0.0/2fdd8b9bcadd6e7055e742a706876ba43f19faee861df134affd7a3f60fc38a1/cache-b23cfeb68a931a8d.arrow\n"
     ]
    }
   ],
   "source": [
    "imdb['test'] = imdb['test'].shuffle(seed=42)"
   ]
  },
  {
   "cell_type": "code",
   "execution_count": 11,
   "id": "3daa3433-2af9-4a6a-9fb8-2ec8a9fef269",
   "metadata": {},
   "outputs": [],
   "source": [
    "test, dev = imdb['test'].train_test_split(train_size=24000,seed=37).values()"
   ]
  },
  {
   "cell_type": "code",
   "execution_count": 12,
   "id": "97323da4-ec43-406a-8a3f-feb074ead47f",
   "metadata": {},
   "outputs": [],
   "source": [
    "imdb_datasets = DatasetDict({\"train\":imdb['train'],\n",
    "             \"dev\":dev,\n",
    "             \"test\":test})"
   ]
  },
  {
   "cell_type": "code",
   "execution_count": 13,
   "id": "3e7c478d-7bb3-4dd3-8191-e2f87eda63ff",
   "metadata": {},
   "outputs": [
    {
     "data": {
      "text/plain": [
       "DatasetDict({\n",
       "    train: Dataset({\n",
       "        features: ['text', 'label'],\n",
       "        num_rows: 25000\n",
       "    })\n",
       "    dev: Dataset({\n",
       "        features: ['text', 'label'],\n",
       "        num_rows: 1000\n",
       "    })\n",
       "    test: Dataset({\n",
       "        features: ['text', 'label'],\n",
       "        num_rows: 24000\n",
       "    })\n",
       "})"
      ]
     },
     "execution_count": 13,
     "metadata": {},
     "output_type": "execute_result"
    }
   ],
   "source": [
    "imdb_datasets"
   ]
  },
  {
   "cell_type": "code",
   "execution_count": 14,
   "id": "e5d9d85f-5609-4e56-ab8a-bfb65e120f9f",
   "metadata": {},
   "outputs": [
    {
     "data": {
      "application/vnd.jupyter.widget-view+json": {
       "model_id": "2da9781687d748098eecf8133ca7af5b",
       "version_major": 2,
       "version_minor": 0
      },
      "text/plain": [
       "Flattening the indices:   0%|          | 0/1 [00:00<?, ?ba/s]"
      ]
     },
     "metadata": {},
     "output_type": "display_data"
    },
    {
     "data": {
      "application/vnd.jupyter.widget-view+json": {
       "model_id": "d0b7f44a88354298bcfaf0878019d3c8",
       "version_major": 2,
       "version_minor": 0
      },
      "text/plain": [
       "Flattening the indices:   0%|          | 0/24 [00:00<?, ?ba/s]"
      ]
     },
     "metadata": {},
     "output_type": "display_data"
    }
   ],
   "source": [
    "imdb_datasets.save_to_disk(\"../data/imdb\")"
   ]
  },
  {
   "cell_type": "code",
   "execution_count": 15,
   "id": "8f1bdc0d-c480-4ee8-8581-94755efbac22",
   "metadata": {},
   "outputs": [],
   "source": [
    "del imdb_datasets"
   ]
  },
  {
   "cell_type": "code",
   "execution_count": 16,
   "id": "70d375de-5270-400a-9941-6ed1d2511d42",
   "metadata": {},
   "outputs": [
    {
     "data": {
      "text/plain": [
       "DatasetDict({\n",
       "    train: Dataset({\n",
       "        features: ['text', 'label'],\n",
       "        num_rows: 25000\n",
       "    })\n",
       "    dev: Dataset({\n",
       "        features: ['text', 'label'],\n",
       "        num_rows: 1000\n",
       "    })\n",
       "    test: Dataset({\n",
       "        features: ['text', 'label'],\n",
       "        num_rows: 24000\n",
       "    })\n",
       "})"
      ]
     },
     "execution_count": 16,
     "metadata": {},
     "output_type": "execute_result"
    }
   ],
   "source": [
    "imdb_datasets = load_from_disk(\"../data/imdb\")\n",
    "imdb_datasets"
   ]
  },
  {
   "cell_type": "code",
   "execution_count": 3,
   "id": "3cde5af3-9112-47e7-bc6e-5e5109228303",
   "metadata": {},
   "outputs": [
    {
     "data": {
      "text/plain": [
       "DatasetDict({\n",
       "    test: Dataset({\n",
       "        features: ['text', 'label'],\n",
       "        num_rows: 24000\n",
       "    })\n",
       "    attack_eval_truncated: Dataset({\n",
       "        features: ['text', 'label'],\n",
       "        num_rows: 100\n",
       "    })\n",
       "    train: Dataset({\n",
       "        features: ['text', 'label'],\n",
       "        num_rows: 25000\n",
       "    })\n",
       "    dev: Dataset({\n",
       "        features: ['text', 'label'],\n",
       "        num_rows: 1000\n",
       "    })\n",
       "})"
      ]
     },
     "execution_count": 3,
     "metadata": {},
     "output_type": "execute_result"
    }
   ],
   "source": [
    "load_from_disk(\"../data/imdb\")"
   ]
  },
  {
   "cell_type": "code",
   "execution_count": null,
   "id": "f43e9269-5459-4053-854d-cb5800825863",
   "metadata": {},
   "outputs": [],
   "source": []
  }
 ],
 "metadata": {
  "kernelspec": {
   "display_name": "local_nmt",
   "language": "python",
   "name": "local_nmt"
  },
  "language_info": {
   "codemirror_mode": {
    "name": "ipython",
    "version": 3
   },
   "file_extension": ".py",
   "mimetype": "text/x-python",
   "name": "python",
   "nbconvert_exporter": "python",
   "pygments_lexer": "ipython3",
   "version": "3.7.11"
  }
 },
 "nbformat": 4,
 "nbformat_minor": 5
}
