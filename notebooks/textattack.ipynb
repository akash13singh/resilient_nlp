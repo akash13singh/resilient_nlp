{
 "cells": [
  {
   "cell_type": "code",
   "execution_count": 1,
   "id": "f3b84f29",
   "metadata": {},
   "outputs": [
    {
     "name": "stdout",
     "output_type": "stream",
     "text": [
      "Downloading: 5.04kB [00:00, 1.63MB/s]                                           \n",
      "Downloading: 1.88kB [00:00, 711kB/s]                                            \n",
      "Using custom data configuration default\n",
      "Downloading and preparing dataset rotten_tomatoes_movie_review/default (download: 476.34 KiB, generated: 1.28 MiB, post-processed: Unknown size, total: 1.75 MiB) to /Users/user/.cache/huggingface/datasets/rotten_tomatoes_movie_review/default/1.0.0/9198dbc50858df8bdb0d5f18ccaf33125800af96ad8434bc8b829918c987ee8a...\n",
      "Downloading: 100%|███████████████████████████| 488k/488k [00:00<00:00, 9.15MB/s]\n",
      "Dataset rotten_tomatoes_movie_review downloaded and prepared to /Users/user/.cache/huggingface/datasets/rotten_tomatoes_movie_review/default/1.0.0/9198dbc50858df8bdb0d5f18ccaf33125800af96ad8434bc8b829918c987ee8a. Subsequent calls will reuse this data.\n",
      "\u001b[34;1mtextattack\u001b[0m: Loading \u001b[94mdatasets\u001b[0m dataset \u001b[94mrotten_tomatoes\u001b[0m, split \u001b[94mtrain\u001b[0m.\n",
      "\u001b[34;1mtextattack\u001b[0m: Number of samples: \u001b[94m8530\u001b[0m\n",
      "\u001b[34;1mtextattack\u001b[0m: Number of words per input:\n",
      "\u001b[34;1mtextattack\u001b[0m: \ttotal:   \u001b[94m157755\u001b[0m\n",
      "\u001b[34;1mtextattack\u001b[0m: \tmean:    \u001b[94m18.49\u001b[0m\n",
      "\u001b[34;1mtextattack\u001b[0m: \tstd:     \u001b[94m8.58\u001b[0m\n",
      "\u001b[34;1mtextattack\u001b[0m: \tmin:     \u001b[94m1\u001b[0m\n",
      "\u001b[34;1mtextattack\u001b[0m: \tmax:     \u001b[94m51\u001b[0m\n",
      "\u001b[34;1mtextattack\u001b[0m: Dataset lowercased: \u001b[94mTrue\u001b[0m\n",
      "\u001b[34;1mtextattack\u001b[0m: First sample:\n",
      "the rock is destined to be the 21st century's new \" conan \" and that he's going to make a splash even greater than arnold schwarzenegger , jean-claud van damme or steven segal . \n",
      "\n",
      "\u001b[34;1mtextattack\u001b[0m: Last sample:\n",
      "things really get weird , though not particularly scary : the movie is all portent and no content . \n",
      "\n",
      "\u001b[34;1mtextattack\u001b[0m: Found 2 distinct outputs.\n",
      "\u001b[34;1mtextattack\u001b[0m: Most common outputs:\n",
      "\t 1      (4265)\n",
      "\t 0      (4265)\n"
     ]
    }
   ],
   "source": [
    "!textattack peek-dataset --dataset-from-huggingface rotten_tomatoes"
   ]
  },
  {
   "cell_type": "code",
   "execution_count": 6,
   "id": "c8b68729",
   "metadata": {},
   "outputs": [
    {
     "name": "stdout",
     "output_type": "stream",
     "text": [
      "Downloading: 4.67kB [00:00, 1.15MB/s]                                           \n",
      "Downloading: 2.02kB [00:00, 852kB/s]                                            \n",
      "Downloading and preparing dataset imdb/plain_text (download: 80.23 MiB, generated: 127.06 MiB, post-processed: Unknown size, total: 207.28 MiB) to /Users/user/.cache/huggingface/datasets/imdb/plain_text/1.0.0/90099cb476936b753383ba2ae6ab2eae419b2e87f71cd5189cb9c8e5814d12a3...\n",
      "Downloading: 100%|█████████████████████████| 84.1M/84.1M [00:53<00:00, 1.57MB/s]\n",
      "Dataset imdb downloaded and prepared to /Users/user/.cache/huggingface/datasets/imdb/plain_text/1.0.0/90099cb476936b753383ba2ae6ab2eae419b2e87f71cd5189cb9c8e5814d12a3. Subsequent calls will reuse this data.\n",
      "\u001b[34;1mtextattack\u001b[0m: Loading \u001b[94mdatasets\u001b[0m dataset \u001b[94mimdb\u001b[0m, split \u001b[94mtrain\u001b[0m.\n",
      "\u001b[34;1mtextattack\u001b[0m: Number of samples: \u001b[94m25000\u001b[0m\n",
      "\u001b[34;1mtextattack\u001b[0m: Number of words per input:\n",
      "\u001b[34;1mtextattack\u001b[0m: \ttotal:   \u001b[94m5893057\u001b[0m\n",
      "\u001b[34;1mtextattack\u001b[0m: \tmean:    \u001b[94m235.72\u001b[0m\n",
      "\u001b[34;1mtextattack\u001b[0m: \tstd:     \u001b[94m174.78\u001b[0m\n",
      "\u001b[34;1mtextattack\u001b[0m: \tmin:     \u001b[94m10\u001b[0m\n",
      "\u001b[34;1mtextattack\u001b[0m: \tmax:     \u001b[94m2479\u001b[0m\n",
      "\u001b[34;1mtextattack\u001b[0m: Dataset lowercased: \u001b[94mFalse\u001b[0m\n",
      "\u001b[34;1mtextattack\u001b[0m: First sample:\n",
      "Bromwell High is a cartoon comedy. It ran at the same time as some other programs about school life, such as \"Teachers\". My 35 years in the teaching profession lead me to believe that Bromwell High's satire is much closer to reality than is \"Teachers\". The scramble to survive financially, the insightful students who can see right through their pathetic teachers' pomp, the pettiness of the whole situation, all remind me of the schools I knew and their students. When I saw the episode in which a student repeatedly tried to burn down the school, I immediately recalled ......... at .......... High. A classic line: INSPECTOR: I'm here to sack one of your teachers. STUDENT: Welcome to Bromwell High. I expect that many adults of my age think that Bromwell High is far fetched. What a pity that it isn't! \n",
      "\n",
      "\u001b[34;1mtextattack\u001b[0m: Last sample:\n",
      "This is one of the dumbest films, I've ever seen. It rips off nearly ever type of thriller and manages to make a mess of them all.<br /><br />There's not a single good line or character in the whole mess. If there was a plot, it was an afterthought and as far as acting goes, there's nothing good to say so Ill say nothing. I honestly cant understand how this type of nonsense gets produced and actually released, does somebody somewhere not at some stage think, 'Oh my god this really is a load of shite' and call it a day. Its crap like this that has people downloading illegally, the trailer looks like a completely different film, at least if you have download it, you haven't wasted your time or money Don't waste your time, this is painful. \n",
      "\n",
      "\u001b[34;1mtextattack\u001b[0m: Found 2 distinct outputs.\n",
      "\u001b[34;1mtextattack\u001b[0m: Most common outputs:\n",
      "\t 1      (12500)\n",
      "\t 0      (12500)\n"
     ]
    }
   ],
   "source": [
    "!textattack peek-dataset --dataset-from-huggingface imdb"
   ]
  },
  {
   "cell_type": "code",
   "execution_count": 1,
   "id": "6c5fc14d-e02c-4bd2-8ee4-abc4eef4f463",
   "metadata": {},
   "outputs": [
    {
     "name": "stderr",
     "output_type": "stream",
     "text": [
      "Reusing dataset imdb (/Users/user/.cache/huggingface/datasets/imdb/plain_text/1.0.0/90099cb476936b753383ba2ae6ab2eae419b2e87f71cd5189cb9c8e5814d12a3)\n"
     ]
    },
    {
     "data": {
      "text/plain": [
       "DatasetDict({\n",
       "    train: Dataset({\n",
       "        features: ['text', 'label'],\n",
       "        num_rows: 25000\n",
       "    })\n",
       "    test: Dataset({\n",
       "        features: ['text', 'label'],\n",
       "        num_rows: 25000\n",
       "    })\n",
       "    unsupervised: Dataset({\n",
       "        features: ['text', 'label'],\n",
       "        num_rows: 50000\n",
       "    })\n",
       "})"
      ]
     },
     "execution_count": 1,
     "metadata": {},
     "output_type": "execute_result"
    }
   ],
   "source": [
    "from datasets import load_dataset\n",
    "imdb = load_dataset(\"imdb\")\n",
    "imdb"
   ]
  },
  {
   "cell_type": "code",
   "execution_count": 5,
   "id": "3fb70fb9-4928-4245-880b-93404eb76544",
   "metadata": {},
   "outputs": [
    {
     "name": "stdout",
     "output_type": "stream",
     "text": [
      "\u001b[34;1mtextattack\u001b[0m: Loading pre-trained model from HuggingFace model repository: \u001b[94mtextattack/bert-base-uncased-imdb\u001b[0m\n",
      "Reusing dataset imdb (/Users/user/.cache/huggingface/datasets/imdb/plain_text/1.0.0/90099cb476936b753383ba2ae6ab2eae419b2e87f71cd5189cb9c8e5814d12a3)\n",
      "\u001b[34;1mtextattack\u001b[0m: Loading \u001b[94mdatasets\u001b[0m dataset \u001b[94mimdb\u001b[0m, split \u001b[94mtest\u001b[0m.\n",
      "\u001b[34;1mtextattack\u001b[0m: Got 100 predictions.\n",
      "\u001b[34;1mtextattack\u001b[0m: Correct 95/100 (\u001b[94m95.00%\u001b[0m)\n"
     ]
    }
   ],
   "source": [
    "!textattack eval --num-examples 100 --model bert-base-uncased-imdb "
   ]
  },
  {
   "cell_type": "code",
   "execution_count": null,
   "id": "c66c545b-0954-4c72-a54c-17cca818fd6a",
   "metadata": {},
   "outputs": [
    {
     "name": "stdout",
     "output_type": "stream",
     "text": [
      "Reusing dataset imdb (/Users/user/.cache/huggingface/datasets/imdb/plain_text/1.0.0/90099cb476936b753383ba2ae6ab2eae419b2e87f71cd5189cb9c8e5814d12a3)\n",
      "\u001b[34;1mtextattack\u001b[0m: Loading \u001b[94mdatasets\u001b[0m dataset \u001b[94mimdb\u001b[0m, split \u001b[94mtest\u001b[0m.\n",
      "\u001b[34;1mtextattack\u001b[0m: Loading pre-trained model from HuggingFace model repository: \u001b[94mtextattack/bert-base-uncased-imdb\u001b[0m\n",
      "\u001b[34;1mtextattack\u001b[0m: Unknown if model of class <class 'transformers.models.bert.modeling_bert.BertForSequenceClassification'> compatible with goal function <class 'textattack.goal_functions.classification.untargeted_classification.UntargetedClassification'>.\n",
      "Attack(\n",
      "  (search_method): GreedySearch\n",
      "  (goal_function):  UntargetedClassification\n",
      "  (transformation):  CompositeTransformation(\n",
      "    (0): WordSwapNeighboringCharacterSwap(\n",
      "        (random_one):  False\n",
      "      )\n",
      "    (1): WordSwapRandomCharacterDeletion(\n",
      "        (random_one):  False\n",
      "      )\n",
      "    (2): WordSwapRandomCharacterInsertion(\n",
      "        (random_one):  False\n",
      "      )\n",
      "    (3): WordSwapQWERTY\n",
      "    )\n",
      "  (constraints): \n",
      "    (0): MaxWordsPerturbed(\n",
      "        (max_num_words):  1\n",
      "        (compare_against_original):  True\n",
      "      )\n",
      "    (1): MinWordLength\n",
      "    (2): StopwordModification\n",
      "    (3): RepeatModification\n",
      "  (is_black_box):  True\n",
      ") \n",
      "\n",
      " 20%|████████▏                                | 1/5 [42:20<2:49:20, 2540.06s/it]--------------------------------------------- Result 1 ---------------------------------------------\n",
      "\u001b[92mPositive (100%)\u001b[0m --> \u001b[91m[FAILED]\u001b[0m\n",
      "\n",
      "I went and saw this movie last night after being coaxed to by a few friends of mine. I'll admit that I was reluctant to see it because from what I knew of Ashton Kutcher he was only able to do comedy. I was wrong. Kutcher played the character of Jake Fischer very well, and Kevin Costner played Ben Randall with such professionalism. The sign of a good movie is that it can toy with our emotions. This one did exactly that. The entire theater (which was sold out) was overcome by laughter during the first half of the movie, and were moved to tears during the second half. While exiting the theater I not only saw many women in tears, but many full grown men as well, trying desperately not to let anyone see them crying. This movie was great, and I suggest that you go see it before you judge.\n",
      "\n",
      "\n",
      "[Succeeded / Failed / Skipped / Total] 0 / 1 / 0 / 1:  40%|▍| 2/5 [2:49:30<4:14:--------------------------------------------- Result 2 ---------------------------------------------\n",
      "\u001b[92mPositive (100%)\u001b[0m --> \u001b[91m[FAILED]\u001b[0m\n",
      "\n",
      "Actor turned director Bill Paxton follows up his promising debut, the Gothic-horror \"Frailty\", with this family friendly sports drama about the 1913 U.S. Open where a young American caddy rises from his humble background to play against his Bristish idol in what was dubbed as \"The Greatest Game Ever Played.\" I'm no fan of golf, and these scrappy underdog sports flicks are a dime a dozen (most recently done to grand effect with \"Miracle\" and \"Cinderella Man\"), but some how this film was enthralling all the same.<br /><br />The film starts with some creative opening credits (imagine a Disneyfied version of the animated opening credits of HBO's \"Carnivale\" and \"Rome\"), but lumbers along slowly for its first by-the-numbers hour. Once the action moves to the U.S. Open things pick up very well. Paxton does a nice job and shows a knack for effective directorial flourishes (I loved the rain-soaked montage of the action on day two of the open) that propel the plot further or add some unexpected psychological depth to the proceedings. There's some compelling character development when the British Harry Vardon is haunted by images of the aristocrats in black suits and top hats who destroyed his family cottage as a child to make way for a golf course. He also does a good job of visually depicting what goes on in the players' heads under pressure. Golf, a painfully boring sport, is brought vividly alive here. Credit should also be given the set designers and costume department for creating an engaging period-piece atmosphere of London and Boston at the beginning of the twentieth century.<br /><br />You know how this is going to end not only because it's based on a true story but also because films in this genre follow the same template over and over, but Paxton puts on a better than average show and perhaps indicates more talent behind the camera than he ever had in front of it. Despite the formulaic nature, this is a nice and easy film to root for that deserves to find an audience.\n",
      "\n",
      "\n",
      "[Succeeded / Failed / Skipped / Total] 0 / 2 / 0 / 2:  60%|▌| 3/5 [4:17:29<2:51:--------------------------------------------- Result 3 ---------------------------------------------\n",
      "\u001b[92mPositive (100%)\u001b[0m --> \u001b[91m[FAILED]\u001b[0m\n",
      "\n",
      "As a recreational golfer with some knowledge of the sport's history, I was pleased with Disney's sensitivity to the issues of class in golf in the early twentieth century. The movie depicted well the psychological battles that Harry Vardon fought within himself, from his childhood trauma of being evicted to his own inability to break that glass ceiling that prevents him from being accepted as an equal in English golf society. Likewise, the young Ouimet goes through his own class struggles, being a mere caddie in the eyes of the upper crust Americans who scoff at his attempts to rise above his standing. <br /><br />What I loved best, however, is how this theme of class is manifested in the characters of Ouimet's parents. His father is a working-class drone who sees the value of hard work but is intimidated by the upper class; his mother, however, recognizes her son's talent and desire and encourages him to pursue his dream of competing against those who think he is inferior.<br /><br />Finally, the golf scenes are well photographed. Although the course used in the movie was not the actual site of the historical tournament, the little liberties taken by Disney do not detract from the beauty of the film. There's one little Disney moment at the pool table; otherwise, the viewer does not really think Disney. The ending, as in \"Miracle,\" is not some Disney creation, but one that only human history could have written.\n",
      "\n",
      "\n",
      "[Succeeded / Failed / Skipped / Total] 0 / 3 / 0 / 3:  80%|▊| 4/5 [5:03:47<1:15:--------------------------------------------- Result 4 ---------------------------------------------\n",
      "\u001b[92mPositive (100%)\u001b[0m --> \u001b[91m[FAILED]\u001b[0m\n",
      "\n",
      "I saw this film in a sneak preview, and it is delightful. The cinematography is unusually creative, the acting is good, and the story is fabulous. If this movie does not do well, it won't be because it doesn't deserve to. Before this film, I didn't realize how charming Shia Lebouf could be. He does a marvelous, self-contained, job as the lead. There's something incredibly sweet about him, and it makes the movie even better. The other actors do a good job as well, and the film contains moments of really high suspense, more than one might expect from a movie about golf. Sports movies are a dime a dozen, but this one stands out. <br /><br />This is one I'd recommend to anyone.\n",
      "\n",
      "\n",
      "[Succeeded / Failed / Skipped / Total] 0 / 4 / 0 / 4:  80%|▊| 4/5 [5:03:47<1:15:"
     ]
    }
   ],
   "source": [
    "!textattack attack --model bert-base-uncased-imdb --recipe pruthi --num-examples 5"
   ]
  },
  {
   "cell_type": "code",
   "execution_count": null,
   "id": "3ad26100-2762-4346-9dd6-8d747b1350d6",
   "metadata": {},
   "outputs": [],
   "source": [
    "textattack attack --model distilbert-base-uncased-cola --recipe deepwordbug --num-examples 100\n"
   ]
  }
 ],
 "metadata": {
  "kernelspec": {
   "display_name": "adversarial",
   "language": "python",
   "name": "adversarial"
  },
  "language_info": {
   "codemirror_mode": {
    "name": "ipython",
    "version": 3
   },
   "file_extension": ".py",
   "mimetype": "text/x-python",
   "name": "python",
   "nbconvert_exporter": "python",
   "pygments_lexer": "ipython3",
   "version": "3.8.12"
  }
 },
 "nbformat": 4,
 "nbformat_minor": 5
}
