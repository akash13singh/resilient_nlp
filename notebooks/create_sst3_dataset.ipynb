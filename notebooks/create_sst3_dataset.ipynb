{
 "cells": [
  {
   "cell_type": "code",
   "execution_count": 22,
   "id": "99767641-9d8e-43de-8eb3-49e94f430179",
   "metadata": {},
   "outputs": [],
   "source": [
    "import sys\n",
    "sys.path.append(\"..\")\n",
    "from datasets import load_from_disk, load_dataset\n",
    "from transformers import BertModel, AutoTokenizer, DataCollatorWithPadding, BertForSequenceClassification\n",
    "from transformers.modeling_outputs import TokenClassifierOutput\n",
    "import torch\n",
    "import torch.nn as nn\n",
    "from torch.utils.data import DataLoader\n",
    "from tqdm.auto import tqdm\n",
    "from datasets import load_metric\n",
    "import pandas as pd\n",
    "import numpy as np"
   ]
  },
  {
   "cell_type": "code",
   "execution_count": 2,
   "id": "6a07bdc2-d734-4d4a-b252-7c5fee61f7b8",
   "metadata": {},
   "outputs": [],
   "source": [
    "checkpoint = \"bert-base-uncased\"\n",
    "tokenizer = AutoTokenizer.from_pretrained(checkpoint)"
   ]
  },
  {
   "cell_type": "code",
   "execution_count": 3,
   "id": "18d74f8b-d242-496a-9a8e-dafec3e08063",
   "metadata": {},
   "outputs": [
    {
     "name": "stderr",
     "output_type": "stream",
     "text": [
      "No config specified, defaulting to: sst/default\n",
      "Reusing dataset sst (/Users/singh.akash/.cache/huggingface/datasets/sst/default/1.0.0/b8a7889ef01c5d3ae8c379b84cc4080f8aad3ac2bc538701cbe0ac6416fb76ff)\n"
     ]
    },
    {
     "data": {
      "application/vnd.jupyter.widget-view+json": {
       "model_id": "9cfaa2c6cff4421aa756889620d2ae59",
       "version_major": 2,
       "version_minor": 0
      },
      "text/plain": [
       "  0%|          | 0/3 [00:00<?, ?it/s]"
      ]
     },
     "metadata": {},
     "output_type": "display_data"
    }
   ],
   "source": [
    "sst = load_dataset(\"sst\")"
   ]
  },
  {
   "cell_type": "code",
   "execution_count": 4,
   "id": "49177a6f-4a91-457b-afeb-10f0b9e32559",
   "metadata": {},
   "outputs": [
    {
     "data": {
      "text/plain": [
       "DatasetDict({\n",
       "    train: Dataset({\n",
       "        features: ['sentence', 'label', 'tokens', 'tree'],\n",
       "        num_rows: 8544\n",
       "    })\n",
       "    validation: Dataset({\n",
       "        features: ['sentence', 'label', 'tokens', 'tree'],\n",
       "        num_rows: 1101\n",
       "    })\n",
       "    test: Dataset({\n",
       "        features: ['sentence', 'label', 'tokens', 'tree'],\n",
       "        num_rows: 2210\n",
       "    })\n",
       "})"
      ]
     },
     "execution_count": 4,
     "metadata": {},
     "output_type": "execute_result"
    }
   ],
   "source": [
    "sst"
   ]
  },
  {
   "cell_type": "code",
   "execution_count": 5,
   "id": "5e2a7efe-d431-4a64-9c76-169e9b24223c",
   "metadata": {},
   "outputs": [
    {
     "name": "stderr",
     "output_type": "stream",
     "text": [
      "Using custom data configuration SetFit--sst2-c66a8eb4897c1f8f\n",
      "Reusing dataset json (/Users/singh.akash/.cache/huggingface/datasets/json/SetFit--sst2-c66a8eb4897c1f8f/0.0.0/ac0ca5f5289a6cf108e706efcf040422dbbfa8e658dee6a819f20d76bb84d26b)\n"
     ]
    },
    {
     "data": {
      "application/vnd.jupyter.widget-view+json": {
       "model_id": "581c1ee9d34e41be9089f402d6f67472",
       "version_major": 2,
       "version_minor": 0
      },
      "text/plain": [
       "  0%|          | 0/3 [00:00<?, ?it/s]"
      ]
     },
     "metadata": {},
     "output_type": "display_data"
    }
   ],
   "source": [
    "sst2 = load_dataset(\"SetFit/sst2\")"
   ]
  },
  {
   "cell_type": "code",
   "execution_count": 6,
   "id": "fae11bc4-03f2-4df7-a5d4-e0d9c4cdc5e5",
   "metadata": {},
   "outputs": [
    {
     "data": {
      "text/plain": [
       "DatasetDict({\n",
       "    train: Dataset({\n",
       "        features: ['text', 'label', 'label_text'],\n",
       "        num_rows: 6920\n",
       "    })\n",
       "    test: Dataset({\n",
       "        features: ['text', 'label', 'label_text'],\n",
       "        num_rows: 1821\n",
       "    })\n",
       "    validation: Dataset({\n",
       "        features: ['text', 'label', 'label_text'],\n",
       "        num_rows: 872\n",
       "    })\n",
       "})"
      ]
     },
     "execution_count": 6,
     "metadata": {},
     "output_type": "execute_result"
    }
   ],
   "source": [
    "sst2"
   ]
  },
  {
   "cell_type": "code",
   "execution_count": 7,
   "id": "bbf72d7b-9647-4dce-ada5-6d76610b5425",
   "metadata": {},
   "outputs": [
    {
     "name": "stderr",
     "output_type": "stream",
     "text": [
      "Using custom data configuration SetFit--sst5-6a5b6ab74c5504bf\n",
      "Reusing dataset json (/Users/singh.akash/.cache/huggingface/datasets/json/SetFit--sst5-6a5b6ab74c5504bf/0.0.0/ac0ca5f5289a6cf108e706efcf040422dbbfa8e658dee6a819f20d76bb84d26b)\n"
     ]
    },
    {
     "data": {
      "application/vnd.jupyter.widget-view+json": {
       "model_id": "d1ed1a2091e14979882637b888926a9b",
       "version_major": 2,
       "version_minor": 0
      },
      "text/plain": [
       "  0%|          | 0/3 [00:00<?, ?it/s]"
      ]
     },
     "metadata": {},
     "output_type": "display_data"
    }
   ],
   "source": [
    "sst5 = load_dataset(\"SetFit/sst5\")"
   ]
  },
  {
   "cell_type": "code",
   "execution_count": 8,
   "id": "87ccd93d-0ad0-4c1a-9442-3c73734bda96",
   "metadata": {},
   "outputs": [
    {
     "data": {
      "text/plain": [
       "DatasetDict({\n",
       "    train: Dataset({\n",
       "        features: ['text', 'label', 'label_text'],\n",
       "        num_rows: 8544\n",
       "    })\n",
       "    test: Dataset({\n",
       "        features: ['text', 'label', 'label_text'],\n",
       "        num_rows: 2210\n",
       "    })\n",
       "    validation: Dataset({\n",
       "        features: ['text', 'label', 'label_text'],\n",
       "        num_rows: 1101\n",
       "    })\n",
       "})"
      ]
     },
     "execution_count": 8,
     "metadata": {},
     "output_type": "execute_result"
    }
   ],
   "source": [
    "sst5"
   ]
  },
  {
   "cell_type": "code",
   "execution_count": 10,
   "id": "8625d015-ad47-4dce-a344-715b7d9c8bb4",
   "metadata": {},
   "outputs": [
    {
     "data": {
      "text/plain": [
       "3    2322\n",
       "1    2218\n",
       "2    1624\n",
       "4    1288\n",
       "0    1092\n",
       "Name: label, dtype: int64"
      ]
     },
     "execution_count": 10,
     "metadata": {},
     "output_type": "execute_result"
    }
   ],
   "source": [
    "sst5.set_format('pandas')\n",
    "sst5['train']['label'].value_counts()"
   ]
  },
  {
   "cell_type": "code",
   "execution_count": 11,
   "id": "c2562710-c38e-4d3a-a6f2-b5322301f04d",
   "metadata": {},
   "outputs": [
    {
     "data": {
      "text/html": [
       "<div>\n",
       "<style scoped>\n",
       "    .dataframe tbody tr th:only-of-type {\n",
       "        vertical-align: middle;\n",
       "    }\n",
       "\n",
       "    .dataframe tbody tr th {\n",
       "        vertical-align: top;\n",
       "    }\n",
       "\n",
       "    .dataframe thead th {\n",
       "        text-align: right;\n",
       "    }\n",
       "</style>\n",
       "<table border=\"1\" class=\"dataframe\">\n",
       "  <thead>\n",
       "    <tr style=\"text-align: right;\">\n",
       "      <th></th>\n",
       "      <th>text</th>\n",
       "      <th>label</th>\n",
       "      <th>label_text</th>\n",
       "    </tr>\n",
       "  </thead>\n",
       "  <tbody>\n",
       "    <tr>\n",
       "      <th>0</th>\n",
       "      <td>in this case zero .</td>\n",
       "      <td>1</td>\n",
       "      <td>negative</td>\n",
       "    </tr>\n",
       "    <tr>\n",
       "      <th>1</th>\n",
       "      <td>murderous maids pulls no punches in its depict...</td>\n",
       "      <td>3</td>\n",
       "      <td>positive</td>\n",
       "    </tr>\n",
       "    <tr>\n",
       "      <th>2</th>\n",
       "      <td>just how these families interact may surprise ...</td>\n",
       "      <td>2</td>\n",
       "      <td>neutral</td>\n",
       "    </tr>\n",
       "    <tr>\n",
       "      <th>3</th>\n",
       "      <td>nair does n't use -lrb- monsoon wedding -rrb- ...</td>\n",
       "      <td>2</td>\n",
       "      <td>neutral</td>\n",
       "    </tr>\n",
       "    <tr>\n",
       "      <th>4</th>\n",
       "      <td>wickedly funny , visually engrossing , never b...</td>\n",
       "      <td>4</td>\n",
       "      <td>very positive</td>\n",
       "    </tr>\n",
       "    <tr>\n",
       "      <th>5</th>\n",
       "      <td>an unsuccessful attempt at a movie of ideas .</td>\n",
       "      <td>1</td>\n",
       "      <td>negative</td>\n",
       "    </tr>\n",
       "    <tr>\n",
       "      <th>6</th>\n",
       "      <td>the charm of revolution os is rather the way i...</td>\n",
       "      <td>3</td>\n",
       "      <td>positive</td>\n",
       "    </tr>\n",
       "    <tr>\n",
       "      <th>7</th>\n",
       "      <td>lookin ' for sin , american-style ?</td>\n",
       "      <td>1</td>\n",
       "      <td>negative</td>\n",
       "    </tr>\n",
       "    <tr>\n",
       "      <th>8</th>\n",
       "      <td>kwan is a master of shadow , quietude , and ro...</td>\n",
       "      <td>3</td>\n",
       "      <td>positive</td>\n",
       "    </tr>\n",
       "    <tr>\n",
       "      <th>9</th>\n",
       "      <td>as warren he stumbles in search of all the emo...</td>\n",
       "      <td>2</td>\n",
       "      <td>neutral</td>\n",
       "    </tr>\n",
       "  </tbody>\n",
       "</table>\n",
       "</div>"
      ],
      "text/plain": [
       "                                                text  label     label_text\n",
       "0                                in this case zero .      1       negative\n",
       "1  murderous maids pulls no punches in its depict...      3       positive\n",
       "2  just how these families interact may surprise ...      2        neutral\n",
       "3  nair does n't use -lrb- monsoon wedding -rrb- ...      2        neutral\n",
       "4  wickedly funny , visually engrossing , never b...      4  very positive\n",
       "5      an unsuccessful attempt at a movie of ideas .      1       negative\n",
       "6  the charm of revolution os is rather the way i...      3       positive\n",
       "7                lookin ' for sin , american-style ?      1       negative\n",
       "8  kwan is a master of shadow , quietude , and ro...      3       positive\n",
       "9  as warren he stumbles in search of all the emo...      2        neutral"
      ]
     },
     "execution_count": 11,
     "metadata": {},
     "output_type": "execute_result"
    }
   ],
   "source": [
    "sst5['train'].shuffle()[range(10)]"
   ]
  },
  {
   "cell_type": "code",
   "execution_count": 12,
   "id": "87ab003e-56e0-497e-a45e-8049062c67a6",
   "metadata": {},
   "outputs": [],
   "source": [
    "def map_labels(example):\n",
    "    label = example['label']\n",
    "    if label == 0 or label ==1:\n",
    "        return {'ternary_label':0}\n",
    "    elif label == 2:\n",
    "        return {'ternary_label':1}\n",
    "    else:\n",
    "        return {'ternary_label':2}"
   ]
  },
  {
   "cell_type": "code",
   "execution_count": 15,
   "id": "01cb8601-dd6b-4f0a-a673-e84e6d2ffa11",
   "metadata": {},
   "outputs": [
    {
     "name": "stderr",
     "output_type": "stream",
     "text": [
      "Loading cached processed dataset at /Users/singh.akash/.cache/huggingface/datasets/json/SetFit--sst5-6a5b6ab74c5504bf/0.0.0/ac0ca5f5289a6cf108e706efcf040422dbbfa8e658dee6a819f20d76bb84d26b/cache-8c7e37d2f29eb2cd.arrow\n",
      "Loading cached processed dataset at /Users/singh.akash/.cache/huggingface/datasets/json/SetFit--sst5-6a5b6ab74c5504bf/0.0.0/ac0ca5f5289a6cf108e706efcf040422dbbfa8e658dee6a819f20d76bb84d26b/cache-50375c93b46c256d.arrow\n",
      "Loading cached processed dataset at /Users/singh.akash/.cache/huggingface/datasets/json/SetFit--sst5-6a5b6ab74c5504bf/0.0.0/ac0ca5f5289a6cf108e706efcf040422dbbfa8e658dee6a819f20d76bb84d26b/cache-b46680b54c575eab.arrow\n"
     ]
    }
   ],
   "source": [
    "sst5.set_format()\n",
    "sst5 = sst5.map(map_labels)"
   ]
  },
  {
   "cell_type": "code",
   "execution_count": 16,
   "id": "e927f79f-35c8-4007-88a6-d1a31655a31f",
   "metadata": {},
   "outputs": [
    {
     "data": {
      "text/plain": [
       "DatasetDict({\n",
       "    train: Dataset({\n",
       "        features: ['text', 'label', 'label_text', 'ternary_label'],\n",
       "        num_rows: 8544\n",
       "    })\n",
       "    test: Dataset({\n",
       "        features: ['text', 'label', 'label_text', 'ternary_label'],\n",
       "        num_rows: 2210\n",
       "    })\n",
       "    validation: Dataset({\n",
       "        features: ['text', 'label', 'label_text', 'ternary_label'],\n",
       "        num_rows: 1101\n",
       "    })\n",
       "})"
      ]
     },
     "execution_count": 16,
     "metadata": {},
     "output_type": "execute_result"
    }
   ],
   "source": [
    "sst5"
   ]
  },
  {
   "cell_type": "code",
   "execution_count": 25,
   "id": "f878a618-53ba-4fb7-9467-00533035f889",
   "metadata": {},
   "outputs": [
    {
     "data": {
      "text/plain": [
       "2    3610\n",
       "0    3310\n",
       "1    1624\n",
       "dtype: int64"
      ]
     },
     "execution_count": 25,
     "metadata": {},
     "output_type": "execute_result"
    }
   ],
   "source": [
    "pd.Series(sst5['train']['ternary_label']).value_counts()"
   ]
  },
  {
   "cell_type": "code",
   "execution_count": 26,
   "id": "8992a441-db83-41f3-b39b-7806339cf2e1",
   "metadata": {},
   "outputs": [],
   "source": [
    "sst5.save_to_disk(\"../data/sst5\")"
   ]
  },
  {
   "cell_type": "code",
   "execution_count": 27,
   "id": "5aebb7fb-3e9f-407b-b26b-9a31a0a289a8",
   "metadata": {},
   "outputs": [],
   "source": [
    "from huggingface_hub import notebook_login"
   ]
  },
  {
   "cell_type": "code",
   "execution_count": 29,
   "id": "6bb6a116-1ad9-4063-a122-68411a6cf452",
   "metadata": {},
   "outputs": [
    {
     "data": {
      "application/vnd.jupyter.widget-view+json": {
       "model_id": "447d1df1bbfa470c9410fb76fa11ba57",
       "version_major": 2,
       "version_minor": 0
      },
      "text/plain": [
       "VBox(children=(HTML(value='<center>\\n<img src=https://huggingface.co/front/assets/huggingface_logo-noborder.sv…"
      ]
     },
     "metadata": {},
     "output_type": "display_data"
    }
   ],
   "source": [
    "notebook_login()"
   ]
  },
  {
   "cell_type": "code",
   "execution_count": 30,
   "id": "cb3b62b7-878b-4fb9-98a3-fa79f4c7b4cb",
   "metadata": {},
   "outputs": [
    {
     "data": {
      "text/plain": [
       "'https://huggingface.co/datasets/artemis13fowl/sst-3'"
      ]
     },
     "execution_count": 30,
     "metadata": {},
     "output_type": "execute_result"
    }
   ],
   "source": [
    "from huggingface_hub import create_repo\n",
    "\n",
    "repo_url = create_repo(name=\"sst-3\", repo_type=\"dataset\")\n",
    "repo_url"
   ]
  },
  {
   "cell_type": "code",
   "execution_count": 31,
   "id": "e15f7165-18fa-4812-b335-c540b26d54f3",
   "metadata": {},
   "outputs": [
    {
     "name": "stderr",
     "output_type": "stream",
     "text": [
      "Cloning https://huggingface.co/datasets/artemis13fowl/sst-3 into local empty directory.\n"
     ]
    },
    {
     "name": "stdout",
     "output_type": "stream",
     "text": [
      "cp: ../datasets/sst5: No such file or directory\n"
     ]
    }
   ],
   "source": [
    "from huggingface_hub import Repository\n",
    "\n",
    "repo = Repository(local_dir=\"sst-3\", clone_from=repo_url)\n"
   ]
  },
  {
   "cell_type": "code",
   "execution_count": 36,
   "id": "dc794279-1863-4710-8e64-d504e635e64d",
   "metadata": {},
   "outputs": [],
   "source": [
    "!cp -r ../data/sst5/ sst-3/"
   ]
  },
  {
   "cell_type": "code",
   "execution_count": 37,
   "id": "776da41b-8974-4466-a7dd-420157ca7331",
   "metadata": {},
   "outputs": [
    {
     "name": "stdout",
     "output_type": "stream",
     "text": [
      "dataset_dict.json \u001b[34mtest\u001b[m\u001b[m              \u001b[34mtrain\u001b[m\u001b[m             \u001b[34mvalidation\u001b[m\u001b[m\n"
     ]
    }
   ],
   "source": [
    "!ls ../data/sst5"
   ]
  },
  {
   "cell_type": "code",
   "execution_count": 38,
   "id": "63b24f2b-44a5-41ca-9218-b5ece49b474c",
   "metadata": {},
   "outputs": [
    {
     "data": {
      "application/vnd.jupyter.widget-view+json": {
       "model_id": "46cf7c7215c64bd188d9548ea670f831",
       "version_major": 2,
       "version_minor": 0
      },
      "text/plain": [
       "Upload file train/dataset.arrow:   3%|2         | 32.0k/1.11M [00:00<?, ?B/s]"
      ]
     },
     "metadata": {},
     "output_type": "display_data"
    },
    {
     "data": {
      "application/vnd.jupyter.widget-view+json": {
       "model_id": "c290a582d9ee4191b850c5811b8feb85",
       "version_major": 2,
       "version_minor": 0
      },
      "text/plain": [
       "Upload file test/dataset.arrow:  11%|#         | 32.0k/295k [00:00<?, ?B/s]"
      ]
     },
     "metadata": {},
     "output_type": "display_data"
    },
    {
     "data": {
      "application/vnd.jupyter.widget-view+json": {
       "model_id": "058e1984f8164ec6a0ade4eb981f9f71",
       "version_major": 2,
       "version_minor": 0
      },
      "text/plain": [
       "Upload file validation/dataset.arrow:  22%|##1       | 32.0k/148k [00:00<?, ?B/s]"
      ]
     },
     "metadata": {},
     "output_type": "display_data"
    },
    {
     "name": "stderr",
     "output_type": "stream",
     "text": [
      "remote: tput: No value for $TERM and no -T specified        \n",
      "remote: tput: No value for $TERM and no -T specified        \n",
      "remote: tput: No value for $TERM and no -T specified        \n",
      "remote: tput: No value for $TERM and no -T specified        \n",
      "To https://huggingface.co/datasets/artemis13fowl/sst-3\n",
      "   86e7dcc..e9d67b9  main -> main\n",
      "\n"
     ]
    },
    {
     "data": {
      "text/plain": [
       "'https://huggingface.co/datasets/artemis13fowl/sst-3/commit/e9d67b96f6c5754d2bc7a23a7de546a794614b6c'"
      ]
     },
     "execution_count": 38,
     "metadata": {},
     "output_type": "execute_result"
    }
   ],
   "source": [
    "repo.push_to_hub()"
   ]
  },
  {
   "cell_type": "code",
   "execution_count": null,
   "id": "23f83885-78b3-415c-855b-320c5fb9d5ba",
   "metadata": {},
   "outputs": [],
   "source": []
  }
 ],
 "metadata": {
  "kernelspec": {
   "display_name": "local_nmt",
   "language": "python",
   "name": "local_nmt"
  },
  "language_info": {
   "codemirror_mode": {
    "name": "ipython",
    "version": 3
   },
   "file_extension": ".py",
   "mimetype": "text/x-python",
   "name": "python",
   "nbconvert_exporter": "python",
   "pygments_lexer": "ipython3",
   "version": "3.7.11"
  }
 },
 "nbformat": 4,
 "nbformat_minor": 5
}
